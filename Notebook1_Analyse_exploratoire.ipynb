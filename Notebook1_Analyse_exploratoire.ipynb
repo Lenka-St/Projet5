{
 "cells": [
  {
   "cell_type": "markdown",
   "metadata": {},
   "source": [
    "# PROJET 5 : Catégorisez automatiquement les questions "
   ]
  },
  {
   "cell_type": "markdown",
   "metadata": {},
   "source": [
    "**PLAN DE PROJET**\n",
    "1. Titre de projet : PROJET 5 - Catégorisez automatiquement les questions\n",
    "\n",
    "\n",
    "2. Chargement de bibliothèques\n",
    "\n",
    "\n",
    "3. Récupérer les données + Séparation de données en test et train\n",
    "    - Enregistrement de fichiers en .csv :\n",
    "        - X_train.csv\n",
    "        - y_train.csv\n",
    "        - X_test.csv\n",
    "        - y_test.csv\n",
    "\n",
    "\n",
    "4. Data cleaning\n",
    "    - Features :\n",
    "        - Enlever les balises HTML\n",
    "        - Enlever la ponctuation\n",
    "        - Mise en minuscule et tokenization\n",
    "        - Enlever les stopwords\n",
    "    - Target :\n",
    "        - Enlever les balises \"<>\"\n",
    "\n",
    "\n",
    "5. Feature engineering \n",
    "    - Recodage en bigrams\n",
    "    - Fusion de title, body + bigrams\n",
    "\n",
    "\n",
    "6. Analyse exploratoire\n",
    "    - Analyses univariées\n",
    "        - Description générale : Longueur de posts, nombre de tags\n",
    "        - Bag of words : Les expressions les plus fréquentes : feature & target\n",
    "            - Arrays générées:\n",
    "                - X_train_bow\n",
    "                - X_train_vocab_bow\n",
    "                - X_train_dist_bow\n",
    "                - y_train_bow\n",
    "                - y_train_vocab_bow\n",
    "                - y_train_dist_bow\n",
    "                \n",
    "                \n",
    "        - TF - IDF : Les expressions les plus fréquentes : feature & target\n",
    "             - Arrays générées:\n",
    "                  - X_train_ifidf\n",
    "                  - X_train_vocab_ifidf\n",
    "                  - X_train_dist_ifidf\n",
    "                  - y_train_ifidf\n",
    "                  - y_train_vocab_ifidf\n",
    "                  - y_train_dist_ifidf\n",
    "                  \n",
    "\n",
    "    - Analyse multivarié \n",
    "    **QUESTION : Peut-on considérer LDA comme analyse multivariée ?**\n",
    "    \n",
    "    \n",
    "    - Réduction de dimensions\n",
    "    **QUESTION : Peut-on faire un word2vec ?**\n",
    "    \n",
    "    \n",
    "        "
   ]
  },
  {
   "cell_type": "markdown",
   "metadata": {},
   "source": [
    "# Chargement de bibliothéques"
   ]
  },
  {
   "cell_type": "code",
   "execution_count": 1,
   "metadata": {},
   "outputs": [],
   "source": [
    "# Import the libraries\n",
    "import joblib\n",
    "from IPython.core.display import display, HTML\n",
    "import numpy as np\n",
    "import pandas as pd\n",
    "import random\n",
    "from pandas import Series, DataFrame\n",
    "from sklearn import model_selection\n",
    "from sklearn.feature_extraction.text import CountVectorizer\n",
    "from sklearn.feature_extraction.text import TfidfVectorizer\n",
    "from nltk.stem import WordNetLemmatizer \n",
    "from sklearn.decomposition import PCA\n",
    "from sklearn.manifold import TSNE\n",
    "\n",
    "\n",
    "import nltk\n",
    "#nltk.download()  # Download text data sets, including stop words\n",
    "from nltk.corpus import stopwords # Import the stop word list\n",
    "import re\n",
    "\n",
    "# Import BeautifulSoup into your workspace\n",
    "from bs4 import BeautifulSoup \n",
    "\n",
    "# Libraries for data visualisation\n",
    "import matplotlib\n",
    "import matplotlib.pyplot as plt\n",
    "import seaborn as sns\n",
    "sns.set_style('whitegrid')\n",
    "%matplotlib inline"
   ]
  },
  {
   "cell_type": "code",
   "execution_count": 2,
   "metadata": {},
   "outputs": [],
   "source": [
    "#Disable warning for .loc\n",
    "pd.options.mode.chained_assignment = None  # default='warn'"
   ]
  },
  {
   "cell_type": "markdown",
   "metadata": {},
   "source": [
    "# Récupération de données"
   ]
  },
  {
   "cell_type": "markdown",
   "metadata": {},
   "source": [
    "Les données était récupérées de stack overflow à l'aide de code suivant :\n",
    "\n",
    "SELECT body, title, tags FROM posts \n",
    "WHERE title is not null and body is not null and tags is not null and FavoriteCount>50\n"
   ]
  },
  {
   "cell_type": "code",
   "execution_count": 3,
   "metadata": {},
   "outputs": [],
   "source": [
    "data_load = pd.read_csv(\n",
    "    'Data/data_best_rating50.csv', sep=',')"
   ]
  },
  {
   "cell_type": "code",
   "execution_count": 4,
   "metadata": {},
   "outputs": [
    {
     "data": {
      "text/plain": [
       "(19687, 3)"
      ]
     },
     "execution_count": 4,
     "metadata": {},
     "output_type": "execute_result"
    }
   ],
   "source": [
    "data_load.shape"
   ]
  },
  {
   "cell_type": "code",
   "execution_count": 5,
   "metadata": {
    "scrolled": true
   },
   "outputs": [
    {
     "data": {
      "text/html": [
       "<div>\n",
       "<style scoped>\n",
       "    .dataframe tbody tr th:only-of-type {\n",
       "        vertical-align: middle;\n",
       "    }\n",
       "\n",
       "    .dataframe tbody tr th {\n",
       "        vertical-align: top;\n",
       "    }\n",
       "\n",
       "    .dataframe thead th {\n",
       "        text-align: right;\n",
       "    }\n",
       "</style>\n",
       "<table border=\"1\" class=\"dataframe\">\n",
       "  <thead>\n",
       "    <tr style=\"text-align: right;\">\n",
       "      <th></th>\n",
       "      <th>body</th>\n",
       "      <th>title</th>\n",
       "      <th>tags</th>\n",
       "    </tr>\n",
       "  </thead>\n",
       "  <tbody>\n",
       "    <tr>\n",
       "      <th>0</th>\n",
       "      <td>&lt;p&gt;I've been using Eclipse with RDT (not RadRa...</td>\n",
       "      <td>What Ruby IDE do you prefer?</td>\n",
       "      <td>&lt;ruby&gt;&lt;ide&gt;&lt;editor&gt;</td>\n",
       "    </tr>\n",
       "    <tr>\n",
       "      <th>1</th>\n",
       "      <td>&lt;p&gt;We are developing an application that invol...</td>\n",
       "      <td>How to generate sample XML documents from thei...</td>\n",
       "      <td>&lt;xml&gt;&lt;xsd&gt;&lt;dtd&gt;&lt;test-data&gt;</td>\n",
       "    </tr>\n",
       "    <tr>\n",
       "      <th>2</th>\n",
       "      <td>&lt;p&gt;I know that IList is the interface and List...</td>\n",
       "      <td>When to use IList and when to use List</td>\n",
       "      <td>&lt;c#&gt;&lt;.net&gt;</td>\n",
       "    </tr>\n",
       "    <tr>\n",
       "      <th>3</th>\n",
       "      <td>&lt;p&gt;I develop C++ applications in a Linux envir...</td>\n",
       "      <td>What tools do you use to develop C++ applicati...</td>\n",
       "      <td>&lt;c++&gt;&lt;linux&gt;&lt;eclipse&gt;&lt;gdb&gt;&lt;valgrind&gt;</td>\n",
       "    </tr>\n",
       "    <tr>\n",
       "      <th>4</th>\n",
       "      <td>&lt;p&gt;What would be the most efficient way to com...</td>\n",
       "      <td>What is the most effective way for float and d...</td>\n",
       "      <td>&lt;c++&gt;&lt;algorithm&gt;&lt;optimization&gt;&lt;floating-point&gt;</td>\n",
       "    </tr>\n",
       "  </tbody>\n",
       "</table>\n",
       "</div>"
      ],
      "text/plain": [
       "                                                body  \\\n",
       "0  <p>I've been using Eclipse with RDT (not RadRa...   \n",
       "1  <p>We are developing an application that invol...   \n",
       "2  <p>I know that IList is the interface and List...   \n",
       "3  <p>I develop C++ applications in a Linux envir...   \n",
       "4  <p>What would be the most efficient way to com...   \n",
       "\n",
       "                                               title  \\\n",
       "0                       What Ruby IDE do you prefer?   \n",
       "1  How to generate sample XML documents from thei...   \n",
       "2             When to use IList and when to use List   \n",
       "3  What tools do you use to develop C++ applicati...   \n",
       "4  What is the most effective way for float and d...   \n",
       "\n",
       "                                             tags  \n",
       "0                             <ruby><ide><editor>  \n",
       "1                      <xml><xsd><dtd><test-data>  \n",
       "2                                      <c#><.net>  \n",
       "3            <c++><linux><eclipse><gdb><valgrind>  \n",
       "4  <c++><algorithm><optimization><floating-point>  "
      ]
     },
     "execution_count": 5,
     "metadata": {},
     "output_type": "execute_result"
    }
   ],
   "source": [
    "data_load.head()"
   ]
  },
  {
   "cell_type": "markdown",
   "metadata": {},
   "source": [
    "Exemple de la première question:"
   ]
  },
  {
   "cell_type": "code",
   "execution_count": 6,
   "metadata": {},
   "outputs": [
    {
     "name": "stdout",
     "output_type": "stream",
     "text": [
      "<p>I know that IList is the interface and List is the concrete type but I still don't know when to use each one. What I'm doing now is if I don't need the Sort or FindAll methods I use the interface. Am I right? Is there a better way to decide when to use the interface or the concrete type?</p>\n",
      "\n"
     ]
    }
   ],
   "source": [
    "print (data_load['body'][2])"
   ]
  },
  {
   "cell_type": "markdown",
   "metadata": {},
   "source": [
    "## Création d'un jeu de données test"
   ]
  },
  {
   "cell_type": "markdown",
   "metadata": {},
   "source": [
    "Notre variable cible est la variable tags. Nous avons deux variables texte qui nous permettrons estimer le tag : variables title et body. Nous allons séparer 30 % de données qui seront utilisées plus tard afin de tester les modèles :"
   ]
  },
  {
   "cell_type": "code",
   "execution_count": 7,
   "metadata": {},
   "outputs": [],
   "source": [
    "target = data_load['tags']"
   ]
  },
  {
   "cell_type": "code",
   "execution_count": 8,
   "metadata": {},
   "outputs": [],
   "source": [
    "data=data_load.drop(['tags'], axis=1)"
   ]
  },
  {
   "cell_type": "code",
   "execution_count": 9,
   "metadata": {},
   "outputs": [],
   "source": [
    "X_train, X_test, y_train, y_test = model_selection.train_test_split(data, target, test_size=0.5, random_state=1)"
   ]
  },
  {
   "cell_type": "code",
   "execution_count": 10,
   "metadata": {},
   "outputs": [
    {
     "name": "stdout",
     "output_type": "stream",
     "text": [
      "Le jeu de données X_train contient 9843 observations et 2 features.\n",
      "Le vecteur y_train contient 9843 observations.\n",
      "Le jeu de données X_test contient 9844 observations et 2 features.\n",
      "Le vecteur y_test contient 9844 observations.\n"
     ]
    }
   ],
   "source": [
    "print (\"Le jeu de données X_train contient\", X_train.shape[0], \"observations et\", X_train.shape[1], \"features.\") \n",
    "print (\"Le vecteur y_train contient\", y_train.shape[0], \"observations.\") \n",
    "print (\"Le jeu de données X_test contient\", X_test.shape[0], \"observations et\", X_test.shape[1], \"features.\") \n",
    "print (\"Le vecteur y_test contient\", y_test.shape[0], \"observations.\")  "
   ]
  },
  {
   "cell_type": "markdown",
   "metadata": {},
   "source": [
    "Exporter les jeux de données en .csv"
   ]
  },
  {
   "cell_type": "code",
   "execution_count": 11,
   "metadata": {},
   "outputs": [],
   "source": [
    "X_train.to_csv('Data/X_train.csv', sep='\\t')\n",
    "X_test.to_csv('Data/X_test.csv', sep='\\t')\n",
    "y_train.to_csv('Data/y_train.csv', sep='\\t', header=False)\n",
    "y_test.to_csv('Data/y_test.csv', sep='\\t', header=False)"
   ]
  },
  {
   "cell_type": "markdown",
   "metadata": {},
   "source": [
    "# Data cleaning "
   ]
  },
  {
   "cell_type": "markdown",
   "metadata": {},
   "source": [
    "## Tester les fonctions sur un exemple de features"
   ]
  },
  {
   "cell_type": "markdown",
   "metadata": {},
   "source": [
    "### Enlever les balises html"
   ]
  },
  {
   "cell_type": "markdown",
   "metadata": {},
   "source": [
    "Pour enlever les balises HTML, nous allons utiliser le package BeautifulSoup:"
   ]
  },
  {
   "cell_type": "code",
   "execution_count": 12,
   "metadata": {},
   "outputs": [
    {
     "name": "stdout",
     "output_type": "stream",
     "text": [
      "<p>We are developing an application that involves a substantial amount of XML transformations. We do not have any proper input test data per se, only DTD or XSD files. We'd like to generate our test data ourselves from these files. Is there an easy/free way to do that?</p>\n",
      "\n",
      "<p><strong>Edit</strong></p>\n",
      "\n",
      "<p>There are apparently no free tools for this, and I agree that OxygenXML is one of the best tools for this.</p>\n",
      "\n",
      "We are developing an application that involves a substantial amount of XML transformations. We do not have any proper input test data per se, only DTD or XSD files. We'd like to generate our test data ourselves from these files. Is there an easy/free way to do that?\n",
      "Edit\n",
      "There are apparently no free tools for this, and I agree that OxygenXML is one of the best tools for this.\n",
      "\n"
     ]
    }
   ],
   "source": [
    "# Initialize the BeautifulSoup object on a single movie review     \n",
    "example1 = BeautifulSoup(X_train['body'][1])  \n",
    "\n",
    "# Print the raw review and then the output of get_text(), for \n",
    "# comparison\n",
    "print (X_train['body'][1])\n",
    "print (example1.get_text())"
   ]
  },
  {
   "cell_type": "markdown",
   "metadata": {},
   "source": [
    "### Enlever la ponctuation"
   ]
  },
  {
   "cell_type": "markdown",
   "metadata": {},
   "source": [
    "Nous allons enlever la ponctuation tout en gardant les nombres, lettres ainsi que les signes \"-\", \"+\" et \"#\" étant donné que ces signes sont souvent utilisés dans l'informatique. "
   ]
  },
  {
   "cell_type": "code",
   "execution_count": 13,
   "metadata": {},
   "outputs": [
    {
     "name": "stdout",
     "output_type": "stream",
     "text": [
      "We are developing an application that involves a substantial amount of XML transformations  We do not have any proper input test data per se  only DTD or XSD files  We d like to generate our test data ourselves from these files  Is there an easy free way to do that  Edit There are apparently no free tools for this  and I agree that OxygenXML is one of the best tools for this  \n"
     ]
    }
   ],
   "source": [
    "letters_only = re.sub(\"[^#+a-zA-Z]\",       # The pattern to search for\n",
    "                      \" \",                   # The pattern to replace it with\n",
    "                      example1.get_text() )  # The text to search\n",
    "print (letters_only)"
   ]
  },
  {
   "cell_type": "markdown",
   "metadata": {},
   "source": [
    "### Mise en minuscule et tokenization"
   ]
  },
  {
   "cell_type": "code",
   "execution_count": 14,
   "metadata": {},
   "outputs": [],
   "source": [
    "lower_case = letters_only.lower()        # Convert to lower case\n",
    "words = lower_case.split()               # Split into words"
   ]
  },
  {
   "cell_type": "markdown",
   "metadata": {},
   "source": [
    "### Stopwords"
   ]
  },
  {
   "cell_type": "code",
   "execution_count": 15,
   "metadata": {},
   "outputs": [
    {
     "name": "stdout",
     "output_type": "stream",
     "text": [
      "['i', 'me', 'my', 'myself', 'we', 'our', 'ours', 'ourselves', 'you', \"you're\", \"you've\", \"you'll\", \"you'd\", 'your', 'yours', 'yourself', 'yourselves', 'he', 'him', 'his', 'himself', 'she', \"she's\", 'her', 'hers', 'herself', 'it', \"it's\", 'its', 'itself', 'they', 'them', 'their', 'theirs', 'themselves', 'what', 'which', 'who', 'whom', 'this', 'that', \"that'll\", 'these', 'those', 'am', 'is', 'are', 'was', 'were', 'be', 'been', 'being', 'have', 'has', 'had', 'having', 'do', 'does', 'did', 'doing', 'a', 'an', 'the', 'and', 'but', 'if', 'or', 'because', 'as', 'until', 'while', 'of', 'at', 'by', 'for', 'with', 'about', 'against', 'between', 'into', 'through', 'during', 'before', 'after', 'above', 'below', 'to', 'from', 'up', 'down', 'in', 'out', 'on', 'off', 'over', 'under', 'again', 'further', 'then', 'once', 'here', 'there', 'when', 'where', 'why', 'how', 'all', 'any', 'both', 'each', 'few', 'more', 'most', 'other', 'some', 'such', 'no', 'nor', 'not', 'only', 'own', 'same', 'so', 'than', 'too', 'very', 's', 't', 'can', 'will', 'just', 'don', \"don't\", 'should', \"should've\", 'now', 'd', 'll', 'm', 'o', 're', 've', 'y', 'ain', 'aren', \"aren't\", 'couldn', \"couldn't\", 'didn', \"didn't\", 'doesn', \"doesn't\", 'hadn', \"hadn't\", 'hasn', \"hasn't\", 'haven', \"haven't\", 'isn', \"isn't\", 'ma', 'mightn', \"mightn't\", 'mustn', \"mustn't\", 'needn', \"needn't\", 'shan', \"shan't\", 'shouldn', \"shouldn't\", 'wasn', \"wasn't\", 'weren', \"weren't\", 'won', \"won't\", 'wouldn', \"wouldn't\"]\n"
     ]
    }
   ],
   "source": [
    "# Let's have a look to the stopwords from ntlk.corpus\n",
    "print (stopwords.words(\"english\")) "
   ]
  },
  {
   "cell_type": "code",
   "execution_count": 16,
   "metadata": {},
   "outputs": [
    {
     "name": "stdout",
     "output_type": "stream",
     "text": [
      "['developing', 'application', 'involves', 'substantial', 'amount', 'xml', 'transformations', 'proper', 'input', 'test', 'data', 'per', 'se', 'dtd', 'xsd', 'files', 'like', 'generate', 'test', 'data', 'files', 'easy', 'free', 'way', 'edit', 'apparently', 'free', 'tools', 'agree', 'oxygenxml', 'one', 'best', 'tools']\n"
     ]
    }
   ],
   "source": [
    "# Remove stop words from \"words\"\n",
    "words = [w for w in words if not w in stopwords.words(\"english\")]\n",
    "print (words)"
   ]
  },
  {
   "cell_type": "markdown",
   "metadata": {},
   "source": [
    "### Lemmatisation"
   ]
  },
  {
   "cell_type": "code",
   "execution_count": 17,
   "metadata": {},
   "outputs": [
    {
     "name": "stdout",
     "output_type": "stream",
     "text": [
      "['developing', 'application', 'involves', 'substantial', 'amount', 'xml', 'transformation', 'proper', 'input', 'test', 'data', 'per', 'se', 'dtd', 'xsd', 'file', 'like', 'generate', 'test', 'data', 'file', 'easy', 'free', 'way', 'edit', 'apparently', 'free', 'tool', 'agree', 'oxygenxml', 'one', 'best', 'tool']\n"
     ]
    }
   ],
   "source": [
    "lemmatizer = WordNetLemmatizer() \n",
    "\n",
    "lems = []\n",
    "\n",
    "for word in words:\n",
    "    word = lemmatizer.lemmatize(word)\n",
    "    lems.append(word)\n",
    "    \n",
    "print(lems)"
   ]
  },
  {
   "cell_type": "markdown",
   "metadata": {},
   "source": [
    "## Tester les fonctions sur un exemple de targets"
   ]
  },
  {
   "cell_type": "markdown",
   "metadata": {},
   "source": [
    "Les tags (notre variable cible) ont une forme spécifiques. Les mots sont entre \"<>\". Les tags sont parfois composés par deux, voir plusieurs mots qui sont séparés par \"-\". Nous allons enlever les balises."
   ]
  },
  {
   "cell_type": "code",
   "execution_count": 29,
   "metadata": {},
   "outputs": [],
   "source": [
    "#Take the first tag from the dataset\n",
    "tag = y_train[1]"
   ]
  },
  {
   "cell_type": "code",
   "execution_count": 30,
   "metadata": {},
   "outputs": [
    {
     "data": {
      "text/plain": [
       "'<xml><xsd><dtd><test-data>'"
      ]
     },
     "execution_count": 30,
     "metadata": {},
     "output_type": "execute_result"
    }
   ],
   "source": [
    "#Check\n",
    "tag"
   ]
  },
  {
   "cell_type": "code",
   "execution_count": 32,
   "metadata": {},
   "outputs": [],
   "source": [
    "#Remove first '<'\n",
    "tag = tag[1:]"
   ]
  },
  {
   "cell_type": "code",
   "execution_count": 33,
   "metadata": {},
   "outputs": [
    {
     "data": {
      "text/plain": [
       "'ml><xsd><dtd><test-data>'"
      ]
     },
     "execution_count": 33,
     "metadata": {},
     "output_type": "execute_result"
    }
   ],
   "source": [
    "#Check\n",
    "tag"
   ]
  },
  {
   "cell_type": "code",
   "execution_count": 34,
   "metadata": {},
   "outputs": [],
   "source": [
    "#Remove last '>'\n",
    "tag = tag[:-1]"
   ]
  },
  {
   "cell_type": "code",
   "execution_count": 35,
   "metadata": {},
   "outputs": [
    {
     "data": {
      "text/plain": [
       "'ml><xsd><dtd><test-data'"
      ]
     },
     "execution_count": 35,
     "metadata": {},
     "output_type": "execute_result"
    }
   ],
   "source": [
    "#Check\n",
    "tag"
   ]
  },
  {
   "cell_type": "code",
   "execution_count": 36,
   "metadata": {},
   "outputs": [],
   "source": [
    "#Remove remaining '><' signs\n",
    "tag = tag.split('><')"
   ]
  },
  {
   "cell_type": "code",
   "execution_count": 37,
   "metadata": {},
   "outputs": [
    {
     "data": {
      "text/plain": [
       "['ml', 'xsd', 'dtd', 'test-data']"
      ]
     },
     "execution_count": 37,
     "metadata": {},
     "output_type": "execute_result"
    }
   ],
   "source": [
    "#Check\n",
    "tag"
   ]
  },
  {
   "cell_type": "code",
   "execution_count": 38,
   "metadata": {},
   "outputs": [],
   "source": [
    "#Converting back to string\n",
    "tag_clean = \" \".join(tag)  "
   ]
  },
  {
   "cell_type": "code",
   "execution_count": 39,
   "metadata": {},
   "outputs": [
    {
     "data": {
      "text/plain": [
       "'ml xsd dtd test-data'"
      ]
     },
     "execution_count": 39,
     "metadata": {},
     "output_type": "execute_result"
    }
   ],
   "source": [
    "#Check\n",
    "tag_clean"
   ]
  },
  {
   "cell_type": "markdown",
   "metadata": {},
   "source": [
    "## Pipelines pour data cleaning"
   ]
  },
  {
   "cell_type": "markdown",
   "metadata": {},
   "source": [
    "### Features"
   ]
  },
  {
   "cell_type": "markdown",
   "metadata": {},
   "source": [
    "Nous allons utiliser la fonction suivante pour automatiser le processus de data cleaning :"
   ]
  },
  {
   "cell_type": "code",
   "execution_count": 40,
   "metadata": {},
   "outputs": [],
   "source": [
    "def post_to_words( raw_post ):\n",
    "    \"\"\"Function to convert a raw document to a string of words.\n",
    "    \n",
    "    Inputs : \n",
    "    \n",
    "    - raw_post : a single string \n",
    "    \n",
    "    Output :\n",
    "    \n",
    "    - a single string containing a preprocessed document\"\"\"\n",
    "    \n",
    "    # 1. Remove HTML\n",
    "    post_text = BeautifulSoup(raw_post).get_text() \n",
    "    #\n",
    "    # 2. Remove non-letters        \n",
    "    letters_only = re.sub(\"[^#+a-zA-Z]\", \" \", post_text) \n",
    "    #\n",
    "    # 3. Convert to lower case, split into individual words\n",
    "    words = letters_only.lower().split()                             \n",
    "    #\n",
    "    # 4. In Python, searching a set is much faster than searching\n",
    "    #   a list, so convert the stop words to a set\n",
    "    stops = set(stopwords.words(\"english\"))                  \n",
    "    # \n",
    "    # 5. Remove stop words\n",
    "    meaningful_words = [w for w in words if not w in stops]   \n",
    "    #\n",
    "    # 6. Lematize\n",
    "    lemmatizer = WordNetLemmatizer() \n",
    "\n",
    "    lems = []\n",
    "\n",
    "    for word in meaningful_words:\n",
    "        word_clean = lemmatizer.lemmatize(word)\n",
    "        lems.append(word_clean)\n",
    "    #\n",
    "    # 7. Join the words back into one string separated by space, \n",
    "    # and return the result.\n",
    "    return( \" \".join( lems )) "
   ]
  },
  {
   "cell_type": "code",
   "execution_count": 41,
   "metadata": {},
   "outputs": [],
   "source": [
    "X_train['body_clean']=X_train['body'].apply(lambda x: post_to_words(x))"
   ]
  },
  {
   "cell_type": "code",
   "execution_count": 42,
   "metadata": {},
   "outputs": [],
   "source": [
    "X_train['title_clean']=X_train['title'].apply(lambda x: post_to_words(x))"
   ]
  },
  {
   "cell_type": "code",
   "execution_count": 43,
   "metadata": {
    "scrolled": false
   },
   "outputs": [
    {
     "data": {
      "text/html": [
       "<div>\n",
       "<style scoped>\n",
       "    .dataframe tbody tr th:only-of-type {\n",
       "        vertical-align: middle;\n",
       "    }\n",
       "\n",
       "    .dataframe tbody tr th {\n",
       "        vertical-align: top;\n",
       "    }\n",
       "\n",
       "    .dataframe thead th {\n",
       "        text-align: right;\n",
       "    }\n",
       "</style>\n",
       "<table border=\"1\" class=\"dataframe\">\n",
       "  <thead>\n",
       "    <tr style=\"text-align: right;\">\n",
       "      <th></th>\n",
       "      <th>body</th>\n",
       "      <th>title</th>\n",
       "      <th>text</th>\n",
       "      <th>body_clean</th>\n",
       "      <th>title_clean</th>\n",
       "    </tr>\n",
       "  </thead>\n",
       "  <tbody>\n",
       "    <tr>\n",
       "      <th>4183</th>\n",
       "      <td>&lt;p&gt;For some reason it looks like constructor d...</td>\n",
       "      <td>How do I create a custom Error in JavaScript?</td>\n",
       "      <td>How do I create a custom Error in JavaScript?....</td>\n",
       "      <td>reason look like constructor delegation work f...</td>\n",
       "      <td>create custom error javascript</td>\n",
       "    </tr>\n",
       "    <tr>\n",
       "      <th>13188</th>\n",
       "      <td>&lt;p&gt;How long can latitude and longitude be?&lt;/p&gt;...</td>\n",
       "      <td>What is the maximum length of latitude and lon...</td>\n",
       "      <td>What is the maximum length of latitude and lon...</td>\n",
       "      <td>long latitude longitude getting long length se...</td>\n",
       "      <td>maximum length latitude longitude</td>\n",
       "    </tr>\n",
       "    <tr>\n",
       "      <th>2147</th>\n",
       "      <td>&lt;p&gt;How can I get crash data (stack traces at l...</td>\n",
       "      <td>How do I obtain crash-data from my Android app...</td>\n",
       "      <td>How do I obtain crash-data from my Android app...</td>\n",
       "      <td>get crash data stack trace least android appli...</td>\n",
       "      <td>obtain crash data android application</td>\n",
       "    </tr>\n",
       "    <tr>\n",
       "      <th>7588</th>\n",
       "      <td>&lt;p&gt;I'm wondering what the best way is to have ...</td>\n",
       "      <td>.NET - What's the best way to implement a \"cat...</td>\n",
       "      <td>.NET - What's the best way to implement a \"cat...</td>\n",
       "      <td>wondering best way else fails catch mean handl...</td>\n",
       "      <td>net best way implement catch exception handler</td>\n",
       "    </tr>\n",
       "    <tr>\n",
       "      <th>12329</th>\n",
       "      <td>&lt;p&gt;I need to parse an RSS feed (XML version 2....</td>\n",
       "      <td>How to parse an RSS feed using JavaScript?</td>\n",
       "      <td>How to parse an RSS feed using JavaScript?. &lt;p...</td>\n",
       "      <td>need parse r feed xml version display parsed d...</td>\n",
       "      <td>parse r feed using javascript</td>\n",
       "    </tr>\n",
       "  </tbody>\n",
       "</table>\n",
       "</div>"
      ],
      "text/plain": [
       "                                                    body  \\\n",
       "4183   <p>For some reason it looks like constructor d...   \n",
       "13188  <p>How long can latitude and longitude be?</p>...   \n",
       "2147   <p>How can I get crash data (stack traces at l...   \n",
       "7588   <p>I'm wondering what the best way is to have ...   \n",
       "12329  <p>I need to parse an RSS feed (XML version 2....   \n",
       "\n",
       "                                                   title  \\\n",
       "4183       How do I create a custom Error in JavaScript?   \n",
       "13188  What is the maximum length of latitude and lon...   \n",
       "2147   How do I obtain crash-data from my Android app...   \n",
       "7588   .NET - What's the best way to implement a \"cat...   \n",
       "12329         How to parse an RSS feed using JavaScript?   \n",
       "\n",
       "                                                    text  \\\n",
       "4183   How do I create a custom Error in JavaScript?....   \n",
       "13188  What is the maximum length of latitude and lon...   \n",
       "2147   How do I obtain crash-data from my Android app...   \n",
       "7588   .NET - What's the best way to implement a \"cat...   \n",
       "12329  How to parse an RSS feed using JavaScript?. <p...   \n",
       "\n",
       "                                              body_clean  \\\n",
       "4183   reason look like constructor delegation work f...   \n",
       "13188  long latitude longitude getting long length se...   \n",
       "2147   get crash data stack trace least android appli...   \n",
       "7588   wondering best way else fails catch mean handl...   \n",
       "12329  need parse r feed xml version display parsed d...   \n",
       "\n",
       "                                          title_clean  \n",
       "4183                   create custom error javascript  \n",
       "13188               maximum length latitude longitude  \n",
       "2147            obtain crash data android application  \n",
       "7588   net best way implement catch exception handler  \n",
       "12329                   parse r feed using javascript  "
      ]
     },
     "execution_count": 43,
     "metadata": {},
     "output_type": "execute_result"
    }
   ],
   "source": [
    "X_train.head()"
   ]
  },
  {
   "cell_type": "markdown",
   "metadata": {},
   "source": [
    "Nous allons aussi construire une fonction qui nous servira comme paramètre de tokenizer personnalisé que nous allons appliquer dans l'outil CountVectorizer, afin de garder la structure de bigrams que l'on a créé pendant la transformation de features. Nous allons séparer les mot tout simplement en utilisant méthode .split() qui sépare les mots par espace et laisse les caractères spéciaux comme par exemple '#' collé sur les mots, contrairement à la méthode .tokenize() "
   ]
  },
  {
   "cell_type": "code",
   "execution_count": 44,
   "metadata": {},
   "outputs": [],
   "source": [
    "def my_tokenizer(doc):\n",
    "    \n",
    "    \"\"\"Function defining personalized tokenizer for sklearn's CountVectorizer in order to keep the created \n",
    "    bigrams in tag's format.\n",
    "    \n",
    "    Input:\n",
    "    \n",
    "    - doc : string to be tokenized\n",
    "    \n",
    "    Output:\n",
    "    \n",
    "    - tokenized string\n",
    "    \"\"\"\n",
    "    \n",
    "    \n",
    "    tokens = doc.split()\n",
    "    \n",
    "    return tokens"
   ]
  },
  {
   "cell_type": "markdown",
   "metadata": {},
   "source": [
    "Nous allons définir les stop-words que nous n'avons pas enlevé dans l'étape de cleaning, mais qui figurent souvent dans les posts et qui n'ont pas de valeur informative. La liste sera également utilée en paramètre de CountVectorizer et TfidfVectorizer."
   ]
  },
  {
   "cell_type": "code",
   "execution_count": 45,
   "metadata": {},
   "outputs": [],
   "source": [
    "stop_words = [\"i'm\", 'would', '1', '0', '2', \"i've\", 'could', 'anyone', 'also', '3', 'thanks', \n",
    "               'two', 'however', \"i'd\", '5', \"+\", \"#\", \"im\", \"ive\", \"dont\", \"cant\", \"id\", \")\", \"(\"]"
   ]
  },
  {
   "cell_type": "markdown",
   "metadata": {},
   "source": [
    "### Target"
   ]
  },
  {
   "cell_type": "code",
   "execution_count": 46,
   "metadata": {},
   "outputs": [],
   "source": [
    "def cleaning_target(raw_target):\n",
    "    \"\"\"Function to remove '<>' signs from target list and to replace them with a space\n",
    "    \n",
    "    Arguments :\n",
    "    - raw_target : a Series of tags\n",
    "    \n",
    "    Return :\n",
    "    - Series with cleaned tags\n",
    "       \n",
    "    \"\"\"\n",
    "    \n",
    "    #Remove first '<'\n",
    "    tag = raw_target[1:]\n",
    "    \n",
    "    #Remove last '>'\n",
    "    tag = tag[:-1]\n",
    "    \n",
    "    #Remove remaining '><' signs\n",
    "    tag = tag.split('><')\n",
    "    \n",
    "    #Converting back to string\n",
    "    tag_clean = \" \".join(tag)  \n",
    "    \n",
    "    return tag_clean"
   ]
  },
  {
   "cell_type": "code",
   "execution_count": 47,
   "metadata": {},
   "outputs": [],
   "source": [
    "y_train_clean=y_train.apply(lambda x: cleaning_target(x))"
   ]
  },
  {
   "cell_type": "code",
   "execution_count": 48,
   "metadata": {},
   "outputs": [
    {
     "data": {
      "text/plain": [
       "4183                     javascript exception\n",
       "13188      database-design latitude-longitude\n",
       "2147                android crash stack-trace\n",
       "7588     c# .net exception exception-handling\n",
       "12329                     javascript html rss\n",
       "Name: tags, dtype: object"
      ]
     },
     "execution_count": 48,
     "metadata": {},
     "output_type": "execute_result"
    }
   ],
   "source": [
    "y_train_clean.head()"
   ]
  },
  {
   "cell_type": "markdown",
   "metadata": {},
   "source": [
    "# Feature engineering"
   ]
  },
  {
   "cell_type": "markdown",
   "metadata": {},
   "source": [
    "## Créer les bigrams"
   ]
  },
  {
   "cell_type": "markdown",
   "metadata": {},
   "source": [
    "Nous allons créer des bigrams, car les tags sont souvent composés par deux mots, séparés par \"-\". Les bigrams créé à partir de text de body et title vont donc être mis au même format que les tags."
   ]
  },
  {
   "cell_type": "markdown",
   "metadata": {},
   "source": [
    "### Tester les fonctions sur un exemple de post"
   ]
  },
  {
   "cell_type": "code",
   "execution_count": 49,
   "metadata": {},
   "outputs": [
    {
     "data": {
      "text/plain": [
       "'developing application involves substantial amount xml transformation proper input test data per se dtd xsd file like generate test data file easy free way edit apparently free tool agree oxygenxml one best tool'"
      ]
     },
     "execution_count": 49,
     "metadata": {},
     "output_type": "execute_result"
    }
   ],
   "source": [
    "#Take the first element of the cleaned body text\n",
    "body = X_train['body_clean'][1]\n",
    "body"
   ]
  },
  {
   "cell_type": "code",
   "execution_count": 50,
   "metadata": {},
   "outputs": [],
   "source": [
    "#Split it to a list of words\n",
    "body = body.split()"
   ]
  },
  {
   "cell_type": "code",
   "execution_count": 51,
   "metadata": {},
   "outputs": [
    {
     "data": {
      "text/plain": [
       "['developing',\n",
       " 'application',\n",
       " 'involves',\n",
       " 'substantial',\n",
       " 'amount',\n",
       " 'xml',\n",
       " 'transformation',\n",
       " 'proper',\n",
       " 'input',\n",
       " 'test']"
      ]
     },
     "execution_count": 51,
     "metadata": {},
     "output_type": "execute_result"
    }
   ],
   "source": [
    "#Check\n",
    "body[:10]"
   ]
  },
  {
   "cell_type": "code",
   "execution_count": 52,
   "metadata": {},
   "outputs": [],
   "source": [
    "#Creating bigrams object\n",
    "bigram = nltk.bigrams(body)"
   ]
  },
  {
   "cell_type": "code",
   "execution_count": 53,
   "metadata": {},
   "outputs": [],
   "source": [
    "#Creating a list of bigram objects\n",
    "liste = list(bigram)"
   ]
  },
  {
   "cell_type": "code",
   "execution_count": 54,
   "metadata": {},
   "outputs": [
    {
     "data": {
      "text/plain": [
       "[('developing', 'application'),\n",
       " ('application', 'involves'),\n",
       " ('involves', 'substantial'),\n",
       " ('substantial', 'amount'),\n",
       " ('amount', 'xml'),\n",
       " ('xml', 'transformation'),\n",
       " ('transformation', 'proper'),\n",
       " ('proper', 'input'),\n",
       " ('input', 'test'),\n",
       " ('test', 'data')]"
      ]
     },
     "execution_count": 54,
     "metadata": {},
     "output_type": "execute_result"
    }
   ],
   "source": [
    "#Check\n",
    "liste[:10]"
   ]
  },
  {
   "cell_type": "code",
   "execution_count": 55,
   "metadata": {},
   "outputs": [],
   "source": [
    "#Creating a tag-like word from tuples\n",
    "bigrams_rec = []\n",
    "\n",
    "for i in range(len(liste)):\n",
    "    tuple1 = liste[i]\n",
    "    elt = tuple1[0] + '-' + tuple1[1]\n",
    "    bigrams_rec.append(elt)"
   ]
  },
  {
   "cell_type": "code",
   "execution_count": 56,
   "metadata": {},
   "outputs": [],
   "source": [
    "#Creating a string from list of tag-like bigrams\n",
    "bigrams_str = \" \".join(bigrams_rec)"
   ]
  },
  {
   "cell_type": "markdown",
   "metadata": {},
   "source": [
    "### Créer des pipelines pour le recodage en bigrams"
   ]
  },
  {
   "cell_type": "markdown",
   "metadata": {},
   "source": [
    "Nous allons utiliser deux fonctions afin de :\n",
    "    1. créer les bigrams\n",
    "    2. recoder les bigrams dans le même format comme les tags dans notre variable cible"
   ]
  },
  {
   "cell_type": "code",
   "execution_count": 58,
   "metadata": {},
   "outputs": [],
   "source": [
    "def create_bigrams(var):\n",
    "    \n",
    "    \"\"\"Function which generates a liste of tuples representing bigrams. \n",
    "    \n",
    "    Arguments :\n",
    "    - var : feature to be recoded\n",
    "    \n",
    "    Returns :\n",
    "    - a Series of recoded feature  \n",
    "    \n",
    "    \"\"\"\n",
    "   \n",
    "   #Take the i-th element of the cleaned body text\n",
    "    body = var    \n",
    "        \n",
    "    #Split it to a list of words\n",
    "    body = body.split()\n",
    "    \n",
    "    #Creating bigrams object\n",
    "    bigram = nltk.bigrams(body)\n",
    "    \n",
    "    #Creating a list of bigram objects \n",
    "    liste_bigram = list(bigram)\n",
    "        \n",
    "        \n",
    "    return liste_bigram"
   ]
  },
  {
   "cell_type": "code",
   "execution_count": 59,
   "metadata": {},
   "outputs": [],
   "source": [
    "X_train['body_bigram'] = X_train['body_clean'].apply(lambda x : create_bigrams(x))"
   ]
  },
  {
   "cell_type": "code",
   "execution_count": 60,
   "metadata": {},
   "outputs": [
    {
     "data": {
      "text/plain": [
       "4183     [(reason, look), (look, like), (like, construc...\n",
       "13188    [(long, latitude), (latitude, longitude), (lon...\n",
       "2147     [(get, crash), (crash, data), (data, stack), (...\n",
       "7588     [(wondering, best), (best, way), (way, else), ...\n",
       "12329    [(need, parse), (parse, r), (r, feed), (feed, ...\n",
       "Name: body_bigram, dtype: object"
      ]
     },
     "execution_count": 60,
     "metadata": {},
     "output_type": "execute_result"
    }
   ],
   "source": [
    "X_train['body_bigram'].head()"
   ]
  },
  {
   "cell_type": "code",
   "execution_count": 61,
   "metadata": {},
   "outputs": [],
   "source": [
    "def recode_bigrams(liste):\n",
    "    \"\"\"Function which recode the bigrams generated by recode_bigram function.\n",
    "    Each bigram has the same structure as the stack overflow tages :\n",
    "    it is composed of two words and the words are separated by '-'  \n",
    "    \n",
    "    Arguments :\n",
    "    - liste : a liste containing bigram tuples\n",
    "    \n",
    "    Return :\n",
    "    \n",
    "    - a string of recoded bigrams_rec\n",
    "    \"\"\"\n",
    "    \n",
    "    #Creating a tag-like word from tuples\n",
    "    bigrams_rec = []\n",
    "\n",
    "    for i in range(len(liste)):\n",
    "        tuple1 = liste[i]\n",
    "        elt = tuple1[0] + '-' + tuple1[1]\n",
    "        bigrams_rec.append(elt)\n",
    "        \n",
    "    return \" \".join(bigrams_rec)"
   ]
  },
  {
   "cell_type": "code",
   "execution_count": 62,
   "metadata": {},
   "outputs": [],
   "source": [
    "X_train['body_bigram_clean'] = X_train['body_bigram'].apply(lambda x : recode_bigrams(x))"
   ]
  },
  {
   "cell_type": "code",
   "execution_count": 63,
   "metadata": {},
   "outputs": [
    {
     "data": {
      "text/plain": [
       "4183     reason-look look-like like-constructor constru...\n",
       "13188    long-latitude latitude-longitude longitude-get...\n",
       "2147     get-crash crash-data data-stack stack-trace tr...\n",
       "7588     wondering-best best-way way-else else-fails fa...\n",
       "12329    need-parse parse-r r-feed feed-xml xml-version...\n",
       "Name: body_bigram_clean, dtype: object"
      ]
     },
     "execution_count": 63,
     "metadata": {},
     "output_type": "execute_result"
    }
   ],
   "source": [
    "X_train['body_bigram_clean'].head()"
   ]
  },
  {
   "cell_type": "markdown",
   "metadata": {},
   "source": [
    "Nous allons appliquer les mâmes fonctions sur la feature title :"
   ]
  },
  {
   "cell_type": "code",
   "execution_count": 64,
   "metadata": {},
   "outputs": [],
   "source": [
    "X_train['title_bigram'] = X_train['title_clean'].apply(lambda x : create_bigrams(x))"
   ]
  },
  {
   "cell_type": "code",
   "execution_count": 65,
   "metadata": {},
   "outputs": [],
   "source": [
    "X_train['title_bigram_clean'] = X_train['title_bigram'].apply(lambda x : recode_bigrams(x))"
   ]
  },
  {
   "cell_type": "code",
   "execution_count": 66,
   "metadata": {},
   "outputs": [
    {
     "data": {
      "text/plain": [
       "4183           create-custom custom-error error-javascript\n",
       "13188    maximum-length length-latitude latitude-longitude\n",
       "2147     obtain-crash crash-data data-android android-a...\n",
       "7588     net-best best-way way-implement implement-catc...\n",
       "12329           parse-r r-feed feed-using using-javascript\n",
       "Name: title_bigram_clean, dtype: object"
      ]
     },
     "execution_count": 66,
     "metadata": {},
     "output_type": "execute_result"
    }
   ],
   "source": [
    "X_train['title_bigram_clean'].head()"
   ]
  },
  {
   "cell_type": "markdown",
   "metadata": {},
   "source": [
    "### Fusionner le title, body et les bigrams"
   ]
  },
  {
   "cell_type": "markdown",
   "metadata": {},
   "source": [
    "Afin de simplifier le travail exploratiore et les recodages de text qui va être utilisé dans la partie analyse, nous allons créer une feature unique composée par le text de title, de body et des bigrams créés à partir de ces deux features :"
   ]
  },
  {
   "cell_type": "code",
   "execution_count": 67,
   "metadata": {},
   "outputs": [],
   "source": [
    "X_train['post'] = X_train['title_clean'] + \" \" + X_train['body_clean'] + \" \" + X_train['body_bigram_clean'] + \" \" + X_train['title_bigram_clean']  "
   ]
  },
  {
   "cell_type": "code",
   "execution_count": 68,
   "metadata": {},
   "outputs": [
    {
     "data": {
      "text/plain": [
       "4183     create custom error javascript reason look lik...\n",
       "13188    maximum length latitude longitude long latitud...\n",
       "2147     obtain crash data android application get cras...\n",
       "7588     net best way implement catch exception handler...\n",
       "12329    parse r feed using javascript need parse r fee...\n",
       "Name: post, dtype: object"
      ]
     },
     "execution_count": 68,
     "metadata": {},
     "output_type": "execute_result"
    }
   ],
   "source": [
    "X_train['post'].head()"
   ]
  },
  {
   "cell_type": "code",
   "execution_count": 69,
   "metadata": {},
   "outputs": [
    {
     "data": {
      "text/plain": [
       "'generate sample xml document dtd xsd developing application involves substantial amount xml transformation proper input test data per se dtd xsd file like generate test data file easy free way edit apparently free tool agree oxygenxml one best tool developing-application application-involves involves-substantial substantial-amount amount-xml xml-transformation transformation-proper proper-input input-test test-data data-per per-se se-dtd dtd-xsd xsd-file file-like like-generate generate-test test-data data-file file-easy easy-free free-way way-edit edit-apparently apparently-free free-tool tool-agree agree-oxygenxml oxygenxml-one one-best best-tool generate-sample sample-xml xml-document document-dtd dtd-xsd'"
      ]
     },
     "execution_count": 69,
     "metadata": {},
     "output_type": "execute_result"
    }
   ],
   "source": [
    "X_train['post'][1]"
   ]
  },
  {
   "cell_type": "markdown",
   "metadata": {},
   "source": [
    "### Bag of words"
   ]
  },
  {
   "cell_type": "markdown",
   "metadata": {},
   "source": [
    "Nous allons transformer les données text en matrice creuse, appelée Bag-of-Words, qui indique le nombre d'apparitions d'un mot dans la chaîne de caractères. A l'aide de cette transformation, nous allons pouvoir effectuer des opérations numériques sur les chaînes de caractères, notamment calculer des caractéristiques univariées telles que fréquences.  \n",
    "\n",
    "\n",
    "La matrice représentant Bag-of-Words contient autant de colonnes que le nombre de mots dans le corpus (ensemble de posts dans notre cas). Nous allons utiliser une option max_features = 50 000 qui limite le nombre de features à 50 000."
   ]
  },
  {
   "cell_type": "markdown",
   "metadata": {},
   "source": [
    "#### Feature"
   ]
  },
  {
   "cell_type": "code",
   "execution_count": 70,
   "metadata": {},
   "outputs": [
    {
     "name": "stdout",
     "output_type": "stream",
     "text": [
      "Creating the bag of words...\n",
      "\n"
     ]
    }
   ],
   "source": [
    "#First execution\n",
    "print (\"Creating the bag of words...\\n\")\n",
    "\n",
    "# Initialize the \"CountVectorizer\" object, which is scikit-learn's\n",
    "# bag of words tool.  \n",
    "vectorizer = CountVectorizer(analyzer = \"word\",   \\\n",
    "                             tokenizer = my_tokenizer,    \\\n",
    "                             preprocessor = None, \\\n",
    "                             strip_accents=None,\n",
    "                             max_features = 5000,\n",
    "                             lowercase=False,\n",
    "                             stop_words = stop_words)                       \n",
    "                            \n",
    "\n",
    "# fit_transform() does two functions: First, it fits the model\n",
    "# and learns the vocabulary; second, it transforms our training data\n",
    "# into feature vectors. The input to fit_transform should be a list of \n",
    "# strings.\n",
    "\n",
    "X_train_bow = vectorizer.fit_transform(X_train['post'])\n",
    "\n",
    "# Numpy arrays are easy to work with, so convert the result to an \n",
    "# array\n",
    "X_train_bow = X_train_bow.toarray()"
   ]
  },
  {
   "cell_type": "code",
   "execution_count": 71,
   "metadata": {},
   "outputs": [
    {
     "data": {
      "text/plain": [
       "(9843, 5000)"
      ]
     },
     "execution_count": 71,
     "metadata": {},
     "output_type": "execute_result"
    }
   ],
   "source": [
    "X_train_bow.shape"
   ]
  },
  {
   "cell_type": "code",
   "execution_count": 72,
   "metadata": {},
   "outputs": [],
   "source": [
    "# Create a vocabulary of features\n",
    "X_train_vocab_bow = vectorizer.get_feature_names()"
   ]
  },
  {
   "cell_type": "code",
   "execution_count": 73,
   "metadata": {},
   "outputs": [],
   "source": [
    "# Sum up the counts of each vocabulary word\n",
    "X_train_dist_bow = np.sum(X_train_bow, axis=0)"
   ]
  },
  {
   "cell_type": "markdown",
   "metadata": {},
   "source": [
    "Nous allons afficher 50 mots les plus fréquents :"
   ]
  },
  {
   "cell_type": "code",
   "execution_count": 74,
   "metadata": {},
   "outputs": [
    {
     "data": {
      "text/html": [
       "<div>\n",
       "<style scoped>\n",
       "    .dataframe tbody tr th:only-of-type {\n",
       "        vertical-align: middle;\n",
       "    }\n",
       "\n",
       "    .dataframe tbody tr th {\n",
       "        vertical-align: top;\n",
       "    }\n",
       "\n",
       "    .dataframe thead th {\n",
       "        text-align: right;\n",
       "    }\n",
       "</style>\n",
       "<table border=\"1\" class=\"dataframe\">\n",
       "  <thead>\n",
       "    <tr style=\"text-align: right;\">\n",
       "      <th></th>\n",
       "      <th>Word</th>\n",
       "      <th>Frequence</th>\n",
       "      <th>Pourcentage</th>\n",
       "    </tr>\n",
       "  </thead>\n",
       "  <tbody>\n",
       "    <tr>\n",
       "      <th>1545</th>\n",
       "      <td>file</td>\n",
       "      <td>5163</td>\n",
       "      <td>0.77</td>\n",
       "    </tr>\n",
       "    <tr>\n",
       "      <th>4596</th>\n",
       "      <td>use</td>\n",
       "      <td>4466</td>\n",
       "      <td>0.67</td>\n",
       "    </tr>\n",
       "    <tr>\n",
       "      <th>4625</th>\n",
       "      <td>using</td>\n",
       "      <td>4357</td>\n",
       "      <td>0.65</td>\n",
       "    </tr>\n",
       "    <tr>\n",
       "      <th>2449</th>\n",
       "      <td>like</td>\n",
       "      <td>4116</td>\n",
       "      <td>0.61</td>\n",
       "    </tr>\n",
       "    <tr>\n",
       "      <th>161</th>\n",
       "      <td>android</td>\n",
       "      <td>3923</td>\n",
       "      <td>0.59</td>\n",
       "    </tr>\n",
       "    <tr>\n",
       "      <th>1753</th>\n",
       "      <td>get</td>\n",
       "      <td>3630</td>\n",
       "      <td>0.54</td>\n",
       "    </tr>\n",
       "    <tr>\n",
       "      <th>732</th>\n",
       "      <td>code</td>\n",
       "      <td>3509</td>\n",
       "      <td>0.52</td>\n",
       "    </tr>\n",
       "    <tr>\n",
       "      <th>4792</th>\n",
       "      <td>way</td>\n",
       "      <td>3475</td>\n",
       "      <td>0.52</td>\n",
       "    </tr>\n",
       "    <tr>\n",
       "      <th>4137</th>\n",
       "      <td>string</td>\n",
       "      <td>3149</td>\n",
       "      <td>0.47</td>\n",
       "    </tr>\n",
       "    <tr>\n",
       "      <th>677</th>\n",
       "      <td>class</td>\n",
       "      <td>3143</td>\n",
       "      <td>0.47</td>\n",
       "    </tr>\n",
       "    <tr>\n",
       "      <th>4762</th>\n",
       "      <td>want</td>\n",
       "      <td>3046</td>\n",
       "      <td>0.45</td>\n",
       "    </tr>\n",
       "    <tr>\n",
       "      <th>2892</th>\n",
       "      <td>new</td>\n",
       "      <td>3042</td>\n",
       "      <td>0.45</td>\n",
       "    </tr>\n",
       "    <tr>\n",
       "      <th>1702</th>\n",
       "      <td>function</td>\n",
       "      <td>3019</td>\n",
       "      <td>0.45</td>\n",
       "    </tr>\n",
       "    <tr>\n",
       "      <th>3026</th>\n",
       "      <td>one</td>\n",
       "      <td>2936</td>\n",
       "      <td>0.44</td>\n",
       "    </tr>\n",
       "    <tr>\n",
       "      <th>1011</th>\n",
       "      <td>data</td>\n",
       "      <td>2827</td>\n",
       "      <td>0.42</td>\n",
       "    </tr>\n",
       "    <tr>\n",
       "      <th>2264</th>\n",
       "      <td>java</td>\n",
       "      <td>2683</td>\n",
       "      <td>0.40</td>\n",
       "    </tr>\n",
       "    <tr>\n",
       "      <th>4672</th>\n",
       "      <td>value</td>\n",
       "      <td>2671</td>\n",
       "      <td>0.40</td>\n",
       "    </tr>\n",
       "    <tr>\n",
       "      <th>2833</th>\n",
       "      <td>name</td>\n",
       "      <td>2571</td>\n",
       "      <td>0.38</td>\n",
       "    </tr>\n",
       "    <tr>\n",
       "      <th>536</th>\n",
       "      <td>c</td>\n",
       "      <td>2567</td>\n",
       "      <td>0.38</td>\n",
       "    </tr>\n",
       "    <tr>\n",
       "      <th>1381</th>\n",
       "      <td>error</td>\n",
       "      <td>2547</td>\n",
       "      <td>0.38</td>\n",
       "    </tr>\n",
       "    <tr>\n",
       "      <th>4609</th>\n",
       "      <td>user</td>\n",
       "      <td>2498</td>\n",
       "      <td>0.37</td>\n",
       "    </tr>\n",
       "    <tr>\n",
       "      <th>4948</th>\n",
       "      <td>x</td>\n",
       "      <td>2462</td>\n",
       "      <td>0.37</td>\n",
       "    </tr>\n",
       "    <tr>\n",
       "      <th>1417</th>\n",
       "      <td>example</td>\n",
       "      <td>2443</td>\n",
       "      <td>0.36</td>\n",
       "    </tr>\n",
       "    <tr>\n",
       "      <th>4887</th>\n",
       "      <td>work</td>\n",
       "      <td>2351</td>\n",
       "      <td>0.35</td>\n",
       "    </tr>\n",
       "    <tr>\n",
       "      <th>1789</th>\n",
       "      <td>git</td>\n",
       "      <td>2245</td>\n",
       "      <td>0.33</td>\n",
       "    </tr>\n",
       "    <tr>\n",
       "      <th>2863</th>\n",
       "      <td>need</td>\n",
       "      <td>2127</td>\n",
       "      <td>0.32</td>\n",
       "    </tr>\n",
       "    <tr>\n",
       "      <th>2702</th>\n",
       "      <td>method</td>\n",
       "      <td>2102</td>\n",
       "      <td>0.31</td>\n",
       "    </tr>\n",
       "    <tr>\n",
       "      <th>2983</th>\n",
       "      <td>object</td>\n",
       "      <td>2096</td>\n",
       "      <td>0.31</td>\n",
       "    </tr>\n",
       "    <tr>\n",
       "      <th>3692</th>\n",
       "      <td>return</td>\n",
       "      <td>2028</td>\n",
       "      <td>0.30</td>\n",
       "    </tr>\n",
       "    <tr>\n",
       "      <th>2344</th>\n",
       "      <td>know</td>\n",
       "      <td>2024</td>\n",
       "      <td>0.30</td>\n",
       "    </tr>\n",
       "    <tr>\n",
       "      <th>2009</th>\n",
       "      <td>http</td>\n",
       "      <td>2001</td>\n",
       "      <td>0.30</td>\n",
       "    </tr>\n",
       "    <tr>\n",
       "      <th>3447</th>\n",
       "      <td>python</td>\n",
       "      <td>1981</td>\n",
       "      <td>0.30</td>\n",
       "    </tr>\n",
       "    <tr>\n",
       "      <th>4369</th>\n",
       "      <td>time</td>\n",
       "      <td>1952</td>\n",
       "      <td>0.29</td>\n",
       "    </tr>\n",
       "    <tr>\n",
       "      <th>4498</th>\n",
       "      <td>type</td>\n",
       "      <td>1927</td>\n",
       "      <td>0.29</td>\n",
       "    </tr>\n",
       "    <tr>\n",
       "      <th>234</th>\n",
       "      <td>app</td>\n",
       "      <td>1864</td>\n",
       "      <td>0.28</td>\n",
       "    </tr>\n",
       "    <tr>\n",
       "      <th>255</th>\n",
       "      <td>application</td>\n",
       "      <td>1831</td>\n",
       "      <td>0.27</td>\n",
       "    </tr>\n",
       "    <tr>\n",
       "      <th>2497</th>\n",
       "      <td>list</td>\n",
       "      <td>1795</td>\n",
       "      <td>0.27</td>\n",
       "    </tr>\n",
       "    <tr>\n",
       "      <th>2474</th>\n",
       "      <td>line</td>\n",
       "      <td>1783</td>\n",
       "      <td>0.27</td>\n",
       "    </tr>\n",
       "    <tr>\n",
       "      <th>3878</th>\n",
       "      <td>server</td>\n",
       "      <td>1782</td>\n",
       "      <td>0.27</td>\n",
       "    </tr>\n",
       "    <tr>\n",
       "      <th>3407</th>\n",
       "      <td>public</td>\n",
       "      <td>1776</td>\n",
       "      <td>0.26</td>\n",
       "    </tr>\n",
       "    <tr>\n",
       "      <th>3887</th>\n",
       "      <td>set</td>\n",
       "      <td>1760</td>\n",
       "      <td>0.26</td>\n",
       "    </tr>\n",
       "    <tr>\n",
       "      <th>3468</th>\n",
       "      <td>question</td>\n",
       "      <td>1752</td>\n",
       "      <td>0.26</td>\n",
       "    </tr>\n",
       "    <tr>\n",
       "      <th>369</th>\n",
       "      <td>b</td>\n",
       "      <td>1728</td>\n",
       "      <td>0.26</td>\n",
       "    </tr>\n",
       "    <tr>\n",
       "      <th>767</th>\n",
       "      <td>com</td>\n",
       "      <td>1690</td>\n",
       "      <td>0.25</td>\n",
       "    </tr>\n",
       "    <tr>\n",
       "      <th>1264</th>\n",
       "      <td>e</td>\n",
       "      <td>1684</td>\n",
       "      <td>0.25</td>\n",
       "    </tr>\n",
       "    <tr>\n",
       "      <th>4308</th>\n",
       "      <td>text</td>\n",
       "      <td>1641</td>\n",
       "      <td>0.24</td>\n",
       "    </tr>\n",
       "    <tr>\n",
       "      <th>2604</th>\n",
       "      <td>make</td>\n",
       "      <td>1634</td>\n",
       "      <td>0.24</td>\n",
       "    </tr>\n",
       "    <tr>\n",
       "      <th>4721</th>\n",
       "      <td>view</td>\n",
       "      <td>1566</td>\n",
       "      <td>0.23</td>\n",
       "    </tr>\n",
       "    <tr>\n",
       "      <th>2174</th>\n",
       "      <td>int</td>\n",
       "      <td>1545</td>\n",
       "      <td>0.23</td>\n",
       "    </tr>\n",
       "    <tr>\n",
       "      <th>3749</th>\n",
       "      <td>run</td>\n",
       "      <td>1540</td>\n",
       "      <td>0.23</td>\n",
       "    </tr>\n",
       "  </tbody>\n",
       "</table>\n",
       "</div>"
      ],
      "text/plain": [
       "             Word  Frequence  Pourcentage\n",
       "1545         file       5163         0.77\n",
       "4596          use       4466         0.67\n",
       "4625        using       4357         0.65\n",
       "2449         like       4116         0.61\n",
       "161       android       3923         0.59\n",
       "1753          get       3630         0.54\n",
       "732          code       3509         0.52\n",
       "4792          way       3475         0.52\n",
       "4137       string       3149         0.47\n",
       "677         class       3143         0.47\n",
       "4762         want       3046         0.45\n",
       "2892          new       3042         0.45\n",
       "1702     function       3019         0.45\n",
       "3026          one       2936         0.44\n",
       "1011         data       2827         0.42\n",
       "2264         java       2683         0.40\n",
       "4672        value       2671         0.40\n",
       "2833         name       2571         0.38\n",
       "536             c       2567         0.38\n",
       "1381        error       2547         0.38\n",
       "4609         user       2498         0.37\n",
       "4948            x       2462         0.37\n",
       "1417      example       2443         0.36\n",
       "4887         work       2351         0.35\n",
       "1789          git       2245         0.33\n",
       "2863         need       2127         0.32\n",
       "2702       method       2102         0.31\n",
       "2983       object       2096         0.31\n",
       "3692       return       2028         0.30\n",
       "2344         know       2024         0.30\n",
       "2009         http       2001         0.30\n",
       "3447       python       1981         0.30\n",
       "4369         time       1952         0.29\n",
       "4498         type       1927         0.29\n",
       "234           app       1864         0.28\n",
       "255   application       1831         0.27\n",
       "2497         list       1795         0.27\n",
       "2474         line       1783         0.27\n",
       "3878       server       1782         0.27\n",
       "3407       public       1776         0.26\n",
       "3887          set       1760         0.26\n",
       "3468     question       1752         0.26\n",
       "369             b       1728         0.26\n",
       "767           com       1690         0.25\n",
       "1264            e       1684         0.25\n",
       "4308         text       1641         0.24\n",
       "2604         make       1634         0.24\n",
       "4721         view       1566         0.23\n",
       "2174          int       1545         0.23\n",
       "3749          run       1540         0.23"
      ]
     },
     "execution_count": 74,
     "metadata": {},
     "output_type": "execute_result"
    }
   ],
   "source": [
    "freq_features_bow = DataFrame(zip(X_train_vocab_bow, X_train_dist_bow))\n",
    "freq_features_bow.rename({0:'Word', 1:'Frequence'}, axis = 1, inplace = True)\n",
    "freq_features_bow.sort_values(['Frequence'], inplace = True, ascending=False)\n",
    "freq_features_bow['Pourcentage'] = round(freq_features_bow['Frequence']*100/sum(freq_features_bow['Frequence']),2)\n",
    "freq_features_bow[:50]"
   ]
  },
  {
   "cell_type": "markdown",
   "metadata": {},
   "source": [
    "Nous constatons que dans les 50 mots les plus courants, nous avons des expressions qui ne nous apporte pas de valeur informative - nous allons donc actualiser la liste de stop words à enlever et réexécuter la transformation en BOW."
   ]
  },
  {
   "cell_type": "code",
   "execution_count": 75,
   "metadata": {},
   "outputs": [],
   "source": [
    "#Stop-words update\n",
    "stop_words += ['using', 'use', 'way', 'want', 'new', 'one', 'work', 'need', 'example', 'know',\n",
    "               'question', '4', 'line', 'make', '*', 'something', 'find', 'problem', 'following', \n",
    "               'create', 'x', 'run', \"'\", 'trying', 'change', 'used', 'see', 'possible', 'tried', \n",
    "               'first', 'without', 'found', 'seems', 'e', 'different', 'b', '8', '10', 'best', \n",
    "               'thing', \"can't\", '6', 'simple', 'answer', '7', 'working', 'good', 'look', 'right', \n",
    "               'help', 'another', 'v', 'try', 'point', 'would-like', '0-0', 'default', 'able', 'really', \n",
    "               'say', 'looking', 'show', 'idea', 'n', 'even', 'understand', 'better', 'please', 'p',\n",
    "               'instead', 'think', 'else', 'etc', '$', '9', 'since', 'already', 'give', 'sure']"
   ]
  },
  {
   "cell_type": "code",
   "execution_count": 76,
   "metadata": {},
   "outputs": [
    {
     "name": "stdout",
     "output_type": "stream",
     "text": [
      "Creating the bag of words...\n",
      "\n"
     ]
    }
   ],
   "source": [
    "#Second execution after stop-words update\n",
    "print (\"Creating the bag of words...\\n\")\n",
    "\n",
    "# Initialize the \"CountVectorizer\" object, which is scikit-learn's\n",
    "# bag of words tool.  \n",
    "vectorizer = CountVectorizer(analyzer = \"word\",   \\\n",
    "                             tokenizer = my_tokenizer,    \\\n",
    "                             preprocessor = None, \\\n",
    "                             strip_accents=None,\n",
    "                             max_features = 5000,\n",
    "                             lowercase=False,\n",
    "                             stop_words = stop_words)                       \n",
    "                            \n",
    "\n",
    "# fit_transform() does two functions: First, it fits the model\n",
    "# and learns the vocabulary; second, it transforms our training data\n",
    "# into feature vectors. The input to fit_transform should be a list of \n",
    "# strings.\n",
    "\n",
    "X_train_bow = vectorizer.fit_transform(X_train['post'])\n",
    "\n",
    "# Numpy arrays are easy to work with, so convert the result to an \n",
    "# array\n",
    "X_train_bow = X_train_bow.toarray()"
   ]
  },
  {
   "cell_type": "code",
   "execution_count": 77,
   "metadata": {},
   "outputs": [
    {
     "data": {
      "text/plain": [
       "(9843, 5000)"
      ]
     },
     "execution_count": 77,
     "metadata": {},
     "output_type": "execute_result"
    }
   ],
   "source": [
    "# Second execution\n",
    "X_train_bow.shape"
   ]
  },
  {
   "cell_type": "code",
   "execution_count": 78,
   "metadata": {},
   "outputs": [],
   "source": [
    "# Second execution\n",
    "# Create a vocabulary of features\n",
    "X_train_vocab_bow = vectorizer.get_feature_names()"
   ]
  },
  {
   "cell_type": "code",
   "execution_count": 79,
   "metadata": {},
   "outputs": [],
   "source": [
    "# Second execution\n",
    "# Sum up the counts of each vocabulary word\n",
    "X_train_dist_bow = np.sum(X_train_bow, axis=0)"
   ]
  },
  {
   "cell_type": "markdown",
   "metadata": {},
   "source": [
    "Nous allons afficher 50 mots les plus fréquents :"
   ]
  },
  {
   "cell_type": "code",
   "execution_count": 80,
   "metadata": {},
   "outputs": [
    {
     "data": {
      "text/html": [
       "<div>\n",
       "<style scoped>\n",
       "    .dataframe tbody tr th:only-of-type {\n",
       "        vertical-align: middle;\n",
       "    }\n",
       "\n",
       "    .dataframe tbody tr th {\n",
       "        vertical-align: top;\n",
       "    }\n",
       "\n",
       "    .dataframe thead th {\n",
       "        text-align: right;\n",
       "    }\n",
       "</style>\n",
       "<table border=\"1\" class=\"dataframe\">\n",
       "  <thead>\n",
       "    <tr style=\"text-align: right;\">\n",
       "      <th></th>\n",
       "      <th>Word</th>\n",
       "      <th>Frequence</th>\n",
       "      <th>Pourcentage</th>\n",
       "    </tr>\n",
       "  </thead>\n",
       "  <tbody>\n",
       "    <tr>\n",
       "      <th>1552</th>\n",
       "      <td>file</td>\n",
       "      <td>5163</td>\n",
       "      <td>0.89</td>\n",
       "    </tr>\n",
       "    <tr>\n",
       "      <th>2457</th>\n",
       "      <td>like</td>\n",
       "      <td>4116</td>\n",
       "      <td>0.71</td>\n",
       "    </tr>\n",
       "    <tr>\n",
       "      <th>162</th>\n",
       "      <td>android</td>\n",
       "      <td>3923</td>\n",
       "      <td>0.67</td>\n",
       "    </tr>\n",
       "    <tr>\n",
       "      <th>1756</th>\n",
       "      <td>get</td>\n",
       "      <td>3630</td>\n",
       "      <td>0.62</td>\n",
       "    </tr>\n",
       "    <tr>\n",
       "      <th>733</th>\n",
       "      <td>code</td>\n",
       "      <td>3509</td>\n",
       "      <td>0.60</td>\n",
       "    </tr>\n",
       "    <tr>\n",
       "      <th>4140</th>\n",
       "      <td>string</td>\n",
       "      <td>3149</td>\n",
       "      <td>0.54</td>\n",
       "    </tr>\n",
       "    <tr>\n",
       "      <th>677</th>\n",
       "      <td>class</td>\n",
       "      <td>3143</td>\n",
       "      <td>0.54</td>\n",
       "    </tr>\n",
       "    <tr>\n",
       "      <th>1705</th>\n",
       "      <td>function</td>\n",
       "      <td>3019</td>\n",
       "      <td>0.52</td>\n",
       "    </tr>\n",
       "    <tr>\n",
       "      <th>1018</th>\n",
       "      <td>data</td>\n",
       "      <td>2827</td>\n",
       "      <td>0.48</td>\n",
       "    </tr>\n",
       "    <tr>\n",
       "      <th>2272</th>\n",
       "      <td>java</td>\n",
       "      <td>2683</td>\n",
       "      <td>0.46</td>\n",
       "    </tr>\n",
       "    <tr>\n",
       "      <th>4670</th>\n",
       "      <td>value</td>\n",
       "      <td>2671</td>\n",
       "      <td>0.46</td>\n",
       "    </tr>\n",
       "    <tr>\n",
       "      <th>2842</th>\n",
       "      <td>name</td>\n",
       "      <td>2571</td>\n",
       "      <td>0.44</td>\n",
       "    </tr>\n",
       "    <tr>\n",
       "      <th>537</th>\n",
       "      <td>c</td>\n",
       "      <td>2567</td>\n",
       "      <td>0.44</td>\n",
       "    </tr>\n",
       "    <tr>\n",
       "      <th>1387</th>\n",
       "      <td>error</td>\n",
       "      <td>2547</td>\n",
       "      <td>0.44</td>\n",
       "    </tr>\n",
       "    <tr>\n",
       "      <th>4609</th>\n",
       "      <td>user</td>\n",
       "      <td>2498</td>\n",
       "      <td>0.43</td>\n",
       "    </tr>\n",
       "    <tr>\n",
       "      <th>1795</th>\n",
       "      <td>git</td>\n",
       "      <td>2245</td>\n",
       "      <td>0.38</td>\n",
       "    </tr>\n",
       "    <tr>\n",
       "      <th>2710</th>\n",
       "      <td>method</td>\n",
       "      <td>2102</td>\n",
       "      <td>0.36</td>\n",
       "    </tr>\n",
       "    <tr>\n",
       "      <th>2992</th>\n",
       "      <td>object</td>\n",
       "      <td>2096</td>\n",
       "      <td>0.36</td>\n",
       "    </tr>\n",
       "    <tr>\n",
       "      <th>3698</th>\n",
       "      <td>return</td>\n",
       "      <td>2028</td>\n",
       "      <td>0.35</td>\n",
       "    </tr>\n",
       "    <tr>\n",
       "      <th>2015</th>\n",
       "      <td>http</td>\n",
       "      <td>2001</td>\n",
       "      <td>0.34</td>\n",
       "    </tr>\n",
       "    <tr>\n",
       "      <th>3453</th>\n",
       "      <td>python</td>\n",
       "      <td>1981</td>\n",
       "      <td>0.34</td>\n",
       "    </tr>\n",
       "    <tr>\n",
       "      <th>4373</th>\n",
       "      <td>time</td>\n",
       "      <td>1952</td>\n",
       "      <td>0.33</td>\n",
       "    </tr>\n",
       "    <tr>\n",
       "      <th>4499</th>\n",
       "      <td>type</td>\n",
       "      <td>1927</td>\n",
       "      <td>0.33</td>\n",
       "    </tr>\n",
       "    <tr>\n",
       "      <th>234</th>\n",
       "      <td>app</td>\n",
       "      <td>1864</td>\n",
       "      <td>0.32</td>\n",
       "    </tr>\n",
       "    <tr>\n",
       "      <th>255</th>\n",
       "      <td>application</td>\n",
       "      <td>1831</td>\n",
       "      <td>0.31</td>\n",
       "    </tr>\n",
       "    <tr>\n",
       "      <th>2504</th>\n",
       "      <td>list</td>\n",
       "      <td>1795</td>\n",
       "      <td>0.31</td>\n",
       "    </tr>\n",
       "    <tr>\n",
       "      <th>3881</th>\n",
       "      <td>server</td>\n",
       "      <td>1782</td>\n",
       "      <td>0.31</td>\n",
       "    </tr>\n",
       "    <tr>\n",
       "      <th>3413</th>\n",
       "      <td>public</td>\n",
       "      <td>1776</td>\n",
       "      <td>0.30</td>\n",
       "    </tr>\n",
       "    <tr>\n",
       "      <th>3891</th>\n",
       "      <td>set</td>\n",
       "      <td>1760</td>\n",
       "      <td>0.30</td>\n",
       "    </tr>\n",
       "    <tr>\n",
       "      <th>770</th>\n",
       "      <td>com</td>\n",
       "      <td>1690</td>\n",
       "      <td>0.29</td>\n",
       "    </tr>\n",
       "    <tr>\n",
       "      <th>4313</th>\n",
       "      <td>text</td>\n",
       "      <td>1641</td>\n",
       "      <td>0.28</td>\n",
       "    </tr>\n",
       "    <tr>\n",
       "      <th>4720</th>\n",
       "      <td>view</td>\n",
       "      <td>1566</td>\n",
       "      <td>0.27</td>\n",
       "    </tr>\n",
       "    <tr>\n",
       "      <th>2180</th>\n",
       "      <td>int</td>\n",
       "      <td>1545</td>\n",
       "      <td>0.26</td>\n",
       "    </tr>\n",
       "    <tr>\n",
       "      <th>4678</th>\n",
       "      <td>var</td>\n",
       "      <td>1509</td>\n",
       "      <td>0.26</td>\n",
       "    </tr>\n",
       "    <tr>\n",
       "      <th>1157</th>\n",
       "      <td>difference</td>\n",
       "      <td>1500</td>\n",
       "      <td>0.26</td>\n",
       "    </tr>\n",
       "    <tr>\n",
       "      <th>3383</th>\n",
       "      <td>project</td>\n",
       "      <td>1423</td>\n",
       "      <td>0.24</td>\n",
       "    </tr>\n",
       "    <tr>\n",
       "      <th>2259</th>\n",
       "      <td>j</td>\n",
       "      <td>1415</td>\n",
       "      <td>0.24</td>\n",
       "    </tr>\n",
       "    <tr>\n",
       "      <th>4306</th>\n",
       "      <td>test</td>\n",
       "      <td>1412</td>\n",
       "      <td>0.24</td>\n",
       "    </tr>\n",
       "    <tr>\n",
       "      <th>2005</th>\n",
       "      <td>html</td>\n",
       "      <td>1372</td>\n",
       "      <td>0.24</td>\n",
       "    </tr>\n",
       "    <tr>\n",
       "      <th>786</th>\n",
       "      <td>command</td>\n",
       "      <td>1364</td>\n",
       "      <td>0.23</td>\n",
       "    </tr>\n",
       "    <tr>\n",
       "      <th>4704</th>\n",
       "      <td>version</td>\n",
       "      <td>1362</td>\n",
       "      <td>0.23</td>\n",
       "    </tr>\n",
       "    <tr>\n",
       "      <th>82</th>\n",
       "      <td>add</td>\n",
       "      <td>1340</td>\n",
       "      <td>0.23</td>\n",
       "    </tr>\n",
       "    <tr>\n",
       "      <th>3132</th>\n",
       "      <td>page</td>\n",
       "      <td>1326</td>\n",
       "      <td>0.23</td>\n",
       "    </tr>\n",
       "    <tr>\n",
       "      <th>1199</th>\n",
       "      <td>div</td>\n",
       "      <td>1324</td>\n",
       "      <td>0.23</td>\n",
       "    </tr>\n",
       "    <tr>\n",
       "      <th>4244</th>\n",
       "      <td>system</td>\n",
       "      <td>1310</td>\n",
       "      <td>0.22</td>\n",
       "    </tr>\n",
       "    <tr>\n",
       "      <th>4256</th>\n",
       "      <td>table</td>\n",
       "      <td>1305</td>\n",
       "      <td>0.22</td>\n",
       "    </tr>\n",
       "    <tr>\n",
       "      <th>2293</th>\n",
       "      <td>javascript</td>\n",
       "      <td>1296</td>\n",
       "      <td>0.22</td>\n",
       "    </tr>\n",
       "    <tr>\n",
       "      <th>2073</th>\n",
       "      <td>image</td>\n",
       "      <td>1290</td>\n",
       "      <td>0.22</td>\n",
       "    </tr>\n",
       "    <tr>\n",
       "      <th>3806</th>\n",
       "      <td>script</td>\n",
       "      <td>1246</td>\n",
       "      <td>0.21</td>\n",
       "    </tr>\n",
       "    <tr>\n",
       "      <th>893</th>\n",
       "      <td>content</td>\n",
       "      <td>1222</td>\n",
       "      <td>0.21</td>\n",
       "    </tr>\n",
       "  </tbody>\n",
       "</table>\n",
       "</div>"
      ],
      "text/plain": [
       "             Word  Frequence  Pourcentage\n",
       "1552         file       5163         0.89\n",
       "2457         like       4116         0.71\n",
       "162       android       3923         0.67\n",
       "1756          get       3630         0.62\n",
       "733          code       3509         0.60\n",
       "4140       string       3149         0.54\n",
       "677         class       3143         0.54\n",
       "1705     function       3019         0.52\n",
       "1018         data       2827         0.48\n",
       "2272         java       2683         0.46\n",
       "4670        value       2671         0.46\n",
       "2842         name       2571         0.44\n",
       "537             c       2567         0.44\n",
       "1387        error       2547         0.44\n",
       "4609         user       2498         0.43\n",
       "1795          git       2245         0.38\n",
       "2710       method       2102         0.36\n",
       "2992       object       2096         0.36\n",
       "3698       return       2028         0.35\n",
       "2015         http       2001         0.34\n",
       "3453       python       1981         0.34\n",
       "4373         time       1952         0.33\n",
       "4499         type       1927         0.33\n",
       "234           app       1864         0.32\n",
       "255   application       1831         0.31\n",
       "2504         list       1795         0.31\n",
       "3881       server       1782         0.31\n",
       "3413       public       1776         0.30\n",
       "3891          set       1760         0.30\n",
       "770           com       1690         0.29\n",
       "4313         text       1641         0.28\n",
       "4720         view       1566         0.27\n",
       "2180          int       1545         0.26\n",
       "4678          var       1509         0.26\n",
       "1157   difference       1500         0.26\n",
       "3383      project       1423         0.24\n",
       "2259            j       1415         0.24\n",
       "4306         test       1412         0.24\n",
       "2005         html       1372         0.24\n",
       "786       command       1364         0.23\n",
       "4704      version       1362         0.23\n",
       "82            add       1340         0.23\n",
       "3132         page       1326         0.23\n",
       "1199          div       1324         0.23\n",
       "4244       system       1310         0.22\n",
       "4256        table       1305         0.22\n",
       "2293   javascript       1296         0.22\n",
       "2073        image       1290         0.22\n",
       "3806       script       1246         0.21\n",
       "893       content       1222         0.21"
      ]
     },
     "execution_count": 80,
     "metadata": {},
     "output_type": "execute_result"
    }
   ],
   "source": [
    "# Second execution\n",
    "freq_features_bow = DataFrame(zip(X_train_vocab_bow, X_train_dist_bow))\n",
    "freq_features_bow.rename({0:'Word', 1:'Frequence'}, axis = 1, inplace = True)\n",
    "freq_features_bow.sort_values(['Frequence'], inplace = True, ascending=False)\n",
    "freq_features_bow['Pourcentage'] = round(freq_features_bow['Frequence']*100/sum(freq_features_bow['Frequence']),2)\n",
    "freq_features_bow[:50]"
   ]
  },
  {
   "cell_type": "markdown",
   "metadata": {},
   "source": [
    "#### Cible"
   ]
  },
  {
   "cell_type": "code",
   "execution_count": 81,
   "metadata": {},
   "outputs": [
    {
     "name": "stdout",
     "output_type": "stream",
     "text": [
      "Creating the bag of words...\n",
      "\n"
     ]
    }
   ],
   "source": [
    "print (\"Creating the bag of words...\\n\")\n",
    "\n",
    "y_train_bow = vectorizer.fit_transform(y_train_clean)\n",
    "\n",
    "# Numpy arrays are easy to work with, so convert the result to an \n",
    "# array\n",
    "y_train_bow = y_train_bow.toarray()"
   ]
  },
  {
   "cell_type": "code",
   "execution_count": 82,
   "metadata": {},
   "outputs": [
    {
     "data": {
      "text/plain": [
       "(9843, 4998)"
      ]
     },
     "execution_count": 82,
     "metadata": {},
     "output_type": "execute_result"
    }
   ],
   "source": [
    "y_train_bow.shape"
   ]
  },
  {
   "cell_type": "code",
   "execution_count": 83,
   "metadata": {},
   "outputs": [],
   "source": [
    "# Creating tag's vocabulary\n",
    "y_train_vocab_bow = vectorizer.get_feature_names()"
   ]
  },
  {
   "cell_type": "code",
   "execution_count": 84,
   "metadata": {},
   "outputs": [],
   "source": [
    "# Sum up the counts of each vocabulary word\n",
    "y_train_dist_bow = np.sum(y_train_bow, axis=0)"
   ]
  },
  {
   "cell_type": "code",
   "execution_count": 85,
   "metadata": {},
   "outputs": [
    {
     "data": {
      "text/html": [
       "<div>\n",
       "<style scoped>\n",
       "    .dataframe tbody tr th:only-of-type {\n",
       "        vertical-align: middle;\n",
       "    }\n",
       "\n",
       "    .dataframe tbody tr th {\n",
       "        vertical-align: top;\n",
       "    }\n",
       "\n",
       "    .dataframe thead th {\n",
       "        text-align: right;\n",
       "    }\n",
       "</style>\n",
       "<table border=\"1\" class=\"dataframe\">\n",
       "  <thead>\n",
       "    <tr style=\"text-align: right;\">\n",
       "      <th></th>\n",
       "      <th>Word</th>\n",
       "      <th>Frequence</th>\n",
       "      <th>Pourcentage</th>\n",
       "    </tr>\n",
       "  </thead>\n",
       "  <tbody>\n",
       "    <tr>\n",
       "      <th>2404</th>\n",
       "      <td>javascript</td>\n",
       "      <td>1039</td>\n",
       "      <td>3.29</td>\n",
       "    </tr>\n",
       "    <tr>\n",
       "      <th>3558</th>\n",
       "      <td>python</td>\n",
       "      <td>948</td>\n",
       "      <td>3.01</td>\n",
       "    </tr>\n",
       "    <tr>\n",
       "      <th>2377</th>\n",
       "      <td>java</td>\n",
       "      <td>872</td>\n",
       "      <td>2.76</td>\n",
       "    </tr>\n",
       "    <tr>\n",
       "      <th>118</th>\n",
       "      <td>android</td>\n",
       "      <td>710</td>\n",
       "      <td>2.25</td>\n",
       "    </tr>\n",
       "    <tr>\n",
       "      <th>663</th>\n",
       "      <td>c#</td>\n",
       "      <td>582</td>\n",
       "      <td>1.84</td>\n",
       "    </tr>\n",
       "    <tr>\n",
       "      <th>1808</th>\n",
       "      <td>git</td>\n",
       "      <td>524</td>\n",
       "      <td>1.66</td>\n",
       "    </tr>\n",
       "    <tr>\n",
       "      <th>668</th>\n",
       "      <td>c++</td>\n",
       "      <td>433</td>\n",
       "      <td>1.37</td>\n",
       "    </tr>\n",
       "    <tr>\n",
       "      <th>2305</th>\n",
       "      <td>ios</td>\n",
       "      <td>373</td>\n",
       "      <td>1.18</td>\n",
       "    </tr>\n",
       "    <tr>\n",
       "      <th>2442</th>\n",
       "      <td>jquery</td>\n",
       "      <td>353</td>\n",
       "      <td>1.12</td>\n",
       "    </tr>\n",
       "    <tr>\n",
       "      <th>2063</th>\n",
       "      <td>html</td>\n",
       "      <td>351</td>\n",
       "      <td>1.11</td>\n",
       "    </tr>\n",
       "    <tr>\n",
       "      <th>1045</th>\n",
       "      <td>css</td>\n",
       "      <td>314</td>\n",
       "      <td>1.00</td>\n",
       "    </tr>\n",
       "    <tr>\n",
       "      <th>3</th>\n",
       "      <td>.net</td>\n",
       "      <td>290</td>\n",
       "      <td>0.92</td>\n",
       "    </tr>\n",
       "    <tr>\n",
       "      <th>3352</th>\n",
       "      <td>php</td>\n",
       "      <td>278</td>\n",
       "      <td>0.88</td>\n",
       "    </tr>\n",
       "    <tr>\n",
       "      <th>662</th>\n",
       "      <td>c</td>\n",
       "      <td>232</td>\n",
       "      <td>0.74</td>\n",
       "    </tr>\n",
       "    <tr>\n",
       "      <th>3140</th>\n",
       "      <td>objective-c</td>\n",
       "      <td>225</td>\n",
       "      <td>0.71</td>\n",
       "    </tr>\n",
       "    <tr>\n",
       "      <th>4126</th>\n",
       "      <td>sql</td>\n",
       "      <td>223</td>\n",
       "      <td>0.71</td>\n",
       "    </tr>\n",
       "    <tr>\n",
       "      <th>4241</th>\n",
       "      <td>string</td>\n",
       "      <td>218</td>\n",
       "      <td>0.69</td>\n",
       "    </tr>\n",
       "    <tr>\n",
       "      <th>2972</th>\n",
       "      <td>mysql</td>\n",
       "      <td>209</td>\n",
       "      <td>0.66</td>\n",
       "    </tr>\n",
       "    <tr>\n",
       "      <th>3045</th>\n",
       "      <td>node.js</td>\n",
       "      <td>204</td>\n",
       "      <td>0.65</td>\n",
       "    </tr>\n",
       "    <tr>\n",
       "      <th>2329</th>\n",
       "      <td>iphone</td>\n",
       "      <td>194</td>\n",
       "      <td>0.61</td>\n",
       "    </tr>\n",
       "    <tr>\n",
       "      <th>2626</th>\n",
       "      <td>linux</td>\n",
       "      <td>186</td>\n",
       "      <td>0.59</td>\n",
       "    </tr>\n",
       "    <tr>\n",
       "      <th>520</th>\n",
       "      <td>bash</td>\n",
       "      <td>166</td>\n",
       "      <td>0.53</td>\n",
       "    </tr>\n",
       "    <tr>\n",
       "      <th>382</th>\n",
       "      <td>arrays</td>\n",
       "      <td>155</td>\n",
       "      <td>0.49</td>\n",
       "    </tr>\n",
       "    <tr>\n",
       "      <th>94</th>\n",
       "      <td>algorithm</td>\n",
       "      <td>148</td>\n",
       "      <td>0.47</td>\n",
       "    </tr>\n",
       "    <tr>\n",
       "      <th>291</th>\n",
       "      <td>angularjs</td>\n",
       "      <td>138</td>\n",
       "      <td>0.44</td>\n",
       "    </tr>\n",
       "    <tr>\n",
       "      <th>4138</th>\n",
       "      <td>sql-server</td>\n",
       "      <td>133</td>\n",
       "      <td>0.42</td>\n",
       "    </tr>\n",
       "    <tr>\n",
       "      <th>3329</th>\n",
       "      <td>performance</td>\n",
       "      <td>132</td>\n",
       "      <td>0.42</td>\n",
       "    </tr>\n",
       "    <tr>\n",
       "      <th>1123</th>\n",
       "      <td>database</td>\n",
       "      <td>125</td>\n",
       "      <td>0.40</td>\n",
       "    </tr>\n",
       "    <tr>\n",
       "      <th>3822</th>\n",
       "      <td>ruby</td>\n",
       "      <td>125</td>\n",
       "      <td>0.40</td>\n",
       "    </tr>\n",
       "    <tr>\n",
       "      <th>3604</th>\n",
       "      <td>r</td>\n",
       "      <td>122</td>\n",
       "      <td>0.39</td>\n",
       "    </tr>\n",
       "    <tr>\n",
       "      <th>3826</th>\n",
       "      <td>ruby-on-rails</td>\n",
       "      <td>120</td>\n",
       "      <td>0.38</td>\n",
       "    </tr>\n",
       "    <tr>\n",
       "      <th>2707</th>\n",
       "      <td>macos</td>\n",
       "      <td>118</td>\n",
       "      <td>0.37</td>\n",
       "    </tr>\n",
       "    <tr>\n",
       "      <th>4008</th>\n",
       "      <td>shell</td>\n",
       "      <td>118</td>\n",
       "      <td>0.37</td>\n",
       "    </tr>\n",
       "    <tr>\n",
       "      <th>2959</th>\n",
       "      <td>multithreading</td>\n",
       "      <td>113</td>\n",
       "      <td>0.36</td>\n",
       "    </tr>\n",
       "    <tr>\n",
       "      <th>4873</th>\n",
       "      <td>windows</td>\n",
       "      <td>110</td>\n",
       "      <td>0.35</td>\n",
       "    </tr>\n",
       "    <tr>\n",
       "      <th>1855</th>\n",
       "      <td>github</td>\n",
       "      <td>105</td>\n",
       "      <td>0.33</td>\n",
       "    </tr>\n",
       "    <tr>\n",
       "      <th>2468</th>\n",
       "      <td>json</td>\n",
       "      <td>103</td>\n",
       "      <td>0.33</td>\n",
       "    </tr>\n",
       "    <tr>\n",
       "      <th>4309</th>\n",
       "      <td>swift</td>\n",
       "      <td>102</td>\n",
       "      <td>0.32</td>\n",
       "    </tr>\n",
       "    <tr>\n",
       "      <th>393</th>\n",
       "      <td>asp.net</td>\n",
       "      <td>95</td>\n",
       "      <td>0.30</td>\n",
       "    </tr>\n",
       "    <tr>\n",
       "      <th>1288</th>\n",
       "      <td>django</td>\n",
       "      <td>93</td>\n",
       "      <td>0.29</td>\n",
       "    </tr>\n",
       "    <tr>\n",
       "      <th>402</th>\n",
       "      <td>asp.net-mvc</td>\n",
       "      <td>92</td>\n",
       "      <td>0.29</td>\n",
       "    </tr>\n",
       "    <tr>\n",
       "      <th>4935</th>\n",
       "      <td>xcode</td>\n",
       "      <td>90</td>\n",
       "      <td>0.29</td>\n",
       "    </tr>\n",
       "    <tr>\n",
       "      <th>3750</th>\n",
       "      <td>rest</td>\n",
       "      <td>89</td>\n",
       "      <td>0.28</td>\n",
       "    </tr>\n",
       "    <tr>\n",
       "      <th>2633</th>\n",
       "      <td>list</td>\n",
       "      <td>87</td>\n",
       "      <td>0.28</td>\n",
       "    </tr>\n",
       "    <tr>\n",
       "      <th>2539</th>\n",
       "      <td>language-agnostic</td>\n",
       "      <td>85</td>\n",
       "      <td>0.27</td>\n",
       "    </tr>\n",
       "    <tr>\n",
       "      <th>3687</th>\n",
       "      <td>regex</td>\n",
       "      <td>85</td>\n",
       "      <td>0.27</td>\n",
       "    </tr>\n",
       "    <tr>\n",
       "      <th>3919</th>\n",
       "      <td>security</td>\n",
       "      <td>84</td>\n",
       "      <td>0.27</td>\n",
       "    </tr>\n",
       "    <tr>\n",
       "      <th>2078</th>\n",
       "      <td>html5</td>\n",
       "      <td>82</td>\n",
       "      <td>0.26</td>\n",
       "    </tr>\n",
       "    <tr>\n",
       "      <th>4749</th>\n",
       "      <td>vim</td>\n",
       "      <td>82</td>\n",
       "      <td>0.26</td>\n",
       "    </tr>\n",
       "    <tr>\n",
       "      <th>3178</th>\n",
       "      <td>oop</td>\n",
       "      <td>78</td>\n",
       "      <td>0.25</td>\n",
       "    </tr>\n",
       "  </tbody>\n",
       "</table>\n",
       "</div>"
      ],
      "text/plain": [
       "                   Word  Frequence  Pourcentage\n",
       "2404         javascript       1039         3.29\n",
       "3558             python        948         3.01\n",
       "2377               java        872         2.76\n",
       "118             android        710         2.25\n",
       "663                  c#        582         1.84\n",
       "1808                git        524         1.66\n",
       "668                 c++        433         1.37\n",
       "2305                ios        373         1.18\n",
       "2442             jquery        353         1.12\n",
       "2063               html        351         1.11\n",
       "1045                css        314         1.00\n",
       "3                  .net        290         0.92\n",
       "3352                php        278         0.88\n",
       "662                   c        232         0.74\n",
       "3140        objective-c        225         0.71\n",
       "4126                sql        223         0.71\n",
       "4241             string        218         0.69\n",
       "2972              mysql        209         0.66\n",
       "3045            node.js        204         0.65\n",
       "2329             iphone        194         0.61\n",
       "2626              linux        186         0.59\n",
       "520                bash        166         0.53\n",
       "382              arrays        155         0.49\n",
       "94            algorithm        148         0.47\n",
       "291           angularjs        138         0.44\n",
       "4138         sql-server        133         0.42\n",
       "3329        performance        132         0.42\n",
       "1123           database        125         0.40\n",
       "3822               ruby        125         0.40\n",
       "3604                  r        122         0.39\n",
       "3826      ruby-on-rails        120         0.38\n",
       "2707              macos        118         0.37\n",
       "4008              shell        118         0.37\n",
       "2959     multithreading        113         0.36\n",
       "4873            windows        110         0.35\n",
       "1855             github        105         0.33\n",
       "2468               json        103         0.33\n",
       "4309              swift        102         0.32\n",
       "393             asp.net         95         0.30\n",
       "1288             django         93         0.29\n",
       "402         asp.net-mvc         92         0.29\n",
       "4935              xcode         90         0.29\n",
       "3750               rest         89         0.28\n",
       "2633               list         87         0.28\n",
       "2539  language-agnostic         85         0.27\n",
       "3687              regex         85         0.27\n",
       "3919           security         84         0.27\n",
       "2078              html5         82         0.26\n",
       "4749                vim         82         0.26\n",
       "3178                oop         78         0.25"
      ]
     },
     "execution_count": 85,
     "metadata": {},
     "output_type": "execute_result"
    }
   ],
   "source": [
    "freq_target_bow = DataFrame(zip(y_train_vocab_bow, y_train_dist_bow))\n",
    "freq_target_bow.rename({0:'Word', 1:'Frequence'}, axis = 1, inplace = True)\n",
    "freq_target_bow.sort_values(['Frequence'], inplace = True, ascending=False)\n",
    "freq_target_bow['Pourcentage'] = round(freq_target_bow['Frequence']*100/sum(freq_target_bow['Frequence']),2)\n",
    "freq_target_bow[:50]"
   ]
  },
  {
   "cell_type": "markdown",
   "metadata": {},
   "source": [
    "#### Sauvegarder les données"
   ]
  },
  {
   "cell_type": "code",
   "execution_count": 86,
   "metadata": {},
   "outputs": [],
   "source": [
    "np.save('Data/X_train_bow', X_train_bow)\n",
    "np.save('Data/X_train_vocab_bow', X_train_vocab_bow)\n",
    "np.save('Data/X_train_dist_bow', X_train_dist_bow)\n",
    "np.save('Data/y_train_bow', y_train_bow)\n",
    "np.save('Data/y_train_vocab_bow', y_train_vocab_bow)\n",
    "np.save('Data/y_train_dist_bow', y_train_dist_bow)"
   ]
  },
  {
   "cell_type": "markdown",
   "metadata": {},
   "source": [
    "### TF - IDF"
   ]
  },
  {
   "cell_type": "markdown",
   "metadata": {},
   "source": [
    "#### Feature"
   ]
  },
  {
   "cell_type": "code",
   "execution_count": 87,
   "metadata": {},
   "outputs": [
    {
     "name": "stdout",
     "output_type": "stream",
     "text": [
      "Creating the TF - IDF...\n",
      "\n"
     ]
    }
   ],
   "source": [
    "print (\"Creating the TF - IDF...\\n\")\n",
    "# Initialize the \"CountVectorizer\" object, which is scikit-learn's\n",
    "# bag of words tool.  \n",
    "tf_idf = TfidfVectorizer(analyzer = \"word\",   \\\n",
    "                             tokenizer = my_tokenizer,    \\\n",
    "                             preprocessor = None, \\\n",
    "                             strip_accents=None,\n",
    "                             max_features = 5000,\n",
    "                             lowercase=False,\n",
    "                             stop_words = stop_words)                       \n",
    "                            \n",
    "\n",
    "# fit_transform() does two functions: First, it fits the model\n",
    "# and learns the vocabulary; second, it transforms our training data\n",
    "# into feature vectors. The input to fit_transform should be a list of \n",
    "# strings.\n",
    "X_train_tfidf = tf_idf.fit_transform(X_train['post'])\n",
    "\n",
    "# Numpy arrays are easy to work with, so convert the result to an \n",
    "# array\n",
    "X_train_tfidf = X_train_tfidf.toarray()"
   ]
  },
  {
   "cell_type": "code",
   "execution_count": 88,
   "metadata": {},
   "outputs": [
    {
     "data": {
      "text/plain": [
       "(9843, 5000)"
      ]
     },
     "execution_count": 88,
     "metadata": {},
     "output_type": "execute_result"
    }
   ],
   "source": [
    "X_train_tfidf.shape"
   ]
  },
  {
   "cell_type": "code",
   "execution_count": 89,
   "metadata": {},
   "outputs": [],
   "source": [
    "# Create vocabulary\n",
    "X_train_vocab_tfidf = tf_idf.get_feature_names()"
   ]
  },
  {
   "cell_type": "code",
   "execution_count": 90,
   "metadata": {},
   "outputs": [],
   "source": [
    "# Sum up the counts of each vocabulary word\n",
    "X_train_dist_tfidf = np.sum(X_train_tfidf, axis=0)"
   ]
  },
  {
   "cell_type": "markdown",
   "metadata": {},
   "source": [
    "Nous allons afficher 50 mots les plus fréquents :"
   ]
  },
  {
   "cell_type": "code",
   "execution_count": 91,
   "metadata": {
    "scrolled": true
   },
   "outputs": [
    {
     "data": {
      "text/html": [
       "<div>\n",
       "<style scoped>\n",
       "    .dataframe tbody tr th:only-of-type {\n",
       "        vertical-align: middle;\n",
       "    }\n",
       "\n",
       "    .dataframe tbody tr th {\n",
       "        vertical-align: top;\n",
       "    }\n",
       "\n",
       "    .dataframe thead th {\n",
       "        text-align: right;\n",
       "    }\n",
       "</style>\n",
       "<table border=\"1\" class=\"dataframe\">\n",
       "  <thead>\n",
       "    <tr style=\"text-align: right;\">\n",
       "      <th></th>\n",
       "      <th>Word</th>\n",
       "      <th>Frequence</th>\n",
       "      <th>Pourcentage</th>\n",
       "    </tr>\n",
       "  </thead>\n",
       "  <tbody>\n",
       "    <tr>\n",
       "      <th>1552</th>\n",
       "      <td>file</td>\n",
       "      <td>232.820247</td>\n",
       "      <td>0.55</td>\n",
       "    </tr>\n",
       "    <tr>\n",
       "      <th>4140</th>\n",
       "      <td>string</td>\n",
       "      <td>174.427881</td>\n",
       "      <td>0.41</td>\n",
       "    </tr>\n",
       "    <tr>\n",
       "      <th>2457</th>\n",
       "      <td>like</td>\n",
       "      <td>168.319796</td>\n",
       "      <td>0.40</td>\n",
       "    </tr>\n",
       "    <tr>\n",
       "      <th>1705</th>\n",
       "      <td>function</td>\n",
       "      <td>150.441034</td>\n",
       "      <td>0.36</td>\n",
       "    </tr>\n",
       "    <tr>\n",
       "      <th>1756</th>\n",
       "      <td>get</td>\n",
       "      <td>148.346995</td>\n",
       "      <td>0.35</td>\n",
       "    </tr>\n",
       "    <tr>\n",
       "      <th>733</th>\n",
       "      <td>code</td>\n",
       "      <td>147.324237</td>\n",
       "      <td>0.35</td>\n",
       "    </tr>\n",
       "    <tr>\n",
       "      <th>1157</th>\n",
       "      <td>difference</td>\n",
       "      <td>146.553129</td>\n",
       "      <td>0.35</td>\n",
       "    </tr>\n",
       "    <tr>\n",
       "      <th>1795</th>\n",
       "      <td>git</td>\n",
       "      <td>136.792964</td>\n",
       "      <td>0.32</td>\n",
       "    </tr>\n",
       "    <tr>\n",
       "      <th>677</th>\n",
       "      <td>class</td>\n",
       "      <td>131.035812</td>\n",
       "      <td>0.31</td>\n",
       "    </tr>\n",
       "    <tr>\n",
       "      <th>3453</th>\n",
       "      <td>python</td>\n",
       "      <td>130.852581</td>\n",
       "      <td>0.31</td>\n",
       "    </tr>\n",
       "    <tr>\n",
       "      <th>2272</th>\n",
       "      <td>java</td>\n",
       "      <td>129.139878</td>\n",
       "      <td>0.31</td>\n",
       "    </tr>\n",
       "    <tr>\n",
       "      <th>1018</th>\n",
       "      <td>data</td>\n",
       "      <td>127.861765</td>\n",
       "      <td>0.30</td>\n",
       "    </tr>\n",
       "    <tr>\n",
       "      <th>162</th>\n",
       "      <td>android</td>\n",
       "      <td>125.443107</td>\n",
       "      <td>0.30</td>\n",
       "    </tr>\n",
       "    <tr>\n",
       "      <th>4670</th>\n",
       "      <td>value</td>\n",
       "      <td>125.107004</td>\n",
       "      <td>0.30</td>\n",
       "    </tr>\n",
       "    <tr>\n",
       "      <th>2992</th>\n",
       "      <td>object</td>\n",
       "      <td>115.361823</td>\n",
       "      <td>0.27</td>\n",
       "    </tr>\n",
       "    <tr>\n",
       "      <th>2504</th>\n",
       "      <td>list</td>\n",
       "      <td>112.869811</td>\n",
       "      <td>0.27</td>\n",
       "    </tr>\n",
       "    <tr>\n",
       "      <th>2710</th>\n",
       "      <td>method</td>\n",
       "      <td>110.248259</td>\n",
       "      <td>0.26</td>\n",
       "    </tr>\n",
       "    <tr>\n",
       "      <th>4609</th>\n",
       "      <td>user</td>\n",
       "      <td>110.105836</td>\n",
       "      <td>0.26</td>\n",
       "    </tr>\n",
       "    <tr>\n",
       "      <th>2293</th>\n",
       "      <td>javascript</td>\n",
       "      <td>108.622798</td>\n",
       "      <td>0.26</td>\n",
       "    </tr>\n",
       "    <tr>\n",
       "      <th>2842</th>\n",
       "      <td>name</td>\n",
       "      <td>108.424169</td>\n",
       "      <td>0.26</td>\n",
       "    </tr>\n",
       "    <tr>\n",
       "      <th>537</th>\n",
       "      <td>c</td>\n",
       "      <td>105.433615</td>\n",
       "      <td>0.25</td>\n",
       "    </tr>\n",
       "    <tr>\n",
       "      <th>1387</th>\n",
       "      <td>error</td>\n",
       "      <td>104.332492</td>\n",
       "      <td>0.25</td>\n",
       "    </tr>\n",
       "    <tr>\n",
       "      <th>255</th>\n",
       "      <td>application</td>\n",
       "      <td>99.742650</td>\n",
       "      <td>0.24</td>\n",
       "    </tr>\n",
       "    <tr>\n",
       "      <th>4313</th>\n",
       "      <td>text</td>\n",
       "      <td>95.645164</td>\n",
       "      <td>0.23</td>\n",
       "    </tr>\n",
       "    <tr>\n",
       "      <th>3881</th>\n",
       "      <td>server</td>\n",
       "      <td>94.891300</td>\n",
       "      <td>0.23</td>\n",
       "    </tr>\n",
       "    <tr>\n",
       "      <th>4499</th>\n",
       "      <td>type</td>\n",
       "      <td>94.652991</td>\n",
       "      <td>0.22</td>\n",
       "    </tr>\n",
       "    <tr>\n",
       "      <th>290</th>\n",
       "      <td>array</td>\n",
       "      <td>91.627516</td>\n",
       "      <td>0.22</td>\n",
       "    </tr>\n",
       "    <tr>\n",
       "      <th>4373</th>\n",
       "      <td>time</td>\n",
       "      <td>90.710185</td>\n",
       "      <td>0.22</td>\n",
       "    </tr>\n",
       "    <tr>\n",
       "      <th>234</th>\n",
       "      <td>app</td>\n",
       "      <td>90.162924</td>\n",
       "      <td>0.21</td>\n",
       "    </tr>\n",
       "    <tr>\n",
       "      <th>3698</th>\n",
       "      <td>return</td>\n",
       "      <td>88.823013</td>\n",
       "      <td>0.21</td>\n",
       "    </tr>\n",
       "    <tr>\n",
       "      <th>786</th>\n",
       "      <td>command</td>\n",
       "      <td>88.387358</td>\n",
       "      <td>0.21</td>\n",
       "    </tr>\n",
       "    <tr>\n",
       "      <th>3891</th>\n",
       "      <td>set</td>\n",
       "      <td>87.633168</td>\n",
       "      <td>0.21</td>\n",
       "    </tr>\n",
       "    <tr>\n",
       "      <th>2073</th>\n",
       "      <td>image</td>\n",
       "      <td>85.374809</td>\n",
       "      <td>0.20</td>\n",
       "    </tr>\n",
       "    <tr>\n",
       "      <th>3383</th>\n",
       "      <td>project</td>\n",
       "      <td>84.933587</td>\n",
       "      <td>0.20</td>\n",
       "    </tr>\n",
       "    <tr>\n",
       "      <th>2015</th>\n",
       "      <td>http</td>\n",
       "      <td>83.346339</td>\n",
       "      <td>0.20</td>\n",
       "    </tr>\n",
       "    <tr>\n",
       "      <th>4256</th>\n",
       "      <td>table</td>\n",
       "      <td>82.980988</td>\n",
       "      <td>0.20</td>\n",
       "    </tr>\n",
       "    <tr>\n",
       "      <th>2005</th>\n",
       "      <td>html</td>\n",
       "      <td>81.335341</td>\n",
       "      <td>0.19</td>\n",
       "    </tr>\n",
       "    <tr>\n",
       "      <th>3806</th>\n",
       "      <td>script</td>\n",
       "      <td>80.833660</td>\n",
       "      <td>0.19</td>\n",
       "    </tr>\n",
       "    <tr>\n",
       "      <th>2980</th>\n",
       "      <td>number</td>\n",
       "      <td>79.593628</td>\n",
       "      <td>0.19</td>\n",
       "    </tr>\n",
       "    <tr>\n",
       "      <th>3132</th>\n",
       "      <td>page</td>\n",
       "      <td>78.249942</td>\n",
       "      <td>0.19</td>\n",
       "    </tr>\n",
       "    <tr>\n",
       "      <th>4688</th>\n",
       "      <td>variable</td>\n",
       "      <td>77.997233</td>\n",
       "      <td>0.18</td>\n",
       "    </tr>\n",
       "    <tr>\n",
       "      <th>4678</th>\n",
       "      <td>var</td>\n",
       "      <td>76.613892</td>\n",
       "      <td>0.18</td>\n",
       "    </tr>\n",
       "    <tr>\n",
       "      <th>4869</th>\n",
       "      <td>window</td>\n",
       "      <td>75.645844</td>\n",
       "      <td>0.18</td>\n",
       "    </tr>\n",
       "    <tr>\n",
       "      <th>4720</th>\n",
       "      <td>view</td>\n",
       "      <td>75.396475</td>\n",
       "      <td>0.18</td>\n",
       "    </tr>\n",
       "    <tr>\n",
       "      <th>2180</th>\n",
       "      <td>int</td>\n",
       "      <td>74.623418</td>\n",
       "      <td>0.18</td>\n",
       "    </tr>\n",
       "    <tr>\n",
       "      <th>4306</th>\n",
       "      <td>test</td>\n",
       "      <td>72.993532</td>\n",
       "      <td>0.17</td>\n",
       "    </tr>\n",
       "    <tr>\n",
       "      <th>4704</th>\n",
       "      <td>version</td>\n",
       "      <td>72.729674</td>\n",
       "      <td>0.17</td>\n",
       "    </tr>\n",
       "    <tr>\n",
       "      <th>1030</th>\n",
       "      <td>database</td>\n",
       "      <td>72.694724</td>\n",
       "      <td>0.17</td>\n",
       "    </tr>\n",
       "    <tr>\n",
       "      <th>2341</th>\n",
       "      <td>key</td>\n",
       "      <td>71.780991</td>\n",
       "      <td>0.17</td>\n",
       "    </tr>\n",
       "    <tr>\n",
       "      <th>492</th>\n",
       "      <td>branch</td>\n",
       "      <td>71.734049</td>\n",
       "      <td>0.17</td>\n",
       "    </tr>\n",
       "  </tbody>\n",
       "</table>\n",
       "</div>"
      ],
      "text/plain": [
       "             Word   Frequence  Pourcentage\n",
       "1552         file  232.820247         0.55\n",
       "4140       string  174.427881         0.41\n",
       "2457         like  168.319796         0.40\n",
       "1705     function  150.441034         0.36\n",
       "1756          get  148.346995         0.35\n",
       "733          code  147.324237         0.35\n",
       "1157   difference  146.553129         0.35\n",
       "1795          git  136.792964         0.32\n",
       "677         class  131.035812         0.31\n",
       "3453       python  130.852581         0.31\n",
       "2272         java  129.139878         0.31\n",
       "1018         data  127.861765         0.30\n",
       "162       android  125.443107         0.30\n",
       "4670        value  125.107004         0.30\n",
       "2992       object  115.361823         0.27\n",
       "2504         list  112.869811         0.27\n",
       "2710       method  110.248259         0.26\n",
       "4609         user  110.105836         0.26\n",
       "2293   javascript  108.622798         0.26\n",
       "2842         name  108.424169         0.26\n",
       "537             c  105.433615         0.25\n",
       "1387        error  104.332492         0.25\n",
       "255   application   99.742650         0.24\n",
       "4313         text   95.645164         0.23\n",
       "3881       server   94.891300         0.23\n",
       "4499         type   94.652991         0.22\n",
       "290         array   91.627516         0.22\n",
       "4373         time   90.710185         0.22\n",
       "234           app   90.162924         0.21\n",
       "3698       return   88.823013         0.21\n",
       "786       command   88.387358         0.21\n",
       "3891          set   87.633168         0.21\n",
       "2073        image   85.374809         0.20\n",
       "3383      project   84.933587         0.20\n",
       "2015         http   83.346339         0.20\n",
       "4256        table   82.980988         0.20\n",
       "2005         html   81.335341         0.19\n",
       "3806       script   80.833660         0.19\n",
       "2980       number   79.593628         0.19\n",
       "3132         page   78.249942         0.19\n",
       "4688     variable   77.997233         0.18\n",
       "4678          var   76.613892         0.18\n",
       "4869       window   75.645844         0.18\n",
       "4720         view   75.396475         0.18\n",
       "2180          int   74.623418         0.18\n",
       "4306         test   72.993532         0.17\n",
       "4704      version   72.729674         0.17\n",
       "1030     database   72.694724         0.17\n",
       "2341          key   71.780991         0.17\n",
       "492        branch   71.734049         0.17"
      ]
     },
     "execution_count": 91,
     "metadata": {},
     "output_type": "execute_result"
    }
   ],
   "source": [
    "freq_features_tfidf = DataFrame(zip(X_train_vocab_tfidf, X_train_dist_tfidf))\n",
    "freq_features_tfidf.rename({0:'Word', 1:'Frequence'}, axis = 1, inplace = True)\n",
    "freq_features_tfidf.sort_values(['Frequence'], inplace = True, ascending=False)\n",
    "freq_features_tfidf['Pourcentage'] = round(freq_features_tfidf['Frequence']*100/sum(freq_features_tfidf['Frequence']),2)\n",
    "freq_features_tfidf[:50]"
   ]
  },
  {
   "cell_type": "markdown",
   "metadata": {},
   "source": [
    "#### Titre uniquement"
   ]
  },
  {
   "cell_type": "code",
   "execution_count": 92,
   "metadata": {},
   "outputs": [],
   "source": [
    "X_train_title_tfidf = tf_idf.fit_transform(X_train['title_clean'])\n",
    "\n",
    "# Numpy arrays are easy to work with, so convert the result to an array\n",
    "X_train_title_tfidf = X_train_title_tfidf.toarray()"
   ]
  },
  {
   "cell_type": "code",
   "execution_count": 93,
   "metadata": {},
   "outputs": [
    {
     "data": {
      "text/plain": [
       "(9843, 5000)"
      ]
     },
     "execution_count": 93,
     "metadata": {},
     "output_type": "execute_result"
    }
   ],
   "source": [
    "X_train_title_tfidf.shape"
   ]
  },
  {
   "cell_type": "code",
   "execution_count": 94,
   "metadata": {},
   "outputs": [],
   "source": [
    "# Create vocabulary\n",
    "X_train_title_vocab_tfidf = tf_idf.get_feature_names()"
   ]
  },
  {
   "cell_type": "code",
   "execution_count": 95,
   "metadata": {},
   "outputs": [],
   "source": [
    "# Sum up the counts of each vocabulary word\n",
    "X_train_title_dist_tfidf = np.sum(X_train_title_tfidf, axis=0)"
   ]
  },
  {
   "cell_type": "code",
   "execution_count": 96,
   "metadata": {},
   "outputs": [
    {
     "data": {
      "text/html": [
       "<div>\n",
       "<style scoped>\n",
       "    .dataframe tbody tr th:only-of-type {\n",
       "        vertical-align: middle;\n",
       "    }\n",
       "\n",
       "    .dataframe tbody tr th {\n",
       "        vertical-align: top;\n",
       "    }\n",
       "\n",
       "    .dataframe thead th {\n",
       "        text-align: right;\n",
       "    }\n",
       "</style>\n",
       "<table border=\"1\" class=\"dataframe\">\n",
       "  <thead>\n",
       "    <tr style=\"text-align: right;\">\n",
       "      <th></th>\n",
       "      <th>Word</th>\n",
       "      <th>Frequence</th>\n",
       "      <th>Pourcentage</th>\n",
       "    </tr>\n",
       "  </thead>\n",
       "  <tbody>\n",
       "    <tr>\n",
       "      <th>1624</th>\n",
       "      <td>file</td>\n",
       "      <td>175.054397</td>\n",
       "      <td>0.87</td>\n",
       "    </tr>\n",
       "    <tr>\n",
       "      <th>1356</th>\n",
       "      <td>difference</td>\n",
       "      <td>150.991633</td>\n",
       "      <td>0.75</td>\n",
       "    </tr>\n",
       "    <tr>\n",
       "      <th>3330</th>\n",
       "      <td>python</td>\n",
       "      <td>149.926372</td>\n",
       "      <td>0.74</td>\n",
       "    </tr>\n",
       "    <tr>\n",
       "      <th>2238</th>\n",
       "      <td>java</td>\n",
       "      <td>137.639501</td>\n",
       "      <td>0.68</td>\n",
       "    </tr>\n",
       "    <tr>\n",
       "      <th>4077</th>\n",
       "      <td>string</td>\n",
       "      <td>129.960881</td>\n",
       "      <td>0.64</td>\n",
       "    </tr>\n",
       "    <tr>\n",
       "      <th>180</th>\n",
       "      <td>android</td>\n",
       "      <td>129.490973</td>\n",
       "      <td>0.64</td>\n",
       "    </tr>\n",
       "    <tr>\n",
       "      <th>2249</th>\n",
       "      <td>javascript</td>\n",
       "      <td>128.998628</td>\n",
       "      <td>0.64</td>\n",
       "    </tr>\n",
       "    <tr>\n",
       "      <th>1786</th>\n",
       "      <td>git</td>\n",
       "      <td>124.932353</td>\n",
       "      <td>0.62</td>\n",
       "    </tr>\n",
       "    <tr>\n",
       "      <th>1747</th>\n",
       "      <td>get</td>\n",
       "      <td>112.628404</td>\n",
       "      <td>0.56</td>\n",
       "    </tr>\n",
       "    <tr>\n",
       "      <th>2457</th>\n",
       "      <td>list</td>\n",
       "      <td>87.502937</td>\n",
       "      <td>0.43</td>\n",
       "    </tr>\n",
       "    <tr>\n",
       "      <th>2934</th>\n",
       "      <td>object</td>\n",
       "      <td>82.787252</td>\n",
       "      <td>0.41</td>\n",
       "    </tr>\n",
       "    <tr>\n",
       "      <th>1720</th>\n",
       "      <td>function</td>\n",
       "      <td>81.879896</td>\n",
       "      <td>0.41</td>\n",
       "    </tr>\n",
       "    <tr>\n",
       "      <th>2282</th>\n",
       "      <td>jquery</td>\n",
       "      <td>81.097831</td>\n",
       "      <td>0.40</td>\n",
       "    </tr>\n",
       "    <tr>\n",
       "      <th>269</th>\n",
       "      <td>array</td>\n",
       "      <td>78.372281</td>\n",
       "      <td>0.39</td>\n",
       "    </tr>\n",
       "    <tr>\n",
       "      <th>1219</th>\n",
       "      <td>data</td>\n",
       "      <td>73.198087</td>\n",
       "      <td>0.36</td>\n",
       "    </tr>\n",
       "    <tr>\n",
       "      <th>620</th>\n",
       "      <td>c++</td>\n",
       "      <td>68.707745</td>\n",
       "      <td>0.34</td>\n",
       "    </tr>\n",
       "    <tr>\n",
       "      <th>4701</th>\n",
       "      <td>value</td>\n",
       "      <td>68.687603</td>\n",
       "      <td>0.34</td>\n",
       "    </tr>\n",
       "    <tr>\n",
       "      <th>3172</th>\n",
       "      <td>php</td>\n",
       "      <td>67.374407</td>\n",
       "      <td>0.33</td>\n",
       "    </tr>\n",
       "    <tr>\n",
       "      <th>843</th>\n",
       "      <td>code</td>\n",
       "      <td>65.157857</td>\n",
       "      <td>0.32</td>\n",
       "    </tr>\n",
       "    <tr>\n",
       "      <th>2734</th>\n",
       "      <td>multiple</td>\n",
       "      <td>63.122611</td>\n",
       "      <td>0.31</td>\n",
       "    </tr>\n",
       "    <tr>\n",
       "      <th>891</th>\n",
       "      <td>command</td>\n",
       "      <td>61.880444</td>\n",
       "      <td>0.31</td>\n",
       "    </tr>\n",
       "    <tr>\n",
       "      <th>4288</th>\n",
       "      <td>text</td>\n",
       "      <td>61.622478</td>\n",
       "      <td>0.31</td>\n",
       "    </tr>\n",
       "    <tr>\n",
       "      <th>619</th>\n",
       "      <td>c#</td>\n",
       "      <td>61.039443</td>\n",
       "      <td>0.30</td>\n",
       "    </tr>\n",
       "    <tr>\n",
       "      <th>776</th>\n",
       "      <td>class</td>\n",
       "      <td>60.628361</td>\n",
       "      <td>0.30</td>\n",
       "    </tr>\n",
       "    <tr>\n",
       "      <th>1996</th>\n",
       "      <td>html</td>\n",
       "      <td>60.013063</td>\n",
       "      <td>0.30</td>\n",
       "    </tr>\n",
       "    <tr>\n",
       "      <th>3716</th>\n",
       "      <td>server</td>\n",
       "      <td>59.681651</td>\n",
       "      <td>0.30</td>\n",
       "    </tr>\n",
       "    <tr>\n",
       "      <th>2800</th>\n",
       "      <td>net</td>\n",
       "      <td>59.328235</td>\n",
       "      <td>0.29</td>\n",
       "    </tr>\n",
       "    <tr>\n",
       "      <th>4709</th>\n",
       "      <td>variable</td>\n",
       "      <td>59.221996</td>\n",
       "      <td>0.29</td>\n",
       "    </tr>\n",
       "    <tr>\n",
       "      <th>4882</th>\n",
       "      <td>window</td>\n",
       "      <td>58.653813</td>\n",
       "      <td>0.29</td>\n",
       "    </tr>\n",
       "    <tr>\n",
       "      <th>2061</th>\n",
       "      <td>image</td>\n",
       "      <td>58.213547</td>\n",
       "      <td>0.29</td>\n",
       "    </tr>\n",
       "    <tr>\n",
       "      <th>1060</th>\n",
       "      <td>convert</td>\n",
       "      <td>57.775748</td>\n",
       "      <td>0.29</td>\n",
       "    </tr>\n",
       "    <tr>\n",
       "      <th>3963</th>\n",
       "      <td>sql</td>\n",
       "      <td>57.397178</td>\n",
       "      <td>0.28</td>\n",
       "    </tr>\n",
       "    <tr>\n",
       "      <th>2629</th>\n",
       "      <td>method</td>\n",
       "      <td>56.843677</td>\n",
       "      <td>0.28</td>\n",
       "    </tr>\n",
       "    <tr>\n",
       "      <th>2232</th>\n",
       "      <td>j</td>\n",
       "      <td>56.836581</td>\n",
       "      <td>0.28</td>\n",
       "    </tr>\n",
       "    <tr>\n",
       "      <th>1522</th>\n",
       "      <td>error</td>\n",
       "      <td>56.531553</td>\n",
       "      <td>0.28</td>\n",
       "    </tr>\n",
       "    <tr>\n",
       "      <th>3728</th>\n",
       "      <td>set</td>\n",
       "      <td>56.379822</td>\n",
       "      <td>0.28</td>\n",
       "    </tr>\n",
       "    <tr>\n",
       "      <th>618</th>\n",
       "      <td>c</td>\n",
       "      <td>55.866602</td>\n",
       "      <td>0.28</td>\n",
       "    </tr>\n",
       "    <tr>\n",
       "      <th>2759</th>\n",
       "      <td>mysql</td>\n",
       "      <td>55.626838</td>\n",
       "      <td>0.28</td>\n",
       "    </tr>\n",
       "    <tr>\n",
       "      <th>231</th>\n",
       "      <td>application</td>\n",
       "      <td>53.154918</td>\n",
       "      <td>0.26</td>\n",
       "    </tr>\n",
       "    <tr>\n",
       "      <th>738</th>\n",
       "      <td>check</td>\n",
       "      <td>52.670785</td>\n",
       "      <td>0.26</td>\n",
       "    </tr>\n",
       "    <tr>\n",
       "      <th>1460</th>\n",
       "      <td>element</td>\n",
       "      <td>51.727162</td>\n",
       "      <td>0.26</td>\n",
       "    </tr>\n",
       "    <tr>\n",
       "      <th>4231</th>\n",
       "      <td>table</td>\n",
       "      <td>51.622340</td>\n",
       "      <td>0.26</td>\n",
       "    </tr>\n",
       "    <tr>\n",
       "      <th>569</th>\n",
       "      <td>branch</td>\n",
       "      <td>51.475471</td>\n",
       "      <td>0.26</td>\n",
       "    </tr>\n",
       "    <tr>\n",
       "      <th>2913</th>\n",
       "      <td>number</td>\n",
       "      <td>49.932393</td>\n",
       "      <td>0.25</td>\n",
       "    </tr>\n",
       "    <tr>\n",
       "      <th>3448</th>\n",
       "      <td>remove</td>\n",
       "      <td>49.274511</td>\n",
       "      <td>0.24</td>\n",
       "    </tr>\n",
       "    <tr>\n",
       "      <th>1220</th>\n",
       "      <td>database</td>\n",
       "      <td>48.654534</td>\n",
       "      <td>0.24</td>\n",
       "    </tr>\n",
       "    <tr>\n",
       "      <th>4485</th>\n",
       "      <td>type</td>\n",
       "      <td>47.521981</td>\n",
       "      <td>0.24</td>\n",
       "    </tr>\n",
       "    <tr>\n",
       "      <th>3625</th>\n",
       "      <td>script</td>\n",
       "      <td>46.345623</td>\n",
       "      <td>0.23</td>\n",
       "    </tr>\n",
       "    <tr>\n",
       "      <th>1159</th>\n",
       "      <td>cs</td>\n",
       "      <td>45.942221</td>\n",
       "      <td>0.23</td>\n",
       "    </tr>\n",
       "    <tr>\n",
       "      <th>211</th>\n",
       "      <td>app</td>\n",
       "      <td>44.959245</td>\n",
       "      <td>0.22</td>\n",
       "    </tr>\n",
       "  </tbody>\n",
       "</table>\n",
       "</div>"
      ],
      "text/plain": [
       "             Word   Frequence  Pourcentage\n",
       "1624         file  175.054397         0.87\n",
       "1356   difference  150.991633         0.75\n",
       "3330       python  149.926372         0.74\n",
       "2238         java  137.639501         0.68\n",
       "4077       string  129.960881         0.64\n",
       "180       android  129.490973         0.64\n",
       "2249   javascript  128.998628         0.64\n",
       "1786          git  124.932353         0.62\n",
       "1747          get  112.628404         0.56\n",
       "2457         list   87.502937         0.43\n",
       "2934       object   82.787252         0.41\n",
       "1720     function   81.879896         0.41\n",
       "2282       jquery   81.097831         0.40\n",
       "269         array   78.372281         0.39\n",
       "1219         data   73.198087         0.36\n",
       "620           c++   68.707745         0.34\n",
       "4701        value   68.687603         0.34\n",
       "3172          php   67.374407         0.33\n",
       "843          code   65.157857         0.32\n",
       "2734     multiple   63.122611         0.31\n",
       "891       command   61.880444         0.31\n",
       "4288         text   61.622478         0.31\n",
       "619            c#   61.039443         0.30\n",
       "776         class   60.628361         0.30\n",
       "1996         html   60.013063         0.30\n",
       "3716       server   59.681651         0.30\n",
       "2800          net   59.328235         0.29\n",
       "4709     variable   59.221996         0.29\n",
       "4882       window   58.653813         0.29\n",
       "2061        image   58.213547         0.29\n",
       "1060      convert   57.775748         0.29\n",
       "3963          sql   57.397178         0.28\n",
       "2629       method   56.843677         0.28\n",
       "2232            j   56.836581         0.28\n",
       "1522        error   56.531553         0.28\n",
       "3728          set   56.379822         0.28\n",
       "618             c   55.866602         0.28\n",
       "2759        mysql   55.626838         0.28\n",
       "231   application   53.154918         0.26\n",
       "738         check   52.670785         0.26\n",
       "1460      element   51.727162         0.26\n",
       "4231        table   51.622340         0.26\n",
       "569        branch   51.475471         0.26\n",
       "2913       number   49.932393         0.25\n",
       "3448       remove   49.274511         0.24\n",
       "1220     database   48.654534         0.24\n",
       "4485         type   47.521981         0.24\n",
       "3625       script   46.345623         0.23\n",
       "1159           cs   45.942221         0.23\n",
       "211           app   44.959245         0.22"
      ]
     },
     "execution_count": 96,
     "metadata": {},
     "output_type": "execute_result"
    }
   ],
   "source": [
    "freq_features_tfidf_titre = DataFrame(zip(X_train_title_vocab_tfidf, X_train_title_dist_tfidf))\n",
    "freq_features_tfidf_titre.rename({0:'Word', 1:'Frequence'}, axis = 1, inplace = True)\n",
    "freq_features_tfidf_titre.sort_values(['Frequence'], inplace = True, ascending=False)\n",
    "freq_features_tfidf_titre['Pourcentage'] = round(freq_features_tfidf_titre['Frequence']*100/sum(freq_features_tfidf_titre['Frequence']),2)\n",
    "freq_features_tfidf_titre[:50]"
   ]
  },
  {
   "cell_type": "markdown",
   "metadata": {},
   "source": [
    "#### Cible"
   ]
  },
  {
   "cell_type": "code",
   "execution_count": 97,
   "metadata": {},
   "outputs": [
    {
     "name": "stdout",
     "output_type": "stream",
     "text": [
      "Creating the TF - IDF...\n",
      "\n"
     ]
    }
   ],
   "source": [
    "print (\"Creating the TF - IDF...\\n\")\n",
    "\n",
    "y_train_tfidf = tf_idf.fit_transform(y_train_clean)\n",
    "\n",
    "# Numpy arrays are easy to work with, so convert the result to an \n",
    "# array\n",
    "y_train_tfidf = y_train_tfidf.toarray()"
   ]
  },
  {
   "cell_type": "code",
   "execution_count": 98,
   "metadata": {},
   "outputs": [
    {
     "data": {
      "text/plain": [
       "(9843, 4998)"
      ]
     },
     "execution_count": 98,
     "metadata": {},
     "output_type": "execute_result"
    }
   ],
   "source": [
    "y_train_tfidf.shape"
   ]
  },
  {
   "cell_type": "code",
   "execution_count": 99,
   "metadata": {},
   "outputs": [],
   "source": [
    "# Create the vocabulary\n",
    "y_train_vocab_tfidf = tf_idf.get_feature_names()"
   ]
  },
  {
   "cell_type": "code",
   "execution_count": 100,
   "metadata": {},
   "outputs": [],
   "source": [
    "# Sum up the counts of each vocabulary word\n",
    "y_train_dist_tfidf = np.sum(y_train_tfidf, axis=0)"
   ]
  },
  {
   "cell_type": "markdown",
   "metadata": {},
   "source": [
    "Nous allons afficher 50 mots les plus fréquents :"
   ]
  },
  {
   "cell_type": "code",
   "execution_count": 101,
   "metadata": {},
   "outputs": [
    {
     "data": {
      "text/html": [
       "<div>\n",
       "<style scoped>\n",
       "    .dataframe tbody tr th:only-of-type {\n",
       "        vertical-align: middle;\n",
       "    }\n",
       "\n",
       "    .dataframe tbody tr th {\n",
       "        vertical-align: top;\n",
       "    }\n",
       "\n",
       "    .dataframe thead th {\n",
       "        text-align: right;\n",
       "    }\n",
       "</style>\n",
       "<table border=\"1\" class=\"dataframe\">\n",
       "  <thead>\n",
       "    <tr style=\"text-align: right;\">\n",
       "      <th></th>\n",
       "      <th>Word</th>\n",
       "      <th>Frequence</th>\n",
       "      <th>Pourcentage</th>\n",
       "    </tr>\n",
       "  </thead>\n",
       "  <tbody>\n",
       "    <tr>\n",
       "      <th>2404</th>\n",
       "      <td>javascript</td>\n",
       "      <td>364.054803</td>\n",
       "      <td>2.17</td>\n",
       "    </tr>\n",
       "    <tr>\n",
       "      <th>3558</th>\n",
       "      <td>python</td>\n",
       "      <td>322.392284</td>\n",
       "      <td>1.93</td>\n",
       "    </tr>\n",
       "    <tr>\n",
       "      <th>2377</th>\n",
       "      <td>java</td>\n",
       "      <td>277.392963</td>\n",
       "      <td>1.66</td>\n",
       "    </tr>\n",
       "    <tr>\n",
       "      <th>1808</th>\n",
       "      <td>git</td>\n",
       "      <td>257.362231</td>\n",
       "      <td>1.54</td>\n",
       "    </tr>\n",
       "    <tr>\n",
       "      <th>118</th>\n",
       "      <td>android</td>\n",
       "      <td>235.036659</td>\n",
       "      <td>1.40</td>\n",
       "    </tr>\n",
       "    <tr>\n",
       "      <th>663</th>\n",
       "      <td>c#</td>\n",
       "      <td>199.293870</td>\n",
       "      <td>1.19</td>\n",
       "    </tr>\n",
       "    <tr>\n",
       "      <th>2442</th>\n",
       "      <td>jquery</td>\n",
       "      <td>167.070661</td>\n",
       "      <td>1.00</td>\n",
       "    </tr>\n",
       "    <tr>\n",
       "      <th>668</th>\n",
       "      <td>c++</td>\n",
       "      <td>157.892208</td>\n",
       "      <td>0.94</td>\n",
       "    </tr>\n",
       "    <tr>\n",
       "      <th>2063</th>\n",
       "      <td>html</td>\n",
       "      <td>151.436102</td>\n",
       "      <td>0.90</td>\n",
       "    </tr>\n",
       "    <tr>\n",
       "      <th>1045</th>\n",
       "      <td>css</td>\n",
       "      <td>143.726499</td>\n",
       "      <td>0.86</td>\n",
       "    </tr>\n",
       "    <tr>\n",
       "      <th>2305</th>\n",
       "      <td>ios</td>\n",
       "      <td>131.343117</td>\n",
       "      <td>0.78</td>\n",
       "    </tr>\n",
       "    <tr>\n",
       "      <th>3352</th>\n",
       "      <td>php</td>\n",
       "      <td>122.903324</td>\n",
       "      <td>0.73</td>\n",
       "    </tr>\n",
       "    <tr>\n",
       "      <th>3</th>\n",
       "      <td>.net</td>\n",
       "      <td>113.992123</td>\n",
       "      <td>0.68</td>\n",
       "    </tr>\n",
       "    <tr>\n",
       "      <th>4241</th>\n",
       "      <td>string</td>\n",
       "      <td>103.203464</td>\n",
       "      <td>0.62</td>\n",
       "    </tr>\n",
       "    <tr>\n",
       "      <th>2972</th>\n",
       "      <td>mysql</td>\n",
       "      <td>101.618610</td>\n",
       "      <td>0.61</td>\n",
       "    </tr>\n",
       "    <tr>\n",
       "      <th>662</th>\n",
       "      <td>c</td>\n",
       "      <td>97.401270</td>\n",
       "      <td>0.58</td>\n",
       "    </tr>\n",
       "    <tr>\n",
       "      <th>3045</th>\n",
       "      <td>node.js</td>\n",
       "      <td>97.339494</td>\n",
       "      <td>0.58</td>\n",
       "    </tr>\n",
       "    <tr>\n",
       "      <th>4126</th>\n",
       "      <td>sql</td>\n",
       "      <td>93.476541</td>\n",
       "      <td>0.56</td>\n",
       "    </tr>\n",
       "    <tr>\n",
       "      <th>3140</th>\n",
       "      <td>objective-c</td>\n",
       "      <td>89.449392</td>\n",
       "      <td>0.53</td>\n",
       "    </tr>\n",
       "    <tr>\n",
       "      <th>382</th>\n",
       "      <td>arrays</td>\n",
       "      <td>81.584940</td>\n",
       "      <td>0.49</td>\n",
       "    </tr>\n",
       "    <tr>\n",
       "      <th>2626</th>\n",
       "      <td>linux</td>\n",
       "      <td>79.001463</td>\n",
       "      <td>0.47</td>\n",
       "    </tr>\n",
       "    <tr>\n",
       "      <th>520</th>\n",
       "      <td>bash</td>\n",
       "      <td>78.833914</td>\n",
       "      <td>0.47</td>\n",
       "    </tr>\n",
       "    <tr>\n",
       "      <th>2329</th>\n",
       "      <td>iphone</td>\n",
       "      <td>78.044861</td>\n",
       "      <td>0.47</td>\n",
       "    </tr>\n",
       "    <tr>\n",
       "      <th>291</th>\n",
       "      <td>angularjs</td>\n",
       "      <td>74.929401</td>\n",
       "      <td>0.45</td>\n",
       "    </tr>\n",
       "    <tr>\n",
       "      <th>94</th>\n",
       "      <td>algorithm</td>\n",
       "      <td>65.648930</td>\n",
       "      <td>0.39</td>\n",
       "    </tr>\n",
       "    <tr>\n",
       "      <th>4138</th>\n",
       "      <td>sql-server</td>\n",
       "      <td>63.676563</td>\n",
       "      <td>0.38</td>\n",
       "    </tr>\n",
       "    <tr>\n",
       "      <th>3822</th>\n",
       "      <td>ruby</td>\n",
       "      <td>62.503984</td>\n",
       "      <td>0.37</td>\n",
       "    </tr>\n",
       "    <tr>\n",
       "      <th>1855</th>\n",
       "      <td>github</td>\n",
       "      <td>62.053616</td>\n",
       "      <td>0.37</td>\n",
       "    </tr>\n",
       "    <tr>\n",
       "      <th>3329</th>\n",
       "      <td>performance</td>\n",
       "      <td>60.682153</td>\n",
       "      <td>0.36</td>\n",
       "    </tr>\n",
       "    <tr>\n",
       "      <th>3604</th>\n",
       "      <td>r</td>\n",
       "      <td>60.429777</td>\n",
       "      <td>0.36</td>\n",
       "    </tr>\n",
       "    <tr>\n",
       "      <th>4008</th>\n",
       "      <td>shell</td>\n",
       "      <td>59.746807</td>\n",
       "      <td>0.36</td>\n",
       "    </tr>\n",
       "    <tr>\n",
       "      <th>3826</th>\n",
       "      <td>ruby-on-rails</td>\n",
       "      <td>58.512556</td>\n",
       "      <td>0.35</td>\n",
       "    </tr>\n",
       "    <tr>\n",
       "      <th>2468</th>\n",
       "      <td>json</td>\n",
       "      <td>57.150735</td>\n",
       "      <td>0.34</td>\n",
       "    </tr>\n",
       "    <tr>\n",
       "      <th>1123</th>\n",
       "      <td>database</td>\n",
       "      <td>56.197041</td>\n",
       "      <td>0.34</td>\n",
       "    </tr>\n",
       "    <tr>\n",
       "      <th>2707</th>\n",
       "      <td>macos</td>\n",
       "      <td>56.139503</td>\n",
       "      <td>0.34</td>\n",
       "    </tr>\n",
       "    <tr>\n",
       "      <th>3687</th>\n",
       "      <td>regex</td>\n",
       "      <td>53.388872</td>\n",
       "      <td>0.32</td>\n",
       "    </tr>\n",
       "    <tr>\n",
       "      <th>2959</th>\n",
       "      <td>multithreading</td>\n",
       "      <td>53.284532</td>\n",
       "      <td>0.32</td>\n",
       "    </tr>\n",
       "    <tr>\n",
       "      <th>4309</th>\n",
       "      <td>swift</td>\n",
       "      <td>51.984603</td>\n",
       "      <td>0.31</td>\n",
       "    </tr>\n",
       "    <tr>\n",
       "      <th>4873</th>\n",
       "      <td>windows</td>\n",
       "      <td>51.159218</td>\n",
       "      <td>0.31</td>\n",
       "    </tr>\n",
       "    <tr>\n",
       "      <th>1288</th>\n",
       "      <td>django</td>\n",
       "      <td>48.146878</td>\n",
       "      <td>0.29</td>\n",
       "    </tr>\n",
       "    <tr>\n",
       "      <th>4749</th>\n",
       "      <td>vim</td>\n",
       "      <td>48.075792</td>\n",
       "      <td>0.29</td>\n",
       "    </tr>\n",
       "    <tr>\n",
       "      <th>2633</th>\n",
       "      <td>list</td>\n",
       "      <td>47.315956</td>\n",
       "      <td>0.28</td>\n",
       "    </tr>\n",
       "    <tr>\n",
       "      <th>3750</th>\n",
       "      <td>rest</td>\n",
       "      <td>44.838347</td>\n",
       "      <td>0.27</td>\n",
       "    </tr>\n",
       "    <tr>\n",
       "      <th>4935</th>\n",
       "      <td>xcode</td>\n",
       "      <td>44.102836</td>\n",
       "      <td>0.26</td>\n",
       "    </tr>\n",
       "    <tr>\n",
       "      <th>393</th>\n",
       "      <td>asp.net</td>\n",
       "      <td>43.617173</td>\n",
       "      <td>0.26</td>\n",
       "    </tr>\n",
       "    <tr>\n",
       "      <th>1317</th>\n",
       "      <td>docker</td>\n",
       "      <td>43.329982</td>\n",
       "      <td>0.26</td>\n",
       "    </tr>\n",
       "    <tr>\n",
       "      <th>402</th>\n",
       "      <td>asp.net-mvc</td>\n",
       "      <td>43.003708</td>\n",
       "      <td>0.26</td>\n",
       "    </tr>\n",
       "    <tr>\n",
       "      <th>2539</th>\n",
       "      <td>language-agnostic</td>\n",
       "      <td>41.704362</td>\n",
       "      <td>0.25</td>\n",
       "    </tr>\n",
       "    <tr>\n",
       "      <th>3274</th>\n",
       "      <td>pandas</td>\n",
       "      <td>41.499312</td>\n",
       "      <td>0.25</td>\n",
       "    </tr>\n",
       "    <tr>\n",
       "      <th>3178</th>\n",
       "      <td>oop</td>\n",
       "      <td>39.859194</td>\n",
       "      <td>0.24</td>\n",
       "    </tr>\n",
       "  </tbody>\n",
       "</table>\n",
       "</div>"
      ],
      "text/plain": [
       "                   Word   Frequence  Pourcentage\n",
       "2404         javascript  364.054803         2.17\n",
       "3558             python  322.392284         1.93\n",
       "2377               java  277.392963         1.66\n",
       "1808                git  257.362231         1.54\n",
       "118             android  235.036659         1.40\n",
       "663                  c#  199.293870         1.19\n",
       "2442             jquery  167.070661         1.00\n",
       "668                 c++  157.892208         0.94\n",
       "2063               html  151.436102         0.90\n",
       "1045                css  143.726499         0.86\n",
       "2305                ios  131.343117         0.78\n",
       "3352                php  122.903324         0.73\n",
       "3                  .net  113.992123         0.68\n",
       "4241             string  103.203464         0.62\n",
       "2972              mysql  101.618610         0.61\n",
       "662                   c   97.401270         0.58\n",
       "3045            node.js   97.339494         0.58\n",
       "4126                sql   93.476541         0.56\n",
       "3140        objective-c   89.449392         0.53\n",
       "382              arrays   81.584940         0.49\n",
       "2626              linux   79.001463         0.47\n",
       "520                bash   78.833914         0.47\n",
       "2329             iphone   78.044861         0.47\n",
       "291           angularjs   74.929401         0.45\n",
       "94            algorithm   65.648930         0.39\n",
       "4138         sql-server   63.676563         0.38\n",
       "3822               ruby   62.503984         0.37\n",
       "1855             github   62.053616         0.37\n",
       "3329        performance   60.682153         0.36\n",
       "3604                  r   60.429777         0.36\n",
       "4008              shell   59.746807         0.36\n",
       "3826      ruby-on-rails   58.512556         0.35\n",
       "2468               json   57.150735         0.34\n",
       "1123           database   56.197041         0.34\n",
       "2707              macos   56.139503         0.34\n",
       "3687              regex   53.388872         0.32\n",
       "2959     multithreading   53.284532         0.32\n",
       "4309              swift   51.984603         0.31\n",
       "4873            windows   51.159218         0.31\n",
       "1288             django   48.146878         0.29\n",
       "4749                vim   48.075792         0.29\n",
       "2633               list   47.315956         0.28\n",
       "3750               rest   44.838347         0.27\n",
       "4935              xcode   44.102836         0.26\n",
       "393             asp.net   43.617173         0.26\n",
       "1317             docker   43.329982         0.26\n",
       "402         asp.net-mvc   43.003708         0.26\n",
       "2539  language-agnostic   41.704362         0.25\n",
       "3274             pandas   41.499312         0.25\n",
       "3178                oop   39.859194         0.24"
      ]
     },
     "execution_count": 101,
     "metadata": {},
     "output_type": "execute_result"
    }
   ],
   "source": [
    "freq_target_tfidf = DataFrame(zip(y_train_vocab_tfidf, y_train_dist_tfidf))\n",
    "freq_target_tfidf.rename({0:'Word', 1:'Frequence'}, axis = 1, inplace = True)\n",
    "freq_target_tfidf.sort_values(['Frequence'], inplace = True, ascending=False)\n",
    "freq_target_tfidf['Pourcentage'] = round(freq_target_tfidf['Frequence']*100/sum(freq_target_tfidf['Frequence']),2)\n",
    "freq_target_tfidf[:50]"
   ]
  },
  {
   "cell_type": "markdown",
   "metadata": {},
   "source": [
    "#### Sauvegarder les données"
   ]
  },
  {
   "cell_type": "code",
   "execution_count": 102,
   "metadata": {},
   "outputs": [],
   "source": [
    "np.save('Data/X_train_tfidf', X_train_tfidf)\n",
    "np.save('Data/X_train_vocab_tfidf', X_train_vocab_tfidf)\n",
    "np.save('Data/X_train_dist_tfidf', X_train_dist_tfidf)\n",
    "np.save('Data/y_train_tfidf', y_train_tfidf)\n",
    "np.save('Data/y_train_vocab_tfidf', y_train_vocab_tfidf)\n",
    "np.save('Data/y_train_dist_tfidf', y_train_dist_tfidf)\n",
    "np.save('Data/X_train_title_tfidf', X_train_title_tfidf)\n",
    "np.save('Data/X_train_title_vocab_tfidf', X_train_title_vocab_tfidf)\n",
    "np.save('Data/X_train_title_dist_tfidf', X_train_title_dist_tfidf)"
   ]
  },
  {
   "cell_type": "markdown",
   "metadata": {},
   "source": [
    "### Word2vect\n"
   ]
  },
  {
   "cell_type": "markdown",
   "metadata": {},
   "source": [
    "Afin de créer un vecteur de ots pour chaque document avec word2vect, nous allons modifier notre fonctions de cleaning. Pour plus d'efficacité de l'algorithme word2vect, nous allons séparer le corps de texte en phrases et garder les stop-words. Nous allons également garder les chiffres et la ponctuation."
   ]
  },
  {
   "cell_type": "markdown",
   "metadata": {},
   "source": [
    "#### Préparer les données"
   ]
  },
  {
   "cell_type": "markdown",
   "metadata": {},
   "source": [
    "Voici notre fonction de cleaning modifiée, avec une option pour enlever les stop-words. Par défaut, la fonction n'enlève pas des stop-words."
   ]
  },
  {
   "cell_type": "code",
   "execution_count": 104,
   "metadata": {},
   "outputs": [],
   "source": [
    "def post_to_words_w2v( raw_post, remove_stopwords=False ):\n",
    "    \"\"\"Function to convert a raw document to a list of words. \n",
    "    This cleaning function do not remove the stop words.\n",
    "    \n",
    "    Inputs : \n",
    "    \n",
    "    - raw_post : a single string \n",
    "    \n",
    "    Output :\n",
    "    \n",
    "    - a single string containing a preprocessed document\"\"\"\n",
    "    \n",
    "    # 1. Remove HTML\n",
    "    post_text = BeautifulSoup(raw_post).get_text() \n",
    "    #\n",
    "    # 2. Remove non-letters        \n",
    "    letters_only = re.sub(\"[^a-zA-Z]\", \" \", post_text) \n",
    "    #\n",
    "    # 3. Convert to lower case, split into individual words\n",
    "    words = letters_only.lower().split()                                          \n",
    "    # \n",
    "    # 4. Optionally remove stop words (false by default)\n",
    "    if remove_stopwords:\n",
    "        stops = set(stopwords.words(\"english\"))\n",
    "        words = [w for w in words if not w in stops]\n",
    "    #\n",
    "    # 5. Lematize\n",
    "    lemmatizer = WordNetLemmatizer() \n",
    "\n",
    "    lems = []\n",
    "\n",
    "    for word in words:\n",
    "        word_clean = lemmatizer.lemmatize(word)\n",
    "        lems.append(word_clean)\n",
    "    #\n",
    "    # 5. Join the words back into one string separated by space, \n",
    "    # and return the result.\n",
    "    return(words) "
   ]
  },
  {
   "cell_type": "code",
   "execution_count": 106,
   "metadata": {},
   "outputs": [],
   "source": [
    "# Personnaliser la fonction\n",
    "# Download the punkt tokenizer for sentence splitting\n",
    "#import nltk.data #!!! Supprimer ???\n",
    "#nltk.download()  #!!! Supprimer ??? \n",
    "\n",
    "# Load the punkt tokenizer\n",
    "tokenizer = nltk.data.load('tokenizers/punkt/english.pickle')\n",
    "\n",
    "# Define a function to split a review into parsed sentences\n",
    "def post_to_sentences( post, tokenizer):\n",
    "    # Function to split a review into parsed sentences. Returns a \n",
    "    # list of sentences, where each sentence is a list of words\n",
    "    #\n",
    "    # 1. Use the NLTK tokenizer to split the paragraph into sentences\n",
    "    raw_sentences = tokenizer.tokenize(post.strip())\n",
    "    #\n",
    "    # 2. Loop over each sentence\n",
    "    sentences = []\n",
    "    for raw_sentence in raw_sentences:\n",
    "        # If a sentence is empty, skip it\n",
    "        if len(raw_sentence) > 0:\n",
    "            # Otherwise, call review_to_wordlist to get a list of words\n",
    "            sentences.append( post_to_words_w2v( raw_sentence ))\n",
    "    #\n",
    "    # Return the list of sentences (each sentence is a list of words,\n",
    "    # so this returns a list of lists\n",
    "    return sentences"
   ]
  },
  {
   "cell_type": "code",
   "execution_count": 105,
   "metadata": {},
   "outputs": [
    {
     "name": "stdout",
     "output_type": "stream",
     "text": [
      "Parsing sentences from training set\n"
     ]
    },
    {
     "name": "stderr",
     "output_type": "stream",
     "text": [
      "C:\\Users\\Utilisateur\\Anaconda3\\lib\\site-packages\\bs4\\__init__.py:272: UserWarning: \"b'.'\" looks like a filename, not markup. You should probably open this file and pass the filehandle into Beautiful Soup.\n",
      "  ' Beautiful Soup.' % markup)\n"
     ]
    }
   ],
   "source": [
    "#Clean all data\n",
    "\n",
    "X_train['text'] = X_train['title'] + \". \" + X_train['body']\n",
    "\n",
    "sentences = []  # Initialize an empty list of sentences\n",
    "\n",
    "print (\"Parsing sentences from training set\")\n",
    "for post in X_train[\"text\"]:\n",
    "    sentences += post_to_sentences(post, tokenizer)"
   ]
  },
  {
   "cell_type": "markdown",
   "metadata": {},
   "source": [
    "#### Entraîner le modèle"
   ]
  },
  {
   "cell_type": "markdown",
   "metadata": {},
   "source": [
    "##### !!! Traduire & faire le tuning de paramètres \n",
    "\n",
    "With the list of nicely parsed sentences, we're ready to train the model. There are a number of parameter choices that affect the run time and the quality of the final model that is produced. For details on the algorithms below, see the word2vec API documentation as well as the Google documentation. \n",
    "\n",
    "    Architecture: Architecture options are skip-gram (default) or continuous bag of words. We found that skip-gram was very slightly slower but produced better results.\n",
    "    Training algorithm: Hierarchical softmax (default) or negative sampling. For us, the default worked well.\n",
    "    Downsampling of frequent words: The Google documentation recommends values between .00001 and .001. For us, values closer 0.001 seemed to improve the accuracy of the final model.\n",
    "    Word vector dimensionality: More features result in longer runtimes, and often, but not always, result in better models. Reasonable values can be in the tens to hundreds; we used 300.\n",
    "    Context / window size: How many words of context should the training algorithm take into account? 10 seems to work well for hierarchical softmax (more is better, up to a point).\n",
    "    Worker threads: Number of parallel processes to run. This is computer-specific, but between 4 and 6 should work on most systems.\n",
    "    Minimum word count: This helps limit the size of the vocabulary to meaningful words. Any word that does not occur at least this many times across all documents is ignored. Reasonable values could be between 10 and 100. In this case, since each movie occurs 30 times, we set the minimum word count to 40, to avoid attaching too much importance to individual movie titles. This resulted in an overall vocabulary size of around 15,000 words. Higher values also help limit run time.\n",
    "\n",
    "Choosing parameters is not easy, but once we have chosen our parameters, creating a Word2Vec model is straightforward:"
   ]
  },
  {
   "cell_type": "code",
   "execution_count": 107,
   "metadata": {
    "scrolled": true
   },
   "outputs": [
    {
     "name": "stderr",
     "output_type": "stream",
     "text": [
      "2019-11-10 18:03:29,754 : INFO : collecting all words and their counts\n",
      "2019-11-10 18:03:29,754 : INFO : PROGRESS: at sentence #0, processed 0 words, keeping 0 word types\n",
      "2019-11-10 18:03:29,816 : INFO : PROGRESS: at sentence #10000, processed 235705 words, keeping 12950 word types\n",
      "2019-11-10 18:03:29,848 : INFO : PROGRESS: at sentence #20000, processed 468938 words, keeping 18871 word types\n",
      "2019-11-10 18:03:29,894 : INFO : PROGRESS: at sentence #30000, processed 705531 words, keeping 23551 word types\n",
      "2019-11-10 18:03:29,941 : INFO : PROGRESS: at sentence #40000, processed 940375 words, keeping 27755 word types\n"
     ]
    },
    {
     "name": "stdout",
     "output_type": "stream",
     "text": [
      "Training model...\n"
     ]
    },
    {
     "name": "stderr",
     "output_type": "stream",
     "text": [
      "2019-11-10 18:03:29,972 : INFO : collected 30542 word types from a corpus of 1114323 raw words and 47376 sentences\n",
      "2019-11-10 18:03:29,988 : INFO : Loading a fresh vocabulary\n",
      "2019-11-10 18:03:29,988 : INFO : min_count=40 retains 2444 unique words (8% of original 30542, drops 28098)\n",
      "2019-11-10 18:03:30,004 : INFO : min_count=40 leaves 989920 word corpus (88% of original 1114323, drops 124403)\n",
      "2019-11-10 18:03:30,004 : INFO : deleting the raw counts dictionary of 30542 items\n",
      "2019-11-10 18:03:30,004 : INFO : sample=0.001 downsamples 57 most-common words\n",
      "2019-11-10 18:03:30,004 : INFO : downsampling leaves estimated 747465 word corpus (75.5% of prior 989920)\n",
      "2019-11-10 18:03:30,019 : INFO : estimated required memory for 2444 words and 300 dimensions: 7087600 bytes\n",
      "2019-11-10 18:03:30,019 : INFO : resetting layer weights\n",
      "2019-11-10 18:03:30,050 : INFO : training model with 4 workers on 2444 vocabulary and 300 features, using sg=0 hs=0 sample=0.001 negative=5 window=10\n",
      "2019-11-10 18:03:30,690 : INFO : worker thread finished; awaiting finish of 3 more threads\n",
      "2019-11-10 18:03:30,706 : INFO : worker thread finished; awaiting finish of 2 more threads\n",
      "2019-11-10 18:03:30,706 : INFO : worker thread finished; awaiting finish of 1 more threads\n",
      "2019-11-10 18:03:30,706 : INFO : worker thread finished; awaiting finish of 0 more threads\n",
      "2019-11-10 18:03:30,706 : INFO : EPOCH - 1 : training on 1114323 raw words (748064 effective words) took 0.7s, 1141314 effective words/s\n",
      "2019-11-10 18:03:31,361 : INFO : worker thread finished; awaiting finish of 3 more threads\n",
      "2019-11-10 18:03:31,361 : INFO : worker thread finished; awaiting finish of 2 more threads\n",
      "2019-11-10 18:03:31,361 : INFO : worker thread finished; awaiting finish of 1 more threads\n",
      "2019-11-10 18:03:31,376 : INFO : worker thread finished; awaiting finish of 0 more threads\n",
      "2019-11-10 18:03:31,376 : INFO : EPOCH - 2 : training on 1114323 raw words (747448 effective words) took 0.7s, 1130861 effective words/s\n",
      "2019-11-10 18:03:32,032 : INFO : worker thread finished; awaiting finish of 3 more threads\n",
      "2019-11-10 18:03:32,032 : INFO : worker thread finished; awaiting finish of 2 more threads\n",
      "2019-11-10 18:03:32,047 : INFO : worker thread finished; awaiting finish of 1 more threads\n",
      "2019-11-10 18:03:32,047 : INFO : worker thread finished; awaiting finish of 0 more threads\n",
      "2019-11-10 18:03:32,047 : INFO : EPOCH - 3 : training on 1114323 raw words (747861 effective words) took 0.7s, 1137892 effective words/s\n",
      "2019-11-10 18:03:32,718 : INFO : worker thread finished; awaiting finish of 3 more threads\n",
      "2019-11-10 18:03:32,734 : INFO : worker thread finished; awaiting finish of 2 more threads\n",
      "2019-11-10 18:03:32,734 : INFO : worker thread finished; awaiting finish of 1 more threads\n",
      "2019-11-10 18:03:32,734 : INFO : worker thread finished; awaiting finish of 0 more threads\n",
      "2019-11-10 18:03:32,734 : INFO : EPOCH - 4 : training on 1114323 raw words (747402 effective words) took 0.7s, 1085138 effective words/s\n",
      "2019-11-10 18:03:33,389 : INFO : worker thread finished; awaiting finish of 3 more threads\n",
      "2019-11-10 18:03:33,404 : INFO : worker thread finished; awaiting finish of 2 more threads\n",
      "2019-11-10 18:03:33,404 : INFO : worker thread finished; awaiting finish of 1 more threads\n",
      "2019-11-10 18:03:33,404 : INFO : worker thread finished; awaiting finish of 0 more threads\n",
      "2019-11-10 18:03:33,404 : INFO : EPOCH - 5 : training on 1114323 raw words (747694 effective words) took 0.7s, 1126286 effective words/s\n",
      "2019-11-10 18:03:33,404 : INFO : training on a 5571615 raw words (3738469 effective words) took 3.4s, 1114288 effective words/s\n",
      "2019-11-10 18:03:33,404 : INFO : precomputing L2-norms of word weight vectors\n",
      "2019-11-10 18:03:33,436 : INFO : saving Word2Vec object under 300features_40minwords_10context, separately None\n",
      "2019-11-10 18:03:33,436 : INFO : not storing attribute vectors_norm\n",
      "2019-11-10 18:03:33,436 : INFO : not storing attribute cum_table\n",
      "C:\\Users\\Utilisateur\\Anaconda3\\lib\\site-packages\\smart_open\\smart_open_lib.py:398: UserWarning: This function is deprecated, use smart_open.open instead. See the migration notes for details: https://github.com/RaRe-Technologies/smart_open/blob/master/README.rst#migrating-to-the-new-open-function\n",
      "  'See the migration notes for details: %s' % _MIGRATION_NOTES_URL\n",
      "2019-11-10 18:03:33,482 : INFO : saved 300features_40minwords_10context\n"
     ]
    }
   ],
   "source": [
    "# The model is trained on the sample\n",
    "# Import the built-in logging module and configure it so that Word2Vec \n",
    "# creates nice output messages\n",
    "import logging\n",
    "logging.basicConfig(format='%(asctime)s : %(levelname)s : %(message)s',\\\n",
    "    level=logging.INFO)\n",
    "\n",
    "# Set values for various parameters\n",
    "num_features = 300    # Word vector dimensionality                      \n",
    "min_word_count = 40   # Minimum word count                        \n",
    "num_workers = 4       # Number of threads to run in parallel\n",
    "context = 10          # Context window size                                                                                    \n",
    "downsampling = 1e-3   # Downsample setting for frequent words\n",
    "\n",
    "# Initialize and train the model (this will take some time)\n",
    "from gensim.models import word2vec\n",
    "print (\"Training model...\")\n",
    "model = word2vec.Word2Vec(sentences, workers=num_workers, \\\n",
    "            size=num_features, min_count = min_word_count, \\\n",
    "            window = context, sample = downsampling)\n",
    "\n",
    "# If you don't plan to train the model any further, calling \n",
    "# init_sims will make the model much more memory-efficient.\n",
    "model.init_sims(replace=True)\n",
    "\n",
    "# It can be helpful to create a meaningful model name and \n",
    "# save the model for later use. You can load it later using Word2Vec.load()\n",
    "model_name = \"300features_40minwords_10context\"\n",
    "model.save(model_name)"
   ]
  },
  {
   "cell_type": "markdown",
   "metadata": {},
   "source": [
    "Le vocabulaire de mots est stocké dans l'attribute model.vocabulary :"
   ]
  },
  {
   "cell_type": "code",
   "execution_count": 108,
   "metadata": {
    "scrolled": true
   },
   "outputs": [
    {
     "name": "stdout",
     "output_type": "stream",
     "text": [
      "<gensim.models.word2vec.Word2VecVocab object at 0x00000000177FAA58>\n"
     ]
    }
   ],
   "source": [
    "print (model.vocabulary)"
   ]
  },
  {
   "cell_type": "code",
   "execution_count": 109,
   "metadata": {},
   "outputs": [
    {
     "ename": "TypeError",
     "evalue": "argument of type 'Word2VecVocab' is not iterable",
     "output_type": "error",
     "traceback": [
      "\u001b[1;31m---------------------------------------------------------------------------\u001b[0m",
      "\u001b[1;31mTypeError\u001b[0m                                 Traceback (most recent call last)",
      "\u001b[1;32m<ipython-input-109-e7cc05c332ca>\u001b[0m in \u001b[0;36m<module>\u001b[1;34m\u001b[0m\n\u001b[0;32m      1\u001b[0m \u001b[1;31m#!!! Comment utiliser le vocabulaire ???\u001b[0m\u001b[1;33m\u001b[0m\u001b[1;33m\u001b[0m\u001b[1;33m\u001b[0m\u001b[0m\n\u001b[1;32m----> 2\u001b[1;33m \u001b[1;34m\"python\"\u001b[0m \u001b[1;32min\u001b[0m \u001b[1;33m(\u001b[0m\u001b[0mmodel\u001b[0m\u001b[1;33m.\u001b[0m\u001b[0mvocabulary\u001b[0m\u001b[1;33m)\u001b[0m\u001b[1;33m\u001b[0m\u001b[1;33m\u001b[0m\u001b[0m\n\u001b[0m",
      "\u001b[1;31mTypeError\u001b[0m: argument of type 'Word2VecVocab' is not iterable"
     ]
    }
   ],
   "source": [
    "#!!! Comment utiliser le vocabulaire ??? \n",
    "\"python\" in (model.vocabulary)"
   ]
  },
  {
   "cell_type": "markdown",
   "metadata": {},
   "source": [
    "#### Tester le modèle"
   ]
  },
  {
   "cell_type": "markdown",
   "metadata": {},
   "source": [
    "Nous allons tester la méthode doesnt_match qui va rechercher un mot qui est différent des autres dans une chaîne de caractères donnée."
   ]
  },
  {
   "cell_type": "code",
   "execution_count": 110,
   "metadata": {},
   "outputs": [
    {
     "name": "stderr",
     "output_type": "stream",
     "text": [
      "C:\\Users\\Utilisateur\\Anaconda3\\lib\\site-packages\\ipykernel_launcher.py:1: DeprecationWarning: Call to deprecated `doesnt_match` (Method will be removed in 4.0.0, use self.wv.doesnt_match() instead).\n",
      "  \"\"\"Entry point for launching an IPython kernel.\n",
      "C:\\Users\\Utilisateur\\Anaconda3\\lib\\site-packages\\gensim\\models\\keyedvectors.py:730: FutureWarning: arrays to stack must be passed as a \"sequence\" type such as list or tuple. Support for non-sequence iterables such as generators is deprecated as of NumPy 1.16 and will raise an error in the future.\n",
      "  vectors = vstack(self.word_vec(word, use_norm=True) for word in used_words).astype(REAL)\n"
     ]
    },
    {
     "data": {
      "text/plain": [
       "'sql'"
      ]
     },
     "execution_count": 110,
     "metadata": {},
     "output_type": "execute_result"
    }
   ],
   "source": [
    "model.doesnt_match(\"html css div sql windows\".split())"
   ]
  },
  {
   "cell_type": "code",
   "execution_count": 111,
   "metadata": {},
   "outputs": [
    {
     "name": "stderr",
     "output_type": "stream",
     "text": [
      "C:\\Users\\Utilisateur\\Anaconda3\\lib\\site-packages\\ipykernel_launcher.py:1: DeprecationWarning: Call to deprecated `doesnt_match` (Method will be removed in 4.0.0, use self.wv.doesnt_match() instead).\n",
      "  \"\"\"Entry point for launching an IPython kernel.\n",
      "2019-11-10 18:03:52,574 : WARNING : vectors for words {'jupyter', 'anaconda'} are not present in the model, ignoring these words\n"
     ]
    },
    {
     "data": {
      "text/plain": [
       "'javascript'"
      ]
     },
     "execution_count": 111,
     "metadata": {},
     "output_type": "execute_result"
    }
   ],
   "source": [
    "model.doesnt_match(\"python javascript jupyter anaconda\".split())"
   ]
  },
  {
   "cell_type": "code",
   "execution_count": 112,
   "metadata": {},
   "outputs": [
    {
     "name": "stderr",
     "output_type": "stream",
     "text": [
      "C:\\Users\\Utilisateur\\Anaconda3\\lib\\site-packages\\ipykernel_launcher.py:1: DeprecationWarning: Call to deprecated `doesnt_match` (Method will be removed in 4.0.0, use self.wv.doesnt_match() instead).\n",
      "  \"\"\"Entry point for launching an IPython kernel.\n"
     ]
    },
    {
     "data": {
      "text/plain": [
       "'browser'"
      ]
     },
     "execution_count": 112,
     "metadata": {},
     "output_type": "execute_result"
    }
   ],
   "source": [
    "model.doesnt_match(\"git github fetch browser commit\".split())"
   ]
  },
  {
   "cell_type": "markdown",
   "metadata": {},
   "source": [
    "La méthode similar va sortir une liste de mots qui sont les plus proche de l'expression indiquée :"
   ]
  },
  {
   "cell_type": "code",
   "execution_count": 113,
   "metadata": {},
   "outputs": [
    {
     "name": "stderr",
     "output_type": "stream",
     "text": [
      "C:\\Users\\Utilisateur\\Anaconda3\\lib\\site-packages\\ipykernel_launcher.py:1: DeprecationWarning: Call to deprecated `most_similar` (Method will be removed in 4.0.0, use self.wv.most_similar() instead).\n",
      "  \"\"\"Entry point for launching an IPython kernel.\n"
     ]
    },
    {
     "data": {
      "text/plain": [
       "[('py', 0.6501035690307617),\n",
       " ('interpreter', 0.6410990953445435),\n",
       " ('perl', 0.6115040183067322),\n",
       " ('packages', 0.5888123512268066),\n",
       " ('shell', 0.5769253969192505),\n",
       " ('numpy', 0.5712059736251831),\n",
       " ('package', 0.5602527856826782),\n",
       " ('pip', 0.5510268211364746),\n",
       " ('powershell', 0.5471863746643066),\n",
       " ('generator', 0.5388919115066528)]"
      ]
     },
     "execution_count": 113,
     "metadata": {},
     "output_type": "execute_result"
    }
   ],
   "source": [
    "model.most_similar(\"python\")"
   ]
  },
  {
   "cell_type": "code",
   "execution_count": 114,
   "metadata": {},
   "outputs": [
    {
     "name": "stderr",
     "output_type": "stream",
     "text": [
      "C:\\Users\\Utilisateur\\Anaconda3\\lib\\site-packages\\ipykernel_launcher.py:1: DeprecationWarning: Call to deprecated `most_similar` (Method will be removed in 4.0.0, use self.wv.most_similar() instead).\n",
      "  \"\"\"Entry point for launching an IPython kernel.\n"
     ]
    },
    {
     "data": {
      "text/plain": [
       "[('body', 0.8175437450408936),\n",
       " ('video', 0.7203476428985596),\n",
       " ('css', 0.7154499292373657),\n",
       " ('document', 0.7096524238586426),\n",
       " ('ng', 0.6937611699104309),\n",
       " ('stylesheet', 0.6868116855621338),\n",
       " ('xhtml', 0.6862136125564575),\n",
       " ('br', 0.6856790781021118),\n",
       " ('bootstrap', 0.6788734197616577),\n",
       " ('link', 0.6653692722320557)]"
      ]
     },
     "execution_count": 114,
     "metadata": {},
     "output_type": "execute_result"
    }
   ],
   "source": [
    "model.most_similar(\"html\")"
   ]
  },
  {
   "cell_type": "code",
   "execution_count": 115,
   "metadata": {},
   "outputs": [
    {
     "name": "stderr",
     "output_type": "stream",
     "text": [
      "C:\\Users\\Utilisateur\\Anaconda3\\lib\\site-packages\\ipykernel_launcher.py:1: DeprecationWarning: Call to deprecated `most_similar` (Method will be removed in 4.0.0, use self.wv.most_similar() instead).\n",
      "  \"\"\"Entry point for launching an IPython kernel.\n"
     ]
    },
    {
     "data": {
      "text/plain": [
       "[('client', 0.8357481956481934),\n",
       " ('connect', 0.7660226821899414),\n",
       " ('sent', 0.747546911239624),\n",
       " ('port', 0.7474941611289978),\n",
       " ('sending', 0.6626704931259155),\n",
       " ('localhost', 0.6580546498298645),\n",
       " ('connections', 0.65802001953125),\n",
       " ('connected', 0.6543571949005127),\n",
       " ('socket', 0.6527881622314453),\n",
       " ('ip', 0.6526323556900024)]"
      ]
     },
     "execution_count": 115,
     "metadata": {},
     "output_type": "execute_result"
    }
   ],
   "source": [
    "model.most_similar(\"server\")"
   ]
  },
  {
   "cell_type": "markdown",
   "metadata": {},
   "source": [
    "Nous pouvons aussi étudier la similarité entre deux mots :"
   ]
  },
  {
   "cell_type": "code",
   "execution_count": 116,
   "metadata": {},
   "outputs": [
    {
     "name": "stderr",
     "output_type": "stream",
     "text": [
      "C:\\Users\\Utilisateur\\Anaconda3\\lib\\site-packages\\ipykernel_launcher.py:1: DeprecationWarning: Call to deprecated `similarity` (Method will be removed in 4.0.0, use self.wv.similarity() instead).\n",
      "  \"\"\"Entry point for launching an IPython kernel.\n"
     ]
    },
    {
     "data": {
      "text/plain": [
       "1.0"
      ]
     },
     "execution_count": 116,
     "metadata": {},
     "output_type": "execute_result"
    }
   ],
   "source": [
    "model.similarity(w1=\"python\", w2=\"python\")"
   ]
  },
  {
   "cell_type": "code",
   "execution_count": 118,
   "metadata": {},
   "outputs": [
    {
     "name": "stderr",
     "output_type": "stream",
     "text": [
      "C:\\Users\\Utilisateur\\Anaconda3\\lib\\site-packages\\ipykernel_launcher.py:1: DeprecationWarning: Call to deprecated `similarity` (Method will be removed in 4.0.0, use self.wv.similarity() instead).\n",
      "  \"\"\"Entry point for launching an IPython kernel.\n"
     ]
    },
    {
     "data": {
      "text/plain": [
       "0.5510268754327101"
      ]
     },
     "execution_count": 118,
     "metadata": {},
     "output_type": "execute_result"
    }
   ],
   "source": [
    "model.similarity(w1=\"python\", w2=\"pip\")"
   ]
  },
  {
   "cell_type": "code",
   "execution_count": 119,
   "metadata": {},
   "outputs": [
    {
     "name": "stderr",
     "output_type": "stream",
     "text": [
      "C:\\Users\\Utilisateur\\Anaconda3\\lib\\site-packages\\ipykernel_launcher.py:1: DeprecationWarning: Call to deprecated `similarity` (Method will be removed in 4.0.0, use self.wv.similarity() instead).\n",
      "  \"\"\"Entry point for launching an IPython kernel.\n"
     ]
    },
    {
     "data": {
      "text/plain": [
       "0.30949789160790286"
      ]
     },
     "execution_count": 119,
     "metadata": {},
     "output_type": "execute_result"
    }
   ],
   "source": [
    "model.similarity(w1=\"python\", w2=\"windows\")"
   ]
  },
  {
   "cell_type": "code",
   "execution_count": 120,
   "metadata": {},
   "outputs": [
    {
     "name": "stderr",
     "output_type": "stream",
     "text": [
      "C:\\Users\\Utilisateur\\Anaconda3\\lib\\site-packages\\ipykernel_launcher.py:1: DeprecationWarning: Call to deprecated `similarity` (Method will be removed in 4.0.0, use self.wv.similarity() instead).\n",
      "  \"\"\"Entry point for launching an IPython kernel.\n"
     ]
    },
    {
     "data": {
      "text/plain": [
       "0.8333569497737763"
      ]
     },
     "execution_count": 120,
     "metadata": {},
     "output_type": "execute_result"
    }
   ],
   "source": [
    "model.similarity(w1=\"windows\", w2=\"linux\")"
   ]
  },
  {
   "cell_type": "markdown",
   "metadata": {},
   "source": [
    "#### Représentation numérique de mots"
   ]
  },
  {
   "cell_type": "code",
   "execution_count": 121,
   "metadata": {},
   "outputs": [
    {
     "name": "stderr",
     "output_type": "stream",
     "text": [
      "C:\\Users\\Utilisateur\\Anaconda3\\lib\\site-packages\\ipykernel_launcher.py:1: DeprecationWarning: Call to deprecated `syn0_lockf` (Attribute will be removed in 4.0.0, use self.trainables.vectors_lockf instead).\n",
      "  \"\"\"Entry point for launching an IPython kernel.\n"
     ]
    },
    {
     "data": {
      "text/plain": [
       "numpy.ndarray"
      ]
     },
     "execution_count": 121,
     "metadata": {},
     "output_type": "execute_result"
    }
   ],
   "source": [
    "type(model.syn0_lockf)"
   ]
  },
  {
   "cell_type": "code",
   "execution_count": 122,
   "metadata": {},
   "outputs": [
    {
     "name": "stderr",
     "output_type": "stream",
     "text": [
      "C:\\Users\\Utilisateur\\Anaconda3\\lib\\site-packages\\ipykernel_launcher.py:2: DeprecationWarning: Call to deprecated `syn0_lockf` (Attribute will be removed in 4.0.0, use self.trainables.vectors_lockf instead).\n",
      "  \n"
     ]
    },
    {
     "data": {
      "text/plain": [
       "(2444,)"
      ]
     },
     "execution_count": 122,
     "metadata": {},
     "output_type": "execute_result"
    }
   ],
   "source": [
    "#Number of words in the model\n",
    "model.syn0_lockf.shape"
   ]
  },
  {
   "cell_type": "code",
   "execution_count": 123,
   "metadata": {},
   "outputs": [
    {
     "data": {
      "text/plain": [
       "300"
      ]
     },
     "execution_count": 123,
     "metadata": {},
     "output_type": "execute_result"
    }
   ],
   "source": [
    "#Length of the word vector = num_features (attribute of w2v function) \n",
    "len(model.wv[\"python\"])"
   ]
  },
  {
   "cell_type": "code",
   "execution_count": 124,
   "metadata": {},
   "outputs": [
    {
     "data": {
      "text/plain": [
       "array([ 0.10943265, -0.02838018, -0.06595919, -0.01498526, -0.04821238,\n",
       "       -0.08943833,  0.0099108 ,  0.04373001, -0.00516309, -0.04013234],\n",
       "      dtype=float32)"
      ]
     },
     "execution_count": 124,
     "metadata": {},
     "output_type": "execute_result"
    }
   ],
   "source": [
    "#Exemple of the word vector\n",
    "model.wv[\"python\"][:10]"
   ]
  },
  {
   "cell_type": "code",
   "execution_count": 125,
   "metadata": {},
   "outputs": [
    {
     "ename": "TypeError",
     "evalue": "argument of type 'Word2VecVocab' is not iterable",
     "output_type": "error",
     "traceback": [
      "\u001b[1;31m---------------------------------------------------------------------------\u001b[0m",
      "\u001b[1;31mTypeError\u001b[0m                                 Traceback (most recent call last)",
      "\u001b[1;32m<ipython-input-125-b141166ff780>\u001b[0m in \u001b[0;36m<module>\u001b[1;34m\u001b[0m\n\u001b[0;32m      1\u001b[0m \u001b[1;31m# Comment faire ???\u001b[0m\u001b[1;33m\u001b[0m\u001b[1;33m\u001b[0m\u001b[1;33m\u001b[0m\u001b[0m\n\u001b[1;32m----> 2\u001b[1;33m \u001b[1;34m\"python\"\u001b[0m \u001b[1;32min\u001b[0m \u001b[0mmodel\u001b[0m\u001b[1;33m.\u001b[0m\u001b[0mvocabulary\u001b[0m\u001b[1;33m\u001b[0m\u001b[1;33m\u001b[0m\u001b[0m\n\u001b[0m",
      "\u001b[1;31mTypeError\u001b[0m: argument of type 'Word2VecVocab' is not iterable"
     ]
    }
   ],
   "source": [
    "# Comment faire ???\n",
    "\"python\" in model.vocabulary"
   ]
  },
  {
   "cell_type": "code",
   "execution_count": 126,
   "metadata": {},
   "outputs": [
    {
     "ename": "TypeError",
     "evalue": "'Word2VecVocab' object is not iterable",
     "output_type": "error",
     "traceback": [
      "\u001b[1;31m---------------------------------------------------------------------------\u001b[0m",
      "\u001b[1;31mTypeError\u001b[0m                                 Traceback (most recent call last)",
      "\u001b[1;32m<ipython-input-126-b3c050f7889c>\u001b[0m in \u001b[0;36m<module>\u001b[1;34m\u001b[0m\n\u001b[0;32m      2\u001b[0m \u001b[1;31m# https://radimrehurek.com/gensim/auto_examples/tutorials/run_word2vec.html#sphx-glr-auto-examples-tutorials-run-word2vec-py\u001b[0m\u001b[1;33m\u001b[0m\u001b[1;33m\u001b[0m\u001b[1;33m\u001b[0m\u001b[0m\n\u001b[0;32m      3\u001b[0m \u001b[1;33m\u001b[0m\u001b[0m\n\u001b[1;32m----> 4\u001b[1;33m \u001b[1;32mfor\u001b[0m \u001b[0mi\u001b[0m\u001b[1;33m,\u001b[0m \u001b[0mword\u001b[0m \u001b[1;32min\u001b[0m \u001b[0menumerate\u001b[0m\u001b[1;33m(\u001b[0m\u001b[0mmodel\u001b[0m\u001b[1;33m.\u001b[0m\u001b[0mvocabulary\u001b[0m\u001b[1;33m)\u001b[0m\u001b[1;33m:\u001b[0m\u001b[1;33m\u001b[0m\u001b[1;33m\u001b[0m\u001b[0m\n\u001b[0m\u001b[0;32m      5\u001b[0m     \u001b[1;32mif\u001b[0m \u001b[0mi\u001b[0m\u001b[1;33m==\u001b[0m\u001b[1;36m10\u001b[0m\u001b[1;33m:\u001b[0m\u001b[1;33m\u001b[0m\u001b[1;33m\u001b[0m\u001b[0m\n\u001b[0;32m      6\u001b[0m         \u001b[1;32mbreak\u001b[0m\u001b[1;33m\u001b[0m\u001b[1;33m\u001b[0m\u001b[0m\n",
      "\u001b[1;31mTypeError\u001b[0m: 'Word2VecVocab' object is not iterable"
     ]
    }
   ],
   "source": [
    "# !!! Dans le tuto, ils utilisent l'attribut model.vocab qui n'existe pas / plus \n",
    "# https://radimrehurek.com/gensim/auto_examples/tutorials/run_word2vec.html#sphx-glr-auto-examples-tutorials-run-word2vec-py\n",
    "\n",
    "for i, word in enumerate(model.vocabulary):\n",
    "    if i==10:\n",
    "        break\n",
    "    print(word)"
   ]
  },
  {
   "cell_type": "markdown",
   "metadata": {},
   "source": [
    "#### Préparer les vecteurs de mots pour la modélisation"
   ]
  },
  {
   "cell_type": "markdown",
   "metadata": {},
   "source": [
    "###### !!! Tutorial Kaggle : comprendre la méthode et ré-expliquer \n",
    "One challenge with the IMDB dataset is the variable-length reviews. We need to find a way to take individual word vectors and transform them into a feature set that is the same length for every review.\n",
    "\n",
    "Since each word is a vector in 300-dimensional space, we can use vector operations to combine the words in each review. One method we tried was to simply average the word vectors in a given review (for this purpose, we removed stop words, which would just add noise)."
   ]
  },
  {
   "cell_type": "code",
   "execution_count": null,
   "metadata": {},
   "outputs": [],
   "source": [
    "def makeFeatureVec(words, model, num_features):\n",
    "    # Function to average all of the word vectors in a given\n",
    "    # paragraph\n",
    "    #\n",
    "    # Pre-initialize an empty numpy array (for speed)\n",
    "    featureVec = np.zeros((num_features,),dtype=\"float32\")\n",
    "    #\n",
    "    nwords = 0.\n",
    "    # \n",
    "    # Index2word is a list that contains the names of the words in \n",
    "    # the model's vocabulary. Convert it to a set, for speed \n",
    "    index2word_set = set(model.wv.index2word)\n",
    "    #\n",
    "    # Loop over each word in the review and, if it is in the model's\n",
    "    # vocaublary, add its feature vector to the total\n",
    "    for word in words:\n",
    "        if word in index2word_set: \n",
    "            nwords = nwords + 1.\n",
    "            featureVec = np.add(featureVec,model[word])\n",
    "    # \n",
    "    # Divide the result by the number of words to get the average\n",
    "    featureVec = np.divide(featureVec,nwords)\n",
    "    return featureVec\n",
    "\n",
    "\n",
    "def getAvgFeatureVecs(posts, model, num_features):\n",
    "    # Given a set of reviews (each one a list of words), calculate \n",
    "    # the average feature vector for each one and return a 2D numpy array \n",
    "    # \n",
    "    # Initialize a counter\n",
    "    counter = 0.\n",
    "    # \n",
    "    # Preallocate a 2D numpy array, for speed\n",
    "    postFeatureVecs = np.zeros((len(posts),num_features),dtype=\"float32\")\n",
    "    # \n",
    "    # Loop through the reviews\n",
    "    for post in posts:\n",
    "       #\n",
    "       # Print a status message every 1000th review\n",
    "        if counter%1000. == 0.:\n",
    "            print (\"Post %d of %d\" % (counter, len(posts)))\n",
    "       # \n",
    "       # Call the function (defined above) that makes average feature vectors\n",
    "        postFeatureVecs[counter] = makeFeatureVec(post, model, \\\n",
    "           num_features)\n",
    "       #\n",
    "       # Increment the counter\n",
    "        counter = counter + 1.\n",
    "    return postFeatureVecs"
   ]
  },
  {
   "cell_type": "code",
   "execution_count": null,
   "metadata": {},
   "outputs": [],
   "source": [
    "model.wv.index2word"
   ]
  },
  {
   "cell_type": "code",
   "execution_count": null,
   "metadata": {},
   "outputs": [],
   "source": [
    "# ****************************************************************\n",
    "# Calculate average feature vectors for training and testing sets,\n",
    "# using the functions we defined above. Notice that we now use stop word\n",
    "# removal.\n",
    "\n",
    "clean_train_posts = []\n",
    "for post in X_train[\"text\"]:\n",
    "    clean_train_posts.append( post_to_words_w2v( post, \\\n",
    "        remove_stopwords=True ))\n",
    "\n",
    "trainDataVecs = getAvgFeatureVecs( clean_train_posts, model, num_features )\n",
    "\n",
    "#print \"Creating average feature vecs for test review\"\n",
    "#clean_test_posts = []\n",
    "#for post in test[\"post\"]:\n",
    "#    clean_test_posts.append( post_to_wordlist( post, \\\n",
    "#        remove_stopwords=True ))\n",
    "\n",
    "#testDataVecs = getAvgFeatureVecs( clean_test_posts, model, num_features )"
   ]
  },
  {
   "cell_type": "markdown",
   "metadata": {},
   "source": [
    "# Analyse exploratoire"
   ]
  },
  {
   "cell_type": "markdown",
   "metadata": {},
   "source": [
    "## Description générale"
   ]
  },
  {
   "cell_type": "markdown",
   "metadata": {},
   "source": [
    "Nous allons tout d'abord étudier la longueur de notre chaîne de caractère de post, ainsi que le nombre de tags attribué à chaque post :"
   ]
  },
  {
   "cell_type": "code",
   "execution_count": 127,
   "metadata": {},
   "outputs": [],
   "source": [
    "nbr_mots = X_train['post'].apply(lambda row : len(row.split()))"
   ]
  },
  {
   "cell_type": "code",
   "execution_count": 128,
   "metadata": {},
   "outputs": [
    {
     "data": {
      "text/plain": [
       "count    9843.000000\n",
       "mean      139.306309\n",
       "std       203.049602\n",
       "min         6.000000\n",
       "25%        50.000000\n",
       "50%        88.000000\n",
       "75%       154.000000\n",
       "max      5196.000000\n",
       "Name: post, dtype: float64"
      ]
     },
     "execution_count": 128,
     "metadata": {},
     "output_type": "execute_result"
    }
   ],
   "source": [
    "nbr_mots.describe()"
   ]
  },
  {
   "cell_type": "markdown",
   "metadata": {},
   "source": [
    "Feature post, qui contient le titre, le corps de post et les bigrams créés à partir de titre et le corps de post, contient en moyen 163 mots. Le minimum est 2 mots et le maximum 8678 mots.\n"
   ]
  },
  {
   "cell_type": "code",
   "execution_count": 129,
   "metadata": {},
   "outputs": [
    {
     "data": {
      "image/png": "[encoded data removed]",
      "text/plain": [
       "<Figure size 432x288 with 1 Axes>"
      ]
     },
     "metadata": {
      "needs_background": "light"
     },
     "output_type": "display_data"
    }
   ],
   "source": [
    "#!!! Améliorer le graphique pour la présentation\n",
    "plt.hist(nbr_mots, alpha=0.3, range=(\n",
    "    0, 5600),  bins=200, density=True)\n",
    "sns.kdeplot(nbr_mots)\n",
    "\n",
    "plt.xlim(0, 5600)\n",
    "plt.rcParams['figure.figsize'] = (20, 20)"
   ]
  },
  {
   "cell_type": "code",
   "execution_count": 130,
   "metadata": {},
   "outputs": [
    {
     "data": {
      "text/plain": [
       "4183                     javascript exception\n",
       "13188      database-design latitude-longitude\n",
       "2147                android crash stack-trace\n",
       "7588     c# .net exception exception-handling\n",
       "12329                     javascript html rss\n",
       "Name: tags, dtype: object"
      ]
     },
     "execution_count": 130,
     "metadata": {},
     "output_type": "execute_result"
    }
   ],
   "source": [
    "y_train_clean.head()"
   ]
  },
  {
   "cell_type": "code",
   "execution_count": 131,
   "metadata": {},
   "outputs": [],
   "source": [
    "nbr_tags = y_train_clean.apply(lambda row : len(row.split()))"
   ]
  },
  {
   "cell_type": "code",
   "execution_count": 132,
   "metadata": {},
   "outputs": [
    {
     "data": {
      "text/plain": [
       "count    9843.000000\n",
       "mean        3.207152\n",
       "std         1.185010\n",
       "min         1.000000\n",
       "25%         2.000000\n",
       "50%         3.000000\n",
       "75%         4.000000\n",
       "max         5.000000\n",
       "Name: tags, dtype: float64"
      ]
     },
     "execution_count": 132,
     "metadata": {},
     "output_type": "execute_result"
    }
   ],
   "source": [
    "nbr_tags.describe()"
   ]
  },
  {
   "cell_type": "markdown",
   "metadata": {},
   "source": [
    "Le nombre de tags varie de 1 à 6 avec la valeurs médiane de 3 tags par post."
   ]
  },
  {
   "cell_type": "markdown",
   "metadata": {},
   "source": [
    "## Fréquences des expressions"
   ]
  },
  {
   "cell_type": "markdown",
   "metadata": {},
   "source": [
    "### Bag of words"
   ]
  },
  {
   "cell_type": "markdown",
   "metadata": {},
   "source": [
    "Nous allons afficher les fréquences de 50 features les plus utilisées :"
   ]
  },
  {
   "cell_type": "code",
   "execution_count": 133,
   "metadata": {},
   "outputs": [
    {
     "data": {
      "image/png": "[encoded data removed]",
      "text/plain": [
       "<Figure size 720x1008 with 1 Axes>"
      ]
     },
     "metadata": {
      "needs_background": "light"
     },
     "output_type": "display_data"
    }
   ],
   "source": [
    "freq_features_50 = freq_features_bow[:50]\n",
    "freq_features_50.sort_values(by=['Frequence'], ascending=True, inplace = True)\n",
    "\n",
    "fig = plt.figure(figsize=(10, 14))\n",
    "\n",
    "# set params of the graphic\n",
    "ax = fig.add_subplot(111)\n",
    "ax.set_xlabel('Fréquence', fontsize=15)\n",
    "ax.set_title('Les mots les plus fréquents', fontsize=20)\n",
    "ax.tick_params(axis='both', which='major', labelsize=14)\n",
    "\n",
    "# set height of bar\n",
    "bars1 = freq_features_50['Frequence']\n",
    "\n",
    "# Make the plot\n",
    "plt.barh(range(50), bars1, color='blue', edgecolor='white')\n",
    "\n",
    "# Add xticks on the middle of the group bars\n",
    "plt.yticks(\n",
    "    range(50), freq_features_50['Word'], fontsize=15)\n",
    "\n",
    "# Show graphic\n",
    "plt.show()"
   ]
  },
  {
   "cell_type": "markdown",
   "metadata": {},
   "source": [
    "Faisons le même affichage pour les tags."
   ]
  },
  {
   "cell_type": "code",
   "execution_count": 134,
   "metadata": {},
   "outputs": [
    {
     "data": {
      "image/png": "[encoded data removed]",
      "text/plain": [
       "<Figure size 720x1008 with 1 Axes>"
      ]
     },
     "metadata": {
      "needs_background": "light"
     },
     "output_type": "display_data"
    }
   ],
   "source": [
    "freq_target_50 = freq_target_bow[:50]\n",
    "freq_target_50.sort_values(by=['Frequence'], ascending=True, inplace = True)\n",
    "\n",
    "fig = plt.figure(figsize=(10, 14))\n",
    "\n",
    "# set params of the graphic\n",
    "ax = fig.add_subplot(111)\n",
    "ax.set_xlabel('Fréquence', fontsize=15)\n",
    "ax.set_title('Les tags les plus fréquents', fontsize=20)\n",
    "ax.tick_params(axis='both', which='major', labelsize=14)\n",
    "\n",
    "# set height of bar\n",
    "bars1 = freq_target_50['Frequence']\n",
    "\n",
    "# Make the plot\n",
    "plt.barh(range(50), bars1, color='tomato', edgecolor='white')\n",
    "\n",
    "# Add xticks on the middle of the group bars\n",
    "plt.yticks(\n",
    "    range(50), freq_target_50['Word'], fontsize=15)\n",
    "\n",
    "# Show graphic\n",
    "plt.show()"
   ]
  },
  {
   "cell_type": "markdown",
   "metadata": {},
   "source": [
    "### TF-IDF"
   ]
  },
  {
   "cell_type": "markdown",
   "metadata": {},
   "source": [
    "Pour pouvoir faire comparaison, nous allons aussi afficher les mot les plus fréquentes en se basant sur les fréquences relatives TF-IDF :"
   ]
  },
  {
   "cell_type": "code",
   "execution_count": 135,
   "metadata": {},
   "outputs": [
    {
     "data": {
      "image/png": "[encoded data removed]",
      "text/plain": [
       "<Figure size 720x1008 with 1 Axes>"
      ]
     },
     "metadata": {
      "needs_background": "light"
     },
     "output_type": "display_data"
    }
   ],
   "source": [
    "freq_features_50 = freq_features_tfidf[:50]\n",
    "freq_features_50.sort_values(by=['Frequence'], ascending=True, inplace = True)\n",
    "\n",
    "fig = plt.figure(figsize=(10, 14))\n",
    "\n",
    "# set params of the graphic\n",
    "ax = fig.add_subplot(111)\n",
    "ax.set_xlabel('Fréquence', fontsize=15)\n",
    "ax.set_title('Les mots les plus fréquents TF-IDF', fontsize=20)\n",
    "ax.tick_params(axis='both', which='major', labelsize=14)\n",
    "\n",
    "# set height of bar\n",
    "bars1 = freq_features_50['Frequence']\n",
    "\n",
    "# Make the plot\n",
    "plt.barh(range(50), bars1, color='dodgerblue', edgecolor='white')\n",
    "\n",
    "# Add xticks on the middle of the group bars\n",
    "plt.yticks(\n",
    "    range(50), freq_features_50['Word'], fontsize=15)\n",
    "\n",
    "# Show graphic\n",
    "plt.show()"
   ]
  },
  {
   "cell_type": "markdown",
   "metadata": {},
   "source": [
    "Affichons également un graphique de tags :"
   ]
  },
  {
   "cell_type": "code",
   "execution_count": 136,
   "metadata": {},
   "outputs": [
    {
     "data": {
      "image/png": "[encoded data removed]",
      "text/plain": [
       "<Figure size 720x1008 with 1 Axes>"
      ]
     },
     "metadata": {
      "needs_background": "light"
     },
     "output_type": "display_data"
    }
   ],
   "source": [
    "freq_target_50 = freq_target_tfidf[:50]\n",
    "freq_target_50.sort_values(by=['Frequence'], ascending=True, inplace = True)\n",
    "\n",
    "fig = plt.figure(figsize=(10, 14))\n",
    "\n",
    "# set params of the graphic\n",
    "ax = fig.add_subplot(111)\n",
    "ax.set_xlabel('Fréquence', fontsize=15)\n",
    "ax.set_title('Les tags les plus fréquents TF-IDF', fontsize=20)\n",
    "ax.tick_params(axis='both', which='major', labelsize=14)\n",
    "\n",
    "# set height of bar\n",
    "bars1 = freq_target_50['Frequence']\n",
    "\n",
    "# Make the plot\n",
    "plt.barh(range(50), bars1, color='lightsalmon', edgecolor='white')\n",
    "\n",
    "# Add xticks on the middle of the group bars\n",
    "plt.yticks(\n",
    "    range(50), freq_target_50['Word'], fontsize=15)\n",
    "\n",
    "# Show graphic\n",
    "plt.show()"
   ]
  },
  {
   "cell_type": "markdown",
   "metadata": {},
   "source": [
    "Nous constatons seulement légères différences par rapport à la méthode bag of words."
   ]
  },
  {
   "cell_type": "markdown",
   "metadata": {},
   "source": [
    "## Réduction de dimension"
   ]
  },
  {
   "cell_type": "markdown",
   "metadata": {},
   "source": [
    "### Analyse en composantes principales"
   ]
  },
  {
   "cell_type": "markdown",
   "metadata": {},
   "source": [
    "Nous allons effectuer une analyse en composante principales afin de visualiser les données. L'ACP va être performée sur les données transformées par TF-IDF.\n",
    "\n",
    "Nous avons 25000 posts, le calcul de ACP est donc assez exigeant sur une matrice 25 000 x 5 000.\n",
    "\n",
    "Nous allons utiliser un échantillon de 500 premiers posts qui représentent 2% de données. "
   ]
  },
  {
   "cell_type": "markdown",
   "metadata": {},
   "source": [
    "#### Création d'échantillon"
   ]
  },
  {
   "cell_type": "code",
   "execution_count": 137,
   "metadata": {},
   "outputs": [],
   "source": [
    "X_train_tfidf_sample = X_train_tfidf[:500]"
   ]
  },
  {
   "cell_type": "markdown",
   "metadata": {},
   "source": [
    "Afin de pouvoir afficher des tags qui nous intéressent, nous allons aussi échantilloner les tags cleanés correspondants."
   ]
  },
  {
   "cell_type": "code",
   "execution_count": 138,
   "metadata": {},
   "outputs": [],
   "source": [
    "y_train_clean_sample = y_train_clean[:500].reset_index(drop=True)"
   ]
  },
  {
   "cell_type": "markdown",
   "metadata": {},
   "source": [
    "#### Créer le modèle"
   ]
  },
  {
   "cell_type": "code",
   "execution_count": 139,
   "metadata": {},
   "outputs": [],
   "source": [
    "pca = PCA(n_components=2)\n",
    "principalComponents = pca.fit_transform(X_train_tfidf_sample)\n",
    "principalDf = pd.DataFrame(data=principalComponents, columns=[\n",
    "                           'principal component 1', 'principal component 2'])"
   ]
  },
  {
   "cell_type": "code",
   "execution_count": 140,
   "metadata": {},
   "outputs": [
    {
     "data": {
      "image/png": "[encoded data removed]",
      "text/plain": [
       "<Figure size 576x576 with 1 Axes>"
      ]
     },
     "metadata": {
      "needs_background": "light"
     },
     "output_type": "display_data"
    }
   ],
   "source": [
    "# Scatterplot of all sample posts\n",
    "fig = plt.figure(figsize=(8, 8))\n",
    "ax = fig.add_subplot(1, 1, 1)\n",
    "ax.set_xlabel('Principal Component 1', fontsize=10)\n",
    "ax.set_ylabel('Principal Component 2', fontsize=10)\n",
    "ax.set_title('2 component PCA, sample of 500 posts using TF-IDF transformation', fontsize=14)\n",
    "\n",
    "ax.scatter(principalDf['principal component 1'],\n",
    "           principalDf['principal component 2'], s=50, alpha=0.2)\n",
    "ax.grid()"
   ]
  },
  {
   "cell_type": "markdown",
   "metadata": {},
   "source": [
    "####  Affichage de groupes de tags"
   ]
  },
  {
   "cell_type": "markdown",
   "metadata": {},
   "source": [
    "Nous allons choisir 12 tags à afficher - essayeons de prendre 4 groupes de 3 tags avec des sujets qui sont similaire dans chaque groupe. Afin de trouver la position des tags, nous allons construire une fonction qui renvoi un échantillon de n indexes des expressions qui contient un mot donné. "
   ]
  },
  {
   "cell_type": "code",
   "execution_count": 141,
   "metadata": {},
   "outputs": [],
   "source": [
    "def choose_expression(ser, word, n=3):\n",
    "\n",
    "    \"\"\"Function which returns a list of n random index positions of an expression containing indicated string\n",
    "\n",
    "    Inputs:\n",
    "\n",
    "    - ser : a serie of expressions\n",
    "    - word : a string to search for\n",
    "    - n : number of returned positions (n=3 by default)\n",
    "\n",
    "    Output:\n",
    "\n",
    "    - a list of n positions\n",
    "    \"\"\"\n",
    "\n",
    "    index_list = []\n",
    "\n",
    "    for i in range(len(ser)):\n",
    "        if word in ser[i]:\n",
    "            index = i\n",
    "            index_list.append(index)\n",
    "        else:\n",
    "            pass\n",
    "    \n",
    "    index_list = random.sample(index_list, n)\n",
    "    \n",
    "    return index_list"
   ]
  },
  {
   "cell_type": "code",
   "execution_count": 142,
   "metadata": {},
   "outputs": [
    {
     "data": {
      "text/plain": [
       "[19, 445, 252]"
      ]
     },
     "execution_count": 142,
     "metadata": {},
     "output_type": "execute_result"
    }
   ],
   "source": [
    "# Create the first list of positions containing the word \"javascript\"\n",
    "liste_javascript = choose_expression(y_train_clean_sample, 'javascript')\n",
    "liste_javascript"
   ]
  },
  {
   "cell_type": "code",
   "execution_count": 143,
   "metadata": {},
   "outputs": [
    {
     "name": "stdout",
     "output_type": "stream",
     "text": [
      "javascript html angularjs\n",
      "javascript import ecmascript-6\n",
      "javascript node.js ubuntu serverside-javascript\n"
     ]
    }
   ],
   "source": [
    "# Check\n",
    "print(y_train_clean_sample[liste_javascript[0]])\n",
    "print(y_train_clean_sample[liste_javascript[1]])\n",
    "print(y_train_clean_sample[liste_javascript[2]])"
   ]
  },
  {
   "cell_type": "code",
   "execution_count": 144,
   "metadata": {},
   "outputs": [],
   "source": [
    "# Create other lists containing \"python\", \"git\" and \"android\"\n",
    "liste_python = choose_expression(y_train_clean_sample, 'python')\n",
    "liste_git = choose_expression(y_train_clean_sample, 'git')\n",
    "liste_android = choose_expression(y_train_clean_sample, 'android')"
   ]
  },
  {
   "cell_type": "code",
   "execution_count": 145,
   "metadata": {},
   "outputs": [],
   "source": [
    "# Create an overall list\n",
    "chosen_tags_index = liste_javascript + liste_python + liste_git + liste_android"
   ]
  },
  {
   "cell_type": "code",
   "execution_count": 146,
   "metadata": {},
   "outputs": [
    {
     "data": {
      "text/plain": [
       "[19, 445, 252, 355, 241, 80, 62, 411, 269, 46, 246, 88]"
      ]
     },
     "execution_count": 146,
     "metadata": {},
     "output_type": "execute_result"
    }
   ],
   "source": [
    "chosen_tags_index"
   ]
  },
  {
   "cell_type": "code",
   "execution_count": 147,
   "metadata": {},
   "outputs": [
    {
     "data": {
      "text/plain": [
       "19                           javascript html angularjs\n",
       "445                     javascript import ecmascript-6\n",
       "252    javascript node.js ubuntu serverside-javascript\n",
       "355                                   python directory\n",
       "241                                             python\n",
       "80                                              python\n",
       "62                                       git gitignore\n",
       "411             git push git-commit git-push git-index\n",
       "269                                         git github\n",
       "46                         android locale user-defined\n",
       "246                android-studio search intellij-idea\n",
       "88                                 android cordova ant\n",
       "Name: tags, dtype: object"
      ]
     },
     "execution_count": 147,
     "metadata": {},
     "output_type": "execute_result"
    }
   ],
   "source": [
    "# View the chosen tags\n",
    "chosen_tags = y_train_clean_sample[chosen_tags_index] \n",
    "chosen_tags"
   ]
  },
  {
   "cell_type": "code",
   "execution_count": 148,
   "metadata": {},
   "outputs": [
    {
     "data": {
      "text/html": [
       "<div>\n",
       "<style scoped>\n",
       "    .dataframe tbody tr th:only-of-type {\n",
       "        vertical-align: middle;\n",
       "    }\n",
       "\n",
       "    .dataframe tbody tr th {\n",
       "        vertical-align: top;\n",
       "    }\n",
       "\n",
       "    .dataframe thead th {\n",
       "        text-align: right;\n",
       "    }\n",
       "</style>\n",
       "<table border=\"1\" class=\"dataframe\">\n",
       "  <thead>\n",
       "    <tr style=\"text-align: right;\">\n",
       "      <th></th>\n",
       "      <th>principal component 1</th>\n",
       "      <th>principal component 2</th>\n",
       "    </tr>\n",
       "  </thead>\n",
       "  <tbody>\n",
       "    <tr>\n",
       "      <th>19</th>\n",
       "      <td>0.001968</td>\n",
       "      <td>0.008319</td>\n",
       "    </tr>\n",
       "    <tr>\n",
       "      <th>445</th>\n",
       "      <td>-0.006992</td>\n",
       "      <td>-0.015200</td>\n",
       "    </tr>\n",
       "    <tr>\n",
       "      <th>252</th>\n",
       "      <td>-0.122758</td>\n",
       "      <td>-0.104178</td>\n",
       "    </tr>\n",
       "    <tr>\n",
       "      <th>355</th>\n",
       "      <td>0.086057</td>\n",
       "      <td>-0.233573</td>\n",
       "    </tr>\n",
       "    <tr>\n",
       "      <th>241</th>\n",
       "      <td>0.045462</td>\n",
       "      <td>0.017716</td>\n",
       "    </tr>\n",
       "    <tr>\n",
       "      <th>80</th>\n",
       "      <td>0.497365</td>\n",
       "      <td>-0.272840</td>\n",
       "    </tr>\n",
       "    <tr>\n",
       "      <th>62</th>\n",
       "      <td>-0.255586</td>\n",
       "      <td>-0.171422</td>\n",
       "    </tr>\n",
       "    <tr>\n",
       "      <th>411</th>\n",
       "      <td>-0.172835</td>\n",
       "      <td>-0.171583</td>\n",
       "    </tr>\n",
       "    <tr>\n",
       "      <th>269</th>\n",
       "      <td>-0.133917</td>\n",
       "      <td>-0.072010</td>\n",
       "    </tr>\n",
       "    <tr>\n",
       "      <th>46</th>\n",
       "      <td>0.007964</td>\n",
       "      <td>-0.032405</td>\n",
       "    </tr>\n",
       "    <tr>\n",
       "      <th>246</th>\n",
       "      <td>-0.115007</td>\n",
       "      <td>-0.063958</td>\n",
       "    </tr>\n",
       "    <tr>\n",
       "      <th>88</th>\n",
       "      <td>-0.126331</td>\n",
       "      <td>-0.030816</td>\n",
       "    </tr>\n",
       "  </tbody>\n",
       "</table>\n",
       "</div>"
      ],
      "text/plain": [
       "     principal component 1  principal component 2\n",
       "19                0.001968               0.008319\n",
       "445              -0.006992              -0.015200\n",
       "252              -0.122758              -0.104178\n",
       "355               0.086057              -0.233573\n",
       "241               0.045462               0.017716\n",
       "80                0.497365              -0.272840\n",
       "62               -0.255586              -0.171422\n",
       "411              -0.172835              -0.171583\n",
       "269              -0.133917              -0.072010\n",
       "46                0.007964              -0.032405\n",
       "246              -0.115007              -0.063958\n",
       "88               -0.126331              -0.030816"
      ]
     },
     "execution_count": 148,
     "metadata": {},
     "output_type": "execute_result"
    }
   ],
   "source": [
    "chosen_principalDf = principalDf.iloc[chosen_tags_index]\n",
    "chosen_principalDf"
   ]
  },
  {
   "cell_type": "code",
   "execution_count": 149,
   "metadata": {},
   "outputs": [
    {
     "data": {
      "image/png": "[encoded data removed]",
      "text/plain": [
       "<Figure size 1080x1080 with 1 Axes>"
      ]
     },
     "metadata": {},
     "output_type": "display_data"
    }
   ],
   "source": [
    "# Scatterplot of chosen tags\n",
    "# !!! Comment faire pour éviter le texte qui se chévauche ?\n",
    "\n",
    "sns.set()# Initialize figure\n",
    "fig, ax = plt.subplots(figsize = (15, 15))\n",
    "\n",
    "ax.set_title('2 component PCA using TF-IDF transformation, chosen tags', fontsize=14)\n",
    "\n",
    "sns.scatterplot(chosen_principalDf['principal component 1'],\n",
    "           chosen_principalDf['principal component 2'], alpha = 0.5)\n",
    " \n",
    "for i in chosen_tags.index:    \n",
    "    \n",
    "    plt.text(chosen_principalDf['principal component 1'][i], chosen_principalDf['principal component 2'][i], \n",
    "             chosen_tags[i],fontsize = 14)\n",
    "\n",
    "plt.show()"
   ]
  },
  {
   "cell_type": "markdown",
   "metadata": {},
   "source": [
    "Nous pouvons voir que les point représentants des posts sont proches selon le groupe - les tags contenant \"python\" sont en haut à gauche, \"git\"s sont en haut à droite, \"javascript\" se mélange un peu avec \"android\", mais les groupes sont quand même séparables. "
   ]
  },
  {
   "cell_type": "markdown",
   "metadata": {},
   "source": [
    "### t-SNE "
   ]
  },
  {
   "cell_type": "markdown",
   "metadata": {},
   "source": [
    "#### Créer le modèle"
   ]
  },
  {
   "cell_type": "code",
   "execution_count": 150,
   "metadata": {},
   "outputs": [],
   "source": [
    "# Initialize t-SNE\n",
    "tsne = TSNE(n_components = 2, init = 'random', random_state = 10, perplexity = 100)"
   ]
  },
  {
   "cell_type": "code",
   "execution_count": 151,
   "metadata": {},
   "outputs": [],
   "source": [
    "tsne_df = tsne.fit_transform(X_train_tfidf_sample)"
   ]
  },
  {
   "cell_type": "code",
   "execution_count": 152,
   "metadata": {},
   "outputs": [],
   "source": [
    "principalDf = pd.DataFrame(data=tsne_df, columns=[\n",
    "                           'principal component 1', 'principal component 2'])"
   ]
  },
  {
   "cell_type": "code",
   "execution_count": 153,
   "metadata": {},
   "outputs": [
    {
     "data": {
      "image/png": "[encoded data removed]",
      "text/plain": [
       "<Figure size 576x576 with 1 Axes>"
      ]
     },
     "metadata": {},
     "output_type": "display_data"
    }
   ],
   "source": [
    "# Scatterplot of all sample posts\n",
    "fig = plt.figure(figsize=(8, 8))\n",
    "ax = fig.add_subplot(1, 1, 1)\n",
    "ax.set_xlabel('Principal Component 1', fontsize=10)\n",
    "ax.set_ylabel('Principal Component 2', fontsize=10)\n",
    "ax.set_title('2 component t-SNE, sample of 500 posts using TF-IDF transformation', fontsize=14)\n",
    "\n",
    "ax.scatter(principalDf['principal component 1'],\n",
    "           principalDf['principal component 2'], s=50, alpha=0.5)\n",
    "ax.grid()"
   ]
  },
  {
   "cell_type": "markdown",
   "metadata": {},
   "source": [
    "Le nuage de points créé à l'aide de t-SNE semble former un rond."
   ]
  },
  {
   "cell_type": "markdown",
   "metadata": {},
   "source": [
    "#### Affichage de groupes de tags"
   ]
  },
  {
   "cell_type": "code",
   "execution_count": 154,
   "metadata": {},
   "outputs": [],
   "source": [
    "chosen_principalDf = principalDf.iloc[chosen_tags_index]"
   ]
  },
  {
   "cell_type": "code",
   "execution_count": 155,
   "metadata": {},
   "outputs": [
    {
     "data": {
      "image/png": "[encoded data removed]",
      "text/plain": [
       "<Figure size 1080x1080 with 1 Axes>"
      ]
     },
     "metadata": {},
     "output_type": "display_data"
    }
   ],
   "source": [
    "# Scatterplot of chosen tags\n",
    "\n",
    "sns.set()# Initialize figure\n",
    "fig, ax = plt.subplots(figsize = (15, 15))\n",
    "\n",
    "ax.set_title('2 component t-SNE using TF-IDF transformation, chosen tags', fontsize=14)\n",
    "\n",
    "sns.scatterplot(chosen_principalDf['principal component 1'],\n",
    "           chosen_principalDf['principal component 2'], alpha = 0.5)\n",
    " \n",
    "for i in chosen_tags.index:    \n",
    "    \n",
    "    plt.text(chosen_principalDf['principal component 1'][i], chosen_principalDf['principal component 2'][i], \n",
    "             chosen_tags[i],fontsize = 14)\n",
    "\n",
    "plt.show()"
   ]
  },
  {
   "cell_type": "markdown",
   "metadata": {},
   "source": [
    "Nous pouvons trouver certains tags avec la même thématique proche les uns des autres (git, python), mais la séparation n'est pas très prononcée."
   ]
  }
 ],
 "metadata": {
  "kernelspec": {
   "display_name": "Python 3",
   "language": "python",
   "name": "python3"
  },
  "language_info": {
   "codemirror_mode": {
    "name": "ipython",
    "version": 3
   },
   "file_extension": ".py",
   "mimetype": "text/x-python",
   "name": "python",
   "nbconvert_exporter": "python",
   "pygments_lexer": "ipython3",
   "version": "3.7.3"
  },
  "latex_envs": {
   "LaTeX_envs_menu_present": true,
   "autoclose": false,
   "autocomplete": true,
   "bibliofile": "biblio.bib",
   "cite_by": "apalike",
   "current_citInitial": 1,
   "eqLabelWithNumbers": true,
   "eqNumInitial": 1,
   "hotkeys": {
    "equation": "Ctrl-E",
    "itemize": "Ctrl-I"
   },
   "labels_anchors": false,
   "latex_user_defs": false,
   "report_style_numbering": false,
   "user_envs_cfg": false
  },
  "toc": {
   "base_numbering": 1,
   "nav_menu": {},
   "number_sections": true,
   "sideBar": true,
   "skip_h1_title": false,
   "title_cell": "Table of Contents",
   "title_sidebar": "Contents",
   "toc_cell": false,
   "toc_position": {
    "height": "calc(100% - 180px)",
    "left": "10px",
    "top": "150px",
    "width": "464.5px"
   },
   "toc_section_display": true,
   "toc_window_display": true
  }
 },
 "nbformat": 4,
 "nbformat_minor": 2
}
