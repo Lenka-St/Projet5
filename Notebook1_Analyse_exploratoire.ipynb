{
 "cells": [
  {
   "cell_type": "markdown",
   "metadata": {},
   "source": [
    "# PROJET 5 : Catégorisez automatiquement les questions "
   ]
  },
  {
   "cell_type": "markdown",
   "metadata": {},
   "source": [
    "**PLAN DE PROJET**\n",
    "1. Titre de projet : PROJET 5 - Catégorisez automatiquement les questions\n",
    "\n",
    "\n",
    "2. Chargement de bibliothèques\n",
    "\n",
    "\n",
    "3. Récupérer les données + Séparation de données en test et train\n",
    "    - Enregistrement de fichiers en .csv :\n",
    "        - X_train.csv\n",
    "        - y_train.csv\n",
    "        - X_test.csv\n",
    "        - y_test.csv\n",
    "\n",
    "\n",
    "4. Data cleaning\n",
    "    - Features :\n",
    "        - Enlever les balises HTML\n",
    "        - Enlever la ponctuation\n",
    "        - Mise en minuscule et tokenization\n",
    "        - Enlever les stopwords\n",
    "    - Target :\n",
    "        - Enlever les balises \"<>\"\n",
    "\n",
    "\n",
    "5. Feature engineering \n",
    "    - Recodage en bigrams\n",
    "    - Fusion de title, body + bigrams\n",
    "\n",
    "\n",
    "6. Analyse exploratoire\n",
    "    - Analyses univariées\n",
    "        - Description générale : Longueur de posts, nombre de tags\n",
    "        - Bag of words : Les expressions les plus fréquentes : feature & target\n",
    "            - Arrays générées:\n",
    "                - X_train_bow\n",
    "                - X_train_vocab_bow\n",
    "                - X_train_dist_bow\n",
    "                - y_train_bow\n",
    "                - y_train_vocab_bow\n",
    "                - y_train_dist_bow\n",
    "                \n",
    "                \n",
    "        - TF - IDF : Les expressions les plus fréquentes : feature & target\n",
    "             - Arrays générées:\n",
    "                  - X_train_ifidf\n",
    "                  - X_train_vocab_ifidf\n",
    "                  - X_train_dist_ifidf\n",
    "                  - y_train_ifidf\n",
    "                  - y_train_vocab_ifidf\n",
    "                  - y_train_dist_ifidf\n",
    "                  \n",
    "\n",
    "    - Analyse multivarié \n",
    "    **QUESTION : Peut-on considérer LDA comme analyse multivariée ?**\n",
    "    \n",
    "    \n",
    "    - Réduction de dimensions\n",
    "    **QUESTION : Peut-on faire un word2vec ?**\n",
    "    \n",
    "    \n",
    "        "
   ]
  },
  {
   "cell_type": "markdown",
   "metadata": {},
   "source": [
    "# Chargement de bibliothéques"
   ]
  },
  {
   "cell_type": "code",
   "execution_count": 2,
   "metadata": {},
   "outputs": [],
   "source": [
    "# Import the libraries\n",
    "import joblib\n",
    "from IPython.core.display import display, HTML\n",
    "import numpy as np\n",
    "import pandas as pd\n",
    "from pandas import Series, DataFrame\n",
    "from sklearn import model_selection\n",
    "from sklearn.feature_extraction.text import CountVectorizer\n",
    "from sklearn.feature_extraction.text import TfidfVectorizer\n",
    "from nltk.stem import WordNetLemmatizer \n",
    "from sklearn.decomposition import PCA\n",
    "\n",
    "import nltk\n",
    "#nltk.download()  # Download text data sets, including stop words\n",
    "from nltk.corpus import stopwords # Import the stop word list\n",
    "import re\n",
    "\n",
    "# Import BeautifulSoup into your workspace\n",
    "from bs4 import BeautifulSoup \n",
    "\n",
    "# Libraries for data visualisation\n",
    "import matplotlib\n",
    "import matplotlib.pyplot as plt\n",
    "import seaborn as sns\n",
    "sns.set_style('whitegrid')\n",
    "%matplotlib inline"
   ]
  },
  {
   "cell_type": "code",
   "execution_count": 124,
   "metadata": {},
   "outputs": [],
   "source": []
  },
  {
   "cell_type": "code",
   "execution_count": 4,
   "metadata": {},
   "outputs": [],
   "source": [
    "#Disable warning for .loc\n",
    "pd.options.mode.chained_assignment = None  # default='warn'"
   ]
  },
  {
   "cell_type": "markdown",
   "metadata": {},
   "source": [
    "# Récupération de données"
   ]
  },
  {
   "cell_type": "markdown",
   "metadata": {},
   "source": [
    "Les données était récupérées de stack overflow à l'aide de code suivant :\n",
    "\n",
    "SELECT body, title, tags FROM posts \n",
    "WHERE title is not null and body is not null and tags is not null and FavoriteCount>20\n"
   ]
  },
  {
   "cell_type": "code",
   "execution_count": 5,
   "metadata": {},
   "outputs": [],
   "source": [
    "data_load = pd.read_csv(\n",
    "    'Data/data_best_rating.csv', sep=',')"
   ]
  },
  {
   "cell_type": "code",
   "execution_count": 6,
   "metadata": {},
   "outputs": [
    {
     "data": {
      "text/plain": [
       "(50000, 3)"
      ]
     },
     "execution_count": 6,
     "metadata": {},
     "output_type": "execute_result"
    }
   ],
   "source": [
    "data_load.shape"
   ]
  },
  {
   "cell_type": "code",
   "execution_count": 7,
   "metadata": {
    "scrolled": true
   },
   "outputs": [
    {
     "data": {
      "text/html": [
       "<div>\n",
       "<style scoped>\n",
       "    .dataframe tbody tr th:only-of-type {\n",
       "        vertical-align: middle;\n",
       "    }\n",
       "\n",
       "    .dataframe tbody tr th {\n",
       "        vertical-align: top;\n",
       "    }\n",
       "\n",
       "    .dataframe thead th {\n",
       "        text-align: right;\n",
       "    }\n",
       "</style>\n",
       "<table border=\"1\" class=\"dataframe\">\n",
       "  <thead>\n",
       "    <tr style=\"text-align: right;\">\n",
       "      <th></th>\n",
       "      <th>body</th>\n",
       "      <th>title</th>\n",
       "      <th>tags</th>\n",
       "    </tr>\n",
       "  </thead>\n",
       "  <tbody>\n",
       "    <tr>\n",
       "      <th>0</th>\n",
       "      <td>&lt;p&gt;Is there a way to compile and run a C progr...</td>\n",
       "      <td>How do I run a C program from VIM?</td>\n",
       "      <td>&lt;c&gt;&lt;vim&gt;</td>\n",
       "    </tr>\n",
       "    <tr>\n",
       "      <th>1</th>\n",
       "      <td>&lt;p&gt;I've been using Eclipse with RDT (not RadRa...</td>\n",
       "      <td>What Ruby IDE do you prefer?</td>\n",
       "      <td>&lt;ruby&gt;&lt;ide&gt;&lt;editor&gt;</td>\n",
       "    </tr>\n",
       "    <tr>\n",
       "      <th>2</th>\n",
       "      <td>&lt;p&gt;We are developing an application that invol...</td>\n",
       "      <td>How to generate sample XML documents from thei...</td>\n",
       "      <td>&lt;xml&gt;&lt;xsd&gt;&lt;dtd&gt;&lt;test-data&gt;</td>\n",
       "    </tr>\n",
       "    <tr>\n",
       "      <th>3</th>\n",
       "      <td>&lt;p&gt;I know that IList is the interface and List...</td>\n",
       "      <td>When to use IList and when to use List</td>\n",
       "      <td>&lt;c#&gt;&lt;.net&gt;</td>\n",
       "    </tr>\n",
       "    <tr>\n",
       "      <th>4</th>\n",
       "      <td>&lt;p&gt;Word wrap is one of the must-have features ...</td>\n",
       "      <td>Best word wrap algorithm?</td>\n",
       "      <td>&lt;algorithm&gt;&lt;word-wrap&gt;</td>\n",
       "    </tr>\n",
       "  </tbody>\n",
       "</table>\n",
       "</div>"
      ],
      "text/plain": [
       "                                                body  \\\n",
       "0  <p>Is there a way to compile and run a C progr...   \n",
       "1  <p>I've been using Eclipse with RDT (not RadRa...   \n",
       "2  <p>We are developing an application that invol...   \n",
       "3  <p>I know that IList is the interface and List...   \n",
       "4  <p>Word wrap is one of the must-have features ...   \n",
       "\n",
       "                                               title  \\\n",
       "0                 How do I run a C program from VIM?   \n",
       "1                       What Ruby IDE do you prefer?   \n",
       "2  How to generate sample XML documents from thei...   \n",
       "3             When to use IList and when to use List   \n",
       "4                          Best word wrap algorithm?   \n",
       "\n",
       "                         tags  \n",
       "0                    <c><vim>  \n",
       "1         <ruby><ide><editor>  \n",
       "2  <xml><xsd><dtd><test-data>  \n",
       "3                  <c#><.net>  \n",
       "4      <algorithm><word-wrap>  "
      ]
     },
     "execution_count": 7,
     "metadata": {},
     "output_type": "execute_result"
    }
   ],
   "source": [
    "data_load.head()"
   ]
  },
  {
   "cell_type": "markdown",
   "metadata": {},
   "source": [
    "Exemple de la première question:"
   ]
  },
  {
   "cell_type": "code",
   "execution_count": 8,
   "metadata": {},
   "outputs": [
    {
     "name": "stdout",
     "output_type": "stream",
     "text": [
      "<p>We are developing an application that involves a substantial amount of XML transformations. We do not have any proper input test data per se, only DTD or XSD files. We'd like to generate our test data ourselves from these files. Is there an easy/free way to do that?</p>\n",
      "\n",
      "<p><strong>Edit</strong></p>\n",
      "\n",
      "<p>There are apparently no free tools for this, and I agree that OxygenXML is one of the best tools for this.</p>\n",
      "\n"
     ]
    }
   ],
   "source": [
    "print (data_load['body'][2])"
   ]
  },
  {
   "cell_type": "markdown",
   "metadata": {},
   "source": [
    "## Création d'un jeu de données test"
   ]
  },
  {
   "cell_type": "markdown",
   "metadata": {},
   "source": [
    "Notre variable cible est la variable tags. Nous avons deux variables texte qui nous permettrons estimer le tag : variables title et body. Nous allons séparer 30 % de données qui seront utilisées plus tard afin de tester les modèles :"
   ]
  },
  {
   "cell_type": "code",
   "execution_count": 9,
   "metadata": {},
   "outputs": [],
   "source": [
    "target = data_load['tags']"
   ]
  },
  {
   "cell_type": "code",
   "execution_count": 10,
   "metadata": {},
   "outputs": [],
   "source": [
    "data=data_load.drop(['tags'], axis=1)"
   ]
  },
  {
   "cell_type": "code",
   "execution_count": 11,
   "metadata": {},
   "outputs": [],
   "source": [
    "X_train, X_test, y_train, y_test = model_selection.train_test_split(data, target, test_size=0.3, random_state=1)"
   ]
  },
  {
   "cell_type": "code",
   "execution_count": 12,
   "metadata": {},
   "outputs": [
    {
     "name": "stdout",
     "output_type": "stream",
     "text": [
      "Le jeu de données X_train contient 35000 observations et 2 features.\n",
      "Le vecteur y_train contient 35000 observations.\n",
      "Le jeu de données X_test contient 15000 observations et 2 features.\n",
      "Le vecteur y_test contient 15000 observations.\n"
     ]
    }
   ],
   "source": [
    "print (\"Le jeu de données X_train contient\", X_train.shape[0], \"observations et\", X_train.shape[1], \"features.\") \n",
    "print (\"Le vecteur y_train contient\", y_train.shape[0], \"observations.\") \n",
    "print (\"Le jeu de données X_test contient\", X_test.shape[0], \"observations et\", X_test.shape[1], \"features.\") \n",
    "print (\"Le vecteur y_test contient\", y_test.shape[0], \"observations.\")  "
   ]
  },
  {
   "cell_type": "markdown",
   "metadata": {},
   "source": [
    "Exporter les jeux de données en .csv"
   ]
  },
  {
   "cell_type": "code",
   "execution_count": 13,
   "metadata": {},
   "outputs": [],
   "source": [
    "X_train.to_csv('Data/X_train.csv', sep='\\t')\n",
    "X_test.to_csv('Data/X_test.csv', sep='\\t')\n",
    "y_train.to_csv('Data/y_train.csv', sep='\\t', header=False)\n",
    "y_test.to_csv('Data/y_test.csv', sep='\\t', header=False)"
   ]
  },
  {
   "cell_type": "markdown",
   "metadata": {},
   "source": [
    "# Data cleaning "
   ]
  },
  {
   "cell_type": "markdown",
   "metadata": {},
   "source": [
    "## Tester les fonctions sur un exemple de features"
   ]
  },
  {
   "cell_type": "markdown",
   "metadata": {},
   "source": [
    "### Enlever les balises html"
   ]
  },
  {
   "cell_type": "markdown",
   "metadata": {},
   "source": [
    "Pour enlever les balises HTML, nous allons utiliser le package BeautifulSoup:"
   ]
  },
  {
   "cell_type": "code",
   "execution_count": 19,
   "metadata": {},
   "outputs": [
    {
     "name": "stdout",
     "output_type": "stream",
     "text": [
      "<p>I've been using Eclipse with RDT (not RadRails) a lot lately, and I'm quite happy with it, but I'm wondering if you guys know any decent alternatives. I know NetBeans also supports Ruby these days, but I'm not sure what it has to offer over Eclipse.</p>\n",
      "\n",
      "<p>Please, list any features you think are brilliant or useful when suggesting an IDE, makes it easier to compare.</p>\n",
      "\n",
      "<p>Also, I said Ruby, not Rails. While Rails support is a plus, I prefer things to be none Rails-centric. It should also be available on Linux and optionally Solaris.</p>\n",
      "\n",
      "I've been using Eclipse with RDT (not RadRails) a lot lately, and I'm quite happy with it, but I'm wondering if you guys know any decent alternatives. I know NetBeans also supports Ruby these days, but I'm not sure what it has to offer over Eclipse.\n",
      "Please, list any features you think are brilliant or useful when suggesting an IDE, makes it easier to compare.\n",
      "Also, I said Ruby, not Rails. While Rails support is a plus, I prefer things to be none Rails-centric. It should also be available on Linux and optionally Solaris.\n",
      "\n"
     ]
    }
   ],
   "source": [
    "# Initialize the BeautifulSoup object on a single movie review     \n",
    "example1 = BeautifulSoup(X_train['body'][1])  \n",
    "\n",
    "# Print the raw review and then the output of get_text(), for \n",
    "# comparison\n",
    "print (X_train['body'][1])\n",
    "print (example1.get_text())"
   ]
  },
  {
   "cell_type": "markdown",
   "metadata": {},
   "source": [
    "### Enlever la ponctuation"
   ]
  },
  {
   "cell_type": "markdown",
   "metadata": {},
   "source": [
    "Nous allons enlever la ponctuation tout en gardant les nombres, lettres ainsi que les signes \"-\", \"+\" et \"#\" étant donné que ces signes sont souvent utilisés dans l'informatique. "
   ]
  },
  {
   "cell_type": "code",
   "execution_count": 20,
   "metadata": {},
   "outputs": [
    {
     "name": "stdout",
     "output_type": "stream",
     "text": [
      "I ve been using Eclipse with RDT  not RadRails  a lot lately  and I m quite happy with it  but I m wondering if you guys know any decent alternatives  I know NetBeans also supports Ruby these days  but I m not sure what it has to offer over Eclipse  Please  list any features you think are brilliant or useful when suggesting an IDE  makes it easier to compare  Also  I said Ruby  not Rails  While Rails support is a plus  I prefer things to be none Rails centric  It should also be available on Linux and optionally Solaris  \n"
     ]
    }
   ],
   "source": [
    "letters_only = re.sub(\"[^0-9#+a-zA-Z]\",       # The pattern to search for\n",
    "                      \" \",                   # The pattern to replace it with\n",
    "                      example1.get_text() )  # The text to search\n",
    "print (letters_only)"
   ]
  },
  {
   "cell_type": "markdown",
   "metadata": {},
   "source": [
    "### Mise en minuscule et tokenization"
   ]
  },
  {
   "cell_type": "code",
   "execution_count": 22,
   "metadata": {},
   "outputs": [],
   "source": [
    "lower_case = letters_only.lower()        # Convert to lower case\n",
    "words = lower_case.split()               # Split into words"
   ]
  },
  {
   "cell_type": "markdown",
   "metadata": {},
   "source": [
    "### Stopwords"
   ]
  },
  {
   "cell_type": "code",
   "execution_count": 23,
   "metadata": {},
   "outputs": [
    {
     "name": "stdout",
     "output_type": "stream",
     "text": [
      "['i', 'me', 'my', 'myself', 'we', 'our', 'ours', 'ourselves', 'you', \"you're\", \"you've\", \"you'll\", \"you'd\", 'your', 'yours', 'yourself', 'yourselves', 'he', 'him', 'his', 'himself', 'she', \"she's\", 'her', 'hers', 'herself', 'it', \"it's\", 'its', 'itself', 'they', 'them', 'their', 'theirs', 'themselves', 'what', 'which', 'who', 'whom', 'this', 'that', \"that'll\", 'these', 'those', 'am', 'is', 'are', 'was', 'were', 'be', 'been', 'being', 'have', 'has', 'had', 'having', 'do', 'does', 'did', 'doing', 'a', 'an', 'the', 'and', 'but', 'if', 'or', 'because', 'as', 'until', 'while', 'of', 'at', 'by', 'for', 'with', 'about', 'against', 'between', 'into', 'through', 'during', 'before', 'after', 'above', 'below', 'to', 'from', 'up', 'down', 'in', 'out', 'on', 'off', 'over', 'under', 'again', 'further', 'then', 'once', 'here', 'there', 'when', 'where', 'why', 'how', 'all', 'any', 'both', 'each', 'few', 'more', 'most', 'other', 'some', 'such', 'no', 'nor', 'not', 'only', 'own', 'same', 'so', 'than', 'too', 'very', 's', 't', 'can', 'will', 'just', 'don', \"don't\", 'should', \"should've\", 'now', 'd', 'll', 'm', 'o', 're', 've', 'y', 'ain', 'aren', \"aren't\", 'couldn', \"couldn't\", 'didn', \"didn't\", 'doesn', \"doesn't\", 'hadn', \"hadn't\", 'hasn', \"hasn't\", 'haven', \"haven't\", 'isn', \"isn't\", 'ma', 'mightn', \"mightn't\", 'mustn', \"mustn't\", 'needn', \"needn't\", 'shan', \"shan't\", 'shouldn', \"shouldn't\", 'wasn', \"wasn't\", 'weren', \"weren't\", 'won', \"won't\", 'wouldn', \"wouldn't\"]\n"
     ]
    }
   ],
   "source": [
    "# Let's have a look to the stopwords from ntlk.corpus\n",
    "print (stopwords.words(\"english\")) "
   ]
  },
  {
   "cell_type": "code",
   "execution_count": 24,
   "metadata": {},
   "outputs": [
    {
     "name": "stdout",
     "output_type": "stream",
     "text": [
      "['using', 'eclipse', 'rdt', 'radrails', 'lot', 'lately', 'quite', 'happy', 'wondering', 'guys', 'know', 'decent', 'alternatives', 'know', 'netbeans', 'also', 'supports', 'ruby', 'days', 'sure', 'offer', 'eclipse', 'please', 'list', 'features', 'think', 'brilliant', 'useful', 'suggesting', 'ide', 'makes', 'easier', 'compare', 'also', 'said', 'ruby', 'rails', 'rails', 'support', 'plus', 'prefer', 'things', 'none', 'rails', 'centric', 'also', 'available', 'linux', 'optionally', 'solaris']\n"
     ]
    }
   ],
   "source": [
    "# Remove stop words from \"words\"\n",
    "words = [w for w in words if not w in stopwords.words(\"english\")]\n",
    "print (words)"
   ]
  },
  {
   "cell_type": "markdown",
   "metadata": {},
   "source": [
    "### Lemmatisation"
   ]
  },
  {
   "cell_type": "code",
   "execution_count": 26,
   "metadata": {},
   "outputs": [
    {
     "ename": "NameError",
     "evalue": "name 'words' is not defined",
     "output_type": "error",
     "traceback": [
      "\u001b[1;31m---------------------------------------------------------------------------\u001b[0m",
      "\u001b[1;31mNameError\u001b[0m                                 Traceback (most recent call last)",
      "\u001b[1;32m<ipython-input-26-3ba1ca3d2820>\u001b[0m in \u001b[0;36m<module>\u001b[1;34m\u001b[0m\n\u001b[0;32m      6\u001b[0m \u001b[0mlems\u001b[0m \u001b[1;33m=\u001b[0m \u001b[1;33m[\u001b[0m\u001b[1;33m]\u001b[0m\u001b[1;33m\u001b[0m\u001b[1;33m\u001b[0m\u001b[0m\n\u001b[0;32m      7\u001b[0m \u001b[1;33m\u001b[0m\u001b[0m\n\u001b[1;32m----> 8\u001b[1;33m \u001b[1;32mfor\u001b[0m \u001b[0mword\u001b[0m \u001b[1;32min\u001b[0m \u001b[0mwords\u001b[0m\u001b[1;33m:\u001b[0m\u001b[1;33m\u001b[0m\u001b[1;33m\u001b[0m\u001b[0m\n\u001b[0m\u001b[0;32m      9\u001b[0m     \u001b[0mword\u001b[0m \u001b[1;33m=\u001b[0m \u001b[0mlemmatizer\u001b[0m\u001b[1;33m.\u001b[0m\u001b[0mlemmatize\u001b[0m\u001b[1;33m(\u001b[0m\u001b[0mword\u001b[0m\u001b[1;33m)\u001b[0m\u001b[1;33m\u001b[0m\u001b[1;33m\u001b[0m\u001b[0m\n\u001b[0;32m     10\u001b[0m     \u001b[0mlems\u001b[0m\u001b[1;33m.\u001b[0m\u001b[0mappend\u001b[0m\u001b[1;33m(\u001b[0m\u001b[0mword\u001b[0m\u001b[1;33m)\u001b[0m\u001b[1;33m\u001b[0m\u001b[1;33m\u001b[0m\u001b[0m\n",
      "\u001b[1;31mNameError\u001b[0m: name 'words' is not defined"
     ]
    }
   ],
   "source": [
    "lemmatizer = WordNetLemmatizer() \n",
    "\n",
    "lems = []\n",
    "\n",
    "for word in words:\n",
    "    word = lemmatizer.lemmatize(word)\n",
    "    lems.append(word)\n",
    "    \n",
    "print(lems)"
   ]
  },
  {
   "cell_type": "markdown",
   "metadata": {},
   "source": [
    "## Tester les fonctions sur un exemple de targets"
   ]
  },
  {
   "cell_type": "markdown",
   "metadata": {},
   "source": [
    "Les tags (notre variable cible) ont une forme spécifiques. Les mots sont entre \"<>\". Les tags sont parfois composés par deux, voir plusieurs mots qui sont séparés par \"-\". Nous allons enlever les balises."
   ]
  },
  {
   "cell_type": "code",
   "execution_count": 35,
   "metadata": {},
   "outputs": [],
   "source": [
    "#Take the first tag from the dataset\n",
    "tag = y_train[0]"
   ]
  },
  {
   "cell_type": "code",
   "execution_count": 36,
   "metadata": {},
   "outputs": [
    {
     "data": {
      "text/plain": [
       "'<c><vim>'"
      ]
     },
     "execution_count": 36,
     "metadata": {},
     "output_type": "execute_result"
    }
   ],
   "source": [
    "#Check\n",
    "tag"
   ]
  },
  {
   "cell_type": "code",
   "execution_count": 37,
   "metadata": {},
   "outputs": [],
   "source": [
    "#Remove first '<'\n",
    "tag = tag[1:]"
   ]
  },
  {
   "cell_type": "code",
   "execution_count": 38,
   "metadata": {},
   "outputs": [
    {
     "data": {
      "text/plain": [
       "'c><vim>'"
      ]
     },
     "execution_count": 38,
     "metadata": {},
     "output_type": "execute_result"
    }
   ],
   "source": [
    "#Check\n",
    "tag"
   ]
  },
  {
   "cell_type": "code",
   "execution_count": 39,
   "metadata": {},
   "outputs": [],
   "source": [
    "#Remove last '>'\n",
    "tag = tag[:-1]"
   ]
  },
  {
   "cell_type": "code",
   "execution_count": 40,
   "metadata": {},
   "outputs": [
    {
     "data": {
      "text/plain": [
       "'c><vim'"
      ]
     },
     "execution_count": 40,
     "metadata": {},
     "output_type": "execute_result"
    }
   ],
   "source": [
    "#Check\n",
    "tag"
   ]
  },
  {
   "cell_type": "code",
   "execution_count": 41,
   "metadata": {},
   "outputs": [],
   "source": [
    "#Remove remaining '><' signs\n",
    "tag = tag.split('><')"
   ]
  },
  {
   "cell_type": "code",
   "execution_count": 42,
   "metadata": {},
   "outputs": [
    {
     "data": {
      "text/plain": [
       "['c', 'vim']"
      ]
     },
     "execution_count": 42,
     "metadata": {},
     "output_type": "execute_result"
    }
   ],
   "source": [
    "#Check\n",
    "tag"
   ]
  },
  {
   "cell_type": "code",
   "execution_count": 43,
   "metadata": {},
   "outputs": [],
   "source": [
    "#Converting back to string\n",
    "tag_clean = \" \".join(tag)  "
   ]
  },
  {
   "cell_type": "code",
   "execution_count": 44,
   "metadata": {},
   "outputs": [
    {
     "data": {
      "text/plain": [
       "'c vim'"
      ]
     },
     "execution_count": 44,
     "metadata": {},
     "output_type": "execute_result"
    }
   ],
   "source": [
    "#Check\n",
    "tag_clean"
   ]
  },
  {
   "cell_type": "markdown",
   "metadata": {},
   "source": [
    "## Pipelines pour data cleaning"
   ]
  },
  {
   "cell_type": "markdown",
   "metadata": {},
   "source": [
    "### Features"
   ]
  },
  {
   "cell_type": "markdown",
   "metadata": {},
   "source": [
    "Nous allons utiliser la fonction suivante pour automatiser le processus de data cleaning :"
   ]
  },
  {
   "cell_type": "code",
   "execution_count": 79,
   "metadata": {},
   "outputs": [],
   "source": [
    "def post_to_words( raw_post ):\n",
    "    \"\"\"Function to convert a raw document to a string of words.\n",
    "    \n",
    "    Inputs : \n",
    "    \n",
    "    - raw_post : a single string \n",
    "    \n",
    "    Output :\n",
    "    \n",
    "    - a single string containing a preprocessed document\"\"\"\n",
    "    \n",
    "    # 1. Remove HTML\n",
    "    post_text = BeautifulSoup(raw_post).get_text() \n",
    "    #\n",
    "    # 2. Remove non-letters        \n",
    "    letters_only = re.sub(\"[^0-9#-+a-zA-Z]\", \" \", post_text) \n",
    "    #\n",
    "    # 3. Convert to lower case, split into individual words\n",
    "    words = letters_only.lower().split()                             \n",
    "    #\n",
    "    # 4. In Python, searching a set is much faster than searching\n",
    "    #   a list, so convert the stop words to a set\n",
    "    stops = set(stopwords.words(\"english\"))                  \n",
    "    # \n",
    "    # 5. Remove stop words\n",
    "    meaningful_words = [w for w in words if not w in stops]   \n",
    "    #\n",
    "    # 6. Lematize\n",
    "    lemmatizer = WordNetLemmatizer() \n",
    "\n",
    "    lems = []\n",
    "\n",
    "    for word in meaningful_words:\n",
    "        word_clean = lemmatizer.lemmatize(word)\n",
    "        lems.append(word_clean)\n",
    "    #\n",
    "    # 7. Join the words back into one string separated by space, \n",
    "    # and return the result.\n",
    "    return( \" \".join( lems )) "
   ]
  },
  {
   "cell_type": "code",
   "execution_count": 80,
   "metadata": {},
   "outputs": [],
   "source": [
    "X_train['body_clean']=X_train['body'].apply(lambda x: post_to_words(x))"
   ]
  },
  {
   "cell_type": "code",
   "execution_count": 81,
   "metadata": {},
   "outputs": [],
   "source": [
    "X_train['title_clean']=X_train['title'].apply(lambda x: post_to_words(x))"
   ]
  },
  {
   "cell_type": "code",
   "execution_count": 82,
   "metadata": {
    "scrolled": false
   },
   "outputs": [
    {
     "data": {
      "text/html": [
       "<div>\n",
       "<style scoped>\n",
       "    .dataframe tbody tr th:only-of-type {\n",
       "        vertical-align: middle;\n",
       "    }\n",
       "\n",
       "    .dataframe tbody tr th {\n",
       "        vertical-align: top;\n",
       "    }\n",
       "\n",
       "    .dataframe thead th {\n",
       "        text-align: right;\n",
       "    }\n",
       "</style>\n",
       "<table border=\"1\" class=\"dataframe\">\n",
       "  <thead>\n",
       "    <tr style=\"text-align: right;\">\n",
       "      <th></th>\n",
       "      <th>body</th>\n",
       "      <th>title</th>\n",
       "      <th>text</th>\n",
       "      <th>body_clean</th>\n",
       "      <th>title_clean</th>\n",
       "    </tr>\n",
       "  </thead>\n",
       "  <tbody>\n",
       "    <tr>\n",
       "      <th>8950</th>\n",
       "      <td>&lt;p&gt;Vi and Vim allow for really awesome customi...</td>\n",
       "      <td>What is in your .vimrc?</td>\n",
       "      <td>What is in your .vimrc?. &lt;p&gt;Vi and Vim allow f...</td>\n",
       "      <td>vi vim allow really awesome customization typi...</td>\n",
       "      <td>vimrc</td>\n",
       "    </tr>\n",
       "    <tr>\n",
       "      <th>38421</th>\n",
       "      <td>&lt;p&gt;This might sound lame, but  I have not been...</td>\n",
       "      <td>LINQ Aggregate algorithm explained</td>\n",
       "      <td>LINQ Aggregate algorithm explained. &lt;p&gt;This mi...</td>\n",
       "      <td>might sound lame able find really good explana...</td>\n",
       "      <td>linq aggregate algorithm explained</td>\n",
       "    </tr>\n",
       "    <tr>\n",
       "      <th>19363</th>\n",
       "      <td>&lt;p&gt;Is it possible to read a .PST file using C#...</td>\n",
       "      <td>Can I read an Outlook (2003/2007) PST file in C#?</td>\n",
       "      <td>Can I read an Outlook (2003/2007) PST file in ...</td>\n",
       "      <td>possible read pst file using c# would like sta...</td>\n",
       "      <td>read outlook (2003 2007) pst file c#</td>\n",
       "    </tr>\n",
       "    <tr>\n",
       "      <th>30157</th>\n",
       "      <td>&lt;p&gt;I want to be able to output the current loo...</td>\n",
       "      <td>How to output loop.counter in python jinja tem...</td>\n",
       "      <td>How to output loop.counter in python jinja tem...</td>\n",
       "      <td>want able output current loop iteration templa...</td>\n",
       "      <td>output loop counter python jinja template</td>\n",
       "    </tr>\n",
       "    <tr>\n",
       "      <th>14294</th>\n",
       "      <td>&lt;p&gt;Context: I'm working on master adding a sim...</td>\n",
       "      <td>Git: Create a branch from unstaged/uncommitted...</td>\n",
       "      <td>Git: Create a branch from unstaged/uncommitted...</td>\n",
       "      <td>context i'm working master adding simple featu...</td>\n",
       "      <td>git create branch unstaged uncommitted change ...</td>\n",
       "    </tr>\n",
       "  </tbody>\n",
       "</table>\n",
       "</div>"
      ],
      "text/plain": [
       "                                                    body  \\\n",
       "8950   <p>Vi and Vim allow for really awesome customi...   \n",
       "38421  <p>This might sound lame, but  I have not been...   \n",
       "19363  <p>Is it possible to read a .PST file using C#...   \n",
       "30157  <p>I want to be able to output the current loo...   \n",
       "14294  <p>Context: I'm working on master adding a sim...   \n",
       "\n",
       "                                                   title  \\\n",
       "8950                             What is in your .vimrc?   \n",
       "38421                 LINQ Aggregate algorithm explained   \n",
       "19363  Can I read an Outlook (2003/2007) PST file in C#?   \n",
       "30157  How to output loop.counter in python jinja tem...   \n",
       "14294  Git: Create a branch from unstaged/uncommitted...   \n",
       "\n",
       "                                                    text  \\\n",
       "8950   What is in your .vimrc?. <p>Vi and Vim allow f...   \n",
       "38421  LINQ Aggregate algorithm explained. <p>This mi...   \n",
       "19363  Can I read an Outlook (2003/2007) PST file in ...   \n",
       "30157  How to output loop.counter in python jinja tem...   \n",
       "14294  Git: Create a branch from unstaged/uncommitted...   \n",
       "\n",
       "                                              body_clean  \\\n",
       "8950   vi vim allow really awesome customization typi...   \n",
       "38421  might sound lame able find really good explana...   \n",
       "19363  possible read pst file using c# would like sta...   \n",
       "30157  want able output current loop iteration templa...   \n",
       "14294  context i'm working master adding simple featu...   \n",
       "\n",
       "                                             title_clean  \n",
       "8950                                               vimrc  \n",
       "38421                 linq aggregate algorithm explained  \n",
       "19363               read outlook (2003 2007) pst file c#  \n",
       "30157          output loop counter python jinja template  \n",
       "14294  git create branch unstaged uncommitted change ...  "
      ]
     },
     "execution_count": 82,
     "metadata": {},
     "output_type": "execute_result"
    }
   ],
   "source": [
    "X_train.head()"
   ]
  },
  {
   "cell_type": "markdown",
   "metadata": {},
   "source": [
    "Nous allons aussi construire une fonction qui nous servira comme paramètre de tokenizer personnalisé que nous allons appliquer dans l'outil CountVectorizer, afin de garder la structure de bigrams que l'on a créé pendant la transformation de features. Nous allons séparer les mot tout simplement en utilisant méthode .split() qui sépare les mots par espace et laisse les caractères spéciaux comme par exemple '#' collé sur les mots, contrairement à la méthode .tokenize() "
   ]
  },
  {
   "cell_type": "code",
   "execution_count": 83,
   "metadata": {},
   "outputs": [],
   "source": [
    "def my_tokenizer(doc):\n",
    "    \n",
    "    \"\"\"Function defining personalized tokenizer for sklearn's CountVectorizer in order to keep the created \n",
    "    bigrams in tag's format.\n",
    "    \n",
    "    Input:\n",
    "    \n",
    "    - doc : string to be tokenized\n",
    "    \n",
    "    Output:\n",
    "    \n",
    "    - tokenized string\n",
    "    \"\"\"\n",
    "    \n",
    "    \n",
    "    tokens = doc.split()\n",
    "    \n",
    "    return tokens"
   ]
  },
  {
   "cell_type": "markdown",
   "metadata": {},
   "source": [
    "Nous allons définir les stop-words que nous n'avons pas enlevé dans l'étape de cleaning, mais qui figurent souvent dans les posts et qui n'ont pas de valeur informative. La liste sera également utilée en paramètre de CountVectorizer et TfidfVectorizer."
   ]
  },
  {
   "cell_type": "code",
   "execution_count": 84,
   "metadata": {},
   "outputs": [],
   "source": [
    "stop_words = [\"i'm\", 'would', '1', '0', '2', \"i've\", 'could', 'anyone', 'also', '3', 'thanks', \n",
    "               'two', 'however', \"i'd\", '5', \"+\", \"#\", \"im\", \"ive\", \"dont\", \"cant\", \"id\", \")\", \"(\"]"
   ]
  },
  {
   "cell_type": "markdown",
   "metadata": {},
   "source": [
    "### Target"
   ]
  },
  {
   "cell_type": "code",
   "execution_count": 85,
   "metadata": {},
   "outputs": [],
   "source": [
    "def cleaning_target(raw_target):\n",
    "    \"\"\"Function to remove '<>' signs from target list and to replace them with a space\n",
    "    \n",
    "    Arguments :\n",
    "    - raw_target : a Series of tags\n",
    "    \n",
    "    Return :\n",
    "    - Series with cleaned tags\n",
    "       \n",
    "    \"\"\"\n",
    "    \n",
    "    #Remove first '<'\n",
    "    tag = raw_target[1:]\n",
    "    \n",
    "    #Remove last '>'\n",
    "    tag = tag[:-1]\n",
    "    \n",
    "    #Remove remaining '><' signs\n",
    "    tag = tag.split('><')\n",
    "    \n",
    "    #Converting back to string\n",
    "    tag_clean = \" \".join(tag)  \n",
    "    \n",
    "    return tag_clean"
   ]
  },
  {
   "cell_type": "code",
   "execution_count": 86,
   "metadata": {},
   "outputs": [],
   "source": [
    "y_train_clean=y_train.apply(lambda x: cleaning_target(x))"
   ]
  },
  {
   "cell_type": "code",
   "execution_count": 87,
   "metadata": {},
   "outputs": [
    {
     "data": {
      "text/plain": [
       "8950                              vim refactoring\n",
       "38421                                c# .net linq\n",
       "19363    c# outlook outlook-2007 outlook-2003 pst\n",
       "30157                               python jinja2\n",
       "14294                               git git-stash\n",
       "Name: tags, dtype: object"
      ]
     },
     "execution_count": 87,
     "metadata": {},
     "output_type": "execute_result"
    }
   ],
   "source": [
    "y_train_clean.head()"
   ]
  },
  {
   "cell_type": "markdown",
   "metadata": {},
   "source": [
    "# Feature engineering"
   ]
  },
  {
   "cell_type": "markdown",
   "metadata": {},
   "source": [
    "## Créer les bigrams"
   ]
  },
  {
   "cell_type": "markdown",
   "metadata": {},
   "source": [
    "Nous allons créer des bigrams, car les tags sont souvent composés par deux mots, séparés par \"-\". Les bigrams créé à partir de text de body et title vont donc être mis au même format que les tags."
   ]
  },
  {
   "cell_type": "markdown",
   "metadata": {},
   "source": [
    "### Tester les fonctions sur un exemple de post"
   ]
  },
  {
   "cell_type": "code",
   "execution_count": 88,
   "metadata": {},
   "outputs": [],
   "source": [
    "#Take the first element of the cleaned body text\n",
    "body = X_train['body_clean'][0]"
   ]
  },
  {
   "cell_type": "code",
   "execution_count": 89,
   "metadata": {},
   "outputs": [],
   "source": [
    "#Split it to a list of words\n",
    "body = body.split()"
   ]
  },
  {
   "cell_type": "code",
   "execution_count": 90,
   "metadata": {},
   "outputs": [
    {
     "data": {
      "text/plain": [
       "['way',\n",
       " 'compile',\n",
       " 'run',\n",
       " 'c',\n",
       " 'program',\n",
       " 'vim',\n",
       " 'without',\n",
       " 'typing',\n",
       " 'filename']"
      ]
     },
     "execution_count": 90,
     "metadata": {},
     "output_type": "execute_result"
    }
   ],
   "source": [
    "#Check\n",
    "body[:10]"
   ]
  },
  {
   "cell_type": "code",
   "execution_count": 91,
   "metadata": {},
   "outputs": [],
   "source": [
    "#Creating bigrams object\n",
    "bigram = nltk.bigrams(body)"
   ]
  },
  {
   "cell_type": "code",
   "execution_count": 92,
   "metadata": {},
   "outputs": [],
   "source": [
    "#Creating a list of bigram objects\n",
    "liste = list(bigram)"
   ]
  },
  {
   "cell_type": "code",
   "execution_count": 93,
   "metadata": {},
   "outputs": [
    {
     "data": {
      "text/plain": [
       "[('way', 'compile'),\n",
       " ('compile', 'run'),\n",
       " ('run', 'c'),\n",
       " ('c', 'program'),\n",
       " ('program', 'vim'),\n",
       " ('vim', 'without'),\n",
       " ('without', 'typing'),\n",
       " ('typing', 'filename')]"
      ]
     },
     "execution_count": 93,
     "metadata": {},
     "output_type": "execute_result"
    }
   ],
   "source": [
    "#Check\n",
    "liste[:10]"
   ]
  },
  {
   "cell_type": "code",
   "execution_count": 94,
   "metadata": {},
   "outputs": [],
   "source": [
    "#Creating a tag-like word from tuples\n",
    "bigrams_rec = []\n",
    "\n",
    "for i in range(len(liste)):\n",
    "    tuple1 = liste[i]\n",
    "    elt = tuple1[0] + '-' + tuple1[1]\n",
    "    bigrams_rec.append(elt)"
   ]
  },
  {
   "cell_type": "code",
   "execution_count": 95,
   "metadata": {},
   "outputs": [],
   "source": [
    "#Creating a string from list of tag-like bigrams\n",
    "bigrams_str = \" \".join(bigrams_rec)"
   ]
  },
  {
   "cell_type": "markdown",
   "metadata": {},
   "source": [
    "### Créer des pipelines pour le recodage en bigrams"
   ]
  },
  {
   "cell_type": "markdown",
   "metadata": {},
   "source": [
    "Nous allons utiliser deux fonctions afin de :\n",
    "    1. créer les bigrams\n",
    "    2. recoder les bigrams dans le même format comme les tags dans notre variable cible"
   ]
  },
  {
   "cell_type": "code",
   "execution_count": 96,
   "metadata": {},
   "outputs": [],
   "source": [
    "def create_bigrams(var):\n",
    "    \n",
    "    \"\"\"Function which generates a liste of tuples representing bigrams. \n",
    "    \n",
    "    Arguments :\n",
    "    - var : feature to be recoded\n",
    "    \n",
    "    Returns :\n",
    "    - a Series of recoded feature  \n",
    "    \n",
    "    \"\"\"\n",
    "   \n",
    "   #Take the i-th element of the cleaned body text\n",
    "    body = var    \n",
    "        \n",
    "    #Split it to a list of words\n",
    "    body = body.split()\n",
    "    \n",
    "    #Creating bigrams object\n",
    "    bigram = nltk.bigrams(body)\n",
    "    \n",
    "    #Creating a list of bigram objects \n",
    "    liste_bigram = list(bigram)\n",
    "        \n",
    "        \n",
    "    return liste_bigram"
   ]
  },
  {
   "cell_type": "code",
   "execution_count": 97,
   "metadata": {},
   "outputs": [],
   "source": [
    "X_train['body_bigram'] = X_train['body_clean'].apply(lambda x : create_bigrams(x))"
   ]
  },
  {
   "cell_type": "code",
   "execution_count": 98,
   "metadata": {},
   "outputs": [
    {
     "data": {
      "text/plain": [
       "8950     [(vi, vim), (vim, allow), (allow, really), (re...\n",
       "38421    [(might, sound), (sound, lame), (lame, able), ...\n",
       "19363    [(possible, read), (read, pst), (pst, file), (...\n",
       "30157    [(want, able), (able, output), (output, curren...\n",
       "14294    [(context, i'm), (i'm, working), (working, mas...\n",
       "Name: body_bigram, dtype: object"
      ]
     },
     "execution_count": 98,
     "metadata": {},
     "output_type": "execute_result"
    }
   ],
   "source": [
    "X_train['body_bigram'].head()"
   ]
  },
  {
   "cell_type": "code",
   "execution_count": 99,
   "metadata": {},
   "outputs": [],
   "source": [
    "def recode_bigrams(liste):\n",
    "    \"\"\"Function which recode the bigrams generated by recode_bigram function.\n",
    "    Each bigram has the same structure as the stack overflow tages :\n",
    "    it is composed of two words and the words are separated by '-'  \n",
    "    \n",
    "    Arguments :\n",
    "    - liste : a liste containing bigram tuples\n",
    "    \n",
    "    Return :\n",
    "    \n",
    "    - a string of recoded bigrams_rec\n",
    "    \"\"\"\n",
    "    \n",
    "    #Creating a tag-like word from tuples\n",
    "    bigrams_rec = []\n",
    "\n",
    "    for i in range(len(liste)):\n",
    "        tuple1 = liste[i]\n",
    "        elt = tuple1[0] + '-' + tuple1[1]\n",
    "        bigrams_rec.append(elt)\n",
    "        \n",
    "    return \" \".join(bigrams_rec)"
   ]
  },
  {
   "cell_type": "code",
   "execution_count": 100,
   "metadata": {},
   "outputs": [],
   "source": [
    "X_train['body_bigram_clean'] = X_train['body_bigram'].apply(lambda x : recode_bigrams(x))"
   ]
  },
  {
   "cell_type": "code",
   "execution_count": 101,
   "metadata": {},
   "outputs": [
    {
     "data": {
      "text/plain": [
       "8950     vi-vim vim-allow allow-really really-awesome a...\n",
       "38421    might-sound sound-lame lame-able able-find fin...\n",
       "19363    possible-read read-pst pst-file file-using usi...\n",
       "30157    want-able able-output output-current current-l...\n",
       "14294    context-i'm i'm-working working-master master-...\n",
       "Name: body_bigram_clean, dtype: object"
      ]
     },
     "execution_count": 101,
     "metadata": {},
     "output_type": "execute_result"
    }
   ],
   "source": [
    "X_train['body_bigram_clean'].head()"
   ]
  },
  {
   "cell_type": "markdown",
   "metadata": {},
   "source": [
    "Nous allons appliquer les mâmes fonctions sur la feature title :"
   ]
  },
  {
   "cell_type": "code",
   "execution_count": 102,
   "metadata": {},
   "outputs": [],
   "source": [
    "X_train['title_bigram'] = X_train['title_clean'].apply(lambda x : create_bigrams(x))"
   ]
  },
  {
   "cell_type": "code",
   "execution_count": 103,
   "metadata": {},
   "outputs": [],
   "source": [
    "X_train['title_bigram_clean'] = X_train['title_bigram'].apply(lambda x : recode_bigrams(x))"
   ]
  },
  {
   "cell_type": "code",
   "execution_count": 104,
   "metadata": {},
   "outputs": [
    {
     "data": {
      "text/plain": [
       "8950                                                      \n",
       "38421    linq-aggregate aggregate-algorithm algorithm-e...\n",
       "19363    read-outlook outlook-(2003 (2003-2007) 2007)-p...\n",
       "30157    output-loop loop-counter counter-python python...\n",
       "14294    git-create create-branch branch-unstaged unsta...\n",
       "Name: title_bigram_clean, dtype: object"
      ]
     },
     "execution_count": 104,
     "metadata": {},
     "output_type": "execute_result"
    }
   ],
   "source": [
    "X_train['title_bigram_clean'].head()"
   ]
  },
  {
   "cell_type": "markdown",
   "metadata": {},
   "source": [
    "### Fusionner le title, body et les bigrams"
   ]
  },
  {
   "cell_type": "markdown",
   "metadata": {},
   "source": [
    "Afin de simplifier le travail exploratiore et les recodages de text qui va être utilisé dans la partie analyse, nous allons créer une feature unique composée par le text de title, de body et des bigrams créés à partir de ces deux features :"
   ]
  },
  {
   "cell_type": "code",
   "execution_count": 105,
   "metadata": {},
   "outputs": [],
   "source": [
    "X_train['post'] = X_train['title_clean'] + \" \" + X_train['body_clean'] + \" \" + X_train['body_bigram_clean'] + \" \" + X_train['title_bigram_clean']  "
   ]
  },
  {
   "cell_type": "code",
   "execution_count": 106,
   "metadata": {},
   "outputs": [
    {
     "data": {
      "text/plain": [
       "8950     vimrc vi vim allow really awesome customizatio...\n",
       "38421    linq aggregate algorithm explained might sound...\n",
       "19363    read outlook (2003 2007) pst file c# possible ...\n",
       "30157    output loop counter python jinja template want...\n",
       "14294    git create branch unstaged uncommitted change ...\n",
       "Name: post, dtype: object"
      ]
     },
     "execution_count": 106,
     "metadata": {},
     "output_type": "execute_result"
    }
   ],
   "source": [
    "X_train['post'].head()"
   ]
  },
  {
   "cell_type": "code",
   "execution_count": 107,
   "metadata": {},
   "outputs": [
    {
     "data": {
      "text/plain": [
       "'run c program vim way compile run c program vim without typing filename way-compile compile-run run-c c-program program-vim vim-without without-typing typing-filename run-c c-program program-vim'"
      ]
     },
     "execution_count": 107,
     "metadata": {},
     "output_type": "execute_result"
    }
   ],
   "source": [
    "X_train['post'][0]"
   ]
  },
  {
   "cell_type": "markdown",
   "metadata": {},
   "source": [
    "### Bag of words"
   ]
  },
  {
   "cell_type": "markdown",
   "metadata": {},
   "source": [
    "Nous allons transformer les données text en matrice creuse, appelée Bag-of-Words, qui indique le nombre d'apparitions d'un mot dans la chaîne de caractères. A l'aide de cette transformation, nous allons pouvoir effectuer des opérations numériques sur les chaînes de caractères, notamment calculer des caractéristiques univariées telles que fréquences.  \n",
    "\n",
    "\n",
    "La matrice représentant Bag-of-Words contient autant de colonnes que le nombre de mots dans le corpus (ensemble de posts dans notre cas). Nous allons utiliser une option max_features = 50 000 qui limite le nombre de features à 50 000."
   ]
  },
  {
   "cell_type": "markdown",
   "metadata": {},
   "source": [
    "#### Feature"
   ]
  },
  {
   "cell_type": "code",
   "execution_count": 79,
   "metadata": {},
   "outputs": [
    {
     "name": "stdout",
     "output_type": "stream",
     "text": [
      "Creating the bag of words...\n",
      "\n"
     ]
    }
   ],
   "source": [
    "#First execution\n",
    "print (\"Creating the bag of words...\\n\")\n",
    "\n",
    "# Initialize the \"CountVectorizer\" object, which is scikit-learn's\n",
    "# bag of words tool.  \n",
    "vectorizer = CountVectorizer(analyzer = \"word\",   \\\n",
    "                             tokenizer = my_tokenizer,    \\\n",
    "                             preprocessor = None, \\\n",
    "                             strip_accents=None,\n",
    "                             max_features = 50000,\n",
    "                             lowercase=False,\n",
    "                             stop_words = stop_words)                       \n",
    "                            \n",
    "\n",
    "# fit_transform() does two functions: First, it fits the model\n",
    "# and learns the vocabulary; second, it transforms our training data\n",
    "# into feature vectors. The input to fit_transform should be a list of \n",
    "# strings.\n",
    "\n",
    "X_train_bow = vectorizer.fit_transform(X_train['post'])\n",
    "\n",
    "# Numpy arrays are easy to work with, so convert the result to an \n",
    "# array\n",
    "X_train_bow = X_train_bow.toarray()"
   ]
  },
  {
   "cell_type": "code",
   "execution_count": 80,
   "metadata": {},
   "outputs": [
    {
     "data": {
      "text/plain": [
       "(35000, 50000)"
      ]
     },
     "execution_count": 80,
     "metadata": {},
     "output_type": "execute_result"
    }
   ],
   "source": [
    "X_train_bow.shape"
   ]
  },
  {
   "cell_type": "code",
   "execution_count": 87,
   "metadata": {},
   "outputs": [],
   "source": [
    "# Create a vocabulary of features\n",
    "X_train_vocab_bow = vectorizer.get_feature_names()"
   ]
  },
  {
   "cell_type": "code",
   "execution_count": 88,
   "metadata": {},
   "outputs": [],
   "source": [
    "# Sum up the counts of each vocabulary word\n",
    "X_train_dist_bow = np.sum(X_train_bow, axis=0)"
   ]
  },
  {
   "cell_type": "markdown",
   "metadata": {},
   "source": [
    "Nous allons afficher 50 mots les plus fréquents :"
   ]
  },
  {
   "cell_type": "code",
   "execution_count": 84,
   "metadata": {},
   "outputs": [
    {
     "data": {
      "text/html": [
       "<div>\n",
       "<style scoped>\n",
       "    .dataframe tbody tr th:only-of-type {\n",
       "        vertical-align: middle;\n",
       "    }\n",
       "\n",
       "    .dataframe tbody tr th {\n",
       "        vertical-align: top;\n",
       "    }\n",
       "\n",
       "    .dataframe thead th {\n",
       "        text-align: right;\n",
       "    }\n",
       "</style>\n",
       "<table border=\"1\" class=\"dataframe\">\n",
       "  <thead>\n",
       "    <tr style=\"text-align: right;\">\n",
       "      <th></th>\n",
       "      <th>Word</th>\n",
       "      <th>Frequence</th>\n",
       "      <th>Pourcentage</th>\n",
       "    </tr>\n",
       "  </thead>\n",
       "  <tbody>\n",
       "    <tr>\n",
       "      <th>18472</th>\n",
       "      <td>file</td>\n",
       "      <td>17905</td>\n",
       "      <td>0.54</td>\n",
       "    </tr>\n",
       "    <tr>\n",
       "      <th>46303</th>\n",
       "      <td>using</td>\n",
       "      <td>16342</td>\n",
       "      <td>0.49</td>\n",
       "    </tr>\n",
       "    <tr>\n",
       "      <th>26627</th>\n",
       "      <td>like</td>\n",
       "      <td>15817</td>\n",
       "      <td>0.47</td>\n",
       "    </tr>\n",
       "    <tr>\n",
       "      <th>45663</th>\n",
       "      <td>use</td>\n",
       "      <td>15068</td>\n",
       "      <td>0.45</td>\n",
       "    </tr>\n",
       "    <tr>\n",
       "      <th>20442</th>\n",
       "      <td>get</td>\n",
       "      <td>13553</td>\n",
       "      <td>0.41</td>\n",
       "    </tr>\n",
       "    <tr>\n",
       "      <th>11431</th>\n",
       "      <td>code</td>\n",
       "      <td>13308</td>\n",
       "      <td>0.40</td>\n",
       "    </tr>\n",
       "    <tr>\n",
       "      <th>48020</th>\n",
       "      <td>way</td>\n",
       "      <td>12581</td>\n",
       "      <td>0.38</td>\n",
       "    </tr>\n",
       "    <tr>\n",
       "      <th>10931</th>\n",
       "      <td>class</td>\n",
       "      <td>12308</td>\n",
       "      <td>0.37</td>\n",
       "    </tr>\n",
       "    <tr>\n",
       "      <th>6626</th>\n",
       "      <td>android</td>\n",
       "      <td>12172</td>\n",
       "      <td>0.36</td>\n",
       "    </tr>\n",
       "    <tr>\n",
       "      <th>47748</th>\n",
       "      <td>want</td>\n",
       "      <td>11313</td>\n",
       "      <td>0.34</td>\n",
       "    </tr>\n",
       "    <tr>\n",
       "      <th>30633</th>\n",
       "      <td>new</td>\n",
       "      <td>10689</td>\n",
       "      <td>0.32</td>\n",
       "    </tr>\n",
       "    <tr>\n",
       "      <th>41630</th>\n",
       "      <td>string</td>\n",
       "      <td>10306</td>\n",
       "      <td>0.31</td>\n",
       "    </tr>\n",
       "    <tr>\n",
       "      <th>31861</th>\n",
       "      <td>one</td>\n",
       "      <td>10049</td>\n",
       "      <td>0.30</td>\n",
       "    </tr>\n",
       "    <tr>\n",
       "      <th>24880</th>\n",
       "      <td>java</td>\n",
       "      <td>9992</td>\n",
       "      <td>0.30</td>\n",
       "    </tr>\n",
       "    <tr>\n",
       "      <th>14023</th>\n",
       "      <td>data</td>\n",
       "      <td>9628</td>\n",
       "      <td>0.29</td>\n",
       "    </tr>\n",
       "    <tr>\n",
       "      <th>17041</th>\n",
       "      <td>error</td>\n",
       "      <td>9572</td>\n",
       "      <td>0.29</td>\n",
       "    </tr>\n",
       "    <tr>\n",
       "      <th>46060</th>\n",
       "      <td>user</td>\n",
       "      <td>9200</td>\n",
       "      <td>0.28</td>\n",
       "    </tr>\n",
       "    <tr>\n",
       "      <th>30056</th>\n",
       "      <td>name</td>\n",
       "      <td>9117</td>\n",
       "      <td>0.27</td>\n",
       "    </tr>\n",
       "    <tr>\n",
       "      <th>46806</th>\n",
       "      <td>value</td>\n",
       "      <td>8890</td>\n",
       "      <td>0.27</td>\n",
       "    </tr>\n",
       "    <tr>\n",
       "      <th>48935</th>\n",
       "      <td>work</td>\n",
       "      <td>8848</td>\n",
       "      <td>0.26</td>\n",
       "    </tr>\n",
       "    <tr>\n",
       "      <th>20003</th>\n",
       "      <td>function</td>\n",
       "      <td>8375</td>\n",
       "      <td>0.25</td>\n",
       "    </tr>\n",
       "    <tr>\n",
       "      <th>30343</th>\n",
       "      <td>need</td>\n",
       "      <td>8176</td>\n",
       "      <td>0.24</td>\n",
       "    </tr>\n",
       "    <tr>\n",
       "      <th>37270</th>\n",
       "      <td>return</td>\n",
       "      <td>8168</td>\n",
       "      <td>0.24</td>\n",
       "    </tr>\n",
       "    <tr>\n",
       "      <th>17536</th>\n",
       "      <td>example</td>\n",
       "      <td>8068</td>\n",
       "      <td>0.24</td>\n",
       "    </tr>\n",
       "    <tr>\n",
       "      <th>25713</th>\n",
       "      <td>know</td>\n",
       "      <td>7561</td>\n",
       "      <td>0.23</td>\n",
       "    </tr>\n",
       "    <tr>\n",
       "      <th>31522</th>\n",
       "      <td>object</td>\n",
       "      <td>7543</td>\n",
       "      <td>0.23</td>\n",
       "    </tr>\n",
       "    <tr>\n",
       "      <th>35160</th>\n",
       "      <td>public</td>\n",
       "      <td>7457</td>\n",
       "      <td>0.22</td>\n",
       "    </tr>\n",
       "    <tr>\n",
       "      <th>28892</th>\n",
       "      <td>method</td>\n",
       "      <td>7455</td>\n",
       "      <td>0.22</td>\n",
       "    </tr>\n",
       "    <tr>\n",
       "      <th>44795</th>\n",
       "      <td>type</td>\n",
       "      <td>7321</td>\n",
       "      <td>0.22</td>\n",
       "    </tr>\n",
       "    <tr>\n",
       "      <th>22415</th>\n",
       "      <td>http</td>\n",
       "      <td>7282</td>\n",
       "      <td>0.22</td>\n",
       "    </tr>\n",
       "    <tr>\n",
       "      <th>43718</th>\n",
       "      <td>time</td>\n",
       "      <td>6968</td>\n",
       "      <td>0.21</td>\n",
       "    </tr>\n",
       "    <tr>\n",
       "      <th>7216</th>\n",
       "      <td>app</td>\n",
       "      <td>6850</td>\n",
       "      <td>0.21</td>\n",
       "    </tr>\n",
       "    <tr>\n",
       "      <th>39332</th>\n",
       "      <td>set</td>\n",
       "      <td>6732</td>\n",
       "      <td>0.20</td>\n",
       "    </tr>\n",
       "    <tr>\n",
       "      <th>7433</th>\n",
       "      <td>application</td>\n",
       "      <td>6657</td>\n",
       "      <td>0.20</td>\n",
       "    </tr>\n",
       "    <tr>\n",
       "      <th>27155</th>\n",
       "      <td>list</td>\n",
       "      <td>6326</td>\n",
       "      <td>0.19</td>\n",
       "    </tr>\n",
       "    <tr>\n",
       "      <th>9743</th>\n",
       "      <td>c</td>\n",
       "      <td>6310</td>\n",
       "      <td>0.19</td>\n",
       "    </tr>\n",
       "    <tr>\n",
       "      <th>35539</th>\n",
       "      <td>question</td>\n",
       "      <td>6131</td>\n",
       "      <td>0.18</td>\n",
       "    </tr>\n",
       "    <tr>\n",
       "      <th>4622</th>\n",
       "      <td>4</td>\n",
       "      <td>6070</td>\n",
       "      <td>0.18</td>\n",
       "    </tr>\n",
       "    <tr>\n",
       "      <th>39083</th>\n",
       "      <td>server</td>\n",
       "      <td>5997</td>\n",
       "      <td>0.18</td>\n",
       "    </tr>\n",
       "    <tr>\n",
       "      <th>26941</th>\n",
       "      <td>line</td>\n",
       "      <td>5883</td>\n",
       "      <td>0.18</td>\n",
       "    </tr>\n",
       "    <tr>\n",
       "      <th>28075</th>\n",
       "      <td>make</td>\n",
       "      <td>5869</td>\n",
       "      <td>0.18</td>\n",
       "    </tr>\n",
       "    <tr>\n",
       "      <th>11917</th>\n",
       "      <td>com</td>\n",
       "      <td>5732</td>\n",
       "      <td>0.17</td>\n",
       "    </tr>\n",
       "    <tr>\n",
       "      <th>2230</th>\n",
       "      <td>*</td>\n",
       "      <td>5668</td>\n",
       "      <td>0.17</td>\n",
       "    </tr>\n",
       "    <tr>\n",
       "      <th>40512</th>\n",
       "      <td>something</td>\n",
       "      <td>5635</td>\n",
       "      <td>0.17</td>\n",
       "    </tr>\n",
       "    <tr>\n",
       "      <th>43182</th>\n",
       "      <td>text</td>\n",
       "      <td>5613</td>\n",
       "      <td>0.17</td>\n",
       "    </tr>\n",
       "    <tr>\n",
       "      <th>23172</th>\n",
       "      <td>image</td>\n",
       "      <td>5573</td>\n",
       "      <td>0.17</td>\n",
       "    </tr>\n",
       "    <tr>\n",
       "      <th>35366</th>\n",
       "      <td>python</td>\n",
       "      <td>5525</td>\n",
       "      <td>0.17</td>\n",
       "    </tr>\n",
       "    <tr>\n",
       "      <th>18954</th>\n",
       "      <td>find</td>\n",
       "      <td>5463</td>\n",
       "      <td>0.16</td>\n",
       "    </tr>\n",
       "    <tr>\n",
       "      <th>34528</th>\n",
       "      <td>problem</td>\n",
       "      <td>5314</td>\n",
       "      <td>0.16</td>\n",
       "    </tr>\n",
       "    <tr>\n",
       "      <th>19397</th>\n",
       "      <td>following</td>\n",
       "      <td>5229</td>\n",
       "      <td>0.16</td>\n",
       "    </tr>\n",
       "  </tbody>\n",
       "</table>\n",
       "</div>"
      ],
      "text/plain": [
       "              Word  Frequence  Pourcentage\n",
       "18472         file      17905         0.54\n",
       "46303        using      16342         0.49\n",
       "26627         like      15817         0.47\n",
       "45663          use      15068         0.45\n",
       "20442          get      13553         0.41\n",
       "11431         code      13308         0.40\n",
       "48020          way      12581         0.38\n",
       "10931        class      12308         0.37\n",
       "6626       android      12172         0.36\n",
       "47748         want      11313         0.34\n",
       "30633          new      10689         0.32\n",
       "41630       string      10306         0.31\n",
       "31861          one      10049         0.30\n",
       "24880         java       9992         0.30\n",
       "14023         data       9628         0.29\n",
       "17041        error       9572         0.29\n",
       "46060         user       9200         0.28\n",
       "30056         name       9117         0.27\n",
       "46806        value       8890         0.27\n",
       "48935         work       8848         0.26\n",
       "20003     function       8375         0.25\n",
       "30343         need       8176         0.24\n",
       "37270       return       8168         0.24\n",
       "17536      example       8068         0.24\n",
       "25713         know       7561         0.23\n",
       "31522       object       7543         0.23\n",
       "35160       public       7457         0.22\n",
       "28892       method       7455         0.22\n",
       "44795         type       7321         0.22\n",
       "22415         http       7282         0.22\n",
       "43718         time       6968         0.21\n",
       "7216           app       6850         0.21\n",
       "39332          set       6732         0.20\n",
       "7433   application       6657         0.20\n",
       "27155         list       6326         0.19\n",
       "9743             c       6310         0.19\n",
       "35539     question       6131         0.18\n",
       "4622             4       6070         0.18\n",
       "39083       server       5997         0.18\n",
       "26941         line       5883         0.18\n",
       "28075         make       5869         0.18\n",
       "11917          com       5732         0.17\n",
       "2230             *       5668         0.17\n",
       "40512    something       5635         0.17\n",
       "43182         text       5613         0.17\n",
       "23172        image       5573         0.17\n",
       "35366       python       5525         0.17\n",
       "18954         find       5463         0.16\n",
       "34528      problem       5314         0.16\n",
       "19397    following       5229         0.16"
      ]
     },
     "execution_count": 84,
     "metadata": {},
     "output_type": "execute_result"
    }
   ],
   "source": [
    "freq_features = DataFrame(zip(X_train_vocab_bow, X_train_dist_bow))\n",
    "freq_features.rename({0:'Word', 1:'Frequence'}, axis = 1, inplace = True)\n",
    "freq_features.sort_values(['Frequence'], inplace = True, ascending=False)\n",
    "freq_features['Pourcentage'] = round(freq_features['Frequence']*100/sum(freq_features['Frequence']),2)\n",
    "freq_features[:50]"
   ]
  },
  {
   "cell_type": "markdown",
   "metadata": {},
   "source": [
    "Nous constatons que dans les 50 mots les plus courants, nous avons des expressions qui ne nous apporte pas de valeur informative - nous allons donc actualiser la liste de stop words à enlever et réexécuter la transformation en BOW."
   ]
  },
  {
   "cell_type": "code",
   "execution_count": 105,
   "metadata": {},
   "outputs": [],
   "source": [
    "#Stop-words update\n",
    "stop_words += ['using', 'use', 'way', 'want', 'new', 'one', 'work', 'need', 'example', 'know',\n",
    "               'question', '4', 'line', 'make', '*', 'something', 'find', 'problem', 'following', \n",
    "               'create', 'x', 'run', \"'\", 'trying', 'change', 'used', 'see', 'possible', 'tried', \n",
    "               'first', 'without', 'found', 'seems', 'e', 'different', 'b', '8', '10', 'best', \n",
    "               'thing', \"can't\", '6', 'simple', 'answer', '7', 'working', 'good', 'look', 'right', \n",
    "               'help', 'another', 'v', 'try', 'point', 'would-like', '0-0', 'default', 'able', 'really', \n",
    "               'say', 'looking', 'show', 'idea', 'n', 'even', 'understand', 'better', 'please', 'p',\n",
    "               'instead', 'think', 'else', 'etc', '$', '9', 'since', 'already', 'give', 'sure']"
   ]
  },
  {
   "cell_type": "code",
   "execution_count": 106,
   "metadata": {},
   "outputs": [
    {
     "name": "stdout",
     "output_type": "stream",
     "text": [
      "Creating the bag of words...\n",
      "\n"
     ]
    }
   ],
   "source": [
    "#Second execution after stop-words update\n",
    "print (\"Creating the bag of words...\\n\")\n",
    "\n",
    "# Initialize the \"CountVectorizer\" object, which is scikit-learn's\n",
    "# bag of words tool.  \n",
    "vectorizer = CountVectorizer(analyzer = \"word\",   \\\n",
    "                             tokenizer = my_tokenizer,    \\\n",
    "                             preprocessor = None, \\\n",
    "                             strip_accents=None,\n",
    "                             max_features = 50000,\n",
    "                             lowercase=False,\n",
    "                             stop_words = stop_words)                       \n",
    "                            \n",
    "\n",
    "# fit_transform() does two functions: First, it fits the model\n",
    "# and learns the vocabulary; second, it transforms our training data\n",
    "# into feature vectors. The input to fit_transform should be a list of \n",
    "# strings.\n",
    "\n",
    "X_train_bow = vectorizer.fit_transform(X_train['post'])\n",
    "\n",
    "# Numpy arrays are easy to work with, so convert the result to an \n",
    "# array\n",
    "X_train_bow = X_train_bow.toarray()"
   ]
  },
  {
   "cell_type": "code",
   "execution_count": 107,
   "metadata": {},
   "outputs": [
    {
     "data": {
      "text/plain": [
       "(35000, 50000)"
      ]
     },
     "execution_count": 107,
     "metadata": {},
     "output_type": "execute_result"
    }
   ],
   "source": [
    "# Second execution\n",
    "X_train_bow.shape"
   ]
  },
  {
   "cell_type": "code",
   "execution_count": 108,
   "metadata": {},
   "outputs": [],
   "source": [
    "# Second execution\n",
    "# Create a vocabulary of features\n",
    "X_train_vocab_bow = vectorizer.get_feature_names()"
   ]
  },
  {
   "cell_type": "code",
   "execution_count": 109,
   "metadata": {},
   "outputs": [],
   "source": [
    "# Second execution\n",
    "# Sum up the counts of each vocabulary word\n",
    "X_train_dist_bow = np.sum(X_train_bow, axis=0)"
   ]
  },
  {
   "cell_type": "markdown",
   "metadata": {},
   "source": [
    "Nous allons afficher 50 mots les plus fréquents :"
   ]
  },
  {
   "cell_type": "code",
   "execution_count": 110,
   "metadata": {},
   "outputs": [
    {
     "data": {
      "text/html": [
       "<div>\n",
       "<style scoped>\n",
       "    .dataframe tbody tr th:only-of-type {\n",
       "        vertical-align: middle;\n",
       "    }\n",
       "\n",
       "    .dataframe tbody tr th {\n",
       "        vertical-align: top;\n",
       "    }\n",
       "\n",
       "    .dataframe thead th {\n",
       "        text-align: right;\n",
       "    }\n",
       "</style>\n",
       "<table border=\"1\" class=\"dataframe\">\n",
       "  <thead>\n",
       "    <tr style=\"text-align: right;\">\n",
       "      <th></th>\n",
       "      <th>Word</th>\n",
       "      <th>Frequence</th>\n",
       "      <th>Pourcentage</th>\n",
       "    </tr>\n",
       "  </thead>\n",
       "  <tbody>\n",
       "    <tr>\n",
       "      <th>18387</th>\n",
       "      <td>file</td>\n",
       "      <td>17905</td>\n",
       "      <td>0.60</td>\n",
       "    </tr>\n",
       "    <tr>\n",
       "      <th>26607</th>\n",
       "      <td>like</td>\n",
       "      <td>15817</td>\n",
       "      <td>0.53</td>\n",
       "    </tr>\n",
       "    <tr>\n",
       "      <th>20377</th>\n",
       "      <td>get</td>\n",
       "      <td>13553</td>\n",
       "      <td>0.45</td>\n",
       "    </tr>\n",
       "    <tr>\n",
       "      <th>11391</th>\n",
       "      <td>code</td>\n",
       "      <td>13308</td>\n",
       "      <td>0.44</td>\n",
       "    </tr>\n",
       "    <tr>\n",
       "      <th>10891</th>\n",
       "      <td>class</td>\n",
       "      <td>12308</td>\n",
       "      <td>0.41</td>\n",
       "    </tr>\n",
       "    <tr>\n",
       "      <th>6656</th>\n",
       "      <td>android</td>\n",
       "      <td>12172</td>\n",
       "      <td>0.41</td>\n",
       "    </tr>\n",
       "    <tr>\n",
       "      <th>41656</th>\n",
       "      <td>string</td>\n",
       "      <td>10306</td>\n",
       "      <td>0.34</td>\n",
       "    </tr>\n",
       "    <tr>\n",
       "      <th>24891</th>\n",
       "      <td>java</td>\n",
       "      <td>9992</td>\n",
       "      <td>0.33</td>\n",
       "    </tr>\n",
       "    <tr>\n",
       "      <th>13982</th>\n",
       "      <td>data</td>\n",
       "      <td>9628</td>\n",
       "      <td>0.32</td>\n",
       "    </tr>\n",
       "    <tr>\n",
       "      <th>16947</th>\n",
       "      <td>error</td>\n",
       "      <td>9572</td>\n",
       "      <td>0.32</td>\n",
       "    </tr>\n",
       "    <tr>\n",
       "      <th>46043</th>\n",
       "      <td>user</td>\n",
       "      <td>9200</td>\n",
       "      <td>0.31</td>\n",
       "    </tr>\n",
       "    <tr>\n",
       "      <th>30051</th>\n",
       "      <td>name</td>\n",
       "      <td>9117</td>\n",
       "      <td>0.30</td>\n",
       "    </tr>\n",
       "    <tr>\n",
       "      <th>46815</th>\n",
       "      <td>value</td>\n",
       "      <td>8890</td>\n",
       "      <td>0.30</td>\n",
       "    </tr>\n",
       "    <tr>\n",
       "      <th>19921</th>\n",
       "      <td>function</td>\n",
       "      <td>8375</td>\n",
       "      <td>0.28</td>\n",
       "    </tr>\n",
       "    <tr>\n",
       "      <th>37310</th>\n",
       "      <td>return</td>\n",
       "      <td>8168</td>\n",
       "      <td>0.27</td>\n",
       "    </tr>\n",
       "    <tr>\n",
       "      <th>31472</th>\n",
       "      <td>object</td>\n",
       "      <td>7543</td>\n",
       "      <td>0.25</td>\n",
       "    </tr>\n",
       "    <tr>\n",
       "      <th>35195</th>\n",
       "      <td>public</td>\n",
       "      <td>7457</td>\n",
       "      <td>0.25</td>\n",
       "    </tr>\n",
       "    <tr>\n",
       "      <th>28880</th>\n",
       "      <td>method</td>\n",
       "      <td>7455</td>\n",
       "      <td>0.25</td>\n",
       "    </tr>\n",
       "    <tr>\n",
       "      <th>44758</th>\n",
       "      <td>type</td>\n",
       "      <td>7321</td>\n",
       "      <td>0.24</td>\n",
       "    </tr>\n",
       "    <tr>\n",
       "      <th>22426</th>\n",
       "      <td>http</td>\n",
       "      <td>7282</td>\n",
       "      <td>0.24</td>\n",
       "    </tr>\n",
       "    <tr>\n",
       "      <th>43697</th>\n",
       "      <td>time</td>\n",
       "      <td>6968</td>\n",
       "      <td>0.23</td>\n",
       "    </tr>\n",
       "    <tr>\n",
       "      <th>7244</th>\n",
       "      <td>app</td>\n",
       "      <td>6850</td>\n",
       "      <td>0.23</td>\n",
       "    </tr>\n",
       "    <tr>\n",
       "      <th>39362</th>\n",
       "      <td>set</td>\n",
       "      <td>6732</td>\n",
       "      <td>0.22</td>\n",
       "    </tr>\n",
       "    <tr>\n",
       "      <th>7443</th>\n",
       "      <td>application</td>\n",
       "      <td>6657</td>\n",
       "      <td>0.22</td>\n",
       "    </tr>\n",
       "    <tr>\n",
       "      <th>27148</th>\n",
       "      <td>list</td>\n",
       "      <td>6326</td>\n",
       "      <td>0.21</td>\n",
       "    </tr>\n",
       "    <tr>\n",
       "      <th>9705</th>\n",
       "      <td>c</td>\n",
       "      <td>6310</td>\n",
       "      <td>0.21</td>\n",
       "    </tr>\n",
       "    <tr>\n",
       "      <th>39113</th>\n",
       "      <td>server</td>\n",
       "      <td>5997</td>\n",
       "      <td>0.20</td>\n",
       "    </tr>\n",
       "    <tr>\n",
       "      <th>11877</th>\n",
       "      <td>com</td>\n",
       "      <td>5732</td>\n",
       "      <td>0.19</td>\n",
       "    </tr>\n",
       "    <tr>\n",
       "      <th>43175</th>\n",
       "      <td>text</td>\n",
       "      <td>5613</td>\n",
       "      <td>0.19</td>\n",
       "    </tr>\n",
       "    <tr>\n",
       "      <th>23211</th>\n",
       "      <td>image</td>\n",
       "      <td>5573</td>\n",
       "      <td>0.19</td>\n",
       "    </tr>\n",
       "    <tr>\n",
       "      <th>35413</th>\n",
       "      <td>python</td>\n",
       "      <td>5525</td>\n",
       "      <td>0.18</td>\n",
       "    </tr>\n",
       "    <tr>\n",
       "      <th>47415</th>\n",
       "      <td>view</td>\n",
       "      <td>5153</td>\n",
       "      <td>0.17</td>\n",
       "    </tr>\n",
       "    <tr>\n",
       "      <th>34896</th>\n",
       "      <td>project</td>\n",
       "      <td>5133</td>\n",
       "      <td>0.17</td>\n",
       "    </tr>\n",
       "    <tr>\n",
       "      <th>20874</th>\n",
       "      <td>git</td>\n",
       "      <td>5127</td>\n",
       "      <td>0.17</td>\n",
       "    </tr>\n",
       "    <tr>\n",
       "      <th>47264</th>\n",
       "      <td>version</td>\n",
       "      <td>5085</td>\n",
       "      <td>0.17</td>\n",
       "    </tr>\n",
       "    <tr>\n",
       "      <th>42476</th>\n",
       "      <td>system</td>\n",
       "      <td>4975</td>\n",
       "      <td>0.17</td>\n",
       "    </tr>\n",
       "    <tr>\n",
       "      <th>43046</th>\n",
       "      <td>test</td>\n",
       "      <td>4913</td>\n",
       "      <td>0.16</td>\n",
       "    </tr>\n",
       "    <tr>\n",
       "      <th>42619</th>\n",
       "      <td>table</td>\n",
       "      <td>4786</td>\n",
       "      <td>0.16</td>\n",
       "    </tr>\n",
       "    <tr>\n",
       "      <th>32767</th>\n",
       "      <td>page</td>\n",
       "      <td>4652</td>\n",
       "      <td>0.16</td>\n",
       "    </tr>\n",
       "    <tr>\n",
       "      <th>47021</th>\n",
       "      <td>var</td>\n",
       "      <td>4625</td>\n",
       "      <td>0.15</td>\n",
       "    </tr>\n",
       "    <tr>\n",
       "      <th>24151</th>\n",
       "      <td>int</td>\n",
       "      <td>4562</td>\n",
       "      <td>0.15</td>\n",
       "    </tr>\n",
       "    <tr>\n",
       "      <th>5950</th>\n",
       "      <td>add</td>\n",
       "      <td>4454</td>\n",
       "      <td>0.15</td>\n",
       "    </tr>\n",
       "    <tr>\n",
       "      <th>15548</th>\n",
       "      <td>div</td>\n",
       "      <td>4412</td>\n",
       "      <td>0.15</td>\n",
       "    </tr>\n",
       "    <tr>\n",
       "      <th>38360</th>\n",
       "      <td>script</td>\n",
       "      <td>4243</td>\n",
       "      <td>0.14</td>\n",
       "    </tr>\n",
       "    <tr>\n",
       "      <th>48337</th>\n",
       "      <td>web</td>\n",
       "      <td>4229</td>\n",
       "      <td>0.14</td>\n",
       "    </tr>\n",
       "    <tr>\n",
       "      <th>48693</th>\n",
       "      <td>window</td>\n",
       "      <td>4150</td>\n",
       "      <td>0.14</td>\n",
       "    </tr>\n",
       "    <tr>\n",
       "      <th>12010</th>\n",
       "      <td>command</td>\n",
       "      <td>4137</td>\n",
       "      <td>0.14</td>\n",
       "    </tr>\n",
       "    <tr>\n",
       "      <th>31290</th>\n",
       "      <td>number</td>\n",
       "      <td>4062</td>\n",
       "      <td>0.14</td>\n",
       "    </tr>\n",
       "    <tr>\n",
       "      <th>32353</th>\n",
       "      <td>org</td>\n",
       "      <td>4029</td>\n",
       "      <td>0.13</td>\n",
       "    </tr>\n",
       "    <tr>\n",
       "      <th>7793</th>\n",
       "      <td>array</td>\n",
       "      <td>4018</td>\n",
       "      <td>0.13</td>\n",
       "    </tr>\n",
       "  </tbody>\n",
       "</table>\n",
       "</div>"
      ],
      "text/plain": [
       "              Word  Frequence  Pourcentage\n",
       "18387         file      17905         0.60\n",
       "26607         like      15817         0.53\n",
       "20377          get      13553         0.45\n",
       "11391         code      13308         0.44\n",
       "10891        class      12308         0.41\n",
       "6656       android      12172         0.41\n",
       "41656       string      10306         0.34\n",
       "24891         java       9992         0.33\n",
       "13982         data       9628         0.32\n",
       "16947        error       9572         0.32\n",
       "46043         user       9200         0.31\n",
       "30051         name       9117         0.30\n",
       "46815        value       8890         0.30\n",
       "19921     function       8375         0.28\n",
       "37310       return       8168         0.27\n",
       "31472       object       7543         0.25\n",
       "35195       public       7457         0.25\n",
       "28880       method       7455         0.25\n",
       "44758         type       7321         0.24\n",
       "22426         http       7282         0.24\n",
       "43697         time       6968         0.23\n",
       "7244           app       6850         0.23\n",
       "39362          set       6732         0.22\n",
       "7443   application       6657         0.22\n",
       "27148         list       6326         0.21\n",
       "9705             c       6310         0.21\n",
       "39113       server       5997         0.20\n",
       "11877          com       5732         0.19\n",
       "43175         text       5613         0.19\n",
       "23211        image       5573         0.19\n",
       "35413       python       5525         0.18\n",
       "47415         view       5153         0.17\n",
       "34896      project       5133         0.17\n",
       "20874          git       5127         0.17\n",
       "47264      version       5085         0.17\n",
       "42476       system       4975         0.17\n",
       "43046         test       4913         0.16\n",
       "42619        table       4786         0.16\n",
       "32767         page       4652         0.16\n",
       "47021          var       4625         0.15\n",
       "24151          int       4562         0.15\n",
       "5950           add       4454         0.15\n",
       "15548          div       4412         0.15\n",
       "38360       script       4243         0.14\n",
       "48337          web       4229         0.14\n",
       "48693       window       4150         0.14\n",
       "12010      command       4137         0.14\n",
       "31290       number       4062         0.14\n",
       "32353          org       4029         0.13\n",
       "7793         array       4018         0.13"
      ]
     },
     "execution_count": 110,
     "metadata": {},
     "output_type": "execute_result"
    }
   ],
   "source": [
    "# Second execution\n",
    "freq_features = DataFrame(zip(X_train_vocab_bow, X_train_dist_bow))\n",
    "freq_features.rename({0:'Word', 1:'Frequence'}, axis = 1, inplace = True)\n",
    "freq_features.sort_values(['Frequence'], inplace = True, ascending=False)\n",
    "freq_features['Pourcentage'] = round(freq_features['Frequence']*100/sum(freq_features['Frequence']),2)\n",
    "freq_features[:50]"
   ]
  },
  {
   "cell_type": "markdown",
   "metadata": {},
   "source": [
    "#### Cible"
   ]
  },
  {
   "cell_type": "code",
   "execution_count": 112,
   "metadata": {},
   "outputs": [
    {
     "name": "stdout",
     "output_type": "stream",
     "text": [
      "Creating the bag of words...\n",
      "\n"
     ]
    }
   ],
   "source": [
    "print (\"Creating the bag of words...\\n\")\n",
    "\n",
    "y_train_bow = vectorizer.fit_transform(y_train_clean)\n",
    "\n",
    "# Numpy arrays are easy to work with, so convert the result to an \n",
    "# array\n",
    "y_train_bow = y_train_bow.toarray()"
   ]
  },
  {
   "cell_type": "code",
   "execution_count": 113,
   "metadata": {},
   "outputs": [
    {
     "data": {
      "text/plain": [
       "(35000, 9411)"
      ]
     },
     "execution_count": 113,
     "metadata": {},
     "output_type": "execute_result"
    }
   ],
   "source": [
    "y_train_bow.shape"
   ]
  },
  {
   "cell_type": "code",
   "execution_count": 115,
   "metadata": {},
   "outputs": [],
   "source": [
    "# Creating tag's vocabulary\n",
    "y_train_vocab_bow = vectorizer.get_feature_names()"
   ]
  },
  {
   "cell_type": "code",
   "execution_count": 117,
   "metadata": {},
   "outputs": [
    {
     "data": {
      "text/html": [
       "<div>\n",
       "<style scoped>\n",
       "    .dataframe tbody tr th:only-of-type {\n",
       "        vertical-align: middle;\n",
       "    }\n",
       "\n",
       "    .dataframe tbody tr th {\n",
       "        vertical-align: top;\n",
       "    }\n",
       "\n",
       "    .dataframe thead th {\n",
       "        text-align: right;\n",
       "    }\n",
       "</style>\n",
       "<table border=\"1\" class=\"dataframe\">\n",
       "  <thead>\n",
       "    <tr style=\"text-align: right;\">\n",
       "      <th></th>\n",
       "      <th>Word</th>\n",
       "      <th>Frequence</th>\n",
       "      <th>Pourcentage</th>\n",
       "    </tr>\n",
       "  </thead>\n",
       "  <tbody>\n",
       "    <tr>\n",
       "      <th>4367</th>\n",
       "      <td>javascript</td>\n",
       "      <td>3244</td>\n",
       "      <td>2.96</td>\n",
       "    </tr>\n",
       "    <tr>\n",
       "      <th>4329</th>\n",
       "      <td>java</td>\n",
       "      <td>3195</td>\n",
       "      <td>2.92</td>\n",
       "    </tr>\n",
       "    <tr>\n",
       "      <th>6567</th>\n",
       "      <td>python</td>\n",
       "      <td>3189</td>\n",
       "      <td>2.91</td>\n",
       "    </tr>\n",
       "    <tr>\n",
       "      <th>234</th>\n",
       "      <td>android</td>\n",
       "      <td>2542</td>\n",
       "      <td>2.32</td>\n",
       "    </tr>\n",
       "    <tr>\n",
       "      <th>1220</th>\n",
       "      <td>c#</td>\n",
       "      <td>2419</td>\n",
       "      <td>2.21</td>\n",
       "    </tr>\n",
       "    <tr>\n",
       "      <th>1227</th>\n",
       "      <td>c++</td>\n",
       "      <td>1580</td>\n",
       "      <td>1.44</td>\n",
       "    </tr>\n",
       "    <tr>\n",
       "      <th>4219</th>\n",
       "      <td>ios</td>\n",
       "      <td>1368</td>\n",
       "      <td>1.25</td>\n",
       "    </tr>\n",
       "    <tr>\n",
       "      <th>4453</th>\n",
       "      <td>jquery</td>\n",
       "      <td>1260</td>\n",
       "      <td>1.15</td>\n",
       "    </tr>\n",
       "    <tr>\n",
       "      <th>6166</th>\n",
       "      <td>php</td>\n",
       "      <td>1224</td>\n",
       "      <td>1.12</td>\n",
       "    </tr>\n",
       "    <tr>\n",
       "      <th>3339</th>\n",
       "      <td>git</td>\n",
       "      <td>1173</td>\n",
       "      <td>1.07</td>\n",
       "    </tr>\n",
       "    <tr>\n",
       "      <th>5</th>\n",
       "      <td>.net</td>\n",
       "      <td>1165</td>\n",
       "      <td>1.06</td>\n",
       "    </tr>\n",
       "    <tr>\n",
       "      <th>3817</th>\n",
       "      <td>html</td>\n",
       "      <td>1140</td>\n",
       "      <td>1.04</td>\n",
       "    </tr>\n",
       "    <tr>\n",
       "      <th>1908</th>\n",
       "      <td>css</td>\n",
       "      <td>944</td>\n",
       "      <td>0.86</td>\n",
       "    </tr>\n",
       "    <tr>\n",
       "      <th>4255</th>\n",
       "      <td>iphone</td>\n",
       "      <td>911</td>\n",
       "      <td>0.83</td>\n",
       "    </tr>\n",
       "    <tr>\n",
       "      <th>1219</th>\n",
       "      <td>c</td>\n",
       "      <td>901</td>\n",
       "      <td>0.82</td>\n",
       "    </tr>\n",
       "    <tr>\n",
       "      <th>5768</th>\n",
       "      <td>objective-c</td>\n",
       "      <td>890</td>\n",
       "      <td>0.81</td>\n",
       "    </tr>\n",
       "    <tr>\n",
       "      <th>7710</th>\n",
       "      <td>sql</td>\n",
       "      <td>817</td>\n",
       "      <td>0.75</td>\n",
       "    </tr>\n",
       "    <tr>\n",
       "      <th>5398</th>\n",
       "      <td>mysql</td>\n",
       "      <td>749</td>\n",
       "      <td>0.68</td>\n",
       "    </tr>\n",
       "    <tr>\n",
       "      <th>4788</th>\n",
       "      <td>linux</td>\n",
       "      <td>674</td>\n",
       "      <td>0.62</td>\n",
       "    </tr>\n",
       "    <tr>\n",
       "      <th>7904</th>\n",
       "      <td>string</td>\n",
       "      <td>625</td>\n",
       "      <td>0.57</td>\n",
       "    </tr>\n",
       "    <tr>\n",
       "      <th>5585</th>\n",
       "      <td>node.js</td>\n",
       "      <td>584</td>\n",
       "      <td>0.53</td>\n",
       "    </tr>\n",
       "    <tr>\n",
       "      <th>959</th>\n",
       "      <td>bash</td>\n",
       "      <td>536</td>\n",
       "      <td>0.49</td>\n",
       "    </tr>\n",
       "    <tr>\n",
       "      <th>182</th>\n",
       "      <td>algorithm</td>\n",
       "      <td>535</td>\n",
       "      <td>0.49</td>\n",
       "    </tr>\n",
       "    <tr>\n",
       "      <th>7095</th>\n",
       "      <td>ruby-on-rails</td>\n",
       "      <td>502</td>\n",
       "      <td>0.46</td>\n",
       "    </tr>\n",
       "    <tr>\n",
       "      <th>7088</th>\n",
       "      <td>ruby</td>\n",
       "      <td>499</td>\n",
       "      <td>0.46</td>\n",
       "    </tr>\n",
       "    <tr>\n",
       "      <th>693</th>\n",
       "      <td>arrays</td>\n",
       "      <td>480</td>\n",
       "      <td>0.44</td>\n",
       "    </tr>\n",
       "    <tr>\n",
       "      <th>6656</th>\n",
       "      <td>r</td>\n",
       "      <td>468</td>\n",
       "      <td>0.43</td>\n",
       "    </tr>\n",
       "    <tr>\n",
       "      <th>6124</th>\n",
       "      <td>performance</td>\n",
       "      <td>464</td>\n",
       "      <td>0.42</td>\n",
       "    </tr>\n",
       "    <tr>\n",
       "      <th>7726</th>\n",
       "      <td>sql-server</td>\n",
       "      <td>464</td>\n",
       "      <td>0.42</td>\n",
       "    </tr>\n",
       "    <tr>\n",
       "      <th>2047</th>\n",
       "      <td>database</td>\n",
       "      <td>445</td>\n",
       "      <td>0.41</td>\n",
       "    </tr>\n",
       "    <tr>\n",
       "      <th>713</th>\n",
       "      <td>asp.net</td>\n",
       "      <td>426</td>\n",
       "      <td>0.39</td>\n",
       "    </tr>\n",
       "    <tr>\n",
       "      <th>726</th>\n",
       "      <td>asp.net-mvc</td>\n",
       "      <td>419</td>\n",
       "      <td>0.38</td>\n",
       "    </tr>\n",
       "    <tr>\n",
       "      <th>9133</th>\n",
       "      <td>windows</td>\n",
       "      <td>415</td>\n",
       "      <td>0.38</td>\n",
       "    </tr>\n",
       "    <tr>\n",
       "      <th>4500</th>\n",
       "      <td>json</td>\n",
       "      <td>412</td>\n",
       "      <td>0.38</td>\n",
       "    </tr>\n",
       "    <tr>\n",
       "      <th>2352</th>\n",
       "      <td>django</td>\n",
       "      <td>408</td>\n",
       "      <td>0.37</td>\n",
       "    </tr>\n",
       "    <tr>\n",
       "      <th>520</th>\n",
       "      <td>angularjs</td>\n",
       "      <td>398</td>\n",
       "      <td>0.36</td>\n",
       "    </tr>\n",
       "    <tr>\n",
       "      <th>9264</th>\n",
       "      <td>xcode</td>\n",
       "      <td>368</td>\n",
       "      <td>0.34</td>\n",
       "    </tr>\n",
       "    <tr>\n",
       "      <th>4919</th>\n",
       "      <td>macos</td>\n",
       "      <td>364</td>\n",
       "      <td>0.33</td>\n",
       "    </tr>\n",
       "    <tr>\n",
       "      <th>7439</th>\n",
       "      <td>shell</td>\n",
       "      <td>363</td>\n",
       "      <td>0.33</td>\n",
       "    </tr>\n",
       "    <tr>\n",
       "      <th>5374</th>\n",
       "      <td>multithreading</td>\n",
       "      <td>339</td>\n",
       "      <td>0.31</td>\n",
       "    </tr>\n",
       "    <tr>\n",
       "      <th>1496</th>\n",
       "      <td>cocoa-touch</td>\n",
       "      <td>334</td>\n",
       "      <td>0.30</td>\n",
       "    </tr>\n",
       "    <tr>\n",
       "      <th>8031</th>\n",
       "      <td>swift</td>\n",
       "      <td>334</td>\n",
       "      <td>0.30</td>\n",
       "    </tr>\n",
       "    <tr>\n",
       "      <th>6831</th>\n",
       "      <td>regex</td>\n",
       "      <td>306</td>\n",
       "      <td>0.28</td>\n",
       "    </tr>\n",
       "    <tr>\n",
       "      <th>2576</th>\n",
       "      <td>eclipse</td>\n",
       "      <td>291</td>\n",
       "      <td>0.27</td>\n",
       "    </tr>\n",
       "    <tr>\n",
       "      <th>8900</th>\n",
       "      <td>vim</td>\n",
       "      <td>278</td>\n",
       "      <td>0.25</td>\n",
       "    </tr>\n",
       "    <tr>\n",
       "      <th>5841</th>\n",
       "      <td>oop</td>\n",
       "      <td>271</td>\n",
       "      <td>0.25</td>\n",
       "    </tr>\n",
       "    <tr>\n",
       "      <th>3843</th>\n",
       "      <td>html5</td>\n",
       "      <td>257</td>\n",
       "      <td>0.23</td>\n",
       "    </tr>\n",
       "    <tr>\n",
       "      <th>8937</th>\n",
       "      <td>visual-studio</td>\n",
       "      <td>254</td>\n",
       "      <td>0.23</td>\n",
       "    </tr>\n",
       "    <tr>\n",
       "      <th>3854</th>\n",
       "      <td>http</td>\n",
       "      <td>253</td>\n",
       "      <td>0.23</td>\n",
       "    </tr>\n",
       "    <tr>\n",
       "      <th>4800</th>\n",
       "      <td>list</td>\n",
       "      <td>248</td>\n",
       "      <td>0.23</td>\n",
       "    </tr>\n",
       "  </tbody>\n",
       "</table>\n",
       "</div>"
      ],
      "text/plain": [
       "                Word  Frequence  Pourcentage\n",
       "4367      javascript       3244         2.96\n",
       "4329            java       3195         2.92\n",
       "6567          python       3189         2.91\n",
       "234          android       2542         2.32\n",
       "1220              c#       2419         2.21\n",
       "1227             c++       1580         1.44\n",
       "4219             ios       1368         1.25\n",
       "4453          jquery       1260         1.15\n",
       "6166             php       1224         1.12\n",
       "3339             git       1173         1.07\n",
       "5               .net       1165         1.06\n",
       "3817            html       1140         1.04\n",
       "1908             css        944         0.86\n",
       "4255          iphone        911         0.83\n",
       "1219               c        901         0.82\n",
       "5768     objective-c        890         0.81\n",
       "7710             sql        817         0.75\n",
       "5398           mysql        749         0.68\n",
       "4788           linux        674         0.62\n",
       "7904          string        625         0.57\n",
       "5585         node.js        584         0.53\n",
       "959             bash        536         0.49\n",
       "182        algorithm        535         0.49\n",
       "7095   ruby-on-rails        502         0.46\n",
       "7088            ruby        499         0.46\n",
       "693           arrays        480         0.44\n",
       "6656               r        468         0.43\n",
       "6124     performance        464         0.42\n",
       "7726      sql-server        464         0.42\n",
       "2047        database        445         0.41\n",
       "713          asp.net        426         0.39\n",
       "726      asp.net-mvc        419         0.38\n",
       "9133         windows        415         0.38\n",
       "4500            json        412         0.38\n",
       "2352          django        408         0.37\n",
       "520        angularjs        398         0.36\n",
       "9264           xcode        368         0.34\n",
       "4919           macos        364         0.33\n",
       "7439           shell        363         0.33\n",
       "5374  multithreading        339         0.31\n",
       "1496     cocoa-touch        334         0.30\n",
       "8031           swift        334         0.30\n",
       "6831           regex        306         0.28\n",
       "2576         eclipse        291         0.27\n",
       "8900             vim        278         0.25\n",
       "5841             oop        271         0.25\n",
       "3843           html5        257         0.23\n",
       "8937   visual-studio        254         0.23\n",
       "3854            http        253         0.23\n",
       "4800            list        248         0.23"
      ]
     },
     "execution_count": 117,
     "metadata": {},
     "output_type": "execute_result"
    }
   ],
   "source": [
    "freq_target = DataFrame(zip(y_train_vocab_bow, y_train_dist_bow))\n",
    "freq_target.rename({0:'Word', 1:'Frequence'}, axis = 1, inplace = True)\n",
    "freq_target.sort_values(['Frequence'], inplace = True, ascending=False)\n",
    "freq_target['Pourcentage'] = round(freq_target['Frequence']*100/sum(freq_target['Frequence']),2)\n",
    "freq_target[:50]"
   ]
  },
  {
   "cell_type": "markdown",
   "metadata": {},
   "source": [
    "#### Sauvegarder les données"
   ]
  },
  {
   "cell_type": "code",
   "execution_count": null,
   "metadata": {},
   "outputs": [],
   "source": [
    "np.save('Data/X_train_bow', X_train_bow)\n",
    "np.save('Data/X_train_vocab_bow', X_train_vocab_bow)\n",
    "np.save('Data/X_train_dist_bow', X_train_dist_bow)\n",
    "np.save('Data/y_train_bow', y_train_bow)\n",
    "np.save('Data/y_train_vocab_bow', y_train_vocab_bow)\n",
    "np.save('Data/y_train_dist_bow', y_train_dist_bow)"
   ]
  },
  {
   "cell_type": "markdown",
   "metadata": {},
   "source": [
    "### TF - IDF"
   ]
  },
  {
   "cell_type": "markdown",
   "metadata": {},
   "source": [
    "#### Feature"
   ]
  },
  {
   "cell_type": "code",
   "execution_count": 108,
   "metadata": {},
   "outputs": [
    {
     "name": "stdout",
     "output_type": "stream",
     "text": [
      "Creating the TF - IDF...\n",
      "\n"
     ]
    }
   ],
   "source": [
    "print (\"Creating the TF - IDF...\\n\")\n",
    "# Initialize the \"CountVectorizer\" object, which is scikit-learn's\n",
    "# bag of words tool.  \n",
    "tf_idf = TfidfVectorizer(analyzer = \"word\",   \\\n",
    "                             tokenizer = my_tokenizer,    \\\n",
    "                             preprocessor = None, \\\n",
    "                             strip_accents=None,\n",
    "                             max_features = 50000,\n",
    "                             lowercase=False,\n",
    "                             stop_words = stop_words)                       \n",
    "                            \n",
    "\n",
    "# fit_transform() does two functions: First, it fits the model\n",
    "# and learns the vocabulary; second, it transforms our training data\n",
    "# into feature vectors. The input to fit_transform should be a list of \n",
    "# strings.\n",
    "X_train_tfidf = tf_idf.fit_transform(X_train['post'])\n",
    "\n",
    "# Numpy arrays are easy to work with, so convert the result to an \n",
    "# array\n",
    "X_train_tfidf = X_train_tfidf.toarray()"
   ]
  },
  {
   "cell_type": "code",
   "execution_count": 109,
   "metadata": {},
   "outputs": [
    {
     "data": {
      "text/plain": [
       "(35000, 50000)"
      ]
     },
     "execution_count": 109,
     "metadata": {},
     "output_type": "execute_result"
    }
   ],
   "source": [
    "X_train_tfidf.shape"
   ]
  },
  {
   "cell_type": "code",
   "execution_count": 110,
   "metadata": {},
   "outputs": [],
   "source": [
    "# Take a l vocabulary\n",
    "X_train_vocab_tfidf = tf_idf.get_feature_names()"
   ]
  },
  {
   "cell_type": "code",
   "execution_count": 111,
   "metadata": {},
   "outputs": [],
   "source": [
    "# Sum up the counts of each vocabulary word\n",
    "X_train_dist_tfidf = np.sum(X_train_tfidf, axis=0)"
   ]
  },
  {
   "cell_type": "markdown",
   "metadata": {},
   "source": [
    "Nous allons afficher 50 mots les plus fréquents :"
   ]
  },
  {
   "cell_type": "code",
   "execution_count": 112,
   "metadata": {
    "scrolled": true
   },
   "outputs": [
    {
     "data": {
      "text/html": [
       "<div>\n",
       "<style scoped>\n",
       "    .dataframe tbody tr th:only-of-type {\n",
       "        vertical-align: middle;\n",
       "    }\n",
       "\n",
       "    .dataframe tbody tr th {\n",
       "        vertical-align: top;\n",
       "    }\n",
       "\n",
       "    .dataframe thead th {\n",
       "        text-align: right;\n",
       "    }\n",
       "</style>\n",
       "<table border=\"1\" class=\"dataframe\">\n",
       "  <thead>\n",
       "    <tr style=\"text-align: right;\">\n",
       "      <th></th>\n",
       "      <th>Word</th>\n",
       "      <th>Frequence</th>\n",
       "      <th>Pourcentage</th>\n",
       "    </tr>\n",
       "  </thead>\n",
       "  <tbody>\n",
       "    <tr>\n",
       "      <th>18472</th>\n",
       "      <td>file</td>\n",
       "      <td>603.006290</td>\n",
       "      <td>0.30</td>\n",
       "    </tr>\n",
       "    <tr>\n",
       "      <th>45663</th>\n",
       "      <td>use</td>\n",
       "      <td>469.768009</td>\n",
       "      <td>0.23</td>\n",
       "    </tr>\n",
       "    <tr>\n",
       "      <th>46303</th>\n",
       "      <td>using</td>\n",
       "      <td>466.642574</td>\n",
       "      <td>0.23</td>\n",
       "    </tr>\n",
       "    <tr>\n",
       "      <th>26627</th>\n",
       "      <td>like</td>\n",
       "      <td>459.451247</td>\n",
       "      <td>0.23</td>\n",
       "    </tr>\n",
       "    <tr>\n",
       "      <th>48020</th>\n",
       "      <td>way</td>\n",
       "      <td>429.951371</td>\n",
       "      <td>0.21</td>\n",
       "    </tr>\n",
       "    <tr>\n",
       "      <th>41630</th>\n",
       "      <td>string</td>\n",
       "      <td>413.904356</td>\n",
       "      <td>0.20</td>\n",
       "    </tr>\n",
       "    <tr>\n",
       "      <th>20442</th>\n",
       "      <td>get</td>\n",
       "      <td>408.678822</td>\n",
       "      <td>0.20</td>\n",
       "    </tr>\n",
       "    <tr>\n",
       "      <th>11431</th>\n",
       "      <td>code</td>\n",
       "      <td>401.661426</td>\n",
       "      <td>0.20</td>\n",
       "    </tr>\n",
       "    <tr>\n",
       "      <th>47748</th>\n",
       "      <td>want</td>\n",
       "      <td>389.756934</td>\n",
       "      <td>0.19</td>\n",
       "    </tr>\n",
       "    <tr>\n",
       "      <th>10931</th>\n",
       "      <td>class</td>\n",
       "      <td>382.882799</td>\n",
       "      <td>0.19</td>\n",
       "    </tr>\n",
       "    <tr>\n",
       "      <th>6626</th>\n",
       "      <td>android</td>\n",
       "      <td>346.956384</td>\n",
       "      <td>0.17</td>\n",
       "    </tr>\n",
       "    <tr>\n",
       "      <th>20003</th>\n",
       "      <td>function</td>\n",
       "      <td>338.379802</td>\n",
       "      <td>0.17</td>\n",
       "    </tr>\n",
       "    <tr>\n",
       "      <th>31861</th>\n",
       "      <td>one</td>\n",
       "      <td>335.101353</td>\n",
       "      <td>0.16</td>\n",
       "    </tr>\n",
       "    <tr>\n",
       "      <th>14023</th>\n",
       "      <td>data</td>\n",
       "      <td>321.777218</td>\n",
       "      <td>0.16</td>\n",
       "    </tr>\n",
       "    <tr>\n",
       "      <th>24880</th>\n",
       "      <td>java</td>\n",
       "      <td>319.489767</td>\n",
       "      <td>0.16</td>\n",
       "    </tr>\n",
       "    <tr>\n",
       "      <th>46806</th>\n",
       "      <td>value</td>\n",
       "      <td>318.697193</td>\n",
       "      <td>0.16</td>\n",
       "    </tr>\n",
       "    <tr>\n",
       "      <th>30633</th>\n",
       "      <td>new</td>\n",
       "      <td>311.147504</td>\n",
       "      <td>0.15</td>\n",
       "    </tr>\n",
       "    <tr>\n",
       "      <th>31522</th>\n",
       "      <td>object</td>\n",
       "      <td>301.925447</td>\n",
       "      <td>0.15</td>\n",
       "    </tr>\n",
       "    <tr>\n",
       "      <th>46060</th>\n",
       "      <td>user</td>\n",
       "      <td>300.797593</td>\n",
       "      <td>0.15</td>\n",
       "    </tr>\n",
       "    <tr>\n",
       "      <th>30343</th>\n",
       "      <td>need</td>\n",
       "      <td>300.738084</td>\n",
       "      <td>0.15</td>\n",
       "    </tr>\n",
       "    <tr>\n",
       "      <th>25713</th>\n",
       "      <td>know</td>\n",
       "      <td>297.234604</td>\n",
       "      <td>0.15</td>\n",
       "    </tr>\n",
       "    <tr>\n",
       "      <th>30056</th>\n",
       "      <td>name</td>\n",
       "      <td>294.210063</td>\n",
       "      <td>0.14</td>\n",
       "    </tr>\n",
       "    <tr>\n",
       "      <th>28892</th>\n",
       "      <td>method</td>\n",
       "      <td>293.281376</td>\n",
       "      <td>0.14</td>\n",
       "    </tr>\n",
       "    <tr>\n",
       "      <th>17536</th>\n",
       "      <td>example</td>\n",
       "      <td>291.620957</td>\n",
       "      <td>0.14</td>\n",
       "    </tr>\n",
       "    <tr>\n",
       "      <th>48935</th>\n",
       "      <td>work</td>\n",
       "      <td>289.108553</td>\n",
       "      <td>0.14</td>\n",
       "    </tr>\n",
       "    <tr>\n",
       "      <th>35366</th>\n",
       "      <td>python</td>\n",
       "      <td>288.153645</td>\n",
       "      <td>0.14</td>\n",
       "    </tr>\n",
       "    <tr>\n",
       "      <th>15230</th>\n",
       "      <td>difference</td>\n",
       "      <td>286.574507</td>\n",
       "      <td>0.14</td>\n",
       "    </tr>\n",
       "    <tr>\n",
       "      <th>27155</th>\n",
       "      <td>list</td>\n",
       "      <td>282.063261</td>\n",
       "      <td>0.14</td>\n",
       "    </tr>\n",
       "    <tr>\n",
       "      <th>17041</th>\n",
       "      <td>error</td>\n",
       "      <td>278.797469</td>\n",
       "      <td>0.14</td>\n",
       "    </tr>\n",
       "    <tr>\n",
       "      <th>20917</th>\n",
       "      <td>git</td>\n",
       "      <td>268.329105</td>\n",
       "      <td>0.13</td>\n",
       "    </tr>\n",
       "    <tr>\n",
       "      <th>7433</th>\n",
       "      <td>application</td>\n",
       "      <td>264.879026</td>\n",
       "      <td>0.13</td>\n",
       "    </tr>\n",
       "    <tr>\n",
       "      <th>23172</th>\n",
       "      <td>image</td>\n",
       "      <td>261.569847</td>\n",
       "      <td>0.13</td>\n",
       "    </tr>\n",
       "    <tr>\n",
       "      <th>37270</th>\n",
       "      <td>return</td>\n",
       "      <td>259.949027</td>\n",
       "      <td>0.13</td>\n",
       "    </tr>\n",
       "    <tr>\n",
       "      <th>44795</th>\n",
       "      <td>type</td>\n",
       "      <td>254.012468</td>\n",
       "      <td>0.12</td>\n",
       "    </tr>\n",
       "    <tr>\n",
       "      <th>7216</th>\n",
       "      <td>app</td>\n",
       "      <td>251.755063</td>\n",
       "      <td>0.12</td>\n",
       "    </tr>\n",
       "    <tr>\n",
       "      <th>43718</th>\n",
       "      <td>time</td>\n",
       "      <td>249.330895</td>\n",
       "      <td>0.12</td>\n",
       "    </tr>\n",
       "    <tr>\n",
       "      <th>26941</th>\n",
       "      <td>line</td>\n",
       "      <td>248.204386</td>\n",
       "      <td>0.12</td>\n",
       "    </tr>\n",
       "    <tr>\n",
       "      <th>39332</th>\n",
       "      <td>set</td>\n",
       "      <td>244.715268</td>\n",
       "      <td>0.12</td>\n",
       "    </tr>\n",
       "    <tr>\n",
       "      <th>25074</th>\n",
       "      <td>javascript</td>\n",
       "      <td>243.804697</td>\n",
       "      <td>0.12</td>\n",
       "    </tr>\n",
       "    <tr>\n",
       "      <th>39083</th>\n",
       "      <td>server</td>\n",
       "      <td>242.006849</td>\n",
       "      <td>0.12</td>\n",
       "    </tr>\n",
       "    <tr>\n",
       "      <th>18954</th>\n",
       "      <td>find</td>\n",
       "      <td>241.844343</td>\n",
       "      <td>0.12</td>\n",
       "    </tr>\n",
       "    <tr>\n",
       "      <th>43182</th>\n",
       "      <td>text</td>\n",
       "      <td>240.016901</td>\n",
       "      <td>0.12</td>\n",
       "    </tr>\n",
       "    <tr>\n",
       "      <th>9743</th>\n",
       "      <td>c</td>\n",
       "      <td>239.423690</td>\n",
       "      <td>0.12</td>\n",
       "    </tr>\n",
       "    <tr>\n",
       "      <th>40512</th>\n",
       "      <td>something</td>\n",
       "      <td>230.641066</td>\n",
       "      <td>0.11</td>\n",
       "    </tr>\n",
       "    <tr>\n",
       "      <th>7803</th>\n",
       "      <td>array</td>\n",
       "      <td>227.075153</td>\n",
       "      <td>0.11</td>\n",
       "    </tr>\n",
       "    <tr>\n",
       "      <th>28075</th>\n",
       "      <td>make</td>\n",
       "      <td>224.299983</td>\n",
       "      <td>0.11</td>\n",
       "    </tr>\n",
       "    <tr>\n",
       "      <th>22415</th>\n",
       "      <td>http</td>\n",
       "      <td>222.917874</td>\n",
       "      <td>0.11</td>\n",
       "    </tr>\n",
       "    <tr>\n",
       "      <th>35160</th>\n",
       "      <td>public</td>\n",
       "      <td>222.427222</td>\n",
       "      <td>0.11</td>\n",
       "    </tr>\n",
       "    <tr>\n",
       "      <th>42598</th>\n",
       "      <td>table</td>\n",
       "      <td>220.476824</td>\n",
       "      <td>0.11</td>\n",
       "    </tr>\n",
       "    <tr>\n",
       "      <th>34845</th>\n",
       "      <td>project</td>\n",
       "      <td>216.254614</td>\n",
       "      <td>0.11</td>\n",
       "    </tr>\n",
       "  </tbody>\n",
       "</table>\n",
       "</div>"
      ],
      "text/plain": [
       "              Word   Frequence  Pourcentage\n",
       "18472         file  603.006290         0.30\n",
       "45663          use  469.768009         0.23\n",
       "46303        using  466.642574         0.23\n",
       "26627         like  459.451247         0.23\n",
       "48020          way  429.951371         0.21\n",
       "41630       string  413.904356         0.20\n",
       "20442          get  408.678822         0.20\n",
       "11431         code  401.661426         0.20\n",
       "47748         want  389.756934         0.19\n",
       "10931        class  382.882799         0.19\n",
       "6626       android  346.956384         0.17\n",
       "20003     function  338.379802         0.17\n",
       "31861          one  335.101353         0.16\n",
       "14023         data  321.777218         0.16\n",
       "24880         java  319.489767         0.16\n",
       "46806        value  318.697193         0.16\n",
       "30633          new  311.147504         0.15\n",
       "31522       object  301.925447         0.15\n",
       "46060         user  300.797593         0.15\n",
       "30343         need  300.738084         0.15\n",
       "25713         know  297.234604         0.15\n",
       "30056         name  294.210063         0.14\n",
       "28892       method  293.281376         0.14\n",
       "17536      example  291.620957         0.14\n",
       "48935         work  289.108553         0.14\n",
       "35366       python  288.153645         0.14\n",
       "15230   difference  286.574507         0.14\n",
       "27155         list  282.063261         0.14\n",
       "17041        error  278.797469         0.14\n",
       "20917          git  268.329105         0.13\n",
       "7433   application  264.879026         0.13\n",
       "23172        image  261.569847         0.13\n",
       "37270       return  259.949027         0.13\n",
       "44795         type  254.012468         0.12\n",
       "7216           app  251.755063         0.12\n",
       "43718         time  249.330895         0.12\n",
       "26941         line  248.204386         0.12\n",
       "39332          set  244.715268         0.12\n",
       "25074   javascript  243.804697         0.12\n",
       "39083       server  242.006849         0.12\n",
       "18954         find  241.844343         0.12\n",
       "43182         text  240.016901         0.12\n",
       "9743             c  239.423690         0.12\n",
       "40512    something  230.641066         0.11\n",
       "7803         array  227.075153         0.11\n",
       "28075         make  224.299983         0.11\n",
       "22415         http  222.917874         0.11\n",
       "35160       public  222.427222         0.11\n",
       "42598        table  220.476824         0.11\n",
       "34845      project  216.254614         0.11"
      ]
     },
     "execution_count": 112,
     "metadata": {},
     "output_type": "execute_result"
    }
   ],
   "source": [
    "freq_features = DataFrame(zip(X_train_vocab_tfidf, X_train_dist_tfidf))\n",
    "freq_features.rename({0:'Word', 1:'Frequence'}, axis = 1, inplace = True)\n",
    "freq_features.sort_values(['Frequence'], inplace = True, ascending=False)\n",
    "freq_features['Pourcentage'] = round(freq_features['Frequence']*100/sum(freq_features['Frequence']),2)\n",
    "freq_features[:50]"
   ]
  },
  {
   "cell_type": "markdown",
   "metadata": {},
   "source": [
    "#### Cible"
   ]
  },
  {
   "cell_type": "code",
   "execution_count": 113,
   "metadata": {},
   "outputs": [
    {
     "name": "stdout",
     "output_type": "stream",
     "text": [
      "Creating the TF - IDF...\n",
      "\n"
     ]
    }
   ],
   "source": [
    "print (\"Creating the TF - IDF...\\n\")\n",
    "\n",
    "y_train_tfidf = tf_idf.fit_transform(y_train_clean)\n",
    "\n",
    "# Numpy arrays are easy to work with, so convert the result to an \n",
    "# array\n",
    "y_train_tfidf = y_train_tfidf.toarray()"
   ]
  },
  {
   "cell_type": "code",
   "execution_count": 114,
   "metadata": {},
   "outputs": [
    {
     "data": {
      "text/plain": [
       "(35000, 9417)"
      ]
     },
     "execution_count": 114,
     "metadata": {},
     "output_type": "execute_result"
    }
   ],
   "source": [
    "y_train_tfidf.shape"
   ]
  },
  {
   "cell_type": "code",
   "execution_count": 115,
   "metadata": {},
   "outputs": [],
   "source": [
    "# Create the vocabulary\n",
    "y_train_vocab_tfidf = tf_idf.get_feature_names()"
   ]
  },
  {
   "cell_type": "code",
   "execution_count": 116,
   "metadata": {},
   "outputs": [],
   "source": [
    "# Sum up the counts of each vocabulary word\n",
    "y_train_dist_tfidf = np.sum(y_train_tfidf, axis=0)"
   ]
  },
  {
   "cell_type": "markdown",
   "metadata": {},
   "source": [
    "Nous allons afficher 50 mots les plus fréquents :"
   ]
  },
  {
   "cell_type": "code",
   "execution_count": 117,
   "metadata": {},
   "outputs": [
    {
     "data": {
      "text/html": [
       "<div>\n",
       "<style scoped>\n",
       "    .dataframe tbody tr th:only-of-type {\n",
       "        vertical-align: middle;\n",
       "    }\n",
       "\n",
       "    .dataframe tbody tr th {\n",
       "        vertical-align: top;\n",
       "    }\n",
       "\n",
       "    .dataframe thead th {\n",
       "        text-align: right;\n",
       "    }\n",
       "</style>\n",
       "<table border=\"1\" class=\"dataframe\">\n",
       "  <thead>\n",
       "    <tr style=\"text-align: right;\">\n",
       "      <th></th>\n",
       "      <th>Word</th>\n",
       "      <th>Frequence</th>\n",
       "      <th>Pourcentage</th>\n",
       "    </tr>\n",
       "  </thead>\n",
       "  <tbody>\n",
       "    <tr>\n",
       "      <th>4369</th>\n",
       "      <td>javascript</td>\n",
       "      <td>1186.905991</td>\n",
       "      <td>2.02</td>\n",
       "    </tr>\n",
       "    <tr>\n",
       "      <th>6571</th>\n",
       "      <td>python</td>\n",
       "      <td>1104.531652</td>\n",
       "      <td>1.88</td>\n",
       "    </tr>\n",
       "    <tr>\n",
       "      <th>4331</th>\n",
       "      <td>java</td>\n",
       "      <td>1011.857785</td>\n",
       "      <td>1.73</td>\n",
       "    </tr>\n",
       "    <tr>\n",
       "      <th>234</th>\n",
       "      <td>android</td>\n",
       "      <td>896.713176</td>\n",
       "      <td>1.53</td>\n",
       "    </tr>\n",
       "    <tr>\n",
       "      <th>1220</th>\n",
       "      <td>c#</td>\n",
       "      <td>808.970977</td>\n",
       "      <td>1.38</td>\n",
       "    </tr>\n",
       "    <tr>\n",
       "      <th>4455</th>\n",
       "      <td>jquery</td>\n",
       "      <td>596.178924</td>\n",
       "      <td>1.02</td>\n",
       "    </tr>\n",
       "    <tr>\n",
       "      <th>3341</th>\n",
       "      <td>git</td>\n",
       "      <td>596.133409</td>\n",
       "      <td>1.02</td>\n",
       "    </tr>\n",
       "    <tr>\n",
       "      <th>1227</th>\n",
       "      <td>c++</td>\n",
       "      <td>576.280258</td>\n",
       "      <td>0.98</td>\n",
       "    </tr>\n",
       "    <tr>\n",
       "      <th>6169</th>\n",
       "      <td>php</td>\n",
       "      <td>510.793682</td>\n",
       "      <td>0.87</td>\n",
       "    </tr>\n",
       "    <tr>\n",
       "      <th>3819</th>\n",
       "      <td>html</td>\n",
       "      <td>504.519545</td>\n",
       "      <td>0.86</td>\n",
       "    </tr>\n",
       "    <tr>\n",
       "      <th>4221</th>\n",
       "      <td>ios</td>\n",
       "      <td>473.279774</td>\n",
       "      <td>0.81</td>\n",
       "    </tr>\n",
       "    <tr>\n",
       "      <th>5</th>\n",
       "      <td>.net</td>\n",
       "      <td>444.758439</td>\n",
       "      <td>0.76</td>\n",
       "    </tr>\n",
       "    <tr>\n",
       "      <th>1908</th>\n",
       "      <td>css</td>\n",
       "      <td>438.786754</td>\n",
       "      <td>0.75</td>\n",
       "    </tr>\n",
       "    <tr>\n",
       "      <th>1219</th>\n",
       "      <td>c</td>\n",
       "      <td>372.010779</td>\n",
       "      <td>0.63</td>\n",
       "    </tr>\n",
       "    <tr>\n",
       "      <th>5401</th>\n",
       "      <td>mysql</td>\n",
       "      <td>363.721999</td>\n",
       "      <td>0.62</td>\n",
       "    </tr>\n",
       "    <tr>\n",
       "      <th>4257</th>\n",
       "      <td>iphone</td>\n",
       "      <td>358.854740</td>\n",
       "      <td>0.61</td>\n",
       "    </tr>\n",
       "    <tr>\n",
       "      <th>5771</th>\n",
       "      <td>objective-c</td>\n",
       "      <td>358.564810</td>\n",
       "      <td>0.61</td>\n",
       "    </tr>\n",
       "    <tr>\n",
       "      <th>7715</th>\n",
       "      <td>sql</td>\n",
       "      <td>356.390806</td>\n",
       "      <td>0.61</td>\n",
       "    </tr>\n",
       "    <tr>\n",
       "      <th>7909</th>\n",
       "      <td>string</td>\n",
       "      <td>310.248796</td>\n",
       "      <td>0.53</td>\n",
       "    </tr>\n",
       "    <tr>\n",
       "      <th>4791</th>\n",
       "      <td>linux</td>\n",
       "      <td>283.394992</td>\n",
       "      <td>0.48</td>\n",
       "    </tr>\n",
       "    <tr>\n",
       "      <th>5588</th>\n",
       "      <td>node.js</td>\n",
       "      <td>279.327161</td>\n",
       "      <td>0.48</td>\n",
       "    </tr>\n",
       "    <tr>\n",
       "      <th>959</th>\n",
       "      <td>bash</td>\n",
       "      <td>259.463787</td>\n",
       "      <td>0.44</td>\n",
       "    </tr>\n",
       "    <tr>\n",
       "      <th>693</th>\n",
       "      <td>arrays</td>\n",
       "      <td>248.373407</td>\n",
       "      <td>0.42</td>\n",
       "    </tr>\n",
       "    <tr>\n",
       "      <th>7092</th>\n",
       "      <td>ruby</td>\n",
       "      <td>247.363707</td>\n",
       "      <td>0.42</td>\n",
       "    </tr>\n",
       "    <tr>\n",
       "      <th>7099</th>\n",
       "      <td>ruby-on-rails</td>\n",
       "      <td>242.418210</td>\n",
       "      <td>0.41</td>\n",
       "    </tr>\n",
       "    <tr>\n",
       "      <th>182</th>\n",
       "      <td>algorithm</td>\n",
       "      <td>242.222369</td>\n",
       "      <td>0.41</td>\n",
       "    </tr>\n",
       "    <tr>\n",
       "      <th>520</th>\n",
       "      <td>angularjs</td>\n",
       "      <td>229.448872</td>\n",
       "      <td>0.39</td>\n",
       "    </tr>\n",
       "    <tr>\n",
       "      <th>6660</th>\n",
       "      <td>r</td>\n",
       "      <td>225.716295</td>\n",
       "      <td>0.39</td>\n",
       "    </tr>\n",
       "    <tr>\n",
       "      <th>7731</th>\n",
       "      <td>sql-server</td>\n",
       "      <td>220.648350</td>\n",
       "      <td>0.38</td>\n",
       "    </tr>\n",
       "    <tr>\n",
       "      <th>4502</th>\n",
       "      <td>json</td>\n",
       "      <td>209.002759</td>\n",
       "      <td>0.36</td>\n",
       "    </tr>\n",
       "    <tr>\n",
       "      <th>2353</th>\n",
       "      <td>django</td>\n",
       "      <td>205.524294</td>\n",
       "      <td>0.35</td>\n",
       "    </tr>\n",
       "    <tr>\n",
       "      <th>6127</th>\n",
       "      <td>performance</td>\n",
       "      <td>204.202901</td>\n",
       "      <td>0.35</td>\n",
       "    </tr>\n",
       "    <tr>\n",
       "      <th>2047</th>\n",
       "      <td>database</td>\n",
       "      <td>201.345096</td>\n",
       "      <td>0.34</td>\n",
       "    </tr>\n",
       "    <tr>\n",
       "      <th>726</th>\n",
       "      <td>asp.net-mvc</td>\n",
       "      <td>198.967430</td>\n",
       "      <td>0.34</td>\n",
       "    </tr>\n",
       "    <tr>\n",
       "      <th>713</th>\n",
       "      <td>asp.net</td>\n",
       "      <td>192.273988</td>\n",
       "      <td>0.33</td>\n",
       "    </tr>\n",
       "    <tr>\n",
       "      <th>9139</th>\n",
       "      <td>windows</td>\n",
       "      <td>187.188700</td>\n",
       "      <td>0.32</td>\n",
       "    </tr>\n",
       "    <tr>\n",
       "      <th>6835</th>\n",
       "      <td>regex</td>\n",
       "      <td>187.077897</td>\n",
       "      <td>0.32</td>\n",
       "    </tr>\n",
       "    <tr>\n",
       "      <th>7443</th>\n",
       "      <td>shell</td>\n",
       "      <td>179.816845</td>\n",
       "      <td>0.31</td>\n",
       "    </tr>\n",
       "    <tr>\n",
       "      <th>8906</th>\n",
       "      <td>vim</td>\n",
       "      <td>176.474658</td>\n",
       "      <td>0.30</td>\n",
       "    </tr>\n",
       "    <tr>\n",
       "      <th>9270</th>\n",
       "      <td>xcode</td>\n",
       "      <td>173.790317</td>\n",
       "      <td>0.30</td>\n",
       "    </tr>\n",
       "    <tr>\n",
       "      <th>4922</th>\n",
       "      <td>macos</td>\n",
       "      <td>167.979927</td>\n",
       "      <td>0.29</td>\n",
       "    </tr>\n",
       "    <tr>\n",
       "      <th>8036</th>\n",
       "      <td>swift</td>\n",
       "      <td>164.280944</td>\n",
       "      <td>0.28</td>\n",
       "    </tr>\n",
       "    <tr>\n",
       "      <th>5377</th>\n",
       "      <td>multithreading</td>\n",
       "      <td>163.737197</td>\n",
       "      <td>0.28</td>\n",
       "    </tr>\n",
       "    <tr>\n",
       "      <th>1496</th>\n",
       "      <td>cocoa-touch</td>\n",
       "      <td>161.490113</td>\n",
       "      <td>0.28</td>\n",
       "    </tr>\n",
       "    <tr>\n",
       "      <th>2577</th>\n",
       "      <td>eclipse</td>\n",
       "      <td>153.528578</td>\n",
       "      <td>0.26</td>\n",
       "    </tr>\n",
       "    <tr>\n",
       "      <th>5844</th>\n",
       "      <td>oop</td>\n",
       "      <td>142.103786</td>\n",
       "      <td>0.24</td>\n",
       "    </tr>\n",
       "    <tr>\n",
       "      <th>4803</th>\n",
       "      <td>list</td>\n",
       "      <td>139.753747</td>\n",
       "      <td>0.24</td>\n",
       "    </tr>\n",
       "    <tr>\n",
       "      <th>8943</th>\n",
       "      <td>visual-studio</td>\n",
       "      <td>128.305216</td>\n",
       "      <td>0.22</td>\n",
       "    </tr>\n",
       "    <tr>\n",
       "      <th>6014</th>\n",
       "      <td>pandas</td>\n",
       "      <td>126.984683</td>\n",
       "      <td>0.22</td>\n",
       "    </tr>\n",
       "    <tr>\n",
       "      <th>166</th>\n",
       "      <td>ajax</td>\n",
       "      <td>124.371837</td>\n",
       "      <td>0.21</td>\n",
       "    </tr>\n",
       "  </tbody>\n",
       "</table>\n",
       "</div>"
      ],
      "text/plain": [
       "                Word    Frequence  Pourcentage\n",
       "4369      javascript  1186.905991         2.02\n",
       "6571          python  1104.531652         1.88\n",
       "4331            java  1011.857785         1.73\n",
       "234          android   896.713176         1.53\n",
       "1220              c#   808.970977         1.38\n",
       "4455          jquery   596.178924         1.02\n",
       "3341             git   596.133409         1.02\n",
       "1227             c++   576.280258         0.98\n",
       "6169             php   510.793682         0.87\n",
       "3819            html   504.519545         0.86\n",
       "4221             ios   473.279774         0.81\n",
       "5               .net   444.758439         0.76\n",
       "1908             css   438.786754         0.75\n",
       "1219               c   372.010779         0.63\n",
       "5401           mysql   363.721999         0.62\n",
       "4257          iphone   358.854740         0.61\n",
       "5771     objective-c   358.564810         0.61\n",
       "7715             sql   356.390806         0.61\n",
       "7909          string   310.248796         0.53\n",
       "4791           linux   283.394992         0.48\n",
       "5588         node.js   279.327161         0.48\n",
       "959             bash   259.463787         0.44\n",
       "693           arrays   248.373407         0.42\n",
       "7092            ruby   247.363707         0.42\n",
       "7099   ruby-on-rails   242.418210         0.41\n",
       "182        algorithm   242.222369         0.41\n",
       "520        angularjs   229.448872         0.39\n",
       "6660               r   225.716295         0.39\n",
       "7731      sql-server   220.648350         0.38\n",
       "4502            json   209.002759         0.36\n",
       "2353          django   205.524294         0.35\n",
       "6127     performance   204.202901         0.35\n",
       "2047        database   201.345096         0.34\n",
       "726      asp.net-mvc   198.967430         0.34\n",
       "713          asp.net   192.273988         0.33\n",
       "9139         windows   187.188700         0.32\n",
       "6835           regex   187.077897         0.32\n",
       "7443           shell   179.816845         0.31\n",
       "8906             vim   176.474658         0.30\n",
       "9270           xcode   173.790317         0.30\n",
       "4922           macos   167.979927         0.29\n",
       "8036           swift   164.280944         0.28\n",
       "5377  multithreading   163.737197         0.28\n",
       "1496     cocoa-touch   161.490113         0.28\n",
       "2577         eclipse   153.528578         0.26\n",
       "5844             oop   142.103786         0.24\n",
       "4803            list   139.753747         0.24\n",
       "8943   visual-studio   128.305216         0.22\n",
       "6014          pandas   126.984683         0.22\n",
       "166             ajax   124.371837         0.21"
      ]
     },
     "execution_count": 117,
     "metadata": {},
     "output_type": "execute_result"
    }
   ],
   "source": [
    "freq_target = DataFrame(zip(y_train_vocab_tfidf, y_train_dist_tfidf))\n",
    "freq_target.rename({0:'Word', 1:'Frequence'}, axis = 1, inplace = True)\n",
    "freq_target.sort_values(['Frequence'], inplace = True, ascending=False)\n",
    "freq_target['Pourcentage'] = round(freq_target['Frequence']*100/sum(freq_target['Frequence']),2)\n",
    "freq_target[:50]"
   ]
  },
  {
   "cell_type": "markdown",
   "metadata": {},
   "source": [
    "#### Sauvegarder les données"
   ]
  },
  {
   "cell_type": "code",
   "execution_count": 133,
   "metadata": {},
   "outputs": [],
   "source": [
    "np.save('Data/X_train_tfidf', X_train_tfidf)\n",
    "np.save('Data/X_train_vocab_tfidf', X_train_vocab_tfidf)\n",
    "np.save('Data/X_train_dist_tfidf', X_train_dist_tfidf)\n",
    "np.save('Data/y_train_tfidf', y_train_tfidf)\n",
    "np.save('Data/y_train_vocab_tfidf', y_train_vocab_tfidf)\n",
    "np.save('Data/y_train_dist_tfidf', y_train_dist_tfidf)"
   ]
  },
  {
   "cell_type": "markdown",
   "metadata": {},
   "source": [
    "### Word2vect\n"
   ]
  },
  {
   "cell_type": "markdown",
   "metadata": {},
   "source": [
    "Afin de créer un vecteur de ots pour chaque document avec word2vect, nous allons modifier notre fonctions de cleaning. Pour plus d'efficacité de l'algorithme word2vect, nous allons séparer le corps de texte en phrases et garder les stop-words. Nous allons également garder les chiffres et la ponctuation."
   ]
  },
  {
   "cell_type": "markdown",
   "metadata": {},
   "source": [
    "#### Préparer les données"
   ]
  },
  {
   "cell_type": "code",
   "execution_count": 14,
   "metadata": {},
   "outputs": [],
   "source": [
    "X_train_sample = X_train[:100]"
   ]
  },
  {
   "cell_type": "markdown",
   "metadata": {},
   "source": [
    "Nous allons travailler sur la feature \"text\" créé par titre + corps de post. Les deux seront séparé par \".\" afin de distinguer les phrases. "
   ]
  },
  {
   "cell_type": "code",
   "execution_count": 15,
   "metadata": {},
   "outputs": [],
   "source": [
    "X_train_sample['text'] = X_train_sample['title'] + \". \" + X_train_sample['body']"
   ]
  },
  {
   "cell_type": "markdown",
   "metadata": {},
   "source": [
    "Voici notre fonction de cleaning modifiée, avec une option pour enlever les stop-words. Par défaut, la fonction n'enlève pas des stop-words."
   ]
  },
  {
   "cell_type": "code",
   "execution_count": 61,
   "metadata": {},
   "outputs": [],
   "source": [
    "def post_to_words_w2v( raw_post, remove_stopwords=False ):\n",
    "    \"\"\"Function to convert a raw document to a list of words. \n",
    "    This cleaning function do not remove the stop words.\n",
    "    \n",
    "    Inputs : \n",
    "    \n",
    "    - raw_post : a single string \n",
    "    \n",
    "    Output :\n",
    "    \n",
    "    - a single string containing a preprocessed document\"\"\"\n",
    "    \n",
    "    # 1. Remove HTML\n",
    "    post_text = BeautifulSoup(raw_post).get_text() \n",
    "    #\n",
    "    # 2. Remove non-letters        \n",
    "    letters_only = re.sub(\"[^a-zA-Z]\", \" \", post_text) \n",
    "    #\n",
    "    # 3. Convert to lower case, split into individual words\n",
    "    words = letters_only.lower().split()                                          \n",
    "    # \n",
    "    # 4. Optionally remove stop words (false by default)\n",
    "    if remove_stopwords:\n",
    "        stops = set(stopwords.words(\"english\"))\n",
    "        words = [w for w in words if not w in stops]\n",
    "    #\n",
    "    # 5. Lematize\n",
    "    lemmatizer = WordNetLemmatizer() \n",
    "\n",
    "    lems = []\n",
    "\n",
    "    for word in words:\n",
    "        word_clean = lemmatizer.lemmatize(word)\n",
    "        lems.append(word_clean)\n",
    "    #\n",
    "    # 5. Join the words back into one string separated by space, \n",
    "    # and return the result.\n",
    "    return(words) "
   ]
  },
  {
   "cell_type": "code",
   "execution_count": 62,
   "metadata": {},
   "outputs": [],
   "source": [
    "# Personnaliser la fonction\n",
    "# Download the punkt tokenizer for sentence splitting\n",
    "#import nltk.data #!!! Supprimer ???\n",
    "#nltk.download()  #!!! Supprimer ??? \n",
    "\n",
    "# Load the punkt tokenizer\n",
    "tokenizer = nltk.data.load('tokenizers/punkt/english.pickle')\n",
    "\n",
    "# Define a function to split a review into parsed sentences\n",
    "def post_to_sentences( post, tokenizer):\n",
    "    # Function to split a review into parsed sentences. Returns a \n",
    "    # list of sentences, where each sentence is a list of words\n",
    "    #\n",
    "    # 1. Use the NLTK tokenizer to split the paragraph into sentences\n",
    "    raw_sentences = tokenizer.tokenize(post.strip())\n",
    "    #\n",
    "    # 2. Loop over each sentence\n",
    "    sentences = []\n",
    "    for raw_sentence in raw_sentences:\n",
    "        # If a sentence is empty, skip it\n",
    "        if len(raw_sentence) > 0:\n",
    "            # Otherwise, call review_to_wordlist to get a list of words\n",
    "            sentences.append( post_to_words_w2v( raw_sentence ))\n",
    "    #\n",
    "    # Return the list of sentences (each sentence is a list of words,\n",
    "    # so this returns a list of lists\n",
    "    return sentences"
   ]
  },
  {
   "cell_type": "code",
   "execution_count": 63,
   "metadata": {},
   "outputs": [
    {
     "name": "stdout",
     "output_type": "stream",
     "text": [
      "Parsing sentences from training set\n"
     ]
    }
   ],
   "source": [
    "sentences = []  # Initialize an empty list of sentences\n",
    "\n",
    "print (\"Parsing sentences from training set\")\n",
    "for post in X_train_sample[\"text\"]:\n",
    "    sentences += post_to_sentences(post, tokenizer)"
   ]
  },
  {
   "cell_type": "code",
   "execution_count": 29,
   "metadata": {},
   "outputs": [
    {
     "data": {
      "text/plain": [
       "515"
      ]
     },
     "execution_count": 29,
     "metadata": {},
     "output_type": "execute_result"
    }
   ],
   "source": [
    "len(sentences)"
   ]
  },
  {
   "cell_type": "code",
   "execution_count": 30,
   "metadata": {},
   "outputs": [
    {
     "data": {
      "text/plain": [
       "['what', 'is', 'in', 'your', 'vimrc']"
      ]
     },
     "execution_count": 30,
     "metadata": {},
     "output_type": "execute_result"
    }
   ],
   "source": [
    "sentences[0]"
   ]
  },
  {
   "cell_type": "code",
   "execution_count": 39,
   "metadata": {},
   "outputs": [
    {
     "name": "stdout",
     "output_type": "stream",
     "text": [
      "Parsing sentences from training set\n"
     ]
    },
    {
     "name": "stderr",
     "output_type": "stream",
     "text": [
      "C:\\Users\\Utilisateur\\Anaconda3\\lib\\site-packages\\bs4\\__init__.py:272: UserWarning: \"b'.'\" looks like a filename, not markup. You should probably open this file and pass the filehandle into Beautiful Soup.\n",
      "  ' Beautiful Soup.' % markup)\n",
      "C:\\Users\\Utilisateur\\Anaconda3\\lib\\site-packages\\bs4\\__init__.py:272: UserWarning: \"b'...'\" looks like a filename, not markup. You should probably open this file and pass the filehandle into Beautiful Soup.\n",
      "  ' Beautiful Soup.' % markup)\n",
      "C:\\Users\\Utilisateur\\Anaconda3\\lib\\site-packages\\bs4\\__init__.py:335: UserWarning: \"https://fbexternal-a.akamaihd.net/safe_image.php?...\" looks like a URL. Beautiful Soup is not an HTTP client. You should probably use an HTTP client like requests to get the document behind the URL, and feed that document to Beautiful Soup.\n",
      "  ' that document to Beautiful Soup.' % decoded_markup\n"
     ]
    }
   ],
   "source": [
    "#Clean all data\n",
    "\n",
    "X_train['text'] = X_train['title'] + \". \" + X_train['body']\n",
    "\n",
    "sentences = []  # Initialize an empty list of sentences\n",
    "\n",
    "print (\"Parsing sentences from training set\")\n",
    "for post in X_train[\"text\"]:\n",
    "    sentences += post_to_sentences(post, tokenizer)"
   ]
  },
  {
   "cell_type": "markdown",
   "metadata": {},
   "source": [
    "#### Entraîner le modèle"
   ]
  },
  {
   "cell_type": "markdown",
   "metadata": {},
   "source": [
    "##### !!! Traduire & faire le tuning de paramètres \n",
    "\n",
    "With the list of nicely parsed sentences, we're ready to train the model. There are a number of parameter choices that affect the run time and the quality of the final model that is produced. For details on the algorithms below, see the word2vec API documentation as well as the Google documentation. \n",
    "\n",
    "    Architecture: Architecture options are skip-gram (default) or continuous bag of words. We found that skip-gram was very slightly slower but produced better results.\n",
    "    Training algorithm: Hierarchical softmax (default) or negative sampling. For us, the default worked well.\n",
    "    Downsampling of frequent words: The Google documentation recommends values between .00001 and .001. For us, values closer 0.001 seemed to improve the accuracy of the final model.\n",
    "    Word vector dimensionality: More features result in longer runtimes, and often, but not always, result in better models. Reasonable values can be in the tens to hundreds; we used 300.\n",
    "    Context / window size: How many words of context should the training algorithm take into account? 10 seems to work well for hierarchical softmax (more is better, up to a point).\n",
    "    Worker threads: Number of parallel processes to run. This is computer-specific, but between 4 and 6 should work on most systems.\n",
    "    Minimum word count: This helps limit the size of the vocabulary to meaningful words. Any word that does not occur at least this many times across all documents is ignored. Reasonable values could be between 10 and 100. In this case, since each movie occurs 30 times, we set the minimum word count to 40, to avoid attaching too much importance to individual movie titles. This resulted in an overall vocabulary size of around 15,000 words. Higher values also help limit run time.\n",
    "\n",
    "Choosing parameters is not easy, but once we have chosen our parameters, creating a Word2Vec model is straightforward:"
   ]
  },
  {
   "cell_type": "code",
   "execution_count": 40,
   "metadata": {
    "scrolled": true
   },
   "outputs": [
    {
     "name": "stderr",
     "output_type": "stream",
     "text": [
      "2019-11-08 11:31:21,817 : INFO : collecting all words and their counts\n",
      "2019-11-08 11:31:21,817 : INFO : PROGRESS: at sentence #0, processed 0 words, keeping 0 word types\n",
      "2019-11-08 11:31:21,864 : INFO : PROGRESS: at sentence #10000, processed 247018 words, keeping 13760 word types\n",
      "2019-11-08 11:31:21,895 : INFO : PROGRESS: at sentence #20000, processed 486456 words, keeping 20137 word types\n",
      "2019-11-08 11:31:21,957 : INFO : PROGRESS: at sentence #30000, processed 729331 words, keeping 25621 word types\n"
     ]
    },
    {
     "name": "stdout",
     "output_type": "stream",
     "text": [
      "Training model...\n"
     ]
    },
    {
     "name": "stderr",
     "output_type": "stream",
     "text": [
      "2019-11-08 11:31:22,004 : INFO : PROGRESS: at sentence #40000, processed 967744 words, keeping 30037 word types\n",
      "2019-11-08 11:31:22,051 : INFO : PROGRESS: at sentence #50000, processed 1210663 words, keeping 34290 word types\n",
      "2019-11-08 11:31:22,098 : INFO : PROGRESS: at sentence #60000, processed 1450666 words, keeping 38068 word types\n",
      "2019-11-08 11:31:22,145 : INFO : PROGRESS: at sentence #70000, processed 1694684 words, keeping 41914 word types\n",
      "2019-11-08 11:31:22,191 : INFO : PROGRESS: at sentence #80000, processed 1935338 words, keeping 45999 word types\n",
      "2019-11-08 11:31:22,254 : INFO : PROGRESS: at sentence #90000, processed 2170522 words, keeping 49270 word types\n",
      "2019-11-08 11:31:22,301 : INFO : PROGRESS: at sentence #100000, processed 2407298 words, keeping 52615 word types\n",
      "2019-11-08 11:31:22,347 : INFO : PROGRESS: at sentence #110000, processed 2647479 words, keeping 55913 word types\n",
      "2019-11-08 11:31:22,394 : INFO : PROGRESS: at sentence #120000, processed 2893893 words, keeping 59032 word types\n",
      "2019-11-08 11:31:22,441 : INFO : PROGRESS: at sentence #130000, processed 3145516 words, keeping 62187 word types\n",
      "2019-11-08 11:31:22,503 : INFO : PROGRESS: at sentence #140000, processed 3387584 words, keeping 64947 word types\n",
      "2019-11-08 11:31:22,550 : INFO : PROGRESS: at sentence #150000, processed 3631154 words, keeping 67832 word types\n",
      "2019-11-08 11:31:22,597 : INFO : PROGRESS: at sentence #160000, processed 3871471 words, keeping 70970 word types\n",
      "2019-11-08 11:31:22,644 : INFO : PROGRESS: at sentence #170000, processed 4120772 words, keeping 73989 word types\n",
      "2019-11-08 11:31:22,659 : INFO : collected 75051 word types from a corpus of 4211680 raw words and 173635 sentences\n",
      "2019-11-08 11:31:22,659 : INFO : Loading a fresh vocabulary\n",
      "2019-11-08 11:31:22,706 : INFO : min_count=40 retains 5537 unique words (7% of original 75051, drops 69514)\n",
      "2019-11-08 11:31:22,706 : INFO : min_count=40 leaves 3928980 word corpus (93% of original 4211680, drops 282700)\n",
      "2019-11-08 11:31:22,722 : INFO : deleting the raw counts dictionary of 75051 items\n",
      "2019-11-08 11:31:22,722 : INFO : sample=0.001 downsamples 56 most-common words\n",
      "2019-11-08 11:31:22,722 : INFO : downsampling leaves estimated 3065448 word corpus (78.0% of prior 3928980)\n",
      "2019-11-08 11:31:22,737 : INFO : estimated required memory for 5537 words and 300 dimensions: 16057300 bytes\n",
      "2019-11-08 11:31:22,737 : INFO : resetting layer weights\n",
      "2019-11-08 11:31:22,815 : INFO : training model with 4 workers on 5537 vocabulary and 300 features, using sg=0 hs=0 sample=0.001 negative=5 window=10\n",
      "2019-11-08 11:31:23,835 : INFO : EPOCH 1 - PROGRESS: at 35.35% examples, 1074827 words/s, in_qsize 7, out_qsize 0\n",
      "2019-11-08 11:31:24,828 : INFO : EPOCH 1 - PROGRESS: at 73.08% examples, 1111232 words/s, in_qsize 7, out_qsize 0\n",
      "2019-11-08 11:31:25,546 : INFO : worker thread finished; awaiting finish of 3 more threads\n",
      "2019-11-08 11:31:25,561 : INFO : worker thread finished; awaiting finish of 2 more threads\n",
      "2019-11-08 11:31:25,561 : INFO : worker thread finished; awaiting finish of 1 more threads\n",
      "2019-11-08 11:31:25,561 : INFO : worker thread finished; awaiting finish of 0 more threads\n",
      "2019-11-08 11:31:25,561 : INFO : EPOCH - 1 : training on 4211680 raw words (3065736 effective words) took 2.7s, 1120416 effective words/s\n",
      "2019-11-08 11:31:26,575 : INFO : EPOCH 2 - PROGRESS: at 36.03% examples, 1095237 words/s, in_qsize 7, out_qsize 0\n",
      "2019-11-08 11:31:27,589 : INFO : EPOCH 2 - PROGRESS: at 73.52% examples, 1114118 words/s, in_qsize 8, out_qsize 0\n",
      "2019-11-08 11:31:28,307 : INFO : worker thread finished; awaiting finish of 3 more threads\n",
      "2019-11-08 11:31:28,307 : INFO : worker thread finished; awaiting finish of 2 more threads\n",
      "2019-11-08 11:31:28,307 : INFO : worker thread finished; awaiting finish of 1 more threads\n",
      "2019-11-08 11:31:28,322 : INFO : worker thread finished; awaiting finish of 0 more threads\n",
      "2019-11-08 11:31:28,322 : INFO : EPOCH - 2 : training on 4211680 raw words (3065625 effective words) took 2.8s, 1114619 effective words/s\n",
      "2019-11-08 11:31:29,321 : INFO : EPOCH 3 - PROGRESS: at 35.54% examples, 1088613 words/s, in_qsize 7, out_qsize 0\n",
      "2019-11-08 11:31:30,319 : INFO : EPOCH 3 - PROGRESS: at 73.08% examples, 1114962 words/s, in_qsize 7, out_qsize 0\n",
      "2019-11-08 11:31:31,053 : INFO : worker thread finished; awaiting finish of 3 more threads\n",
      "2019-11-08 11:31:31,053 : INFO : worker thread finished; awaiting finish of 2 more threads\n",
      "2019-11-08 11:31:31,053 : INFO : worker thread finished; awaiting finish of 1 more threads\n",
      "2019-11-08 11:31:31,053 : INFO : worker thread finished; awaiting finish of 0 more threads\n",
      "2019-11-08 11:31:31,068 : INFO : EPOCH - 3 : training on 4211680 raw words (3066561 effective words) took 2.7s, 1120275 effective words/s\n",
      "2019-11-08 11:31:32,067 : INFO : EPOCH 4 - PROGRESS: at 35.78% examples, 1088823 words/s, in_qsize 7, out_qsize 0\n",
      "2019-11-08 11:31:33,081 : INFO : EPOCH 4 - PROGRESS: at 73.30% examples, 1114575 words/s, in_qsize 8, out_qsize 0\n",
      "2019-11-08 11:31:33,817 : INFO : worker thread finished; awaiting finish of 3 more threads\n",
      "2019-11-08 11:31:33,818 : INFO : worker thread finished; awaiting finish of 2 more threads\n",
      "2019-11-08 11:31:33,823 : INFO : worker thread finished; awaiting finish of 1 more threads\n",
      "2019-11-08 11:31:33,826 : INFO : worker thread finished; awaiting finish of 0 more threads\n",
      "2019-11-08 11:31:33,826 : INFO : EPOCH - 4 : training on 4211680 raw words (3065275 effective words) took 2.8s, 1113788 effective words/s\n",
      "2019-11-08 11:31:34,828 : INFO : EPOCH 5 - PROGRESS: at 32.96% examples, 1000217 words/s, in_qsize 7, out_qsize 0\n",
      "2019-11-08 11:31:35,827 : INFO : EPOCH 5 - PROGRESS: at 66.66% examples, 1009885 words/s, in_qsize 6, out_qsize 1\n",
      "2019-11-08 11:31:36,841 : INFO : EPOCH 5 - PROGRESS: at 98.36% examples, 998640 words/s, in_qsize 7, out_qsize 0\n",
      "2019-11-08 11:31:36,872 : INFO : worker thread finished; awaiting finish of 3 more threads\n",
      "2019-11-08 11:31:36,872 : INFO : worker thread finished; awaiting finish of 2 more threads\n",
      "2019-11-08 11:31:36,872 : INFO : worker thread finished; awaiting finish of 1 more threads\n",
      "2019-11-08 11:31:36,872 : INFO : worker thread finished; awaiting finish of 0 more threads\n",
      "2019-11-08 11:31:36,872 : INFO : EPOCH - 5 : training on 4211680 raw words (3065231 effective words) took 3.1s, 1003530 effective words/s\n",
      "2019-11-08 11:31:36,887 : INFO : training on a 21058400 raw words (15328428 effective words) took 14.1s, 1090079 effective words/s\n",
      "2019-11-08 11:31:36,887 : INFO : precomputing L2-norms of word weight vectors\n",
      "2019-11-08 11:31:36,934 : INFO : saving Word2Vec object under 300features_40minwords_10context, separately None\n",
      "2019-11-08 11:31:36,934 : INFO : not storing attribute vectors_norm\n",
      "2019-11-08 11:31:36,934 : INFO : not storing attribute cum_table\n",
      "C:\\Users\\Utilisateur\\Anaconda3\\lib\\site-packages\\smart_open\\smart_open_lib.py:398: UserWarning: This function is deprecated, use smart_open.open instead. See the migration notes for details: https://github.com/RaRe-Technologies/smart_open/blob/master/README.rst#migrating-to-the-new-open-function\n",
      "  'See the migration notes for details: %s' % _MIGRATION_NOTES_URL\n",
      "2019-11-08 11:31:37,043 : INFO : saved 300features_40minwords_10context\n"
     ]
    }
   ],
   "source": [
    "# The model is trained on the sample\n",
    "# Import the built-in logging module and configure it so that Word2Vec \n",
    "# creates nice output messages\n",
    "import logging\n",
    "logging.basicConfig(format='%(asctime)s : %(levelname)s : %(message)s',\\\n",
    "    level=logging.INFO)\n",
    "\n",
    "# Set values for various parameters\n",
    "num_features = 300    # Word vector dimensionality                      \n",
    "min_word_count = 40   # Minimum word count                        \n",
    "num_workers = 4       # Number of threads to run in parallel\n",
    "context = 10          # Context window size                                                                                    \n",
    "downsampling = 1e-3   # Downsample setting for frequent words\n",
    "\n",
    "# Initialize and train the model (this will take some time)\n",
    "from gensim.models import word2vec\n",
    "print (\"Training model...\")\n",
    "model = word2vec.Word2Vec(sentences, workers=num_workers, \\\n",
    "            size=num_features, min_count = min_word_count, \\\n",
    "            window = context, sample = downsampling)\n",
    "\n",
    "# If you don't plan to train the model any further, calling \n",
    "# init_sims will make the model much more memory-efficient.\n",
    "model.init_sims(replace=True)\n",
    "\n",
    "# It can be helpful to create a meaningful model name and \n",
    "# save the model for later use. You can load it later using Word2Vec.load()\n",
    "model_name = \"300features_40minwords_10context\"\n",
    "model.save(model_name)"
   ]
  },
  {
   "cell_type": "markdown",
   "metadata": {},
   "source": [
    "Le vocabulaire de mots est stocké dans l'attribute model.vocabulary :"
   ]
  },
  {
   "cell_type": "code",
   "execution_count": 76,
   "metadata": {
    "scrolled": true
   },
   "outputs": [
    {
     "name": "stdout",
     "output_type": "stream",
     "text": [
      "<gensim.models.word2vec.Word2VecVocab object at 0x000000002D9B4EB8>\n"
     ]
    }
   ],
   "source": [
    "print (model.vocabulary)"
   ]
  },
  {
   "cell_type": "code",
   "execution_count": 74,
   "metadata": {},
   "outputs": [
    {
     "ename": "TypeError",
     "evalue": "'Word2VecVocab' object is not iterable",
     "output_type": "error",
     "traceback": [
      "\u001b[1;31m---------------------------------------------------------------------------\u001b[0m",
      "\u001b[1;31mTypeError\u001b[0m                                 Traceback (most recent call last)",
      "\u001b[1;32m<ipython-input-74-66949fa5f6e5>\u001b[0m in \u001b[0;36m<module>\u001b[1;34m\u001b[0m\n\u001b[1;32m----> 1\u001b[1;33m \u001b[1;34m\"python\"\u001b[0m \u001b[1;32min\u001b[0m \u001b[0mlist\u001b[0m\u001b[1;33m(\u001b[0m\u001b[0mmodel\u001b[0m\u001b[1;33m.\u001b[0m\u001b[0mvocabulary\u001b[0m\u001b[1;33m)\u001b[0m\u001b[1;33m\u001b[0m\u001b[1;33m\u001b[0m\u001b[0m\n\u001b[0m",
      "\u001b[1;31mTypeError\u001b[0m: 'Word2VecVocab' object is not iterable"
     ]
    }
   ],
   "source": [
    "#!!! Comment utiliser le vocabulaire ??? \n",
    "\"python\" in (model.vocabulary)"
   ]
  },
  {
   "cell_type": "markdown",
   "metadata": {},
   "source": [
    "#### Tester le modèle"
   ]
  },
  {
   "cell_type": "markdown",
   "metadata": {},
   "source": [
    "Nous allons tester la méthode doesnt_match qui va rechercher un mot qui est différent des autres dans une chaîne de caractères donné."
   ]
  },
  {
   "cell_type": "code",
   "execution_count": 42,
   "metadata": {},
   "outputs": [
    {
     "name": "stderr",
     "output_type": "stream",
     "text": [
      "C:\\Users\\Utilisateur\\Anaconda3\\lib\\site-packages\\ipykernel_launcher.py:1: DeprecationWarning: Call to deprecated `doesnt_match` (Method will be removed in 4.0.0, use self.wv.doesnt_match() instead).\n",
      "  \"\"\"Entry point for launching an IPython kernel.\n",
      "C:\\Users\\Utilisateur\\Anaconda3\\lib\\site-packages\\gensim\\models\\keyedvectors.py:730: FutureWarning: arrays to stack must be passed as a \"sequence\" type such as list or tuple. Support for non-sequence iterables such as generators is deprecated as of NumPy 1.16 and will raise an error in the future.\n",
      "  vectors = vstack(self.word_vec(word, use_norm=True) for word in used_words).astype(REAL)\n"
     ]
    },
    {
     "data": {
      "text/plain": [
       "'windows'"
      ]
     },
     "execution_count": 42,
     "metadata": {},
     "output_type": "execute_result"
    }
   ],
   "source": [
    "model.doesnt_match(\"html css div sql windows\".split())"
   ]
  },
  {
   "cell_type": "code",
   "execution_count": 43,
   "metadata": {},
   "outputs": [
    {
     "name": "stderr",
     "output_type": "stream",
     "text": [
      "C:\\Users\\Utilisateur\\Anaconda3\\lib\\site-packages\\ipykernel_launcher.py:1: DeprecationWarning: Call to deprecated `doesnt_match` (Method will be removed in 4.0.0, use self.wv.doesnt_match() instead).\n",
      "  \"\"\"Entry point for launching an IPython kernel.\n",
      "C:\\Users\\Utilisateur\\Anaconda3\\lib\\site-packages\\gensim\\models\\keyedvectors.py:730: FutureWarning: arrays to stack must be passed as a \"sequence\" type such as list or tuple. Support for non-sequence iterables such as generators is deprecated as of NumPy 1.16 and will raise an error in the future.\n",
      "  vectors = vstack(self.word_vec(word, use_norm=True) for word in used_words).astype(REAL)\n"
     ]
    },
    {
     "data": {
      "text/plain": [
       "'javascript'"
      ]
     },
     "execution_count": 43,
     "metadata": {},
     "output_type": "execute_result"
    }
   ],
   "source": [
    "model.doesnt_match(\"python javascript jupyter anaconda\".split())"
   ]
  },
  {
   "cell_type": "code",
   "execution_count": 47,
   "metadata": {},
   "outputs": [
    {
     "name": "stderr",
     "output_type": "stream",
     "text": [
      "C:\\Users\\Utilisateur\\Anaconda3\\lib\\site-packages\\ipykernel_launcher.py:1: DeprecationWarning: Call to deprecated `doesnt_match` (Method will be removed in 4.0.0, use self.wv.doesnt_match() instead).\n",
      "  \"\"\"Entry point for launching an IPython kernel.\n",
      "C:\\Users\\Utilisateur\\Anaconda3\\lib\\site-packages\\gensim\\models\\keyedvectors.py:730: FutureWarning: arrays to stack must be passed as a \"sequence\" type such as list or tuple. Support for non-sequence iterables such as generators is deprecated as of NumPy 1.16 and will raise an error in the future.\n",
      "  vectors = vstack(self.word_vec(word, use_norm=True) for word in used_words).astype(REAL)\n"
     ]
    },
    {
     "data": {
      "text/plain": [
       "'browser'"
      ]
     },
     "execution_count": 47,
     "metadata": {},
     "output_type": "execute_result"
    }
   ],
   "source": [
    "model.doesnt_match(\"git github fetch browser commit\".split())"
   ]
  },
  {
   "cell_type": "markdown",
   "metadata": {},
   "source": [
    "La méthode similar va sortir une liste de mots qui sont les plus proche de l'expression indiquée :"
   ]
  },
  {
   "cell_type": "code",
   "execution_count": 44,
   "metadata": {},
   "outputs": [
    {
     "name": "stderr",
     "output_type": "stream",
     "text": [
      "C:\\Users\\Utilisateur\\Anaconda3\\lib\\site-packages\\ipykernel_launcher.py:1: DeprecationWarning: Call to deprecated `most_similar` (Method will be removed in 4.0.0, use self.wv.most_similar() instead).\n",
      "  \"\"\"Entry point for launching an IPython kernel.\n"
     ]
    },
    {
     "data": {
      "text/plain": [
       "[('py', 0.5671464204788208),\n",
       " ('packages', 0.5633114576339722),\n",
       " ('virtualenv', 0.5545641183853149),\n",
       " ('pip', 0.5461310148239136),\n",
       " ('pypi', 0.5093796253204346),\n",
       " ('ipython', 0.5084605813026428),\n",
       " ('anaconda', 0.5061459541320801),\n",
       " ('perl', 0.500555157661438),\n",
       " ('scrapy', 0.48912513256073),\n",
       " ('django', 0.48505112528800964)]"
      ]
     },
     "execution_count": 44,
     "metadata": {},
     "output_type": "execute_result"
    }
   ],
   "source": [
    "model.most_similar(\"python\")"
   ]
  },
  {
   "cell_type": "code",
   "execution_count": 45,
   "metadata": {},
   "outputs": [
    {
     "name": "stderr",
     "output_type": "stream",
     "text": [
      "C:\\Users\\Utilisateur\\Anaconda3\\lib\\site-packages\\ipykernel_launcher.py:1: DeprecationWarning: Call to deprecated `most_similar` (Method will be removed in 4.0.0, use self.wv.most_similar() instead).\n",
      "  \"\"\"Entry point for launching an IPython kernel.\n"
     ]
    },
    {
     "data": {
      "text/plain": [
       "[('xhtml', 0.698453426361084),\n",
       " ('doctype', 0.6541997194290161),\n",
       " ('erb', 0.6508492231369019),\n",
       " ('body', 0.6398696899414062),\n",
       " ('stylesheet', 0.5964100956916809),\n",
       " ('actionlink', 0.5836066007614136),\n",
       " ('markup', 0.5810596942901611),\n",
       " ('innerhtml', 0.5763190388679504),\n",
       " ('render', 0.5545802116394043),\n",
       " ('htm', 0.5516344308853149)]"
      ]
     },
     "execution_count": 45,
     "metadata": {},
     "output_type": "execute_result"
    }
   ],
   "source": [
    "model.most_similar(\"html\")"
   ]
  },
  {
   "cell_type": "code",
   "execution_count": 46,
   "metadata": {},
   "outputs": [
    {
     "name": "stderr",
     "output_type": "stream",
     "text": [
      "C:\\Users\\Utilisateur\\Anaconda3\\lib\\site-packages\\ipykernel_launcher.py:1: DeprecationWarning: Call to deprecated `most_similar` (Method will be removed in 4.0.0, use self.wv.most_similar() instead).\n",
      "  \"\"\"Entry point for launching an IPython kernel.\n"
     ]
    },
    {
     "data": {
      "text/plain": [
       "[('client', 0.6742444634437561),\n",
       " ('servers', 0.5771112442016602),\n",
       " ('iis', 0.5537930727005005),\n",
       " ('redis', 0.5482082366943359),\n",
       " ('localhost', 0.5434677600860596),\n",
       " ('smtp', 0.5308704376220703),\n",
       " ('port', 0.5235759615898132),\n",
       " ('dns', 0.519524097442627),\n",
       " ('nginx', 0.5170530080795288),\n",
       " ('connects', 0.5103957653045654)]"
      ]
     },
     "execution_count": 46,
     "metadata": {},
     "output_type": "execute_result"
    }
   ],
   "source": [
    "model.most_similar(\"server\")"
   ]
  },
  {
   "cell_type": "markdown",
   "metadata": {},
   "source": [
    "Nous pouvons aussi étudier la similarité entre deux mots :"
   ]
  },
  {
   "cell_type": "code",
   "execution_count": 48,
   "metadata": {},
   "outputs": [
    {
     "name": "stderr",
     "output_type": "stream",
     "text": [
      "C:\\Users\\Utilisateur\\Anaconda3\\lib\\site-packages\\ipykernel_launcher.py:1: DeprecationWarning: Call to deprecated `similarity` (Method will be removed in 4.0.0, use self.wv.similarity() instead).\n",
      "  \"\"\"Entry point for launching an IPython kernel.\n"
     ]
    },
    {
     "data": {
      "text/plain": [
       "1.0"
      ]
     },
     "execution_count": 48,
     "metadata": {},
     "output_type": "execute_result"
    }
   ],
   "source": [
    "model.similarity(w1=\"python\", w2=\"python\")"
   ]
  },
  {
   "cell_type": "code",
   "execution_count": 49,
   "metadata": {},
   "outputs": [
    {
     "name": "stderr",
     "output_type": "stream",
     "text": [
      "C:\\Users\\Utilisateur\\Anaconda3\\lib\\site-packages\\ipykernel_launcher.py:1: DeprecationWarning: Call to deprecated `similarity` (Method will be removed in 4.0.0, use self.wv.similarity() instead).\n",
      "  \"\"\"Entry point for launching an IPython kernel.\n"
     ]
    },
    {
     "data": {
      "text/plain": [
       "0.43874839509055036"
      ]
     },
     "execution_count": 49,
     "metadata": {},
     "output_type": "execute_result"
    }
   ],
   "source": [
    "model.similarity(w1=\"python\", w2=\"jupyter\")"
   ]
  },
  {
   "cell_type": "code",
   "execution_count": 50,
   "metadata": {},
   "outputs": [
    {
     "name": "stderr",
     "output_type": "stream",
     "text": [
      "C:\\Users\\Utilisateur\\Anaconda3\\lib\\site-packages\\ipykernel_launcher.py:1: DeprecationWarning: Call to deprecated `similarity` (Method will be removed in 4.0.0, use self.wv.similarity() instead).\n",
      "  \"\"\"Entry point for launching an IPython kernel.\n"
     ]
    },
    {
     "data": {
      "text/plain": [
       "0.18953097742208663"
      ]
     },
     "execution_count": 50,
     "metadata": {},
     "output_type": "execute_result"
    }
   ],
   "source": [
    "model.similarity(w1=\"python\", w2=\"windows\")"
   ]
  },
  {
   "cell_type": "code",
   "execution_count": 51,
   "metadata": {},
   "outputs": [
    {
     "name": "stderr",
     "output_type": "stream",
     "text": [
      "C:\\Users\\Utilisateur\\Anaconda3\\lib\\site-packages\\ipykernel_launcher.py:1: DeprecationWarning: Call to deprecated `similarity` (Method will be removed in 4.0.0, use self.wv.similarity() instead).\n",
      "  \"\"\"Entry point for launching an IPython kernel.\n"
     ]
    },
    {
     "data": {
      "text/plain": [
       "0.6779998903760502"
      ]
     },
     "execution_count": 51,
     "metadata": {},
     "output_type": "execute_result"
    }
   ],
   "source": [
    "model.similarity(w1=\"windows\", w2=\"linux\")"
   ]
  },
  {
   "cell_type": "markdown",
   "metadata": {},
   "source": [
    "#### Représentation numérique de mots"
   ]
  },
  {
   "cell_type": "code",
   "execution_count": 55,
   "metadata": {},
   "outputs": [
    {
     "name": "stderr",
     "output_type": "stream",
     "text": [
      "C:\\Users\\Utilisateur\\Anaconda3\\lib\\site-packages\\ipykernel_launcher.py:1: DeprecationWarning: Call to deprecated `syn0_lockf` (Attribute will be removed in 4.0.0, use self.trainables.vectors_lockf instead).\n",
      "  \"\"\"Entry point for launching an IPython kernel.\n"
     ]
    },
    {
     "data": {
      "text/plain": [
       "numpy.ndarray"
      ]
     },
     "execution_count": 55,
     "metadata": {},
     "output_type": "execute_result"
    }
   ],
   "source": [
    "type(model.syn0_lockf)"
   ]
  },
  {
   "cell_type": "code",
   "execution_count": 53,
   "metadata": {},
   "outputs": [
    {
     "name": "stderr",
     "output_type": "stream",
     "text": [
      "C:\\Users\\Utilisateur\\Anaconda3\\lib\\site-packages\\ipykernel_launcher.py:1: DeprecationWarning: Call to deprecated `syn0_lockf` (Attribute will be removed in 4.0.0, use self.trainables.vectors_lockf instead).\n",
      "  \"\"\"Entry point for launching an IPython kernel.\n"
     ]
    },
    {
     "data": {
      "text/plain": [
       "(5537,)"
      ]
     },
     "execution_count": 53,
     "metadata": {},
     "output_type": "execute_result"
    }
   ],
   "source": [
    "#Number of words in the model\n",
    "model.syn0_lockf.shape"
   ]
  },
  {
   "cell_type": "code",
   "execution_count": 58,
   "metadata": {},
   "outputs": [
    {
     "data": {
      "text/plain": [
       "300"
      ]
     },
     "execution_count": 58,
     "metadata": {},
     "output_type": "execute_result"
    }
   ],
   "source": [
    "#Length of the word vector = num_features (attribute of w2v function) \n",
    "len(model.wv[\"python\"])"
   ]
  },
  {
   "cell_type": "code",
   "execution_count": 60,
   "metadata": {},
   "outputs": [
    {
     "data": {
      "text/plain": [
       "array([-0.00783841, -0.00125786,  0.00396897,  0.01340571, -0.04914111,\n",
       "        0.05074711,  0.08276056, -0.04706008, -0.03149038, -0.04971832],\n",
       "      dtype=float32)"
      ]
     },
     "execution_count": 60,
     "metadata": {},
     "output_type": "execute_result"
    }
   ],
   "source": [
    "#Exemple of the word vector\n",
    "model.wv[\"python\"][:10]"
   ]
  },
  {
   "cell_type": "code",
   "execution_count": 78,
   "metadata": {},
   "outputs": [
    {
     "ename": "AttributeError",
     "evalue": "'Word2VecKeyedVectors' object has no attribute 'vocabulary'",
     "output_type": "error",
     "traceback": [
      "\u001b[1;31m---------------------------------------------------------------------------\u001b[0m",
      "\u001b[1;31mAttributeError\u001b[0m                            Traceback (most recent call last)",
      "\u001b[1;32m<ipython-input-78-e8fabcba4595>\u001b[0m in \u001b[0;36m<module>\u001b[1;34m\u001b[0m\n\u001b[0;32m      1\u001b[0m \u001b[1;31m# Comment faire ???\u001b[0m\u001b[1;33m\u001b[0m\u001b[1;33m\u001b[0m\u001b[1;33m\u001b[0m\u001b[0m\n\u001b[1;32m----> 2\u001b[1;33m \u001b[1;34m\"python\"\u001b[0m \u001b[1;32min\u001b[0m \u001b[0mmodel\u001b[0m\u001b[1;33m.\u001b[0m\u001b[0mwv\u001b[0m\u001b[1;33m.\u001b[0m\u001b[0mvocabulary\u001b[0m\u001b[1;33m\u001b[0m\u001b[1;33m\u001b[0m\u001b[0m\n\u001b[0m",
      "\u001b[1;31mAttributeError\u001b[0m: 'Word2VecKeyedVectors' object has no attribute 'vocabulary'"
     ]
    }
   ],
   "source": [
    "# Comment faire ???\n",
    "\"python\" in model.vocabulary"
   ]
  },
  {
   "cell_type": "markdown",
   "metadata": {},
   "source": [
    "#### Préparer les vecteurs de mots pour la modélisation"
   ]
  },
  {
   "cell_type": "markdown",
   "metadata": {},
   "source": [
    "###### !!! Tutorial Kaggle : comprendre la méthode et ré-expliquer \n",
    "One challenge with the IMDB dataset is the variable-length reviews. We need to find a way to take individual word vectors and transform them into a feature set that is the same length for every review.\n",
    "\n",
    "Since each word is a vector in 300-dimensional space, we can use vector operations to combine the words in each review. One method we tried was to simply average the word vectors in a given review (for this purpose, we removed stop words, which would just add noise)."
   ]
  },
  {
   "cell_type": "code",
   "execution_count": 67,
   "metadata": {},
   "outputs": [],
   "source": [
    "def makeFeatureVec(words, model, num_features):\n",
    "    # Function to average all of the word vectors in a given\n",
    "    # paragraph\n",
    "    #\n",
    "    # Pre-initialize an empty numpy array (for speed)\n",
    "    featureVec = np.zeros((num_features,),dtype=\"float32\")\n",
    "    #\n",
    "    nwords = 0.\n",
    "    # \n",
    "    # Index2word is a list that contains the names of the words in \n",
    "    # the model's vocabulary. Convert it to a set, for speed \n",
    "    index2word_set = set(model.wv.index2word)\n",
    "    #\n",
    "    # Loop over each word in the review and, if it is in the model's\n",
    "    # vocaublary, add its feature vector to the total\n",
    "    for word in words:\n",
    "        if word in index2word_set: \n",
    "            nwords = nwords + 1.\n",
    "            featureVec = np.add(featureVec,model[word])\n",
    "    # \n",
    "    # Divide the result by the number of words to get the average\n",
    "    featureVec = np.divide(featureVec,nwords)\n",
    "    return featureVec\n",
    "\n",
    "\n",
    "def getAvgFeatureVecs(posts, model, num_features):\n",
    "    # Given a set of reviews (each one a list of words), calculate \n",
    "    # the average feature vector for each one and return a 2D numpy array \n",
    "    # \n",
    "    # Initialize a counter\n",
    "    counter = 0.\n",
    "    # \n",
    "    # Preallocate a 2D numpy array, for speed\n",
    "    postFeatureVecs = np.zeros((len(posts),num_features),dtype=\"float32\")\n",
    "    # \n",
    "    # Loop through the reviews\n",
    "    for post in posts:\n",
    "       #\n",
    "       # Print a status message every 1000th review\n",
    "        if counter%1000. == 0.:\n",
    "            print (\"Post %d of %d\" % (counter, len(posts)))\n",
    "       # \n",
    "       # Call the function (defined above) that makes average feature vectors\n",
    "        postFeatureVecs[counter] = makeFeatureVec(post, model, \\\n",
    "           num_features)\n",
    "       #\n",
    "       # Increment the counter\n",
    "        counter = counter + 1.\n",
    "    return postFeatureVecs"
   ]
  },
  {
   "cell_type": "code",
   "execution_count": null,
   "metadata": {},
   "outputs": [],
   "source": [
    "model.wv.index2word"
   ]
  },
  {
   "cell_type": "code",
   "execution_count": 68,
   "metadata": {},
   "outputs": [
    {
     "name": "stdout",
     "output_type": "stream",
     "text": [
      "Post 0 of 35000\n"
     ]
    },
    {
     "name": "stderr",
     "output_type": "stream",
     "text": [
      "C:\\Users\\Utilisateur\\Anaconda3\\lib\\site-packages\\ipykernel_launcher.py:19: DeprecationWarning: Call to deprecated `__getitem__` (Method will be removed in 4.0.0, use self.wv.__getitem__() instead).\n"
     ]
    },
    {
     "ename": "IndexError",
     "evalue": "only integers, slices (`:`), ellipsis (`...`), numpy.newaxis (`None`) and integer or boolean arrays are valid indices",
     "output_type": "error",
     "traceback": [
      "\u001b[1;31m---------------------------------------------------------------------------\u001b[0m",
      "\u001b[1;31mIndexError\u001b[0m                                Traceback (most recent call last)",
      "\u001b[1;32m<ipython-input-68-1fba3ec53780>\u001b[0m in \u001b[0;36m<module>\u001b[1;34m\u001b[0m\n\u001b[0;32m      9\u001b[0m         remove_stopwords=True ))\n\u001b[0;32m     10\u001b[0m \u001b[1;33m\u001b[0m\u001b[0m\n\u001b[1;32m---> 11\u001b[1;33m \u001b[0mtrainDataVecs\u001b[0m \u001b[1;33m=\u001b[0m \u001b[0mgetAvgFeatureVecs\u001b[0m\u001b[1;33m(\u001b[0m \u001b[0mclean_train_posts\u001b[0m\u001b[1;33m,\u001b[0m \u001b[0mmodel\u001b[0m\u001b[1;33m,\u001b[0m \u001b[0mnum_features\u001b[0m \u001b[1;33m)\u001b[0m\u001b[1;33m\u001b[0m\u001b[1;33m\u001b[0m\u001b[0m\n\u001b[0m\u001b[0;32m     12\u001b[0m \u001b[1;33m\u001b[0m\u001b[0m\n\u001b[0;32m     13\u001b[0m \u001b[1;31m#print \"Creating average feature vecs for test review\"\u001b[0m\u001b[1;33m\u001b[0m\u001b[1;33m\u001b[0m\u001b[1;33m\u001b[0m\u001b[0m\n",
      "\u001b[1;32m<ipython-input-67-bd6def2a7c4e>\u001b[0m in \u001b[0;36mgetAvgFeatureVecs\u001b[1;34m(posts, model, num_features)\u001b[0m\n\u001b[0;32m     43\u001b[0m        \u001b[1;31m# Call the function (defined above) that makes average feature vectors\u001b[0m\u001b[1;33m\u001b[0m\u001b[1;33m\u001b[0m\u001b[1;33m\u001b[0m\u001b[0m\n\u001b[0;32m     44\u001b[0m         postFeatureVecs[counter] = makeFeatureVec(post, model, \\\n\u001b[1;32m---> 45\u001b[1;33m            num_features)\n\u001b[0m\u001b[0;32m     46\u001b[0m        \u001b[1;31m#\u001b[0m\u001b[1;33m\u001b[0m\u001b[1;33m\u001b[0m\u001b[1;33m\u001b[0m\u001b[0m\n\u001b[0;32m     47\u001b[0m        \u001b[1;31m# Increment the counter\u001b[0m\u001b[1;33m\u001b[0m\u001b[1;33m\u001b[0m\u001b[1;33m\u001b[0m\u001b[0m\n",
      "\u001b[1;31mIndexError\u001b[0m: only integers, slices (`:`), ellipsis (`...`), numpy.newaxis (`None`) and integer or boolean arrays are valid indices"
     ]
    }
   ],
   "source": [
    "# ****************************************************************\n",
    "# Calculate average feature vectors for training and testing sets,\n",
    "# using the functions we defined above. Notice that we now use stop word\n",
    "# removal.\n",
    "\n",
    "clean_train_posts = []\n",
    "for post in X_train[\"text\"]:\n",
    "    clean_train_posts.append( post_to_words_w2v( post, \\\n",
    "        remove_stopwords=True ))\n",
    "\n",
    "trainDataVecs = getAvgFeatureVecs( clean_train_posts, model, num_features )\n",
    "\n",
    "#print \"Creating average feature vecs for test review\"\n",
    "#clean_test_posts = []\n",
    "#for post in test[\"post\"]:\n",
    "#    clean_test_posts.append( post_to_wordlist( post, \\\n",
    "#        remove_stopwords=True ))\n",
    "\n",
    "#testDataVecs = getAvgFeatureVecs( clean_test_posts, model, num_features )"
   ]
  },
  {
   "cell_type": "markdown",
   "metadata": {},
   "source": [
    "# Analyse exploratoire"
   ]
  },
  {
   "cell_type": "markdown",
   "metadata": {},
   "source": [
    "## Description générale"
   ]
  },
  {
   "cell_type": "markdown",
   "metadata": {},
   "source": [
    "Nous allons tout d'abord étudier la longueur de notre chaîne de caractère de post, ainsi que le nombre de tags attribué à chaque post :"
   ]
  },
  {
   "cell_type": "code",
   "execution_count": 73,
   "metadata": {},
   "outputs": [],
   "source": [
    "nbr_mots = X_train['post'].apply(lambda row : len(row.split()))"
   ]
  },
  {
   "cell_type": "code",
   "execution_count": 74,
   "metadata": {},
   "outputs": [
    {
     "data": {
      "text/plain": [
       "count    35000.000000\n",
       "mean       162.536257\n",
       "std        239.274600\n",
       "min          2.000000\n",
       "25%         60.000000\n",
       "50%        104.000000\n",
       "75%        184.000000\n",
       "max       8678.000000\n",
       "Name: post, dtype: float64"
      ]
     },
     "execution_count": 74,
     "metadata": {},
     "output_type": "execute_result"
    }
   ],
   "source": [
    "nbr_mots.describe()"
   ]
  },
  {
   "cell_type": "markdown",
   "metadata": {},
   "source": [
    "Feature post, qui contient le titre, le corps de post et les bigrams créés à partir de titre et le corps de post, contient en moyen 163 mots. Le minimum est 2 mots et le maximum 8678 mots.\n"
   ]
  },
  {
   "cell_type": "code",
   "execution_count": 75,
   "metadata": {},
   "outputs": [
    {
     "data": {
      "image/png": "[encoded data removed]",
      "text/plain": [
       "<Figure size 432x288 with 1 Axes>"
      ]
     },
     "metadata": {
      "needs_background": "light"
     },
     "output_type": "display_data"
    }
   ],
   "source": [
    "#!!! Améliorer le graphique pour la présentation\n",
    "plt.hist(nbr_mots, alpha=0.3, range=(\n",
    "    0, 5600),  bins=200, density=True)\n",
    "sns.kdeplot(nbr_mots)\n",
    "\n",
    "plt.xlim(0, 5600)\n",
    "plt.rcParams['figure.figsize'] = (20, 20)"
   ]
  },
  {
   "cell_type": "code",
   "execution_count": 76,
   "metadata": {},
   "outputs": [
    {
     "data": {
      "text/plain": [
       "8950                              vim refactoring\n",
       "38421                                c# .net linq\n",
       "19363    c# outlook outlook-2007 outlook-2003 pst\n",
       "30157                               python jinja2\n",
       "14294                               git git-stash\n",
       "Name: tags, dtype: object"
      ]
     },
     "execution_count": 76,
     "metadata": {},
     "output_type": "execute_result"
    }
   ],
   "source": [
    "y_train_clean.head()"
   ]
  },
  {
   "cell_type": "code",
   "execution_count": 77,
   "metadata": {},
   "outputs": [],
   "source": [
    "nbr_tags = y_train_clean.apply(lambda row : len(row.split()))"
   ]
  },
  {
   "cell_type": "code",
   "execution_count": 78,
   "metadata": {},
   "outputs": [
    {
     "data": {
      "text/plain": [
       "count    35000.000000\n",
       "mean         3.133686\n",
       "std          1.182454\n",
       "min          1.000000\n",
       "25%          2.000000\n",
       "50%          3.000000\n",
       "75%          4.000000\n",
       "max          6.000000\n",
       "Name: tags, dtype: float64"
      ]
     },
     "execution_count": 78,
     "metadata": {},
     "output_type": "execute_result"
    }
   ],
   "source": [
    "nbr_tags.describe()"
   ]
  },
  {
   "cell_type": "markdown",
   "metadata": {},
   "source": [
    "Le nombre de tags varie de 1 à 6 avec la valeurs médiane de 3 tags par post."
   ]
  },
  {
   "cell_type": "markdown",
   "metadata": {},
   "source": [
    "## Fréquences des expressions"
   ]
  },
  {
   "cell_type": "markdown",
   "metadata": {},
   "source": [
    "### Bag of words"
   ]
  },
  {
   "cell_type": "markdown",
   "metadata": {},
   "source": [
    "Nous allons afficher les fréquences de 50 features les plus utilisées :"
   ]
  },
  {
   "cell_type": "code",
   "execution_count": 111,
   "metadata": {},
   "outputs": [
    {
     "data": {
      "image/png": "[encoded data removed]",
      "text/plain": [
       "<Figure size 720x1008 with 1 Axes>"
      ]
     },
     "metadata": {
      "needs_background": "light"
     },
     "output_type": "display_data"
    }
   ],
   "source": [
    "freq_features_50 = freq_features[:50]\n",
    "freq_features_50.sort_values(by=['Frequence'], ascending=True, inplace = True)\n",
    "\n",
    "fig = plt.figure(figsize=(10, 14))\n",
    "\n",
    "# set params of the graphic\n",
    "ax = fig.add_subplot(111)\n",
    "ax.set_xlabel('Fréquence', fontsize=15)\n",
    "ax.set_title('Les mots les plus fréquents', fontsize=20)\n",
    "ax.tick_params(axis='both', which='major', labelsize=14)\n",
    "\n",
    "# set height of bar\n",
    "bars1 = freq_features_50['Frequence']\n",
    "\n",
    "# Make the plot\n",
    "plt.barh(range(50), bars1, color='blue', edgecolor='white')\n",
    "\n",
    "# Add xticks on the middle of the group bars\n",
    "plt.yticks(\n",
    "    range(50), freq_features_50['Word'], fontsize=15)\n",
    "\n",
    "# Show graphic\n",
    "plt.show()"
   ]
  },
  {
   "cell_type": "markdown",
   "metadata": {},
   "source": [
    "Faisons le même affichage pour les tags."
   ]
  },
  {
   "cell_type": "code",
   "execution_count": 118,
   "metadata": {},
   "outputs": [
    {
     "data": {
      "image/png": "[encoded data removed]",
      "text/plain": [
       "<Figure size 720x1008 with 1 Axes>"
      ]
     },
     "metadata": {
      "needs_background": "light"
     },
     "output_type": "display_data"
    }
   ],
   "source": [
    "freq_target_50 = freq_target[:50]\n",
    "freq_target_50.sort_values(by=['Frequence'], ascending=True, inplace = True)\n",
    "\n",
    "fig = plt.figure(figsize=(10, 14))\n",
    "\n",
    "# set params of the graphic\n",
    "ax = fig.add_subplot(111)\n",
    "ax.set_xlabel('Fréquence', fontsize=15)\n",
    "ax.set_title('Les tags les plus fréquents', fontsize=20)\n",
    "ax.tick_params(axis='both', which='major', labelsize=14)\n",
    "\n",
    "# set height of bar\n",
    "bars1 = freq_target_50['Frequence']\n",
    "\n",
    "# Make the plot\n",
    "plt.barh(range(50), bars1, color='tomato', edgecolor='white')\n",
    "\n",
    "# Add xticks on the middle of the group bars\n",
    "plt.yticks(\n",
    "    range(50), freq_target_50['Word'], fontsize=15)\n",
    "\n",
    "# Show graphic\n",
    "plt.show()"
   ]
  },
  {
   "cell_type": "markdown",
   "metadata": {},
   "source": [
    "### TF-IDF"
   ]
  },
  {
   "cell_type": "markdown",
   "metadata": {},
   "source": [
    "Pour pouvoir faire comparaison, nous allons aussi afficher les mot les plus fréquentes en se basant sur les fréquences relatives TF-IDF :"
   ]
  },
  {
   "cell_type": "code",
   "execution_count": 132,
   "metadata": {},
   "outputs": [
    {
     "data": {
      "image/png": "[encoded data removed]",
      "text/plain": [
       "<Figure size 720x1008 with 1 Axes>"
      ]
     },
     "metadata": {},
     "output_type": "display_data"
    }
   ],
   "source": [
    "freq_features_50 = freq_features[:50]\n",
    "freq_features_50.sort_values(by=['Frequence'], ascending=True, inplace = True)\n",
    "\n",
    "fig = plt.figure(figsize=(10, 14))\n",
    "\n",
    "# set params of the graphic\n",
    "ax = fig.add_subplot(111)\n",
    "ax.set_xlabel('Fréquence', fontsize=15)\n",
    "ax.set_title('Les mots les plus fréquents TF-IDF', fontsize=20)\n",
    "ax.tick_params(axis='both', which='major', labelsize=14)\n",
    "\n",
    "# set height of bar\n",
    "bars1 = freq_features_50['Frequence']\n",
    "\n",
    "# Make the plot\n",
    "plt.barh(range(50), bars1, color='dodgerblue', edgecolor='white')\n",
    "\n",
    "# Add xticks on the middle of the group bars\n",
    "plt.yticks(\n",
    "    range(50), freq_features_50['Word'], fontsize=15)\n",
    "\n",
    "# Show graphic\n",
    "plt.show()"
   ]
  },
  {
   "cell_type": "markdown",
   "metadata": {},
   "source": [
    "Affichons également un graphique de tags :"
   ]
  },
  {
   "cell_type": "code",
   "execution_count": 132,
   "metadata": {},
   "outputs": [
    {
     "data": {
      "image/png": "[encoded data removed]",
      "text/plain": [
       "<Figure size 720x1008 with 1 Axes>"
      ]
     },
     "metadata": {
      "needs_background": "light"
     },
     "output_type": "display_data"
    }
   ],
   "source": [
    "freq_target_50 = freq_target[:50]\n",
    "freq_target_50.sort_values(by=['Frequence'], ascending=True, inplace = True)\n",
    "\n",
    "fig = plt.figure(figsize=(10, 14))\n",
    "\n",
    "# set params of the graphic\n",
    "ax = fig.add_subplot(111)\n",
    "ax.set_xlabel('Fréquence', fontsize=15)\n",
    "ax.set_title('Les tags les plus fréquents TF-IDF', fontsize=20)\n",
    "ax.tick_params(axis='both', which='major', labelsize=14)\n",
    "\n",
    "# set height of bar\n",
    "bars1 = freq_target_50['Frequence']\n",
    "\n",
    "# Make the plot\n",
    "plt.barh(range(50), bars1, color='lightsalmon', edgecolor='white')\n",
    "\n",
    "# Add xticks on the middle of the group bars\n",
    "plt.yticks(\n",
    "    range(50), freq_target_50['Word'], fontsize=15)\n",
    "\n",
    "# Show graphic\n",
    "plt.show()"
   ]
  },
  {
   "cell_type": "markdown",
   "metadata": {},
   "source": [
    "Nous constatons seulement légères différences par rapport à la méthode bag of words."
   ]
  },
  {
   "cell_type": "markdown",
   "metadata": {},
   "source": [
    "## Réduction de dimension"
   ]
  },
  {
   "cell_type": "markdown",
   "metadata": {},
   "source": [
    "### Analyse en composantes principales"
   ]
  },
  {
   "cell_type": "markdown",
   "metadata": {},
   "source": [
    "Nous allons effectuer une analyse en composante principales afin de visualiser les données. L'ACP va être performé sur les données transformées par TF-IDF."
   ]
  },
  {
   "cell_type": "markdown",
   "metadata": {},
   "source": [
    "#### All features"
   ]
  },
  {
   "cell_type": "code",
   "execution_count": 120,
   "metadata": {},
   "outputs": [],
   "source": [
    "pca = PCA(n_components=2)\n",
    "principalComponents = pca.fit_transform(X_train_tfidf)\n",
    "principalDf = pd.DataFrame(data=principalComponents, columns=[\n",
    "                           'principal component 1', 'principal component 2'])"
   ]
  },
  {
   "cell_type": "code",
   "execution_count": 121,
   "metadata": {},
   "outputs": [
    {
     "data": {
      "image/png": "[encoded data removed]",
      "text/plain": [
       "<Figure size 576x576 with 1 Axes>"
      ]
     },
     "metadata": {
      "needs_background": "light"
     },
     "output_type": "display_data"
    }
   ],
   "source": [
    "# Scatterplot of all feature's words\n",
    "fig = plt.figure(figsize=(8, 8))\n",
    "ax = fig.add_subplot(1, 1, 1)\n",
    "ax.set_xlabel('Principal Component 1', fontsize=10)\n",
    "ax.set_ylabel('Principal Component 2', fontsize=10)\n",
    "ax.set_title('2 component PCA', fontsize=12)\n",
    "\n",
    "ax.scatter(principalDf['principal component 1'],\n",
    "           principalDf['principal component 2'], s=50, alpha=0.2)\n",
    "ax.grid()"
   ]
  },
  {
   "cell_type": "markdown",
   "metadata": {},
   "source": [
    "#### 10 tags"
   ]
  },
  {
   "cell_type": "code",
   "execution_count": 180,
   "metadata": {},
   "outputs": [
    {
     "data": {
      "image/png": "[encoded data removed]",
      "text/plain": [
       "<Figure size 1080x1080 with 1 Axes>"
      ]
     },
     "metadata": {},
     "output_type": "display_data"
    }
   ],
   "source": [
    "# Scatterplot with names of 50 most important features\n",
    "\n",
    "liste_mots = list(y_train_clean[:10])\n",
    "\n",
    "sns.set()# Initialize figure\n",
    "fig, ax = plt.subplots(figsize = (15, 15))\n",
    "sns.scatterplot(principalDf['principal component 1'][:10],\n",
    "           principalDf['principal component 2'][:10], alpha = 0.5)\n",
    " \n",
    "for i in range(10):    \n",
    "    \n",
    "    plt.text(principalDf['principal component 1'][i], principalDf['principal component 2'][i], liste_mots[i],\n",
    "         fontsize = 14)\n",
    "\n",
    "plt.show()"
   ]
  },
  {
   "cell_type": "markdown",
   "metadata": {},
   "source": [
    "### 6.3.2 t-SNE "
   ]
  },
  {
   "cell_type": "code",
   "execution_count": 181,
   "metadata": {},
   "outputs": [],
   "source": [
    "from sklearn.manifold import TSNE\n",
    "\n",
    "# Initialize t-SNE\n",
    "tsne = TSNE(n_components = 2, init = 'random', random_state = 10, perplexity = 100)\n"
   ]
  },
  {
   "cell_type": "code",
   "execution_count": null,
   "metadata": {},
   "outputs": [],
   "source": [
    "tsne_df = tsne.fit_transform(X_train_tfidf)"
   ]
  },
  {
   "cell_type": "code",
   "execution_count": 183,
   "metadata": {},
   "outputs": [],
   "source": [
    "principalDf = pd.DataFrame(data=tsne_df, columns=[\n",
    "                           'principal component 1', 'principal component 2'])"
   ]
  },
  {
   "cell_type": "code",
   "execution_count": 185,
   "metadata": {},
   "outputs": [
    {
     "data": {
      "image/png": "[encoded data removed]",
      "text/plain": [
       "<Figure size 1080x1080 with 1 Axes>"
      ]
     },
     "metadata": {},
     "output_type": "display_data"
    }
   ],
   "source": [
    "# Scatterplot with names of 50 most important features\n",
    "\n",
    "liste_mots = list(y_train_clean[:20])\n",
    "\n",
    "sns.set()# Initialize figure\n",
    "fig, ax = plt.subplots(figsize = (15, 15))\n",
    "sns.scatterplot(principalDf['principal component 1'][:20],\n",
    "           principalDf['principal component 2'][:20], alpha = 0.5)\n",
    " \n",
    "for i in range(20):    \n",
    "    \n",
    "    plt.text(principalDf['principal component 1'][i], principalDf['principal component 2'][i], liste_mots[i],\n",
    "         fontsize = 14)\n",
    "\n",
    "plt.show()"
   ]
  },
  {
   "cell_type": "code",
   "execution_count": null,
   "metadata": {},
   "outputs": [],
   "source": []
  },
  {
   "cell_type": "code",
   "execution_count": null,
   "metadata": {},
   "outputs": [],
   "source": []
  }
 ],
 "metadata": {
  "kernelspec": {
   "display_name": "Python 3",
   "language": "python",
   "name": "python3"
  },
  "language_info": {
   "codemirror_mode": {
    "name": "ipython",
    "version": 3
   },
   "file_extension": ".py",
   "mimetype": "text/x-python",
   "name": "python",
   "nbconvert_exporter": "python",
   "pygments_lexer": "ipython3",
   "version": "3.7.3"
  },
  "latex_envs": {
   "LaTeX_envs_menu_present": true,
   "autoclose": false,
   "autocomplete": true,
   "bibliofile": "biblio.bib",
   "cite_by": "apalike",
   "current_citInitial": 1,
   "eqLabelWithNumbers": true,
   "eqNumInitial": 1,
   "hotkeys": {
    "equation": "Ctrl-E",
    "itemize": "Ctrl-I"
   },
   "labels_anchors": false,
   "latex_user_defs": false,
   "report_style_numbering": false,
   "user_envs_cfg": false
  },
  "toc": {
   "base_numbering": 1,
   "nav_menu": {},
   "number_sections": true,
   "sideBar": true,
   "skip_h1_title": false,
   "title_cell": "Table of Contents",
   "title_sidebar": "Contents",
   "toc_cell": false,
   "toc_position": {
    "height": "calc(100% - 180px)",
    "left": "10px",
    "top": "150px",
    "width": "200px"
   },
   "toc_section_display": true,
   "toc_window_display": true
  }
 },
 "nbformat": 4,
 "nbformat_minor": 2
}
