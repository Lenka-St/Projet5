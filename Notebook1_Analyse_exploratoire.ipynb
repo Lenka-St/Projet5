{
 "cells": [
  {
   "cell_type": "markdown",
   "metadata": {},
   "source": [
    "# PROJET 5 : Catégorisez automatiquement les questions "
   ]
  },
  {
   "cell_type": "markdown",
   "metadata": {},
   "source": [
    "**PLAN DE PROJET**\n",
    "1. Titre de projet : PROJET 5 - Catégorisez automatiquement les questions\n",
    "\n",
    "\n",
    "2. Chargement de bibliothèques\n",
    "\n",
    "\n",
    "3. Récupérer les données + Séparation de données en test et train\n",
    "    - Enregistrement de fichiers en .csv :\n",
    "        - X_train.csv\n",
    "        - y_train.csv\n",
    "        - X_test.csv\n",
    "        - y_test.csv\n",
    "\n",
    "\n",
    "4. Data cleaning\n",
    "    - Features :\n",
    "        - Enlever les balises HTML\n",
    "        - Enlever la ponctuation\n",
    "        - Mise en minuscule et tokenization\n",
    "        - Enlever les stopwords\n",
    "    - Target :\n",
    "        - Enlever les balises \"<>\"\n",
    "\n",
    "\n",
    "5. Feature engineering \n",
    "    - Recodage en bigrams\n",
    "    - Fusion de title, body + bigrams\n",
    "\n",
    "\n",
    "6. Analyse exploratoire\n",
    "    - Analyses univariées\n",
    "        - Description générale : Longueur de posts, nombre de tags\n",
    "        - Bag of words : Les expressions les plus fréquentes : feature & target\n",
    "            - Arrays générées:\n",
    "                - X_train_bow\n",
    "                - X_train_vocab_bow\n",
    "                - X_train_dist_bow\n",
    "                - y_train_bow\n",
    "                - y_train_vocab_bow\n",
    "                - y_train_dist_bow\n",
    "                \n",
    "                \n",
    "        - TF - IDF : Les expressions les plus fréquentes : feature & target\n",
    "             - Arrays générées:\n",
    "                  - X_train_ifidf\n",
    "                  - X_train_vocab_ifidf\n",
    "                  - X_train_dist_ifidf\n",
    "                  - y_train_ifidf\n",
    "                  - y_train_vocab_ifidf\n",
    "                  - y_train_dist_ifidf\n",
    "                  \n",
    "\n",
    "    - Analyse multivarié \n",
    "    **QUESTION : Peut-on considérer LDA comme analyse multivariée ?**\n",
    "    \n",
    "    \n",
    "    - Réduction de dimensions\n",
    "    **QUESTION : Peut-on faire un word2vec ?**\n",
    "    \n",
    "    \n",
    "        "
   ]
  },
  {
   "cell_type": "markdown",
   "metadata": {},
   "source": [
    "# Chargement de bibliothéques"
   ]
  },
  {
   "cell_type": "code",
   "execution_count": 1,
   "metadata": {},
   "outputs": [],
   "source": [
    "# Import the libraries\n",
    "import joblib\n",
    "from IPython.core.display import display, HTML\n",
    "import numpy as np\n",
    "import pandas as pd\n",
    "import random\n",
    "from pandas import Series, DataFrame\n",
    "from sklearn import model_selection\n",
    "from sklearn.feature_extraction.text import CountVectorizer\n",
    "from sklearn.feature_extraction.text import TfidfVectorizer\n",
    "from nltk.stem import WordNetLemmatizer \n",
    "from sklearn.decomposition import PCA\n",
    "from sklearn.manifold import TSNE\n",
    "\n",
    "\n",
    "import nltk\n",
    "#nltk.download()  # Download text data sets, including stop words\n",
    "from nltk.corpus import stopwords # Import the stop word list\n",
    "import re\n",
    "\n",
    "# Import BeautifulSoup into your workspace\n",
    "from bs4 import BeautifulSoup \n",
    "\n",
    "# Libraries for data visualisation\n",
    "import matplotlib\n",
    "import matplotlib.pyplot as plt\n",
    "import seaborn as sns\n",
    "sns.set_style('whitegrid')\n",
    "%matplotlib inline"
   ]
  },
  {
   "cell_type": "code",
   "execution_count": 2,
   "metadata": {},
   "outputs": [],
   "source": [
    "#Disable warning for .loc\n",
    "pd.options.mode.chained_assignment = None  # default='warn'"
   ]
  },
  {
   "cell_type": "markdown",
   "metadata": {},
   "source": [
    "# Récupération de données"
   ]
  },
  {
   "cell_type": "markdown",
   "metadata": {},
   "source": [
    "Les données était récupérées de stack overflow à l'aide de code suivant :\n",
    "\n",
    "SELECT body, title, tags FROM posts \n",
    "WHERE title is not null and body is not null and tags is not null and FavoriteCount>20\n"
   ]
  },
  {
   "cell_type": "code",
   "execution_count": 3,
   "metadata": {},
   "outputs": [],
   "source": [
    "data_load = pd.read_csv(\n",
    "    'Data/data_best_rating50.csv', sep=',')"
   ]
  },
  {
   "cell_type": "code",
   "execution_count": 4,
   "metadata": {},
   "outputs": [
    {
     "data": {
      "text/plain": [
       "(19687, 3)"
      ]
     },
     "execution_count": 4,
     "metadata": {},
     "output_type": "execute_result"
    }
   ],
   "source": [
    "data_load.shape"
   ]
  },
  {
   "cell_type": "code",
   "execution_count": 5,
   "metadata": {
    "scrolled": true
   },
   "outputs": [
    {
     "data": {
      "text/html": [
       "<div>\n",
       "<style scoped>\n",
       "    .dataframe tbody tr th:only-of-type {\n",
       "        vertical-align: middle;\n",
       "    }\n",
       "\n",
       "    .dataframe tbody tr th {\n",
       "        vertical-align: top;\n",
       "    }\n",
       "\n",
       "    .dataframe thead th {\n",
       "        text-align: right;\n",
       "    }\n",
       "</style>\n",
       "<table border=\"1\" class=\"dataframe\">\n",
       "  <thead>\n",
       "    <tr style=\"text-align: right;\">\n",
       "      <th></th>\n",
       "      <th>body</th>\n",
       "      <th>title</th>\n",
       "      <th>tags</th>\n",
       "    </tr>\n",
       "  </thead>\n",
       "  <tbody>\n",
       "    <tr>\n",
       "      <th>0</th>\n",
       "      <td>&lt;p&gt;I've been using Eclipse with RDT (not RadRa...</td>\n",
       "      <td>What Ruby IDE do you prefer?</td>\n",
       "      <td>&lt;ruby&gt;&lt;ide&gt;&lt;editor&gt;</td>\n",
       "    </tr>\n",
       "    <tr>\n",
       "      <th>1</th>\n",
       "      <td>&lt;p&gt;We are developing an application that invol...</td>\n",
       "      <td>How to generate sample XML documents from thei...</td>\n",
       "      <td>&lt;xml&gt;&lt;xsd&gt;&lt;dtd&gt;&lt;test-data&gt;</td>\n",
       "    </tr>\n",
       "    <tr>\n",
       "      <th>2</th>\n",
       "      <td>&lt;p&gt;I know that IList is the interface and List...</td>\n",
       "      <td>When to use IList and when to use List</td>\n",
       "      <td>&lt;c#&gt;&lt;.net&gt;</td>\n",
       "    </tr>\n",
       "    <tr>\n",
       "      <th>3</th>\n",
       "      <td>&lt;p&gt;I develop C++ applications in a Linux envir...</td>\n",
       "      <td>What tools do you use to develop C++ applicati...</td>\n",
       "      <td>&lt;c++&gt;&lt;linux&gt;&lt;eclipse&gt;&lt;gdb&gt;&lt;valgrind&gt;</td>\n",
       "    </tr>\n",
       "    <tr>\n",
       "      <th>4</th>\n",
       "      <td>&lt;p&gt;What would be the most efficient way to com...</td>\n",
       "      <td>What is the most effective way for float and d...</td>\n",
       "      <td>&lt;c++&gt;&lt;algorithm&gt;&lt;optimization&gt;&lt;floating-point&gt;</td>\n",
       "    </tr>\n",
       "  </tbody>\n",
       "</table>\n",
       "</div>"
      ],
      "text/plain": [
       "                                                body  \\\n",
       "0  <p>I've been using Eclipse with RDT (not RadRa...   \n",
       "1  <p>We are developing an application that invol...   \n",
       "2  <p>I know that IList is the interface and List...   \n",
       "3  <p>I develop C++ applications in a Linux envir...   \n",
       "4  <p>What would be the most efficient way to com...   \n",
       "\n",
       "                                               title  \\\n",
       "0                       What Ruby IDE do you prefer?   \n",
       "1  How to generate sample XML documents from thei...   \n",
       "2             When to use IList and when to use List   \n",
       "3  What tools do you use to develop C++ applicati...   \n",
       "4  What is the most effective way for float and d...   \n",
       "\n",
       "                                             tags  \n",
       "0                             <ruby><ide><editor>  \n",
       "1                      <xml><xsd><dtd><test-data>  \n",
       "2                                      <c#><.net>  \n",
       "3            <c++><linux><eclipse><gdb><valgrind>  \n",
       "4  <c++><algorithm><optimization><floating-point>  "
      ]
     },
     "execution_count": 5,
     "metadata": {},
     "output_type": "execute_result"
    }
   ],
   "source": [
    "data_load.head()"
   ]
  },
  {
   "cell_type": "markdown",
   "metadata": {},
   "source": [
    "Exemple de la première question:"
   ]
  },
  {
   "cell_type": "code",
   "execution_count": 6,
   "metadata": {},
   "outputs": [
    {
     "name": "stdout",
     "output_type": "stream",
     "text": [
      "<p>I know that IList is the interface and List is the concrete type but I still don't know when to use each one. What I'm doing now is if I don't need the Sort or FindAll methods I use the interface. Am I right? Is there a better way to decide when to use the interface or the concrete type?</p>\n",
      "\n"
     ]
    }
   ],
   "source": [
    "print (data_load['body'][2])"
   ]
  },
  {
   "cell_type": "markdown",
   "metadata": {},
   "source": [
    "## Création d'un jeu de données test"
   ]
  },
  {
   "cell_type": "markdown",
   "metadata": {},
   "source": [
    "Notre variable cible est la variable tags. Nous avons deux variables texte qui nous permettrons estimer le tag : variables title et body. Nous allons séparer 30 % de données qui seront utilisées plus tard afin de tester les modèles :"
   ]
  },
  {
   "cell_type": "code",
   "execution_count": 7,
   "metadata": {},
   "outputs": [],
   "source": [
    "target = data_load['tags']"
   ]
  },
  {
   "cell_type": "code",
   "execution_count": 8,
   "metadata": {},
   "outputs": [],
   "source": [
    "data=data_load.drop(['tags'], axis=1)"
   ]
  },
  {
   "cell_type": "code",
   "execution_count": 9,
   "metadata": {},
   "outputs": [],
   "source": [
    "X_train, X_test, y_train, y_test = model_selection.train_test_split(data, target, test_size=0.5, random_state=1)"
   ]
  },
  {
   "cell_type": "code",
   "execution_count": 10,
   "metadata": {},
   "outputs": [
    {
     "name": "stdout",
     "output_type": "stream",
     "text": [
      "Le jeu de données X_train contient 9843 observations et 2 features.\n",
      "Le vecteur y_train contient 9843 observations.\n",
      "Le jeu de données X_test contient 9844 observations et 2 features.\n",
      "Le vecteur y_test contient 9844 observations.\n"
     ]
    }
   ],
   "source": [
    "print (\"Le jeu de données X_train contient\", X_train.shape[0], \"observations et\", X_train.shape[1], \"features.\") \n",
    "print (\"Le vecteur y_train contient\", y_train.shape[0], \"observations.\") \n",
    "print (\"Le jeu de données X_test contient\", X_test.shape[0], \"observations et\", X_test.shape[1], \"features.\") \n",
    "print (\"Le vecteur y_test contient\", y_test.shape[0], \"observations.\")  "
   ]
  },
  {
   "cell_type": "markdown",
   "metadata": {},
   "source": [
    "Exporter les jeux de données en .csv"
   ]
  },
  {
   "cell_type": "code",
   "execution_count": 11,
   "metadata": {},
   "outputs": [],
   "source": [
    "X_train.to_csv('Data/X_train.csv', sep='\\t')\n",
    "X_test.to_csv('Data/X_test.csv', sep='\\t')\n",
    "y_train.to_csv('Data/y_train.csv', sep='\\t', header=False)\n",
    "y_test.to_csv('Data/y_test.csv', sep='\\t', header=False)"
   ]
  },
  {
   "cell_type": "markdown",
   "metadata": {},
   "source": [
    "# Data cleaning "
   ]
  },
  {
   "cell_type": "code",
   "execution_count": null,
   "metadata": {},
   "outputs": [],
   "source": [
    "# !!! Ajouter une fonction qui enlève les mots présentes dans plus que x documents ??? Si on a le temps...\n",
    "# Filter out words that occur less than 20 documents, or more than 50% of the documents.\n",
    "# dictionary.filter_extremes(no_below=20, no_above=0.5)"
   ]
  },
  {
   "cell_type": "markdown",
   "metadata": {},
   "source": [
    "## Tester les fonctions sur un exemple de features"
   ]
  },
  {
   "cell_type": "markdown",
   "metadata": {},
   "source": [
    "### Enlever les balises html"
   ]
  },
  {
   "cell_type": "markdown",
   "metadata": {},
   "source": [
    "Pour enlever les balises HTML, nous allons utiliser le package BeautifulSoup:"
   ]
  },
  {
   "cell_type": "code",
   "execution_count": 19,
   "metadata": {},
   "outputs": [
    {
     "name": "stdout",
     "output_type": "stream",
     "text": [
      "<p>I've been using Eclipse with RDT (not RadRails) a lot lately, and I'm quite happy with it, but I'm wondering if you guys know any decent alternatives. I know NetBeans also supports Ruby these days, but I'm not sure what it has to offer over Eclipse.</p>\n",
      "\n",
      "<p>Please, list any features you think are brilliant or useful when suggesting an IDE, makes it easier to compare.</p>\n",
      "\n",
      "<p>Also, I said Ruby, not Rails. While Rails support is a plus, I prefer things to be none Rails-centric. It should also be available on Linux and optionally Solaris.</p>\n",
      "\n",
      "I've been using Eclipse with RDT (not RadRails) a lot lately, and I'm quite happy with it, but I'm wondering if you guys know any decent alternatives. I know NetBeans also supports Ruby these days, but I'm not sure what it has to offer over Eclipse.\n",
      "Please, list any features you think are brilliant or useful when suggesting an IDE, makes it easier to compare.\n",
      "Also, I said Ruby, not Rails. While Rails support is a plus, I prefer things to be none Rails-centric. It should also be available on Linux and optionally Solaris.\n",
      "\n"
     ]
    }
   ],
   "source": [
    "# Initialize the BeautifulSoup object on a single movie review     \n",
    "example1 = BeautifulSoup(X_train['body'][1])  \n",
    "\n",
    "# Print the raw review and then the output of get_text(), for \n",
    "# comparison\n",
    "print (X_train['body'][1])\n",
    "print (example1.get_text())"
   ]
  },
  {
   "cell_type": "markdown",
   "metadata": {},
   "source": [
    "### Enlever la ponctuation"
   ]
  },
  {
   "cell_type": "markdown",
   "metadata": {},
   "source": [
    "Nous allons enlever la ponctuation tout en gardant les nombres, lettres ainsi que les signes \"-\", \"+\" et \"#\" étant donné que ces signes sont souvent utilisés dans l'informatique. "
   ]
  },
  {
   "cell_type": "code",
   "execution_count": 20,
   "metadata": {},
   "outputs": [
    {
     "name": "stdout",
     "output_type": "stream",
     "text": [
      "I ve been using Eclipse with RDT  not RadRails  a lot lately  and I m quite happy with it  but I m wondering if you guys know any decent alternatives  I know NetBeans also supports Ruby these days  but I m not sure what it has to offer over Eclipse  Please  list any features you think are brilliant or useful when suggesting an IDE  makes it easier to compare  Also  I said Ruby  not Rails  While Rails support is a plus  I prefer things to be none Rails centric  It should also be available on Linux and optionally Solaris  \n"
     ]
    }
   ],
   "source": [
    "letters_only = re.sub(\"[^0-9#+a-zA-Z]\",       # The pattern to search for\n",
    "                      \" \",                   # The pattern to replace it with\n",
    "                      example1.get_text() )  # The text to search\n",
    "print (letters_only)"
   ]
  },
  {
   "cell_type": "markdown",
   "metadata": {},
   "source": [
    "### Mise en minuscule et tokenization"
   ]
  },
  {
   "cell_type": "code",
   "execution_count": 22,
   "metadata": {},
   "outputs": [],
   "source": [
    "lower_case = letters_only.lower()        # Convert to lower case\n",
    "words = lower_case.split()               # Split into words"
   ]
  },
  {
   "cell_type": "markdown",
   "metadata": {},
   "source": [
    "### Stopwords"
   ]
  },
  {
   "cell_type": "code",
   "execution_count": 23,
   "metadata": {},
   "outputs": [
    {
     "name": "stdout",
     "output_type": "stream",
     "text": [
      "['i', 'me', 'my', 'myself', 'we', 'our', 'ours', 'ourselves', 'you', \"you're\", \"you've\", \"you'll\", \"you'd\", 'your', 'yours', 'yourself', 'yourselves', 'he', 'him', 'his', 'himself', 'she', \"she's\", 'her', 'hers', 'herself', 'it', \"it's\", 'its', 'itself', 'they', 'them', 'their', 'theirs', 'themselves', 'what', 'which', 'who', 'whom', 'this', 'that', \"that'll\", 'these', 'those', 'am', 'is', 'are', 'was', 'were', 'be', 'been', 'being', 'have', 'has', 'had', 'having', 'do', 'does', 'did', 'doing', 'a', 'an', 'the', 'and', 'but', 'if', 'or', 'because', 'as', 'until', 'while', 'of', 'at', 'by', 'for', 'with', 'about', 'against', 'between', 'into', 'through', 'during', 'before', 'after', 'above', 'below', 'to', 'from', 'up', 'down', 'in', 'out', 'on', 'off', 'over', 'under', 'again', 'further', 'then', 'once', 'here', 'there', 'when', 'where', 'why', 'how', 'all', 'any', 'both', 'each', 'few', 'more', 'most', 'other', 'some', 'such', 'no', 'nor', 'not', 'only', 'own', 'same', 'so', 'than', 'too', 'very', 's', 't', 'can', 'will', 'just', 'don', \"don't\", 'should', \"should've\", 'now', 'd', 'll', 'm', 'o', 're', 've', 'y', 'ain', 'aren', \"aren't\", 'couldn', \"couldn't\", 'didn', \"didn't\", 'doesn', \"doesn't\", 'hadn', \"hadn't\", 'hasn', \"hasn't\", 'haven', \"haven't\", 'isn', \"isn't\", 'ma', 'mightn', \"mightn't\", 'mustn', \"mustn't\", 'needn', \"needn't\", 'shan', \"shan't\", 'shouldn', \"shouldn't\", 'wasn', \"wasn't\", 'weren', \"weren't\", 'won', \"won't\", 'wouldn', \"wouldn't\"]\n"
     ]
    }
   ],
   "source": [
    "# Let's have a look to the stopwords from ntlk.corpus\n",
    "print (stopwords.words(\"english\")) "
   ]
  },
  {
   "cell_type": "code",
   "execution_count": 24,
   "metadata": {},
   "outputs": [
    {
     "name": "stdout",
     "output_type": "stream",
     "text": [
      "['using', 'eclipse', 'rdt', 'radrails', 'lot', 'lately', 'quite', 'happy', 'wondering', 'guys', 'know', 'decent', 'alternatives', 'know', 'netbeans', 'also', 'supports', 'ruby', 'days', 'sure', 'offer', 'eclipse', 'please', 'list', 'features', 'think', 'brilliant', 'useful', 'suggesting', 'ide', 'makes', 'easier', 'compare', 'also', 'said', 'ruby', 'rails', 'rails', 'support', 'plus', 'prefer', 'things', 'none', 'rails', 'centric', 'also', 'available', 'linux', 'optionally', 'solaris']\n"
     ]
    }
   ],
   "source": [
    "# Remove stop words from \"words\"\n",
    "words = [w for w in words if not w in stopwords.words(\"english\")]\n",
    "print (words)"
   ]
  },
  {
   "cell_type": "markdown",
   "metadata": {},
   "source": [
    "### Lemmatisation"
   ]
  },
  {
   "cell_type": "code",
   "execution_count": 26,
   "metadata": {},
   "outputs": [
    {
     "ename": "NameError",
     "evalue": "name 'words' is not defined",
     "output_type": "error",
     "traceback": [
      "\u001b[1;31m---------------------------------------------------------------------------\u001b[0m",
      "\u001b[1;31mNameError\u001b[0m                                 Traceback (most recent call last)",
      "\u001b[1;32m<ipython-input-26-3ba1ca3d2820>\u001b[0m in \u001b[0;36m<module>\u001b[1;34m\u001b[0m\n\u001b[0;32m      6\u001b[0m \u001b[0mlems\u001b[0m \u001b[1;33m=\u001b[0m \u001b[1;33m[\u001b[0m\u001b[1;33m]\u001b[0m\u001b[1;33m\u001b[0m\u001b[1;33m\u001b[0m\u001b[0m\n\u001b[0;32m      7\u001b[0m \u001b[1;33m\u001b[0m\u001b[0m\n\u001b[1;32m----> 8\u001b[1;33m \u001b[1;32mfor\u001b[0m \u001b[0mword\u001b[0m \u001b[1;32min\u001b[0m \u001b[0mwords\u001b[0m\u001b[1;33m:\u001b[0m\u001b[1;33m\u001b[0m\u001b[1;33m\u001b[0m\u001b[0m\n\u001b[0m\u001b[0;32m      9\u001b[0m     \u001b[0mword\u001b[0m \u001b[1;33m=\u001b[0m \u001b[0mlemmatizer\u001b[0m\u001b[1;33m.\u001b[0m\u001b[0mlemmatize\u001b[0m\u001b[1;33m(\u001b[0m\u001b[0mword\u001b[0m\u001b[1;33m)\u001b[0m\u001b[1;33m\u001b[0m\u001b[1;33m\u001b[0m\u001b[0m\n\u001b[0;32m     10\u001b[0m     \u001b[0mlems\u001b[0m\u001b[1;33m.\u001b[0m\u001b[0mappend\u001b[0m\u001b[1;33m(\u001b[0m\u001b[0mword\u001b[0m\u001b[1;33m)\u001b[0m\u001b[1;33m\u001b[0m\u001b[1;33m\u001b[0m\u001b[0m\n",
      "\u001b[1;31mNameError\u001b[0m: name 'words' is not defined"
     ]
    }
   ],
   "source": [
    "lemmatizer = WordNetLemmatizer() \n",
    "\n",
    "lems = []\n",
    "\n",
    "for word in words:\n",
    "    word = lemmatizer.lemmatize(word)\n",
    "    lems.append(word)\n",
    "    \n",
    "print(lems)"
   ]
  },
  {
   "cell_type": "markdown",
   "metadata": {},
   "source": [
    "## Tester les fonctions sur un exemple de targets"
   ]
  },
  {
   "cell_type": "markdown",
   "metadata": {},
   "source": [
    "Les tags (notre variable cible) ont une forme spécifiques. Les mots sont entre \"<>\". Les tags sont parfois composés par deux, voir plusieurs mots qui sont séparés par \"-\". Nous allons enlever les balises."
   ]
  },
  {
   "cell_type": "code",
   "execution_count": 35,
   "metadata": {},
   "outputs": [],
   "source": [
    "#Take the first tag from the dataset\n",
    "tag = y_train[0]"
   ]
  },
  {
   "cell_type": "code",
   "execution_count": 36,
   "metadata": {},
   "outputs": [
    {
     "data": {
      "text/plain": [
       "'<c><vim>'"
      ]
     },
     "execution_count": 36,
     "metadata": {},
     "output_type": "execute_result"
    }
   ],
   "source": [
    "#Check\n",
    "tag"
   ]
  },
  {
   "cell_type": "code",
   "execution_count": 37,
   "metadata": {},
   "outputs": [],
   "source": [
    "#Remove first '<'\n",
    "tag = tag[1:]"
   ]
  },
  {
   "cell_type": "code",
   "execution_count": 38,
   "metadata": {},
   "outputs": [
    {
     "data": {
      "text/plain": [
       "'c><vim>'"
      ]
     },
     "execution_count": 38,
     "metadata": {},
     "output_type": "execute_result"
    }
   ],
   "source": [
    "#Check\n",
    "tag"
   ]
  },
  {
   "cell_type": "code",
   "execution_count": 39,
   "metadata": {},
   "outputs": [],
   "source": [
    "#Remove last '>'\n",
    "tag = tag[:-1]"
   ]
  },
  {
   "cell_type": "code",
   "execution_count": 40,
   "metadata": {},
   "outputs": [
    {
     "data": {
      "text/plain": [
       "'c><vim'"
      ]
     },
     "execution_count": 40,
     "metadata": {},
     "output_type": "execute_result"
    }
   ],
   "source": [
    "#Check\n",
    "tag"
   ]
  },
  {
   "cell_type": "code",
   "execution_count": 41,
   "metadata": {},
   "outputs": [],
   "source": [
    "#Remove remaining '><' signs\n",
    "tag = tag.split('><')"
   ]
  },
  {
   "cell_type": "code",
   "execution_count": 42,
   "metadata": {},
   "outputs": [
    {
     "data": {
      "text/plain": [
       "['c', 'vim']"
      ]
     },
     "execution_count": 42,
     "metadata": {},
     "output_type": "execute_result"
    }
   ],
   "source": [
    "#Check\n",
    "tag"
   ]
  },
  {
   "cell_type": "code",
   "execution_count": 43,
   "metadata": {},
   "outputs": [],
   "source": [
    "#Converting back to string\n",
    "tag_clean = \" \".join(tag)  "
   ]
  },
  {
   "cell_type": "code",
   "execution_count": 44,
   "metadata": {},
   "outputs": [
    {
     "data": {
      "text/plain": [
       "'c vim'"
      ]
     },
     "execution_count": 44,
     "metadata": {},
     "output_type": "execute_result"
    }
   ],
   "source": [
    "#Check\n",
    "tag_clean"
   ]
  },
  {
   "cell_type": "markdown",
   "metadata": {},
   "source": [
    "## Pipelines pour data cleaning"
   ]
  },
  {
   "cell_type": "markdown",
   "metadata": {},
   "source": [
    "### Features"
   ]
  },
  {
   "cell_type": "markdown",
   "metadata": {},
   "source": [
    "Nous allons utiliser la fonction suivante pour automatiser le processus de data cleaning :"
   ]
  },
  {
   "cell_type": "code",
   "execution_count": 12,
   "metadata": {},
   "outputs": [],
   "source": [
    "def post_to_words( raw_post ):\n",
    "    \"\"\"Function to convert a raw document to a string of words.\n",
    "    \n",
    "    Inputs : \n",
    "    \n",
    "    - raw_post : a single string \n",
    "    \n",
    "    Output :\n",
    "    \n",
    "    - a single string containing a preprocessed document\"\"\"\n",
    "    \n",
    "    # 1. Remove HTML\n",
    "    post_text = BeautifulSoup(raw_post).get_text() \n",
    "    #\n",
    "    # 2. Remove non-letters        \n",
    "    letters_only = re.sub(\"[^0-9#-+a-zA-Z]\", \" \", post_text) \n",
    "    #\n",
    "    # 3. Convert to lower case, split into individual words\n",
    "    words = letters_only.lower().split()                             \n",
    "    #\n",
    "    # 4. In Python, searching a set is much faster than searching\n",
    "    #   a list, so convert the stop words to a set\n",
    "    stops = set(stopwords.words(\"english\"))                  \n",
    "    # \n",
    "    # 5. Remove stop words\n",
    "    meaningful_words = [w for w in words if not w in stops]   \n",
    "    #\n",
    "    # 6. Lematize\n",
    "    lemmatizer = WordNetLemmatizer() \n",
    "\n",
    "    lems = []\n",
    "\n",
    "    for word in meaningful_words:\n",
    "        word_clean = lemmatizer.lemmatize(word)\n",
    "        lems.append(word_clean)\n",
    "    #\n",
    "    # 7. Join the words back into one string separated by space, \n",
    "    # and return the result.\n",
    "    return( \" \".join( lems )) "
   ]
  },
  {
   "cell_type": "code",
   "execution_count": 13,
   "metadata": {},
   "outputs": [],
   "source": [
    "X_train['body_clean']=X_train['body'].apply(lambda x: post_to_words(x))"
   ]
  },
  {
   "cell_type": "code",
   "execution_count": 14,
   "metadata": {},
   "outputs": [],
   "source": [
    "X_train['title_clean']=X_train['title'].apply(lambda x: post_to_words(x))"
   ]
  },
  {
   "cell_type": "code",
   "execution_count": 15,
   "metadata": {
    "scrolled": false
   },
   "outputs": [
    {
     "data": {
      "text/html": [
       "<div>\n",
       "<style scoped>\n",
       "    .dataframe tbody tr th:only-of-type {\n",
       "        vertical-align: middle;\n",
       "    }\n",
       "\n",
       "    .dataframe tbody tr th {\n",
       "        vertical-align: top;\n",
       "    }\n",
       "\n",
       "    .dataframe thead th {\n",
       "        text-align: right;\n",
       "    }\n",
       "</style>\n",
       "<table border=\"1\" class=\"dataframe\">\n",
       "  <thead>\n",
       "    <tr style=\"text-align: right;\">\n",
       "      <th></th>\n",
       "      <th>body</th>\n",
       "      <th>title</th>\n",
       "      <th>body_clean</th>\n",
       "      <th>title_clean</th>\n",
       "    </tr>\n",
       "  </thead>\n",
       "  <tbody>\n",
       "    <tr>\n",
       "      <th>4183</th>\n",
       "      <td>&lt;p&gt;For some reason it looks like constructor d...</td>\n",
       "      <td>How do I create a custom Error in JavaScript?</td>\n",
       "      <td>reason look like constructor delegation work f...</td>\n",
       "      <td>create custom error javascript</td>\n",
       "    </tr>\n",
       "    <tr>\n",
       "      <th>13188</th>\n",
       "      <td>&lt;p&gt;How long can latitude and longitude be?&lt;/p&gt;...</td>\n",
       "      <td>What is the maximum length of latitude and lon...</td>\n",
       "      <td>long latitude longitude getting long length se...</td>\n",
       "      <td>maximum length latitude longitude</td>\n",
       "    </tr>\n",
       "    <tr>\n",
       "      <th>2147</th>\n",
       "      <td>&lt;p&gt;How can I get crash data (stack traces at l...</td>\n",
       "      <td>How do I obtain crash-data from my Android app...</td>\n",
       "      <td>get crash data (stack trace least) android app...</td>\n",
       "      <td>obtain crash data android application</td>\n",
       "    </tr>\n",
       "    <tr>\n",
       "      <th>7588</th>\n",
       "      <td>&lt;p&gt;I'm wondering what the best way is to have ...</td>\n",
       "      <td>.NET - What's the best way to implement a \"cat...</td>\n",
       "      <td>i'm wondering best way else fails catch mean h...</td>\n",
       "      <td>net what's best way implement catch exception ...</td>\n",
       "    </tr>\n",
       "    <tr>\n",
       "      <th>12329</th>\n",
       "      <td>&lt;p&gt;I need to parse an RSS feed (XML version 2....</td>\n",
       "      <td>How to parse an RSS feed using JavaScript?</td>\n",
       "      <td>need parse r feed (xml version 2 0) display pa...</td>\n",
       "      <td>parse r feed using javascript</td>\n",
       "    </tr>\n",
       "  </tbody>\n",
       "</table>\n",
       "</div>"
      ],
      "text/plain": [
       "                                                    body  \\\n",
       "4183   <p>For some reason it looks like constructor d...   \n",
       "13188  <p>How long can latitude and longitude be?</p>...   \n",
       "2147   <p>How can I get crash data (stack traces at l...   \n",
       "7588   <p>I'm wondering what the best way is to have ...   \n",
       "12329  <p>I need to parse an RSS feed (XML version 2....   \n",
       "\n",
       "                                                   title  \\\n",
       "4183       How do I create a custom Error in JavaScript?   \n",
       "13188  What is the maximum length of latitude and lon...   \n",
       "2147   How do I obtain crash-data from my Android app...   \n",
       "7588   .NET - What's the best way to implement a \"cat...   \n",
       "12329         How to parse an RSS feed using JavaScript?   \n",
       "\n",
       "                                              body_clean  \\\n",
       "4183   reason look like constructor delegation work f...   \n",
       "13188  long latitude longitude getting long length se...   \n",
       "2147   get crash data (stack trace least) android app...   \n",
       "7588   i'm wondering best way else fails catch mean h...   \n",
       "12329  need parse r feed (xml version 2 0) display pa...   \n",
       "\n",
       "                                             title_clean  \n",
       "4183                      create custom error javascript  \n",
       "13188                  maximum length latitude longitude  \n",
       "2147               obtain crash data android application  \n",
       "7588   net what's best way implement catch exception ...  \n",
       "12329                      parse r feed using javascript  "
      ]
     },
     "execution_count": 15,
     "metadata": {},
     "output_type": "execute_result"
    }
   ],
   "source": [
    "X_train.head()"
   ]
  },
  {
   "cell_type": "markdown",
   "metadata": {},
   "source": [
    "Nous allons aussi construire une fonction qui nous servira comme paramètre de tokenizer personnalisé que nous allons appliquer dans l'outil CountVectorizer, afin de garder la structure de bigrams que l'on a créé pendant la transformation de features. Nous allons séparer les mot tout simplement en utilisant méthode .split() qui sépare les mots par espace et laisse les caractères spéciaux comme par exemple '#' collé sur les mots, contrairement à la méthode .tokenize() "
   ]
  },
  {
   "cell_type": "code",
   "execution_count": 16,
   "metadata": {},
   "outputs": [],
   "source": [
    "def my_tokenizer(doc):\n",
    "    \n",
    "    \"\"\"Function defining personalized tokenizer for sklearn's CountVectorizer in order to keep the created \n",
    "    bigrams in tag's format.\n",
    "    \n",
    "    Input:\n",
    "    \n",
    "    - doc : string to be tokenized\n",
    "    \n",
    "    Output:\n",
    "    \n",
    "    - tokenized string\n",
    "    \"\"\"\n",
    "    \n",
    "    \n",
    "    tokens = doc.split()\n",
    "    \n",
    "    return tokens"
   ]
  },
  {
   "cell_type": "markdown",
   "metadata": {},
   "source": [
    "Nous allons définir les stop-words que nous n'avons pas enlevé dans l'étape de cleaning, mais qui figurent souvent dans les posts et qui n'ont pas de valeur informative. La liste sera également utilée en paramètre de CountVectorizer et TfidfVectorizer."
   ]
  },
  {
   "cell_type": "code",
   "execution_count": 17,
   "metadata": {},
   "outputs": [],
   "source": [
    "stop_words = [\"i'm\", 'would', '1', '0', '2', \"i've\", 'could', 'anyone', 'also', '3', 'thanks', \n",
    "               'two', 'however', \"i'd\", '5', \"+\", \"#\", \"im\", \"ive\", \"dont\", \"cant\", \"id\", \")\", \"(\"]"
   ]
  },
  {
   "cell_type": "markdown",
   "metadata": {},
   "source": [
    "### Target"
   ]
  },
  {
   "cell_type": "code",
   "execution_count": 18,
   "metadata": {},
   "outputs": [],
   "source": [
    "def cleaning_target(raw_target):\n",
    "    \"\"\"Function to remove '<>' signs from target list and to replace them with a space\n",
    "    \n",
    "    Arguments :\n",
    "    - raw_target : a Series of tags\n",
    "    \n",
    "    Return :\n",
    "    - Series with cleaned tags\n",
    "       \n",
    "    \"\"\"\n",
    "    \n",
    "    #Remove first '<'\n",
    "    tag = raw_target[1:]\n",
    "    \n",
    "    #Remove last '>'\n",
    "    tag = tag[:-1]\n",
    "    \n",
    "    #Remove remaining '><' signs\n",
    "    tag = tag.split('><')\n",
    "    \n",
    "    #Converting back to string\n",
    "    tag_clean = \" \".join(tag)  \n",
    "    \n",
    "    return tag_clean"
   ]
  },
  {
   "cell_type": "code",
   "execution_count": 19,
   "metadata": {},
   "outputs": [],
   "source": [
    "y_train_clean=y_train.apply(lambda x: cleaning_target(x))"
   ]
  },
  {
   "cell_type": "code",
   "execution_count": 20,
   "metadata": {},
   "outputs": [
    {
     "data": {
      "text/plain": [
       "4183                     javascript exception\n",
       "13188      database-design latitude-longitude\n",
       "2147                android crash stack-trace\n",
       "7588     c# .net exception exception-handling\n",
       "12329                     javascript html rss\n",
       "Name: tags, dtype: object"
      ]
     },
     "execution_count": 20,
     "metadata": {},
     "output_type": "execute_result"
    }
   ],
   "source": [
    "y_train_clean.head()"
   ]
  },
  {
   "cell_type": "markdown",
   "metadata": {},
   "source": [
    "# Feature engineering"
   ]
  },
  {
   "cell_type": "markdown",
   "metadata": {},
   "source": [
    "## Créer les bigrams"
   ]
  },
  {
   "cell_type": "markdown",
   "metadata": {},
   "source": [
    "Nous allons créer des bigrams, car les tags sont souvent composés par deux mots, séparés par \"-\". Les bigrams créé à partir de text de body et title vont donc être mis au même format que les tags."
   ]
  },
  {
   "cell_type": "markdown",
   "metadata": {},
   "source": [
    "### Tester les fonctions sur un exemple de post"
   ]
  },
  {
   "cell_type": "code",
   "execution_count": 26,
   "metadata": {},
   "outputs": [
    {
     "data": {
      "text/plain": [
       "\"developing application involves substantial amount xml transformation proper input test data per se dtd xsd file we'd like generate test data file easy free way edit apparently free tool agree oxygenxml one best tool\""
      ]
     },
     "execution_count": 26,
     "metadata": {},
     "output_type": "execute_result"
    }
   ],
   "source": [
    "#Take the first element of the cleaned body text\n",
    "body = X_train['body_clean'][1]\n",
    "body"
   ]
  },
  {
   "cell_type": "code",
   "execution_count": 27,
   "metadata": {},
   "outputs": [],
   "source": [
    "#Split it to a list of words\n",
    "body = body.split()"
   ]
  },
  {
   "cell_type": "code",
   "execution_count": 28,
   "metadata": {},
   "outputs": [
    {
     "data": {
      "text/plain": [
       "['developing',\n",
       " 'application',\n",
       " 'involves',\n",
       " 'substantial',\n",
       " 'amount',\n",
       " 'xml',\n",
       " 'transformation',\n",
       " 'proper',\n",
       " 'input',\n",
       " 'test']"
      ]
     },
     "execution_count": 28,
     "metadata": {},
     "output_type": "execute_result"
    }
   ],
   "source": [
    "#Check\n",
    "body[:10]"
   ]
  },
  {
   "cell_type": "code",
   "execution_count": 91,
   "metadata": {},
   "outputs": [],
   "source": [
    "#Creating bigrams object\n",
    "bigram = nltk.bigrams(body)"
   ]
  },
  {
   "cell_type": "code",
   "execution_count": 92,
   "metadata": {},
   "outputs": [],
   "source": [
    "#Creating a list of bigram objects\n",
    "liste = list(bigram)"
   ]
  },
  {
   "cell_type": "code",
   "execution_count": 93,
   "metadata": {},
   "outputs": [
    {
     "data": {
      "text/plain": [
       "[('way', 'compile'),\n",
       " ('compile', 'run'),\n",
       " ('run', 'c'),\n",
       " ('c', 'program'),\n",
       " ('program', 'vim'),\n",
       " ('vim', 'without'),\n",
       " ('without', 'typing'),\n",
       " ('typing', 'filename')]"
      ]
     },
     "execution_count": 93,
     "metadata": {},
     "output_type": "execute_result"
    }
   ],
   "source": [
    "#Check\n",
    "liste[:10]"
   ]
  },
  {
   "cell_type": "code",
   "execution_count": 94,
   "metadata": {},
   "outputs": [],
   "source": [
    "#Creating a tag-like word from tuples\n",
    "bigrams_rec = []\n",
    "\n",
    "for i in range(len(liste)):\n",
    "    tuple1 = liste[i]\n",
    "    elt = tuple1[0] + '-' + tuple1[1]\n",
    "    bigrams_rec.append(elt)"
   ]
  },
  {
   "cell_type": "code",
   "execution_count": 95,
   "metadata": {},
   "outputs": [],
   "source": [
    "#Creating a string from list of tag-like bigrams\n",
    "bigrams_str = \" \".join(bigrams_rec)"
   ]
  },
  {
   "cell_type": "markdown",
   "metadata": {},
   "source": [
    "### Créer des pipelines pour le recodage en bigrams"
   ]
  },
  {
   "cell_type": "markdown",
   "metadata": {},
   "source": [
    "Nous allons utiliser deux fonctions afin de :\n",
    "    1. créer les bigrams\n",
    "    2. recoder les bigrams dans le même format comme les tags dans notre variable cible"
   ]
  },
  {
   "cell_type": "code",
   "execution_count": 29,
   "metadata": {},
   "outputs": [],
   "source": [
    "def create_bigrams(var):\n",
    "    \n",
    "    \"\"\"Function which generates a liste of tuples representing bigrams. \n",
    "    \n",
    "    Arguments :\n",
    "    - var : feature to be recoded\n",
    "    \n",
    "    Returns :\n",
    "    - a Series of recoded feature  \n",
    "    \n",
    "    \"\"\"\n",
    "   \n",
    "   #Take the i-th element of the cleaned body text\n",
    "    body = var    \n",
    "        \n",
    "    #Split it to a list of words\n",
    "    body = body.split()\n",
    "    \n",
    "    #Creating bigrams object\n",
    "    bigram = nltk.bigrams(body)\n",
    "    \n",
    "    #Creating a list of bigram objects \n",
    "    liste_bigram = list(bigram)\n",
    "        \n",
    "        \n",
    "    return liste_bigram"
   ]
  },
  {
   "cell_type": "code",
   "execution_count": 30,
   "metadata": {},
   "outputs": [],
   "source": [
    "X_train['body_bigram'] = X_train['body_clean'].apply(lambda x : create_bigrams(x))"
   ]
  },
  {
   "cell_type": "code",
   "execution_count": 31,
   "metadata": {},
   "outputs": [
    {
     "data": {
      "text/plain": [
       "4183     [(reason, look), (look, like), (like, construc...\n",
       "13188    [(long, latitude), (latitude, longitude), (lon...\n",
       "2147     [(get, crash), (crash, data), (data, (stack), ...\n",
       "7588     [(i'm, wondering), (wondering, best), (best, w...\n",
       "12329    [(need, parse), (parse, r), (r, feed), (feed, ...\n",
       "Name: body_bigram, dtype: object"
      ]
     },
     "execution_count": 31,
     "metadata": {},
     "output_type": "execute_result"
    }
   ],
   "source": [
    "X_train['body_bigram'].head()"
   ]
  },
  {
   "cell_type": "code",
   "execution_count": 32,
   "metadata": {},
   "outputs": [],
   "source": [
    "def recode_bigrams(liste):\n",
    "    \"\"\"Function which recode the bigrams generated by recode_bigram function.\n",
    "    Each bigram has the same structure as the stack overflow tages :\n",
    "    it is composed of two words and the words are separated by '-'  \n",
    "    \n",
    "    Arguments :\n",
    "    - liste : a liste containing bigram tuples\n",
    "    \n",
    "    Return :\n",
    "    \n",
    "    - a string of recoded bigrams_rec\n",
    "    \"\"\"\n",
    "    \n",
    "    #Creating a tag-like word from tuples\n",
    "    bigrams_rec = []\n",
    "\n",
    "    for i in range(len(liste)):\n",
    "        tuple1 = liste[i]\n",
    "        elt = tuple1[0] + '-' + tuple1[1]\n",
    "        bigrams_rec.append(elt)\n",
    "        \n",
    "    return \" \".join(bigrams_rec)"
   ]
  },
  {
   "cell_type": "code",
   "execution_count": 33,
   "metadata": {},
   "outputs": [],
   "source": [
    "X_train['body_bigram_clean'] = X_train['body_bigram'].apply(lambda x : recode_bigrams(x))"
   ]
  },
  {
   "cell_type": "code",
   "execution_count": 34,
   "metadata": {},
   "outputs": [
    {
     "data": {
      "text/plain": [
       "4183     reason-look look-like like-constructor constru...\n",
       "13188    long-latitude latitude-longitude longitude-get...\n",
       "2147     get-crash crash-data data-(stack (stack-trace ...\n",
       "7588     i'm-wondering wondering-best best-way way-else...\n",
       "12329    need-parse parse-r r-feed feed-(xml (xml-versi...\n",
       "Name: body_bigram_clean, dtype: object"
      ]
     },
     "execution_count": 34,
     "metadata": {},
     "output_type": "execute_result"
    }
   ],
   "source": [
    "X_train['body_bigram_clean'].head()"
   ]
  },
  {
   "cell_type": "markdown",
   "metadata": {},
   "source": [
    "Nous allons appliquer les mâmes fonctions sur la feature title :"
   ]
  },
  {
   "cell_type": "code",
   "execution_count": 35,
   "metadata": {},
   "outputs": [],
   "source": [
    "X_train['title_bigram'] = X_train['title_clean'].apply(lambda x : create_bigrams(x))"
   ]
  },
  {
   "cell_type": "code",
   "execution_count": 36,
   "metadata": {},
   "outputs": [],
   "source": [
    "X_train['title_bigram_clean'] = X_train['title_bigram'].apply(lambda x : recode_bigrams(x))"
   ]
  },
  {
   "cell_type": "code",
   "execution_count": 37,
   "metadata": {},
   "outputs": [
    {
     "data": {
      "text/plain": [
       "4183           create-custom custom-error error-javascript\n",
       "13188    maximum-length length-latitude latitude-longitude\n",
       "2147     obtain-crash crash-data data-android android-a...\n",
       "7588     net-what's what's-best best-way way-implement ...\n",
       "12329           parse-r r-feed feed-using using-javascript\n",
       "Name: title_bigram_clean, dtype: object"
      ]
     },
     "execution_count": 37,
     "metadata": {},
     "output_type": "execute_result"
    }
   ],
   "source": [
    "X_train['title_bigram_clean'].head()"
   ]
  },
  {
   "cell_type": "markdown",
   "metadata": {},
   "source": [
    "### Fusionner le title, body et les bigrams"
   ]
  },
  {
   "cell_type": "markdown",
   "metadata": {},
   "source": [
    "Afin de simplifier le travail exploratiore et les recodages de text qui va être utilisé dans la partie analyse, nous allons créer une feature unique composée par le text de title, de body et des bigrams créés à partir de ces deux features :"
   ]
  },
  {
   "cell_type": "code",
   "execution_count": 38,
   "metadata": {},
   "outputs": [],
   "source": [
    "X_train['post'] = X_train['title_clean'] + \" \" + X_train['body_clean'] + \" \" + X_train['body_bigram_clean'] + \" \" + X_train['title_bigram_clean']  "
   ]
  },
  {
   "cell_type": "code",
   "execution_count": 39,
   "metadata": {},
   "outputs": [
    {
     "data": {
      "text/plain": [
       "4183     create custom error javascript reason look lik...\n",
       "13188    maximum length latitude longitude long latitud...\n",
       "2147     obtain crash data android application get cras...\n",
       "7588     net what's best way implement catch exception ...\n",
       "12329    parse r feed using javascript need parse r fee...\n",
       "Name: post, dtype: object"
      ]
     },
     "execution_count": 39,
     "metadata": {},
     "output_type": "execute_result"
    }
   ],
   "source": [
    "X_train['post'].head()"
   ]
  },
  {
   "cell_type": "code",
   "execution_count": 40,
   "metadata": {},
   "outputs": [
    {
     "data": {
      "text/plain": [
       "\"generate sample xml document dtd xsd developing application involves substantial amount xml transformation proper input test data per se dtd xsd file we'd like generate test data file easy free way edit apparently free tool agree oxygenxml one best tool developing-application application-involves involves-substantial substantial-amount amount-xml xml-transformation transformation-proper proper-input input-test test-data data-per per-se se-dtd dtd-xsd xsd-file file-we'd we'd-like like-generate generate-test test-data data-file file-easy easy-free free-way way-edit edit-apparently apparently-free free-tool tool-agree agree-oxygenxml oxygenxml-one one-best best-tool generate-sample sample-xml xml-document document-dtd dtd-xsd\""
      ]
     },
     "execution_count": 40,
     "metadata": {},
     "output_type": "execute_result"
    }
   ],
   "source": [
    "X_train['post'][1]"
   ]
  },
  {
   "cell_type": "markdown",
   "metadata": {},
   "source": [
    "### Bag of words"
   ]
  },
  {
   "cell_type": "markdown",
   "metadata": {},
   "source": [
    "Nous allons transformer les données text en matrice creuse, appelée Bag-of-Words, qui indique le nombre d'apparitions d'un mot dans la chaîne de caractères. A l'aide de cette transformation, nous allons pouvoir effectuer des opérations numériques sur les chaînes de caractères, notamment calculer des caractéristiques univariées telles que fréquences.  \n",
    "\n",
    "\n",
    "La matrice représentant Bag-of-Words contient autant de colonnes que le nombre de mots dans le corpus (ensemble de posts dans notre cas). Nous allons utiliser une option max_features = 50 000 qui limite le nombre de features à 50 000."
   ]
  },
  {
   "cell_type": "markdown",
   "metadata": {},
   "source": [
    "#### Feature"
   ]
  },
  {
   "cell_type": "code",
   "execution_count": 79,
   "metadata": {},
   "outputs": [
    {
     "name": "stdout",
     "output_type": "stream",
     "text": [
      "Creating the bag of words...\n",
      "\n"
     ]
    }
   ],
   "source": [
    "#First execution\n",
    "print (\"Creating the bag of words...\\n\")\n",
    "\n",
    "# Initialize the \"CountVectorizer\" object, which is scikit-learn's\n",
    "# bag of words tool.  \n",
    "vectorizer = CountVectorizer(analyzer = \"word\",   \\\n",
    "                             tokenizer = my_tokenizer,    \\\n",
    "                             preprocessor = None, \\\n",
    "                             strip_accents=None,\n",
    "                             max_features = 50000,\n",
    "                             lowercase=False,\n",
    "                             stop_words = stop_words)                       \n",
    "                            \n",
    "\n",
    "# fit_transform() does two functions: First, it fits the model\n",
    "# and learns the vocabulary; second, it transforms our training data\n",
    "# into feature vectors. The input to fit_transform should be a list of \n",
    "# strings.\n",
    "\n",
    "X_train_bow = vectorizer.fit_transform(X_train['post'])\n",
    "\n",
    "# Numpy arrays are easy to work with, so convert the result to an \n",
    "# array\n",
    "X_train_bow = X_train_bow.toarray()"
   ]
  },
  {
   "cell_type": "code",
   "execution_count": 80,
   "metadata": {},
   "outputs": [
    {
     "data": {
      "text/plain": [
       "(35000, 50000)"
      ]
     },
     "execution_count": 80,
     "metadata": {},
     "output_type": "execute_result"
    }
   ],
   "source": [
    "X_train_bow.shape"
   ]
  },
  {
   "cell_type": "code",
   "execution_count": 87,
   "metadata": {},
   "outputs": [],
   "source": [
    "# Create a vocabulary of features\n",
    "X_train_vocab_bow = vectorizer.get_feature_names()"
   ]
  },
  {
   "cell_type": "code",
   "execution_count": 88,
   "metadata": {},
   "outputs": [],
   "source": [
    "# Sum up the counts of each vocabulary word\n",
    "X_train_dist_bow = np.sum(X_train_bow, axis=0)"
   ]
  },
  {
   "cell_type": "markdown",
   "metadata": {},
   "source": [
    "Nous allons afficher 50 mots les plus fréquents :"
   ]
  },
  {
   "cell_type": "code",
   "execution_count": 84,
   "metadata": {},
   "outputs": [
    {
     "data": {
      "text/html": [
       "<div>\n",
       "<style scoped>\n",
       "    .dataframe tbody tr th:only-of-type {\n",
       "        vertical-align: middle;\n",
       "    }\n",
       "\n",
       "    .dataframe tbody tr th {\n",
       "        vertical-align: top;\n",
       "    }\n",
       "\n",
       "    .dataframe thead th {\n",
       "        text-align: right;\n",
       "    }\n",
       "</style>\n",
       "<table border=\"1\" class=\"dataframe\">\n",
       "  <thead>\n",
       "    <tr style=\"text-align: right;\">\n",
       "      <th></th>\n",
       "      <th>Word</th>\n",
       "      <th>Frequence</th>\n",
       "      <th>Pourcentage</th>\n",
       "    </tr>\n",
       "  </thead>\n",
       "  <tbody>\n",
       "    <tr>\n",
       "      <th>18472</th>\n",
       "      <td>file</td>\n",
       "      <td>17905</td>\n",
       "      <td>0.54</td>\n",
       "    </tr>\n",
       "    <tr>\n",
       "      <th>46303</th>\n",
       "      <td>using</td>\n",
       "      <td>16342</td>\n",
       "      <td>0.49</td>\n",
       "    </tr>\n",
       "    <tr>\n",
       "      <th>26627</th>\n",
       "      <td>like</td>\n",
       "      <td>15817</td>\n",
       "      <td>0.47</td>\n",
       "    </tr>\n",
       "    <tr>\n",
       "      <th>45663</th>\n",
       "      <td>use</td>\n",
       "      <td>15068</td>\n",
       "      <td>0.45</td>\n",
       "    </tr>\n",
       "    <tr>\n",
       "      <th>20442</th>\n",
       "      <td>get</td>\n",
       "      <td>13553</td>\n",
       "      <td>0.41</td>\n",
       "    </tr>\n",
       "    <tr>\n",
       "      <th>11431</th>\n",
       "      <td>code</td>\n",
       "      <td>13308</td>\n",
       "      <td>0.40</td>\n",
       "    </tr>\n",
       "    <tr>\n",
       "      <th>48020</th>\n",
       "      <td>way</td>\n",
       "      <td>12581</td>\n",
       "      <td>0.38</td>\n",
       "    </tr>\n",
       "    <tr>\n",
       "      <th>10931</th>\n",
       "      <td>class</td>\n",
       "      <td>12308</td>\n",
       "      <td>0.37</td>\n",
       "    </tr>\n",
       "    <tr>\n",
       "      <th>6626</th>\n",
       "      <td>android</td>\n",
       "      <td>12172</td>\n",
       "      <td>0.36</td>\n",
       "    </tr>\n",
       "    <tr>\n",
       "      <th>47748</th>\n",
       "      <td>want</td>\n",
       "      <td>11313</td>\n",
       "      <td>0.34</td>\n",
       "    </tr>\n",
       "    <tr>\n",
       "      <th>30633</th>\n",
       "      <td>new</td>\n",
       "      <td>10689</td>\n",
       "      <td>0.32</td>\n",
       "    </tr>\n",
       "    <tr>\n",
       "      <th>41630</th>\n",
       "      <td>string</td>\n",
       "      <td>10306</td>\n",
       "      <td>0.31</td>\n",
       "    </tr>\n",
       "    <tr>\n",
       "      <th>31861</th>\n",
       "      <td>one</td>\n",
       "      <td>10049</td>\n",
       "      <td>0.30</td>\n",
       "    </tr>\n",
       "    <tr>\n",
       "      <th>24880</th>\n",
       "      <td>java</td>\n",
       "      <td>9992</td>\n",
       "      <td>0.30</td>\n",
       "    </tr>\n",
       "    <tr>\n",
       "      <th>14023</th>\n",
       "      <td>data</td>\n",
       "      <td>9628</td>\n",
       "      <td>0.29</td>\n",
       "    </tr>\n",
       "    <tr>\n",
       "      <th>17041</th>\n",
       "      <td>error</td>\n",
       "      <td>9572</td>\n",
       "      <td>0.29</td>\n",
       "    </tr>\n",
       "    <tr>\n",
       "      <th>46060</th>\n",
       "      <td>user</td>\n",
       "      <td>9200</td>\n",
       "      <td>0.28</td>\n",
       "    </tr>\n",
       "    <tr>\n",
       "      <th>30056</th>\n",
       "      <td>name</td>\n",
       "      <td>9117</td>\n",
       "      <td>0.27</td>\n",
       "    </tr>\n",
       "    <tr>\n",
       "      <th>46806</th>\n",
       "      <td>value</td>\n",
       "      <td>8890</td>\n",
       "      <td>0.27</td>\n",
       "    </tr>\n",
       "    <tr>\n",
       "      <th>48935</th>\n",
       "      <td>work</td>\n",
       "      <td>8848</td>\n",
       "      <td>0.26</td>\n",
       "    </tr>\n",
       "    <tr>\n",
       "      <th>20003</th>\n",
       "      <td>function</td>\n",
       "      <td>8375</td>\n",
       "      <td>0.25</td>\n",
       "    </tr>\n",
       "    <tr>\n",
       "      <th>30343</th>\n",
       "      <td>need</td>\n",
       "      <td>8176</td>\n",
       "      <td>0.24</td>\n",
       "    </tr>\n",
       "    <tr>\n",
       "      <th>37270</th>\n",
       "      <td>return</td>\n",
       "      <td>8168</td>\n",
       "      <td>0.24</td>\n",
       "    </tr>\n",
       "    <tr>\n",
       "      <th>17536</th>\n",
       "      <td>example</td>\n",
       "      <td>8068</td>\n",
       "      <td>0.24</td>\n",
       "    </tr>\n",
       "    <tr>\n",
       "      <th>25713</th>\n",
       "      <td>know</td>\n",
       "      <td>7561</td>\n",
       "      <td>0.23</td>\n",
       "    </tr>\n",
       "    <tr>\n",
       "      <th>31522</th>\n",
       "      <td>object</td>\n",
       "      <td>7543</td>\n",
       "      <td>0.23</td>\n",
       "    </tr>\n",
       "    <tr>\n",
       "      <th>35160</th>\n",
       "      <td>public</td>\n",
       "      <td>7457</td>\n",
       "      <td>0.22</td>\n",
       "    </tr>\n",
       "    <tr>\n",
       "      <th>28892</th>\n",
       "      <td>method</td>\n",
       "      <td>7455</td>\n",
       "      <td>0.22</td>\n",
       "    </tr>\n",
       "    <tr>\n",
       "      <th>44795</th>\n",
       "      <td>type</td>\n",
       "      <td>7321</td>\n",
       "      <td>0.22</td>\n",
       "    </tr>\n",
       "    <tr>\n",
       "      <th>22415</th>\n",
       "      <td>http</td>\n",
       "      <td>7282</td>\n",
       "      <td>0.22</td>\n",
       "    </tr>\n",
       "    <tr>\n",
       "      <th>43718</th>\n",
       "      <td>time</td>\n",
       "      <td>6968</td>\n",
       "      <td>0.21</td>\n",
       "    </tr>\n",
       "    <tr>\n",
       "      <th>7216</th>\n",
       "      <td>app</td>\n",
       "      <td>6850</td>\n",
       "      <td>0.21</td>\n",
       "    </tr>\n",
       "    <tr>\n",
       "      <th>39332</th>\n",
       "      <td>set</td>\n",
       "      <td>6732</td>\n",
       "      <td>0.20</td>\n",
       "    </tr>\n",
       "    <tr>\n",
       "      <th>7433</th>\n",
       "      <td>application</td>\n",
       "      <td>6657</td>\n",
       "      <td>0.20</td>\n",
       "    </tr>\n",
       "    <tr>\n",
       "      <th>27155</th>\n",
       "      <td>list</td>\n",
       "      <td>6326</td>\n",
       "      <td>0.19</td>\n",
       "    </tr>\n",
       "    <tr>\n",
       "      <th>9743</th>\n",
       "      <td>c</td>\n",
       "      <td>6310</td>\n",
       "      <td>0.19</td>\n",
       "    </tr>\n",
       "    <tr>\n",
       "      <th>35539</th>\n",
       "      <td>question</td>\n",
       "      <td>6131</td>\n",
       "      <td>0.18</td>\n",
       "    </tr>\n",
       "    <tr>\n",
       "      <th>4622</th>\n",
       "      <td>4</td>\n",
       "      <td>6070</td>\n",
       "      <td>0.18</td>\n",
       "    </tr>\n",
       "    <tr>\n",
       "      <th>39083</th>\n",
       "      <td>server</td>\n",
       "      <td>5997</td>\n",
       "      <td>0.18</td>\n",
       "    </tr>\n",
       "    <tr>\n",
       "      <th>26941</th>\n",
       "      <td>line</td>\n",
       "      <td>5883</td>\n",
       "      <td>0.18</td>\n",
       "    </tr>\n",
       "    <tr>\n",
       "      <th>28075</th>\n",
       "      <td>make</td>\n",
       "      <td>5869</td>\n",
       "      <td>0.18</td>\n",
       "    </tr>\n",
       "    <tr>\n",
       "      <th>11917</th>\n",
       "      <td>com</td>\n",
       "      <td>5732</td>\n",
       "      <td>0.17</td>\n",
       "    </tr>\n",
       "    <tr>\n",
       "      <th>2230</th>\n",
       "      <td>*</td>\n",
       "      <td>5668</td>\n",
       "      <td>0.17</td>\n",
       "    </tr>\n",
       "    <tr>\n",
       "      <th>40512</th>\n",
       "      <td>something</td>\n",
       "      <td>5635</td>\n",
       "      <td>0.17</td>\n",
       "    </tr>\n",
       "    <tr>\n",
       "      <th>43182</th>\n",
       "      <td>text</td>\n",
       "      <td>5613</td>\n",
       "      <td>0.17</td>\n",
       "    </tr>\n",
       "    <tr>\n",
       "      <th>23172</th>\n",
       "      <td>image</td>\n",
       "      <td>5573</td>\n",
       "      <td>0.17</td>\n",
       "    </tr>\n",
       "    <tr>\n",
       "      <th>35366</th>\n",
       "      <td>python</td>\n",
       "      <td>5525</td>\n",
       "      <td>0.17</td>\n",
       "    </tr>\n",
       "    <tr>\n",
       "      <th>18954</th>\n",
       "      <td>find</td>\n",
       "      <td>5463</td>\n",
       "      <td>0.16</td>\n",
       "    </tr>\n",
       "    <tr>\n",
       "      <th>34528</th>\n",
       "      <td>problem</td>\n",
       "      <td>5314</td>\n",
       "      <td>0.16</td>\n",
       "    </tr>\n",
       "    <tr>\n",
       "      <th>19397</th>\n",
       "      <td>following</td>\n",
       "      <td>5229</td>\n",
       "      <td>0.16</td>\n",
       "    </tr>\n",
       "  </tbody>\n",
       "</table>\n",
       "</div>"
      ],
      "text/plain": [
       "              Word  Frequence  Pourcentage\n",
       "18472         file      17905         0.54\n",
       "46303        using      16342         0.49\n",
       "26627         like      15817         0.47\n",
       "45663          use      15068         0.45\n",
       "20442          get      13553         0.41\n",
       "11431         code      13308         0.40\n",
       "48020          way      12581         0.38\n",
       "10931        class      12308         0.37\n",
       "6626       android      12172         0.36\n",
       "47748         want      11313         0.34\n",
       "30633          new      10689         0.32\n",
       "41630       string      10306         0.31\n",
       "31861          one      10049         0.30\n",
       "24880         java       9992         0.30\n",
       "14023         data       9628         0.29\n",
       "17041        error       9572         0.29\n",
       "46060         user       9200         0.28\n",
       "30056         name       9117         0.27\n",
       "46806        value       8890         0.27\n",
       "48935         work       8848         0.26\n",
       "20003     function       8375         0.25\n",
       "30343         need       8176         0.24\n",
       "37270       return       8168         0.24\n",
       "17536      example       8068         0.24\n",
       "25713         know       7561         0.23\n",
       "31522       object       7543         0.23\n",
       "35160       public       7457         0.22\n",
       "28892       method       7455         0.22\n",
       "44795         type       7321         0.22\n",
       "22415         http       7282         0.22\n",
       "43718         time       6968         0.21\n",
       "7216           app       6850         0.21\n",
       "39332          set       6732         0.20\n",
       "7433   application       6657         0.20\n",
       "27155         list       6326         0.19\n",
       "9743             c       6310         0.19\n",
       "35539     question       6131         0.18\n",
       "4622             4       6070         0.18\n",
       "39083       server       5997         0.18\n",
       "26941         line       5883         0.18\n",
       "28075         make       5869         0.18\n",
       "11917          com       5732         0.17\n",
       "2230             *       5668         0.17\n",
       "40512    something       5635         0.17\n",
       "43182         text       5613         0.17\n",
       "23172        image       5573         0.17\n",
       "35366       python       5525         0.17\n",
       "18954         find       5463         0.16\n",
       "34528      problem       5314         0.16\n",
       "19397    following       5229         0.16"
      ]
     },
     "execution_count": 84,
     "metadata": {},
     "output_type": "execute_result"
    }
   ],
   "source": [
    "freq_features = DataFrame(zip(X_train_vocab_bow, X_train_dist_bow))\n",
    "freq_features.rename({0:'Word', 1:'Frequence'}, axis = 1, inplace = True)\n",
    "freq_features.sort_values(['Frequence'], inplace = True, ascending=False)\n",
    "freq_features['Pourcentage'] = round(freq_features['Frequence']*100/sum(freq_features['Frequence']),2)\n",
    "freq_features[:50]"
   ]
  },
  {
   "cell_type": "markdown",
   "metadata": {},
   "source": [
    "Nous constatons que dans les 50 mots les plus courants, nous avons des expressions qui ne nous apporte pas de valeur informative - nous allons donc actualiser la liste de stop words à enlever et réexécuter la transformation en BOW."
   ]
  },
  {
   "cell_type": "code",
   "execution_count": 41,
   "metadata": {},
   "outputs": [],
   "source": [
    "#Stop-words update\n",
    "stop_words += ['using', 'use', 'way', 'want', 'new', 'one', 'work', 'need', 'example', 'know',\n",
    "               'question', '4', 'line', 'make', '*', 'something', 'find', 'problem', 'following', \n",
    "               'create', 'x', 'run', \"'\", 'trying', 'change', 'used', 'see', 'possible', 'tried', \n",
    "               'first', 'without', 'found', 'seems', 'e', 'different', 'b', '8', '10', 'best', \n",
    "               'thing', \"can't\", '6', 'simple', 'answer', '7', 'working', 'good', 'look', 'right', \n",
    "               'help', 'another', 'v', 'try', 'point', 'would-like', '0-0', 'default', 'able', 'really', \n",
    "               'say', 'looking', 'show', 'idea', 'n', 'even', 'understand', 'better', 'please', 'p',\n",
    "               'instead', 'think', 'else', 'etc', '$', '9', 'since', 'already', 'give', 'sure']"
   ]
  },
  {
   "cell_type": "code",
   "execution_count": 106,
   "metadata": {},
   "outputs": [
    {
     "name": "stdout",
     "output_type": "stream",
     "text": [
      "Creating the bag of words...\n",
      "\n"
     ]
    }
   ],
   "source": [
    "#Second execution after stop-words update\n",
    "print (\"Creating the bag of words...\\n\")\n",
    "\n",
    "# Initialize the \"CountVectorizer\" object, which is scikit-learn's\n",
    "# bag of words tool.  \n",
    "vectorizer = CountVectorizer(analyzer = \"word\",   \\\n",
    "                             tokenizer = my_tokenizer,    \\\n",
    "                             preprocessor = None, \\\n",
    "                             strip_accents=None,\n",
    "                             max_features = 50000,\n",
    "                             lowercase=False,\n",
    "                             stop_words = stop_words)                       \n",
    "                            \n",
    "\n",
    "# fit_transform() does two functions: First, it fits the model\n",
    "# and learns the vocabulary; second, it transforms our training data\n",
    "# into feature vectors. The input to fit_transform should be a list of \n",
    "# strings.\n",
    "\n",
    "X_train_bow = vectorizer.fit_transform(X_train['post'])\n",
    "\n",
    "# Numpy arrays are easy to work with, so convert the result to an \n",
    "# array\n",
    "X_train_bow = X_train_bow.toarray()"
   ]
  },
  {
   "cell_type": "code",
   "execution_count": 107,
   "metadata": {},
   "outputs": [
    {
     "data": {
      "text/plain": [
       "(35000, 50000)"
      ]
     },
     "execution_count": 107,
     "metadata": {},
     "output_type": "execute_result"
    }
   ],
   "source": [
    "# Second execution\n",
    "X_train_bow.shape"
   ]
  },
  {
   "cell_type": "code",
   "execution_count": 108,
   "metadata": {},
   "outputs": [],
   "source": [
    "# Second execution\n",
    "# Create a vocabulary of features\n",
    "X_train_vocab_bow = vectorizer.get_feature_names()"
   ]
  },
  {
   "cell_type": "code",
   "execution_count": 109,
   "metadata": {},
   "outputs": [],
   "source": [
    "# Second execution\n",
    "# Sum up the counts of each vocabulary word\n",
    "X_train_dist_bow = np.sum(X_train_bow, axis=0)"
   ]
  },
  {
   "cell_type": "markdown",
   "metadata": {},
   "source": [
    "Nous allons afficher 50 mots les plus fréquents :"
   ]
  },
  {
   "cell_type": "code",
   "execution_count": 110,
   "metadata": {},
   "outputs": [
    {
     "data": {
      "text/html": [
       "<div>\n",
       "<style scoped>\n",
       "    .dataframe tbody tr th:only-of-type {\n",
       "        vertical-align: middle;\n",
       "    }\n",
       "\n",
       "    .dataframe tbody tr th {\n",
       "        vertical-align: top;\n",
       "    }\n",
       "\n",
       "    .dataframe thead th {\n",
       "        text-align: right;\n",
       "    }\n",
       "</style>\n",
       "<table border=\"1\" class=\"dataframe\">\n",
       "  <thead>\n",
       "    <tr style=\"text-align: right;\">\n",
       "      <th></th>\n",
       "      <th>Word</th>\n",
       "      <th>Frequence</th>\n",
       "      <th>Pourcentage</th>\n",
       "    </tr>\n",
       "  </thead>\n",
       "  <tbody>\n",
       "    <tr>\n",
       "      <th>18387</th>\n",
       "      <td>file</td>\n",
       "      <td>17905</td>\n",
       "      <td>0.60</td>\n",
       "    </tr>\n",
       "    <tr>\n",
       "      <th>26607</th>\n",
       "      <td>like</td>\n",
       "      <td>15817</td>\n",
       "      <td>0.53</td>\n",
       "    </tr>\n",
       "    <tr>\n",
       "      <th>20377</th>\n",
       "      <td>get</td>\n",
       "      <td>13553</td>\n",
       "      <td>0.45</td>\n",
       "    </tr>\n",
       "    <tr>\n",
       "      <th>11391</th>\n",
       "      <td>code</td>\n",
       "      <td>13308</td>\n",
       "      <td>0.44</td>\n",
       "    </tr>\n",
       "    <tr>\n",
       "      <th>10891</th>\n",
       "      <td>class</td>\n",
       "      <td>12308</td>\n",
       "      <td>0.41</td>\n",
       "    </tr>\n",
       "    <tr>\n",
       "      <th>6656</th>\n",
       "      <td>android</td>\n",
       "      <td>12172</td>\n",
       "      <td>0.41</td>\n",
       "    </tr>\n",
       "    <tr>\n",
       "      <th>41656</th>\n",
       "      <td>string</td>\n",
       "      <td>10306</td>\n",
       "      <td>0.34</td>\n",
       "    </tr>\n",
       "    <tr>\n",
       "      <th>24891</th>\n",
       "      <td>java</td>\n",
       "      <td>9992</td>\n",
       "      <td>0.33</td>\n",
       "    </tr>\n",
       "    <tr>\n",
       "      <th>13982</th>\n",
       "      <td>data</td>\n",
       "      <td>9628</td>\n",
       "      <td>0.32</td>\n",
       "    </tr>\n",
       "    <tr>\n",
       "      <th>16947</th>\n",
       "      <td>error</td>\n",
       "      <td>9572</td>\n",
       "      <td>0.32</td>\n",
       "    </tr>\n",
       "    <tr>\n",
       "      <th>46043</th>\n",
       "      <td>user</td>\n",
       "      <td>9200</td>\n",
       "      <td>0.31</td>\n",
       "    </tr>\n",
       "    <tr>\n",
       "      <th>30051</th>\n",
       "      <td>name</td>\n",
       "      <td>9117</td>\n",
       "      <td>0.30</td>\n",
       "    </tr>\n",
       "    <tr>\n",
       "      <th>46815</th>\n",
       "      <td>value</td>\n",
       "      <td>8890</td>\n",
       "      <td>0.30</td>\n",
       "    </tr>\n",
       "    <tr>\n",
       "      <th>19921</th>\n",
       "      <td>function</td>\n",
       "      <td>8375</td>\n",
       "      <td>0.28</td>\n",
       "    </tr>\n",
       "    <tr>\n",
       "      <th>37310</th>\n",
       "      <td>return</td>\n",
       "      <td>8168</td>\n",
       "      <td>0.27</td>\n",
       "    </tr>\n",
       "    <tr>\n",
       "      <th>31472</th>\n",
       "      <td>object</td>\n",
       "      <td>7543</td>\n",
       "      <td>0.25</td>\n",
       "    </tr>\n",
       "    <tr>\n",
       "      <th>35195</th>\n",
       "      <td>public</td>\n",
       "      <td>7457</td>\n",
       "      <td>0.25</td>\n",
       "    </tr>\n",
       "    <tr>\n",
       "      <th>28880</th>\n",
       "      <td>method</td>\n",
       "      <td>7455</td>\n",
       "      <td>0.25</td>\n",
       "    </tr>\n",
       "    <tr>\n",
       "      <th>44758</th>\n",
       "      <td>type</td>\n",
       "      <td>7321</td>\n",
       "      <td>0.24</td>\n",
       "    </tr>\n",
       "    <tr>\n",
       "      <th>22426</th>\n",
       "      <td>http</td>\n",
       "      <td>7282</td>\n",
       "      <td>0.24</td>\n",
       "    </tr>\n",
       "    <tr>\n",
       "      <th>43697</th>\n",
       "      <td>time</td>\n",
       "      <td>6968</td>\n",
       "      <td>0.23</td>\n",
       "    </tr>\n",
       "    <tr>\n",
       "      <th>7244</th>\n",
       "      <td>app</td>\n",
       "      <td>6850</td>\n",
       "      <td>0.23</td>\n",
       "    </tr>\n",
       "    <tr>\n",
       "      <th>39362</th>\n",
       "      <td>set</td>\n",
       "      <td>6732</td>\n",
       "      <td>0.22</td>\n",
       "    </tr>\n",
       "    <tr>\n",
       "      <th>7443</th>\n",
       "      <td>application</td>\n",
       "      <td>6657</td>\n",
       "      <td>0.22</td>\n",
       "    </tr>\n",
       "    <tr>\n",
       "      <th>27148</th>\n",
       "      <td>list</td>\n",
       "      <td>6326</td>\n",
       "      <td>0.21</td>\n",
       "    </tr>\n",
       "    <tr>\n",
       "      <th>9705</th>\n",
       "      <td>c</td>\n",
       "      <td>6310</td>\n",
       "      <td>0.21</td>\n",
       "    </tr>\n",
       "    <tr>\n",
       "      <th>39113</th>\n",
       "      <td>server</td>\n",
       "      <td>5997</td>\n",
       "      <td>0.20</td>\n",
       "    </tr>\n",
       "    <tr>\n",
       "      <th>11877</th>\n",
       "      <td>com</td>\n",
       "      <td>5732</td>\n",
       "      <td>0.19</td>\n",
       "    </tr>\n",
       "    <tr>\n",
       "      <th>43175</th>\n",
       "      <td>text</td>\n",
       "      <td>5613</td>\n",
       "      <td>0.19</td>\n",
       "    </tr>\n",
       "    <tr>\n",
       "      <th>23211</th>\n",
       "      <td>image</td>\n",
       "      <td>5573</td>\n",
       "      <td>0.19</td>\n",
       "    </tr>\n",
       "    <tr>\n",
       "      <th>35413</th>\n",
       "      <td>python</td>\n",
       "      <td>5525</td>\n",
       "      <td>0.18</td>\n",
       "    </tr>\n",
       "    <tr>\n",
       "      <th>47415</th>\n",
       "      <td>view</td>\n",
       "      <td>5153</td>\n",
       "      <td>0.17</td>\n",
       "    </tr>\n",
       "    <tr>\n",
       "      <th>34896</th>\n",
       "      <td>project</td>\n",
       "      <td>5133</td>\n",
       "      <td>0.17</td>\n",
       "    </tr>\n",
       "    <tr>\n",
       "      <th>20874</th>\n",
       "      <td>git</td>\n",
       "      <td>5127</td>\n",
       "      <td>0.17</td>\n",
       "    </tr>\n",
       "    <tr>\n",
       "      <th>47264</th>\n",
       "      <td>version</td>\n",
       "      <td>5085</td>\n",
       "      <td>0.17</td>\n",
       "    </tr>\n",
       "    <tr>\n",
       "      <th>42476</th>\n",
       "      <td>system</td>\n",
       "      <td>4975</td>\n",
       "      <td>0.17</td>\n",
       "    </tr>\n",
       "    <tr>\n",
       "      <th>43046</th>\n",
       "      <td>test</td>\n",
       "      <td>4913</td>\n",
       "      <td>0.16</td>\n",
       "    </tr>\n",
       "    <tr>\n",
       "      <th>42619</th>\n",
       "      <td>table</td>\n",
       "      <td>4786</td>\n",
       "      <td>0.16</td>\n",
       "    </tr>\n",
       "    <tr>\n",
       "      <th>32767</th>\n",
       "      <td>page</td>\n",
       "      <td>4652</td>\n",
       "      <td>0.16</td>\n",
       "    </tr>\n",
       "    <tr>\n",
       "      <th>47021</th>\n",
       "      <td>var</td>\n",
       "      <td>4625</td>\n",
       "      <td>0.15</td>\n",
       "    </tr>\n",
       "    <tr>\n",
       "      <th>24151</th>\n",
       "      <td>int</td>\n",
       "      <td>4562</td>\n",
       "      <td>0.15</td>\n",
       "    </tr>\n",
       "    <tr>\n",
       "      <th>5950</th>\n",
       "      <td>add</td>\n",
       "      <td>4454</td>\n",
       "      <td>0.15</td>\n",
       "    </tr>\n",
       "    <tr>\n",
       "      <th>15548</th>\n",
       "      <td>div</td>\n",
       "      <td>4412</td>\n",
       "      <td>0.15</td>\n",
       "    </tr>\n",
       "    <tr>\n",
       "      <th>38360</th>\n",
       "      <td>script</td>\n",
       "      <td>4243</td>\n",
       "      <td>0.14</td>\n",
       "    </tr>\n",
       "    <tr>\n",
       "      <th>48337</th>\n",
       "      <td>web</td>\n",
       "      <td>4229</td>\n",
       "      <td>0.14</td>\n",
       "    </tr>\n",
       "    <tr>\n",
       "      <th>48693</th>\n",
       "      <td>window</td>\n",
       "      <td>4150</td>\n",
       "      <td>0.14</td>\n",
       "    </tr>\n",
       "    <tr>\n",
       "      <th>12010</th>\n",
       "      <td>command</td>\n",
       "      <td>4137</td>\n",
       "      <td>0.14</td>\n",
       "    </tr>\n",
       "    <tr>\n",
       "      <th>31290</th>\n",
       "      <td>number</td>\n",
       "      <td>4062</td>\n",
       "      <td>0.14</td>\n",
       "    </tr>\n",
       "    <tr>\n",
       "      <th>32353</th>\n",
       "      <td>org</td>\n",
       "      <td>4029</td>\n",
       "      <td>0.13</td>\n",
       "    </tr>\n",
       "    <tr>\n",
       "      <th>7793</th>\n",
       "      <td>array</td>\n",
       "      <td>4018</td>\n",
       "      <td>0.13</td>\n",
       "    </tr>\n",
       "  </tbody>\n",
       "</table>\n",
       "</div>"
      ],
      "text/plain": [
       "              Word  Frequence  Pourcentage\n",
       "18387         file      17905         0.60\n",
       "26607         like      15817         0.53\n",
       "20377          get      13553         0.45\n",
       "11391         code      13308         0.44\n",
       "10891        class      12308         0.41\n",
       "6656       android      12172         0.41\n",
       "41656       string      10306         0.34\n",
       "24891         java       9992         0.33\n",
       "13982         data       9628         0.32\n",
       "16947        error       9572         0.32\n",
       "46043         user       9200         0.31\n",
       "30051         name       9117         0.30\n",
       "46815        value       8890         0.30\n",
       "19921     function       8375         0.28\n",
       "37310       return       8168         0.27\n",
       "31472       object       7543         0.25\n",
       "35195       public       7457         0.25\n",
       "28880       method       7455         0.25\n",
       "44758         type       7321         0.24\n",
       "22426         http       7282         0.24\n",
       "43697         time       6968         0.23\n",
       "7244           app       6850         0.23\n",
       "39362          set       6732         0.22\n",
       "7443   application       6657         0.22\n",
       "27148         list       6326         0.21\n",
       "9705             c       6310         0.21\n",
       "39113       server       5997         0.20\n",
       "11877          com       5732         0.19\n",
       "43175         text       5613         0.19\n",
       "23211        image       5573         0.19\n",
       "35413       python       5525         0.18\n",
       "47415         view       5153         0.17\n",
       "34896      project       5133         0.17\n",
       "20874          git       5127         0.17\n",
       "47264      version       5085         0.17\n",
       "42476       system       4975         0.17\n",
       "43046         test       4913         0.16\n",
       "42619        table       4786         0.16\n",
       "32767         page       4652         0.16\n",
       "47021          var       4625         0.15\n",
       "24151          int       4562         0.15\n",
       "5950           add       4454         0.15\n",
       "15548          div       4412         0.15\n",
       "38360       script       4243         0.14\n",
       "48337          web       4229         0.14\n",
       "48693       window       4150         0.14\n",
       "12010      command       4137         0.14\n",
       "31290       number       4062         0.14\n",
       "32353          org       4029         0.13\n",
       "7793         array       4018         0.13"
      ]
     },
     "execution_count": 110,
     "metadata": {},
     "output_type": "execute_result"
    }
   ],
   "source": [
    "# Second execution\n",
    "freq_features = DataFrame(zip(X_train_vocab_bow, X_train_dist_bow))\n",
    "freq_features.rename({0:'Word', 1:'Frequence'}, axis = 1, inplace = True)\n",
    "freq_features.sort_values(['Frequence'], inplace = True, ascending=False)\n",
    "freq_features['Pourcentage'] = round(freq_features['Frequence']*100/sum(freq_features['Frequence']),2)\n",
    "freq_features[:50]"
   ]
  },
  {
   "cell_type": "markdown",
   "metadata": {},
   "source": [
    "#### Cible"
   ]
  },
  {
   "cell_type": "code",
   "execution_count": 112,
   "metadata": {},
   "outputs": [
    {
     "name": "stdout",
     "output_type": "stream",
     "text": [
      "Creating the bag of words...\n",
      "\n"
     ]
    }
   ],
   "source": [
    "print (\"Creating the bag of words...\\n\")\n",
    "\n",
    "y_train_bow = vectorizer.fit_transform(y_train_clean)\n",
    "\n",
    "# Numpy arrays are easy to work with, so convert the result to an \n",
    "# array\n",
    "y_train_bow = y_train_bow.toarray()"
   ]
  },
  {
   "cell_type": "code",
   "execution_count": 113,
   "metadata": {},
   "outputs": [
    {
     "data": {
      "text/plain": [
       "(35000, 9411)"
      ]
     },
     "execution_count": 113,
     "metadata": {},
     "output_type": "execute_result"
    }
   ],
   "source": [
    "y_train_bow.shape"
   ]
  },
  {
   "cell_type": "code",
   "execution_count": 115,
   "metadata": {},
   "outputs": [],
   "source": [
    "# Creating tag's vocabulary\n",
    "y_train_vocab_bow = vectorizer.get_feature_names()"
   ]
  },
  {
   "cell_type": "code",
   "execution_count": 117,
   "metadata": {},
   "outputs": [
    {
     "data": {
      "text/html": [
       "<div>\n",
       "<style scoped>\n",
       "    .dataframe tbody tr th:only-of-type {\n",
       "        vertical-align: middle;\n",
       "    }\n",
       "\n",
       "    .dataframe tbody tr th {\n",
       "        vertical-align: top;\n",
       "    }\n",
       "\n",
       "    .dataframe thead th {\n",
       "        text-align: right;\n",
       "    }\n",
       "</style>\n",
       "<table border=\"1\" class=\"dataframe\">\n",
       "  <thead>\n",
       "    <tr style=\"text-align: right;\">\n",
       "      <th></th>\n",
       "      <th>Word</th>\n",
       "      <th>Frequence</th>\n",
       "      <th>Pourcentage</th>\n",
       "    </tr>\n",
       "  </thead>\n",
       "  <tbody>\n",
       "    <tr>\n",
       "      <th>4367</th>\n",
       "      <td>javascript</td>\n",
       "      <td>3244</td>\n",
       "      <td>2.96</td>\n",
       "    </tr>\n",
       "    <tr>\n",
       "      <th>4329</th>\n",
       "      <td>java</td>\n",
       "      <td>3195</td>\n",
       "      <td>2.92</td>\n",
       "    </tr>\n",
       "    <tr>\n",
       "      <th>6567</th>\n",
       "      <td>python</td>\n",
       "      <td>3189</td>\n",
       "      <td>2.91</td>\n",
       "    </tr>\n",
       "    <tr>\n",
       "      <th>234</th>\n",
       "      <td>android</td>\n",
       "      <td>2542</td>\n",
       "      <td>2.32</td>\n",
       "    </tr>\n",
       "    <tr>\n",
       "      <th>1220</th>\n",
       "      <td>c#</td>\n",
       "      <td>2419</td>\n",
       "      <td>2.21</td>\n",
       "    </tr>\n",
       "    <tr>\n",
       "      <th>1227</th>\n",
       "      <td>c++</td>\n",
       "      <td>1580</td>\n",
       "      <td>1.44</td>\n",
       "    </tr>\n",
       "    <tr>\n",
       "      <th>4219</th>\n",
       "      <td>ios</td>\n",
       "      <td>1368</td>\n",
       "      <td>1.25</td>\n",
       "    </tr>\n",
       "    <tr>\n",
       "      <th>4453</th>\n",
       "      <td>jquery</td>\n",
       "      <td>1260</td>\n",
       "      <td>1.15</td>\n",
       "    </tr>\n",
       "    <tr>\n",
       "      <th>6166</th>\n",
       "      <td>php</td>\n",
       "      <td>1224</td>\n",
       "      <td>1.12</td>\n",
       "    </tr>\n",
       "    <tr>\n",
       "      <th>3339</th>\n",
       "      <td>git</td>\n",
       "      <td>1173</td>\n",
       "      <td>1.07</td>\n",
       "    </tr>\n",
       "    <tr>\n",
       "      <th>5</th>\n",
       "      <td>.net</td>\n",
       "      <td>1165</td>\n",
       "      <td>1.06</td>\n",
       "    </tr>\n",
       "    <tr>\n",
       "      <th>3817</th>\n",
       "      <td>html</td>\n",
       "      <td>1140</td>\n",
       "      <td>1.04</td>\n",
       "    </tr>\n",
       "    <tr>\n",
       "      <th>1908</th>\n",
       "      <td>css</td>\n",
       "      <td>944</td>\n",
       "      <td>0.86</td>\n",
       "    </tr>\n",
       "    <tr>\n",
       "      <th>4255</th>\n",
       "      <td>iphone</td>\n",
       "      <td>911</td>\n",
       "      <td>0.83</td>\n",
       "    </tr>\n",
       "    <tr>\n",
       "      <th>1219</th>\n",
       "      <td>c</td>\n",
       "      <td>901</td>\n",
       "      <td>0.82</td>\n",
       "    </tr>\n",
       "    <tr>\n",
       "      <th>5768</th>\n",
       "      <td>objective-c</td>\n",
       "      <td>890</td>\n",
       "      <td>0.81</td>\n",
       "    </tr>\n",
       "    <tr>\n",
       "      <th>7710</th>\n",
       "      <td>sql</td>\n",
       "      <td>817</td>\n",
       "      <td>0.75</td>\n",
       "    </tr>\n",
       "    <tr>\n",
       "      <th>5398</th>\n",
       "      <td>mysql</td>\n",
       "      <td>749</td>\n",
       "      <td>0.68</td>\n",
       "    </tr>\n",
       "    <tr>\n",
       "      <th>4788</th>\n",
       "      <td>linux</td>\n",
       "      <td>674</td>\n",
       "      <td>0.62</td>\n",
       "    </tr>\n",
       "    <tr>\n",
       "      <th>7904</th>\n",
       "      <td>string</td>\n",
       "      <td>625</td>\n",
       "      <td>0.57</td>\n",
       "    </tr>\n",
       "    <tr>\n",
       "      <th>5585</th>\n",
       "      <td>node.js</td>\n",
       "      <td>584</td>\n",
       "      <td>0.53</td>\n",
       "    </tr>\n",
       "    <tr>\n",
       "      <th>959</th>\n",
       "      <td>bash</td>\n",
       "      <td>536</td>\n",
       "      <td>0.49</td>\n",
       "    </tr>\n",
       "    <tr>\n",
       "      <th>182</th>\n",
       "      <td>algorithm</td>\n",
       "      <td>535</td>\n",
       "      <td>0.49</td>\n",
       "    </tr>\n",
       "    <tr>\n",
       "      <th>7095</th>\n",
       "      <td>ruby-on-rails</td>\n",
       "      <td>502</td>\n",
       "      <td>0.46</td>\n",
       "    </tr>\n",
       "    <tr>\n",
       "      <th>7088</th>\n",
       "      <td>ruby</td>\n",
       "      <td>499</td>\n",
       "      <td>0.46</td>\n",
       "    </tr>\n",
       "    <tr>\n",
       "      <th>693</th>\n",
       "      <td>arrays</td>\n",
       "      <td>480</td>\n",
       "      <td>0.44</td>\n",
       "    </tr>\n",
       "    <tr>\n",
       "      <th>6656</th>\n",
       "      <td>r</td>\n",
       "      <td>468</td>\n",
       "      <td>0.43</td>\n",
       "    </tr>\n",
       "    <tr>\n",
       "      <th>6124</th>\n",
       "      <td>performance</td>\n",
       "      <td>464</td>\n",
       "      <td>0.42</td>\n",
       "    </tr>\n",
       "    <tr>\n",
       "      <th>7726</th>\n",
       "      <td>sql-server</td>\n",
       "      <td>464</td>\n",
       "      <td>0.42</td>\n",
       "    </tr>\n",
       "    <tr>\n",
       "      <th>2047</th>\n",
       "      <td>database</td>\n",
       "      <td>445</td>\n",
       "      <td>0.41</td>\n",
       "    </tr>\n",
       "    <tr>\n",
       "      <th>713</th>\n",
       "      <td>asp.net</td>\n",
       "      <td>426</td>\n",
       "      <td>0.39</td>\n",
       "    </tr>\n",
       "    <tr>\n",
       "      <th>726</th>\n",
       "      <td>asp.net-mvc</td>\n",
       "      <td>419</td>\n",
       "      <td>0.38</td>\n",
       "    </tr>\n",
       "    <tr>\n",
       "      <th>9133</th>\n",
       "      <td>windows</td>\n",
       "      <td>415</td>\n",
       "      <td>0.38</td>\n",
       "    </tr>\n",
       "    <tr>\n",
       "      <th>4500</th>\n",
       "      <td>json</td>\n",
       "      <td>412</td>\n",
       "      <td>0.38</td>\n",
       "    </tr>\n",
       "    <tr>\n",
       "      <th>2352</th>\n",
       "      <td>django</td>\n",
       "      <td>408</td>\n",
       "      <td>0.37</td>\n",
       "    </tr>\n",
       "    <tr>\n",
       "      <th>520</th>\n",
       "      <td>angularjs</td>\n",
       "      <td>398</td>\n",
       "      <td>0.36</td>\n",
       "    </tr>\n",
       "    <tr>\n",
       "      <th>9264</th>\n",
       "      <td>xcode</td>\n",
       "      <td>368</td>\n",
       "      <td>0.34</td>\n",
       "    </tr>\n",
       "    <tr>\n",
       "      <th>4919</th>\n",
       "      <td>macos</td>\n",
       "      <td>364</td>\n",
       "      <td>0.33</td>\n",
       "    </tr>\n",
       "    <tr>\n",
       "      <th>7439</th>\n",
       "      <td>shell</td>\n",
       "      <td>363</td>\n",
       "      <td>0.33</td>\n",
       "    </tr>\n",
       "    <tr>\n",
       "      <th>5374</th>\n",
       "      <td>multithreading</td>\n",
       "      <td>339</td>\n",
       "      <td>0.31</td>\n",
       "    </tr>\n",
       "    <tr>\n",
       "      <th>1496</th>\n",
       "      <td>cocoa-touch</td>\n",
       "      <td>334</td>\n",
       "      <td>0.30</td>\n",
       "    </tr>\n",
       "    <tr>\n",
       "      <th>8031</th>\n",
       "      <td>swift</td>\n",
       "      <td>334</td>\n",
       "      <td>0.30</td>\n",
       "    </tr>\n",
       "    <tr>\n",
       "      <th>6831</th>\n",
       "      <td>regex</td>\n",
       "      <td>306</td>\n",
       "      <td>0.28</td>\n",
       "    </tr>\n",
       "    <tr>\n",
       "      <th>2576</th>\n",
       "      <td>eclipse</td>\n",
       "      <td>291</td>\n",
       "      <td>0.27</td>\n",
       "    </tr>\n",
       "    <tr>\n",
       "      <th>8900</th>\n",
       "      <td>vim</td>\n",
       "      <td>278</td>\n",
       "      <td>0.25</td>\n",
       "    </tr>\n",
       "    <tr>\n",
       "      <th>5841</th>\n",
       "      <td>oop</td>\n",
       "      <td>271</td>\n",
       "      <td>0.25</td>\n",
       "    </tr>\n",
       "    <tr>\n",
       "      <th>3843</th>\n",
       "      <td>html5</td>\n",
       "      <td>257</td>\n",
       "      <td>0.23</td>\n",
       "    </tr>\n",
       "    <tr>\n",
       "      <th>8937</th>\n",
       "      <td>visual-studio</td>\n",
       "      <td>254</td>\n",
       "      <td>0.23</td>\n",
       "    </tr>\n",
       "    <tr>\n",
       "      <th>3854</th>\n",
       "      <td>http</td>\n",
       "      <td>253</td>\n",
       "      <td>0.23</td>\n",
       "    </tr>\n",
       "    <tr>\n",
       "      <th>4800</th>\n",
       "      <td>list</td>\n",
       "      <td>248</td>\n",
       "      <td>0.23</td>\n",
       "    </tr>\n",
       "  </tbody>\n",
       "</table>\n",
       "</div>"
      ],
      "text/plain": [
       "                Word  Frequence  Pourcentage\n",
       "4367      javascript       3244         2.96\n",
       "4329            java       3195         2.92\n",
       "6567          python       3189         2.91\n",
       "234          android       2542         2.32\n",
       "1220              c#       2419         2.21\n",
       "1227             c++       1580         1.44\n",
       "4219             ios       1368         1.25\n",
       "4453          jquery       1260         1.15\n",
       "6166             php       1224         1.12\n",
       "3339             git       1173         1.07\n",
       "5               .net       1165         1.06\n",
       "3817            html       1140         1.04\n",
       "1908             css        944         0.86\n",
       "4255          iphone        911         0.83\n",
       "1219               c        901         0.82\n",
       "5768     objective-c        890         0.81\n",
       "7710             sql        817         0.75\n",
       "5398           mysql        749         0.68\n",
       "4788           linux        674         0.62\n",
       "7904          string        625         0.57\n",
       "5585         node.js        584         0.53\n",
       "959             bash        536         0.49\n",
       "182        algorithm        535         0.49\n",
       "7095   ruby-on-rails        502         0.46\n",
       "7088            ruby        499         0.46\n",
       "693           arrays        480         0.44\n",
       "6656               r        468         0.43\n",
       "6124     performance        464         0.42\n",
       "7726      sql-server        464         0.42\n",
       "2047        database        445         0.41\n",
       "713          asp.net        426         0.39\n",
       "726      asp.net-mvc        419         0.38\n",
       "9133         windows        415         0.38\n",
       "4500            json        412         0.38\n",
       "2352          django        408         0.37\n",
       "520        angularjs        398         0.36\n",
       "9264           xcode        368         0.34\n",
       "4919           macos        364         0.33\n",
       "7439           shell        363         0.33\n",
       "5374  multithreading        339         0.31\n",
       "1496     cocoa-touch        334         0.30\n",
       "8031           swift        334         0.30\n",
       "6831           regex        306         0.28\n",
       "2576         eclipse        291         0.27\n",
       "8900             vim        278         0.25\n",
       "5841             oop        271         0.25\n",
       "3843           html5        257         0.23\n",
       "8937   visual-studio        254         0.23\n",
       "3854            http        253         0.23\n",
       "4800            list        248         0.23"
      ]
     },
     "execution_count": 117,
     "metadata": {},
     "output_type": "execute_result"
    }
   ],
   "source": [
    "freq_target = DataFrame(zip(y_train_vocab_bow, y_train_dist_bow))\n",
    "freq_target.rename({0:'Word', 1:'Frequence'}, axis = 1, inplace = True)\n",
    "freq_target.sort_values(['Frequence'], inplace = True, ascending=False)\n",
    "freq_target['Pourcentage'] = round(freq_target['Frequence']*100/sum(freq_target['Frequence']),2)\n",
    "freq_target[:50]"
   ]
  },
  {
   "cell_type": "markdown",
   "metadata": {},
   "source": [
    "#### Sauvegarder les données"
   ]
  },
  {
   "cell_type": "code",
   "execution_count": null,
   "metadata": {},
   "outputs": [],
   "source": [
    "np.save('Data/X_train_bow', X_train_bow)\n",
    "np.save('Data/X_train_vocab_bow', X_train_vocab_bow)\n",
    "np.save('Data/X_train_dist_bow', X_train_dist_bow)\n",
    "np.save('Data/y_train_bow', y_train_bow)\n",
    "np.save('Data/y_train_vocab_bow', y_train_vocab_bow)\n",
    "np.save('Data/y_train_dist_bow', y_train_dist_bow)"
   ]
  },
  {
   "cell_type": "markdown",
   "metadata": {},
   "source": [
    "### TF - IDF"
   ]
  },
  {
   "cell_type": "markdown",
   "metadata": {},
   "source": [
    "#### Feature"
   ]
  },
  {
   "cell_type": "code",
   "execution_count": 42,
   "metadata": {},
   "outputs": [
    {
     "name": "stdout",
     "output_type": "stream",
     "text": [
      "Creating the TF - IDF...\n",
      "\n"
     ]
    }
   ],
   "source": [
    "print (\"Creating the TF - IDF...\\n\")\n",
    "# Initialize the \"CountVectorizer\" object, which is scikit-learn's\n",
    "# bag of words tool.  \n",
    "tf_idf = TfidfVectorizer(analyzer = \"word\",   \\\n",
    "                             tokenizer = my_tokenizer,    \\\n",
    "                             preprocessor = None, \\\n",
    "                             strip_accents=None,\n",
    "                             max_features = 50000,\n",
    "                             lowercase=False,\n",
    "                             stop_words = stop_words)                       \n",
    "                            \n",
    "\n",
    "# fit_transform() does two functions: First, it fits the model\n",
    "# and learns the vocabulary; second, it transforms our training data\n",
    "# into feature vectors. The input to fit_transform should be a list of \n",
    "# strings.\n",
    "X_train_tfidf = tf_idf.fit_transform(X_train['post'])\n",
    "\n",
    "# Numpy arrays are easy to work with, so convert the result to an \n",
    "# array\n",
    "X_train_tfidf = X_train_tfidf.toarray()"
   ]
  },
  {
   "cell_type": "code",
   "execution_count": 43,
   "metadata": {},
   "outputs": [
    {
     "data": {
      "text/plain": [
       "(9843, 50000)"
      ]
     },
     "execution_count": 43,
     "metadata": {},
     "output_type": "execute_result"
    }
   ],
   "source": [
    "X_train_tfidf.shape"
   ]
  },
  {
   "cell_type": "code",
   "execution_count": 44,
   "metadata": {},
   "outputs": [],
   "source": [
    "# Create vocabulary\n",
    "X_train_vocab_tfidf = tf_idf.get_feature_names()"
   ]
  },
  {
   "cell_type": "code",
   "execution_count": 45,
   "metadata": {},
   "outputs": [],
   "source": [
    "# Sum up the counts of each vocabulary word\n",
    "X_train_dist_tfidf = np.sum(X_train_tfidf, axis=0)"
   ]
  },
  {
   "cell_type": "markdown",
   "metadata": {},
   "source": [
    "Nous allons afficher 50 mots les plus fréquents :"
   ]
  },
  {
   "cell_type": "code",
   "execution_count": 46,
   "metadata": {
    "scrolled": true
   },
   "outputs": [
    {
     "data": {
      "text/html": [
       "<div>\n",
       "<style scoped>\n",
       "    .dataframe tbody tr th:only-of-type {\n",
       "        vertical-align: middle;\n",
       "    }\n",
       "\n",
       "    .dataframe tbody tr th {\n",
       "        vertical-align: top;\n",
       "    }\n",
       "\n",
       "    .dataframe thead th {\n",
       "        text-align: right;\n",
       "    }\n",
       "</style>\n",
       "<table border=\"1\" class=\"dataframe\">\n",
       "  <thead>\n",
       "    <tr style=\"text-align: right;\">\n",
       "      <th></th>\n",
       "      <th>Word</th>\n",
       "      <th>Frequence</th>\n",
       "      <th>Pourcentage</th>\n",
       "    </tr>\n",
       "  </thead>\n",
       "  <tbody>\n",
       "    <tr>\n",
       "      <th>17960</th>\n",
       "      <td>file</td>\n",
       "      <td>168.204400</td>\n",
       "      <td>0.31</td>\n",
       "    </tr>\n",
       "    <tr>\n",
       "      <th>27078</th>\n",
       "      <td>like</td>\n",
       "      <td>123.485755</td>\n",
       "      <td>0.23</td>\n",
       "    </tr>\n",
       "    <tr>\n",
       "      <th>41337</th>\n",
       "      <td>string</td>\n",
       "      <td>120.493500</td>\n",
       "      <td>0.22</td>\n",
       "    </tr>\n",
       "    <tr>\n",
       "      <th>10967</th>\n",
       "      <td>code</td>\n",
       "      <td>109.314799</td>\n",
       "      <td>0.20</td>\n",
       "    </tr>\n",
       "    <tr>\n",
       "      <th>20233</th>\n",
       "      <td>get</td>\n",
       "      <td>108.932991</td>\n",
       "      <td>0.20</td>\n",
       "    </tr>\n",
       "    <tr>\n",
       "      <th>20768</th>\n",
       "      <td>git</td>\n",
       "      <td>105.148324</td>\n",
       "      <td>0.19</td>\n",
       "    </tr>\n",
       "    <tr>\n",
       "      <th>14181</th>\n",
       "      <td>difference</td>\n",
       "      <td>101.863318</td>\n",
       "      <td>0.19</td>\n",
       "    </tr>\n",
       "    <tr>\n",
       "      <th>6302</th>\n",
       "      <td>android</td>\n",
       "      <td>98.744754</td>\n",
       "      <td>0.18</td>\n",
       "    </tr>\n",
       "    <tr>\n",
       "      <th>10571</th>\n",
       "      <td>class</td>\n",
       "      <td>96.957435</td>\n",
       "      <td>0.18</td>\n",
       "    </tr>\n",
       "    <tr>\n",
       "      <th>19742</th>\n",
       "      <td>function</td>\n",
       "      <td>95.582028</td>\n",
       "      <td>0.18</td>\n",
       "    </tr>\n",
       "    <tr>\n",
       "      <th>25246</th>\n",
       "      <td>java</td>\n",
       "      <td>92.759430</td>\n",
       "      <td>0.17</td>\n",
       "    </tr>\n",
       "    <tr>\n",
       "      <th>35715</th>\n",
       "      <td>python</td>\n",
       "      <td>91.007687</td>\n",
       "      <td>0.17</td>\n",
       "    </tr>\n",
       "    <tr>\n",
       "      <th>12968</th>\n",
       "      <td>data</td>\n",
       "      <td>90.518193</td>\n",
       "      <td>0.17</td>\n",
       "    </tr>\n",
       "    <tr>\n",
       "      <th>47207</th>\n",
       "      <td>value</td>\n",
       "      <td>86.143981</td>\n",
       "      <td>0.16</td>\n",
       "    </tr>\n",
       "    <tr>\n",
       "      <th>32722</th>\n",
       "      <td>object</td>\n",
       "      <td>82.431957</td>\n",
       "      <td>0.15</td>\n",
       "    </tr>\n",
       "    <tr>\n",
       "      <th>27682</th>\n",
       "      <td>list</td>\n",
       "      <td>80.341743</td>\n",
       "      <td>0.15</td>\n",
       "    </tr>\n",
       "    <tr>\n",
       "      <th>25365</th>\n",
       "      <td>javascript</td>\n",
       "      <td>79.899015</td>\n",
       "      <td>0.15</td>\n",
       "    </tr>\n",
       "    <tr>\n",
       "      <th>29839</th>\n",
       "      <td>method</td>\n",
       "      <td>79.812879</td>\n",
       "      <td>0.15</td>\n",
       "    </tr>\n",
       "    <tr>\n",
       "      <th>46414</th>\n",
       "      <td>user</td>\n",
       "      <td>77.282212</td>\n",
       "      <td>0.14</td>\n",
       "    </tr>\n",
       "    <tr>\n",
       "      <th>31311</th>\n",
       "      <td>name</td>\n",
       "      <td>76.360091</td>\n",
       "      <td>0.14</td>\n",
       "    </tr>\n",
       "    <tr>\n",
       "      <th>16350</th>\n",
       "      <td>error</td>\n",
       "      <td>75.148495</td>\n",
       "      <td>0.14</td>\n",
       "    </tr>\n",
       "    <tr>\n",
       "      <th>7091</th>\n",
       "      <td>application</td>\n",
       "      <td>72.688931</td>\n",
       "      <td>0.13</td>\n",
       "    </tr>\n",
       "    <tr>\n",
       "      <th>38600</th>\n",
       "      <td>server</td>\n",
       "      <td>69.657017</td>\n",
       "      <td>0.13</td>\n",
       "    </tr>\n",
       "    <tr>\n",
       "      <th>44979</th>\n",
       "      <td>type</td>\n",
       "      <td>68.444145</td>\n",
       "      <td>0.13</td>\n",
       "    </tr>\n",
       "    <tr>\n",
       "      <th>43086</th>\n",
       "      <td>text</td>\n",
       "      <td>67.869487</td>\n",
       "      <td>0.13</td>\n",
       "    </tr>\n",
       "    <tr>\n",
       "      <th>37252</th>\n",
       "      <td>return</td>\n",
       "      <td>67.731045</td>\n",
       "      <td>0.13</td>\n",
       "    </tr>\n",
       "    <tr>\n",
       "      <th>6851</th>\n",
       "      <td>app</td>\n",
       "      <td>66.467527</td>\n",
       "      <td>0.12</td>\n",
       "    </tr>\n",
       "    <tr>\n",
       "      <th>11431</th>\n",
       "      <td>command</td>\n",
       "      <td>65.448293</td>\n",
       "      <td>0.12</td>\n",
       "    </tr>\n",
       "    <tr>\n",
       "      <th>9610</th>\n",
       "      <td>c</td>\n",
       "      <td>64.710383</td>\n",
       "      <td>0.12</td>\n",
       "    </tr>\n",
       "    <tr>\n",
       "      <th>43697</th>\n",
       "      <td>time</td>\n",
       "      <td>64.411609</td>\n",
       "      <td>0.12</td>\n",
       "    </tr>\n",
       "    <tr>\n",
       "      <th>38775</th>\n",
       "      <td>set</td>\n",
       "      <td>64.253839</td>\n",
       "      <td>0.12</td>\n",
       "    </tr>\n",
       "    <tr>\n",
       "      <th>23408</th>\n",
       "      <td>image</td>\n",
       "      <td>62.581424</td>\n",
       "      <td>0.12</td>\n",
       "    </tr>\n",
       "    <tr>\n",
       "      <th>38037</th>\n",
       "      <td>script</td>\n",
       "      <td>61.259756</td>\n",
       "      <td>0.11</td>\n",
       "    </tr>\n",
       "    <tr>\n",
       "      <th>35307</th>\n",
       "      <td>project</td>\n",
       "      <td>61.110805</td>\n",
       "      <td>0.11</td>\n",
       "    </tr>\n",
       "    <tr>\n",
       "      <th>7495</th>\n",
       "      <td>array</td>\n",
       "      <td>60.833129</td>\n",
       "      <td>0.11</td>\n",
       "    </tr>\n",
       "    <tr>\n",
       "      <th>22537</th>\n",
       "      <td>http</td>\n",
       "      <td>59.933820</td>\n",
       "      <td>0.11</td>\n",
       "    </tr>\n",
       "    <tr>\n",
       "      <th>42412</th>\n",
       "      <td>table</td>\n",
       "      <td>59.550136</td>\n",
       "      <td>0.11</td>\n",
       "    </tr>\n",
       "    <tr>\n",
       "      <th>33708</th>\n",
       "      <td>page</td>\n",
       "      <td>57.016449</td>\n",
       "      <td>0.11</td>\n",
       "    </tr>\n",
       "    <tr>\n",
       "      <th>47582</th>\n",
       "      <td>variable</td>\n",
       "      <td>56.749406</td>\n",
       "      <td>0.10</td>\n",
       "    </tr>\n",
       "    <tr>\n",
       "      <th>32582</th>\n",
       "      <td>number</td>\n",
       "      <td>55.950173</td>\n",
       "      <td>0.10</td>\n",
       "    </tr>\n",
       "    <tr>\n",
       "      <th>9224</th>\n",
       "      <td>branch</td>\n",
       "      <td>54.696310</td>\n",
       "      <td>0.10</td>\n",
       "    </tr>\n",
       "    <tr>\n",
       "      <th>14659</th>\n",
       "      <td>div</td>\n",
       "      <td>54.625588</td>\n",
       "      <td>0.10</td>\n",
       "    </tr>\n",
       "    <tr>\n",
       "      <th>13106</th>\n",
       "      <td>database</td>\n",
       "      <td>54.115099</td>\n",
       "      <td>0.10</td>\n",
       "    </tr>\n",
       "    <tr>\n",
       "      <th>47936</th>\n",
       "      <td>view</td>\n",
       "      <td>53.666455</td>\n",
       "      <td>0.10</td>\n",
       "    </tr>\n",
       "    <tr>\n",
       "      <th>49056</th>\n",
       "      <td>window</td>\n",
       "      <td>53.146954</td>\n",
       "      <td>0.10</td>\n",
       "    </tr>\n",
       "    <tr>\n",
       "      <th>47465</th>\n",
       "      <td>var</td>\n",
       "      <td>52.997338</td>\n",
       "      <td>0.10</td>\n",
       "    </tr>\n",
       "    <tr>\n",
       "      <th>22433</th>\n",
       "      <td>html</td>\n",
       "      <td>52.812997</td>\n",
       "      <td>0.10</td>\n",
       "    </tr>\n",
       "    <tr>\n",
       "      <th>35529</th>\n",
       "      <td>public</td>\n",
       "      <td>52.566117</td>\n",
       "      <td>0.10</td>\n",
       "    </tr>\n",
       "    <tr>\n",
       "      <th>25622</th>\n",
       "      <td>jquery</td>\n",
       "      <td>52.443151</td>\n",
       "      <td>0.10</td>\n",
       "    </tr>\n",
       "    <tr>\n",
       "      <th>47769</th>\n",
       "      <td>version</td>\n",
       "      <td>52.411379</td>\n",
       "      <td>0.10</td>\n",
       "    </tr>\n",
       "  </tbody>\n",
       "</table>\n",
       "</div>"
      ],
      "text/plain": [
       "              Word   Frequence  Pourcentage\n",
       "17960         file  168.204400         0.31\n",
       "27078         like  123.485755         0.23\n",
       "41337       string  120.493500         0.22\n",
       "10967         code  109.314799         0.20\n",
       "20233          get  108.932991         0.20\n",
       "20768          git  105.148324         0.19\n",
       "14181   difference  101.863318         0.19\n",
       "6302       android   98.744754         0.18\n",
       "10571        class   96.957435         0.18\n",
       "19742     function   95.582028         0.18\n",
       "25246         java   92.759430         0.17\n",
       "35715       python   91.007687         0.17\n",
       "12968         data   90.518193         0.17\n",
       "47207        value   86.143981         0.16\n",
       "32722       object   82.431957         0.15\n",
       "27682         list   80.341743         0.15\n",
       "25365   javascript   79.899015         0.15\n",
       "29839       method   79.812879         0.15\n",
       "46414         user   77.282212         0.14\n",
       "31311         name   76.360091         0.14\n",
       "16350        error   75.148495         0.14\n",
       "7091   application   72.688931         0.13\n",
       "38600       server   69.657017         0.13\n",
       "44979         type   68.444145         0.13\n",
       "43086         text   67.869487         0.13\n",
       "37252       return   67.731045         0.13\n",
       "6851           app   66.467527         0.12\n",
       "11431      command   65.448293         0.12\n",
       "9610             c   64.710383         0.12\n",
       "43697         time   64.411609         0.12\n",
       "38775          set   64.253839         0.12\n",
       "23408        image   62.581424         0.12\n",
       "38037       script   61.259756         0.11\n",
       "35307      project   61.110805         0.11\n",
       "7495         array   60.833129         0.11\n",
       "22537         http   59.933820         0.11\n",
       "42412        table   59.550136         0.11\n",
       "33708         page   57.016449         0.11\n",
       "47582     variable   56.749406         0.10\n",
       "32582       number   55.950173         0.10\n",
       "9224        branch   54.696310         0.10\n",
       "14659          div   54.625588         0.10\n",
       "13106     database   54.115099         0.10\n",
       "47936         view   53.666455         0.10\n",
       "49056       window   53.146954         0.10\n",
       "47465          var   52.997338         0.10\n",
       "22433         html   52.812997         0.10\n",
       "35529       public   52.566117         0.10\n",
       "25622       jquery   52.443151         0.10\n",
       "47769      version   52.411379         0.10"
      ]
     },
     "execution_count": 46,
     "metadata": {},
     "output_type": "execute_result"
    }
   ],
   "source": [
    "freq_features = DataFrame(zip(X_train_vocab_tfidf, X_train_dist_tfidf))\n",
    "freq_features.rename({0:'Word', 1:'Frequence'}, axis = 1, inplace = True)\n",
    "freq_features.sort_values(['Frequence'], inplace = True, ascending=False)\n",
    "freq_features['Pourcentage'] = round(freq_features['Frequence']*100/sum(freq_features['Frequence']),2)\n",
    "freq_features[:50]"
   ]
  },
  {
   "cell_type": "markdown",
   "metadata": {},
   "source": [
    "#### Titre uniquement"
   ]
  },
  {
   "cell_type": "code",
   "execution_count": 95,
   "metadata": {},
   "outputs": [],
   "source": [
    "X_train_title_tfidf = tf_idf.fit_transform(X_train['title_clean'])\n",
    "\n",
    "# Numpy arrays are easy to work with, so convert the result to an array\n",
    "X_train_title_tfidf = X_train_title_tfidf.toarray()"
   ]
  },
  {
   "cell_type": "code",
   "execution_count": 96,
   "metadata": {},
   "outputs": [
    {
     "data": {
      "text/plain": [
       "(9843, 7283)"
      ]
     },
     "execution_count": 96,
     "metadata": {},
     "output_type": "execute_result"
    }
   ],
   "source": [
    "X_train_title_tfidf.shape"
   ]
  },
  {
   "cell_type": "code",
   "execution_count": 97,
   "metadata": {},
   "outputs": [],
   "source": [
    "# Create vocabulary\n",
    "X_train_title_vocab_tfidf = tf_idf.get_feature_names()"
   ]
  },
  {
   "cell_type": "code",
   "execution_count": 98,
   "metadata": {},
   "outputs": [],
   "source": [
    "# Sum up the counts of each vocabulary word\n",
    "X_train_title_dist_tfidf = np.sum(X_train_title_tfidf, axis=0)"
   ]
  },
  {
   "cell_type": "code",
   "execution_count": 99,
   "metadata": {},
   "outputs": [
    {
     "data": {
      "text/html": [
       "<div>\n",
       "<style scoped>\n",
       "    .dataframe tbody tr th:only-of-type {\n",
       "        vertical-align: middle;\n",
       "    }\n",
       "\n",
       "    .dataframe tbody tr th {\n",
       "        vertical-align: top;\n",
       "    }\n",
       "\n",
       "    .dataframe thead th {\n",
       "        text-align: right;\n",
       "    }\n",
       "</style>\n",
       "<table border=\"1\" class=\"dataframe\">\n",
       "  <thead>\n",
       "    <tr style=\"text-align: right;\">\n",
       "      <th></th>\n",
       "      <th>Word</th>\n",
       "      <th>Frequence</th>\n",
       "      <th>Pourcentage</th>\n",
       "    </tr>\n",
       "  </thead>\n",
       "  <tbody>\n",
       "    <tr>\n",
       "      <th>2793</th>\n",
       "      <td>file</td>\n",
       "      <td>168.078077</td>\n",
       "      <td>0.82</td>\n",
       "    </tr>\n",
       "    <tr>\n",
       "      <th>5220</th>\n",
       "      <td>python</td>\n",
       "      <td>141.363961</td>\n",
       "      <td>0.69</td>\n",
       "    </tr>\n",
       "    <tr>\n",
       "      <th>2258</th>\n",
       "      <td>difference</td>\n",
       "      <td>139.082341</td>\n",
       "      <td>0.67</td>\n",
       "    </tr>\n",
       "    <tr>\n",
       "      <th>3690</th>\n",
       "      <td>java</td>\n",
       "      <td>129.616946</td>\n",
       "      <td>0.63</td>\n",
       "    </tr>\n",
       "    <tr>\n",
       "      <th>897</th>\n",
       "      <td>android</td>\n",
       "      <td>125.039780</td>\n",
       "      <td>0.61</td>\n",
       "    </tr>\n",
       "    <tr>\n",
       "      <th>6233</th>\n",
       "      <td>string</td>\n",
       "      <td>124.761859</td>\n",
       "      <td>0.61</td>\n",
       "    </tr>\n",
       "    <tr>\n",
       "      <th>3703</th>\n",
       "      <td>javascript</td>\n",
       "      <td>124.675426</td>\n",
       "      <td>0.61</td>\n",
       "    </tr>\n",
       "    <tr>\n",
       "      <th>3085</th>\n",
       "      <td>git</td>\n",
       "      <td>119.791715</td>\n",
       "      <td>0.58</td>\n",
       "    </tr>\n",
       "    <tr>\n",
       "      <th>3039</th>\n",
       "      <td>get</td>\n",
       "      <td>108.651694</td>\n",
       "      <td>0.53</td>\n",
       "    </tr>\n",
       "    <tr>\n",
       "      <th>3968</th>\n",
       "      <td>list</td>\n",
       "      <td>84.359115</td>\n",
       "      <td>0.41</td>\n",
       "    </tr>\n",
       "    <tr>\n",
       "      <th>4602</th>\n",
       "      <td>object</td>\n",
       "      <td>79.002965</td>\n",
       "      <td>0.38</td>\n",
       "    </tr>\n",
       "    <tr>\n",
       "      <th>3740</th>\n",
       "      <td>jquery</td>\n",
       "      <td>76.936176</td>\n",
       "      <td>0.37</td>\n",
       "    </tr>\n",
       "    <tr>\n",
       "      <th>1009</th>\n",
       "      <td>array</td>\n",
       "      <td>75.368356</td>\n",
       "      <td>0.37</td>\n",
       "    </tr>\n",
       "    <tr>\n",
       "      <th>2984</th>\n",
       "      <td>function</td>\n",
       "      <td>75.232060</td>\n",
       "      <td>0.37</td>\n",
       "    </tr>\n",
       "    <tr>\n",
       "      <th>2052</th>\n",
       "      <td>data</td>\n",
       "      <td>71.299136</td>\n",
       "      <td>0.35</td>\n",
       "    </tr>\n",
       "    <tr>\n",
       "      <th>6936</th>\n",
       "      <td>value</td>\n",
       "      <td>66.549516</td>\n",
       "      <td>0.32</td>\n",
       "    </tr>\n",
       "    <tr>\n",
       "      <th>4919</th>\n",
       "      <td>php</td>\n",
       "      <td>62.962364</td>\n",
       "      <td>0.31</td>\n",
       "    </tr>\n",
       "    <tr>\n",
       "      <th>1643</th>\n",
       "      <td>code</td>\n",
       "      <td>62.062447</td>\n",
       "      <td>0.30</td>\n",
       "    </tr>\n",
       "    <tr>\n",
       "      <th>4380</th>\n",
       "      <td>multiple</td>\n",
       "      <td>61.994507</td>\n",
       "      <td>0.30</td>\n",
       "    </tr>\n",
       "    <tr>\n",
       "      <th>1696</th>\n",
       "      <td>command</td>\n",
       "      <td>59.741539</td>\n",
       "      <td>0.29</td>\n",
       "    </tr>\n",
       "    <tr>\n",
       "      <th>1390</th>\n",
       "      <td>c++</td>\n",
       "      <td>59.004447</td>\n",
       "      <td>0.29</td>\n",
       "    </tr>\n",
       "    <tr>\n",
       "      <th>6470</th>\n",
       "      <td>text</td>\n",
       "      <td>58.748042</td>\n",
       "      <td>0.29</td>\n",
       "    </tr>\n",
       "    <tr>\n",
       "      <th>1386</th>\n",
       "      <td>c#</td>\n",
       "      <td>58.600140</td>\n",
       "      <td>0.28</td>\n",
       "    </tr>\n",
       "    <tr>\n",
       "      <th>1570</th>\n",
       "      <td>class</td>\n",
       "      <td>58.071341</td>\n",
       "      <td>0.28</td>\n",
       "    </tr>\n",
       "    <tr>\n",
       "      <th>6948</th>\n",
       "      <td>variable</td>\n",
       "      <td>57.599512</td>\n",
       "      <td>0.28</td>\n",
       "    </tr>\n",
       "    <tr>\n",
       "      <th>5828</th>\n",
       "      <td>server</td>\n",
       "      <td>56.610497</td>\n",
       "      <td>0.27</td>\n",
       "    </tr>\n",
       "    <tr>\n",
       "      <th>1882</th>\n",
       "      <td>convert</td>\n",
       "      <td>56.006930</td>\n",
       "      <td>0.27</td>\n",
       "    </tr>\n",
       "    <tr>\n",
       "      <th>7120</th>\n",
       "      <td>what's</td>\n",
       "      <td>55.780576</td>\n",
       "      <td>0.27</td>\n",
       "    </tr>\n",
       "    <tr>\n",
       "      <th>4453</th>\n",
       "      <td>net</td>\n",
       "      <td>55.377135</td>\n",
       "      <td>0.27</td>\n",
       "    </tr>\n",
       "    <tr>\n",
       "      <th>7151</th>\n",
       "      <td>window</td>\n",
       "      <td>55.187835</td>\n",
       "      <td>0.27</td>\n",
       "    </tr>\n",
       "    <tr>\n",
       "      <th>6104</th>\n",
       "      <td>sql</td>\n",
       "      <td>55.062576</td>\n",
       "      <td>0.27</td>\n",
       "    </tr>\n",
       "    <tr>\n",
       "      <th>3408</th>\n",
       "      <td>image</td>\n",
       "      <td>54.817420</td>\n",
       "      <td>0.27</td>\n",
       "    </tr>\n",
       "    <tr>\n",
       "      <th>5844</th>\n",
       "      <td>set</td>\n",
       "      <td>53.841190</td>\n",
       "      <td>0.26</td>\n",
       "    </tr>\n",
       "    <tr>\n",
       "      <th>4232</th>\n",
       "      <td>method</td>\n",
       "      <td>53.736919</td>\n",
       "      <td>0.26</td>\n",
       "    </tr>\n",
       "    <tr>\n",
       "      <th>1385</th>\n",
       "      <td>c</td>\n",
       "      <td>53.453141</td>\n",
       "      <td>0.26</td>\n",
       "    </tr>\n",
       "    <tr>\n",
       "      <th>2582</th>\n",
       "      <td>error</td>\n",
       "      <td>53.210050</td>\n",
       "      <td>0.26</td>\n",
       "    </tr>\n",
       "    <tr>\n",
       "      <th>3683</th>\n",
       "      <td>j</td>\n",
       "      <td>52.901032</td>\n",
       "      <td>0.26</td>\n",
       "    </tr>\n",
       "    <tr>\n",
       "      <th>4408</th>\n",
       "      <td>mysql</td>\n",
       "      <td>52.893836</td>\n",
       "      <td>0.26</td>\n",
       "    </tr>\n",
       "    <tr>\n",
       "      <th>1530</th>\n",
       "      <td>check</td>\n",
       "      <td>52.159505</td>\n",
       "      <td>0.25</td>\n",
       "    </tr>\n",
       "    <tr>\n",
       "      <th>6410</th>\n",
       "      <td>table</td>\n",
       "      <td>50.661335</td>\n",
       "      <td>0.25</td>\n",
       "    </tr>\n",
       "    <tr>\n",
       "      <th>961</th>\n",
       "      <td>application</td>\n",
       "      <td>50.050266</td>\n",
       "      <td>0.24</td>\n",
       "    </tr>\n",
       "    <tr>\n",
       "      <th>1326</th>\n",
       "      <td>branch</td>\n",
       "      <td>50.006857</td>\n",
       "      <td>0.24</td>\n",
       "    </tr>\n",
       "    <tr>\n",
       "      <th>2475</th>\n",
       "      <td>element</td>\n",
       "      <td>49.152263</td>\n",
       "      <td>0.24</td>\n",
       "    </tr>\n",
       "    <tr>\n",
       "      <th>3311</th>\n",
       "      <td>html</td>\n",
       "      <td>48.891673</td>\n",
       "      <td>0.24</td>\n",
       "    </tr>\n",
       "    <tr>\n",
       "      <th>4573</th>\n",
       "      <td>number</td>\n",
       "      <td>48.031633</td>\n",
       "      <td>0.23</td>\n",
       "    </tr>\n",
       "    <tr>\n",
       "      <th>5454</th>\n",
       "      <td>remove</td>\n",
       "      <td>47.989580</td>\n",
       "      <td>0.23</td>\n",
       "    </tr>\n",
       "    <tr>\n",
       "      <th>2054</th>\n",
       "      <td>database</td>\n",
       "      <td>46.932256</td>\n",
       "      <td>0.23</td>\n",
       "    </tr>\n",
       "    <tr>\n",
       "      <th>5733</th>\n",
       "      <td>script</td>\n",
       "      <td>45.475861</td>\n",
       "      <td>0.22</td>\n",
       "    </tr>\n",
       "    <tr>\n",
       "      <th>6698</th>\n",
       "      <td>type</td>\n",
       "      <td>45.011996</td>\n",
       "      <td>0.22</td>\n",
       "    </tr>\n",
       "    <tr>\n",
       "      <th>2280</th>\n",
       "      <td>directory</td>\n",
       "      <td>43.223004</td>\n",
       "      <td>0.21</td>\n",
       "    </tr>\n",
       "  </tbody>\n",
       "</table>\n",
       "</div>"
      ],
      "text/plain": [
       "             Word   Frequence  Pourcentage\n",
       "2793         file  168.078077         0.82\n",
       "5220       python  141.363961         0.69\n",
       "2258   difference  139.082341         0.67\n",
       "3690         java  129.616946         0.63\n",
       "897       android  125.039780         0.61\n",
       "6233       string  124.761859         0.61\n",
       "3703   javascript  124.675426         0.61\n",
       "3085          git  119.791715         0.58\n",
       "3039          get  108.651694         0.53\n",
       "3968         list   84.359115         0.41\n",
       "4602       object   79.002965         0.38\n",
       "3740       jquery   76.936176         0.37\n",
       "1009        array   75.368356         0.37\n",
       "2984     function   75.232060         0.37\n",
       "2052         data   71.299136         0.35\n",
       "6936        value   66.549516         0.32\n",
       "4919          php   62.962364         0.31\n",
       "1643         code   62.062447         0.30\n",
       "4380     multiple   61.994507         0.30\n",
       "1696      command   59.741539         0.29\n",
       "1390          c++   59.004447         0.29\n",
       "6470         text   58.748042         0.29\n",
       "1386           c#   58.600140         0.28\n",
       "1570        class   58.071341         0.28\n",
       "6948     variable   57.599512         0.28\n",
       "5828       server   56.610497         0.27\n",
       "1882      convert   56.006930         0.27\n",
       "7120       what's   55.780576         0.27\n",
       "4453          net   55.377135         0.27\n",
       "7151       window   55.187835         0.27\n",
       "6104          sql   55.062576         0.27\n",
       "3408        image   54.817420         0.27\n",
       "5844          set   53.841190         0.26\n",
       "4232       method   53.736919         0.26\n",
       "1385            c   53.453141         0.26\n",
       "2582        error   53.210050         0.26\n",
       "3683            j   52.901032         0.26\n",
       "4408        mysql   52.893836         0.26\n",
       "1530        check   52.159505         0.25\n",
       "6410        table   50.661335         0.25\n",
       "961   application   50.050266         0.24\n",
       "1326       branch   50.006857         0.24\n",
       "2475      element   49.152263         0.24\n",
       "3311         html   48.891673         0.24\n",
       "4573       number   48.031633         0.23\n",
       "5454       remove   47.989580         0.23\n",
       "2054     database   46.932256         0.23\n",
       "5733       script   45.475861         0.22\n",
       "6698         type   45.011996         0.22\n",
       "2280    directory   43.223004         0.21"
      ]
     },
     "execution_count": 99,
     "metadata": {},
     "output_type": "execute_result"
    }
   ],
   "source": [
    "freq_features = DataFrame(zip(X_train_title_vocab_tfidf, X_train_title_dist_tfidf))\n",
    "freq_features.rename({0:'Word', 1:'Frequence'}, axis = 1, inplace = True)\n",
    "freq_features.sort_values(['Frequence'], inplace = True, ascending=False)\n",
    "freq_features['Pourcentage'] = round(freq_features['Frequence']*100/sum(freq_features['Frequence']),2)\n",
    "freq_features[:50]"
   ]
  },
  {
   "cell_type": "markdown",
   "metadata": {},
   "source": [
    "#### Cible"
   ]
  },
  {
   "cell_type": "code",
   "execution_count": 47,
   "metadata": {},
   "outputs": [
    {
     "name": "stdout",
     "output_type": "stream",
     "text": [
      "Creating the TF - IDF...\n",
      "\n"
     ]
    }
   ],
   "source": [
    "print (\"Creating the TF - IDF...\\n\")\n",
    "\n",
    "y_train_tfidf = tf_idf.fit_transform(y_train_clean)\n",
    "\n",
    "# Numpy arrays are easy to work with, so convert the result to an \n",
    "# array\n",
    "y_train_tfidf = y_train_tfidf.toarray()"
   ]
  },
  {
   "cell_type": "code",
   "execution_count": 48,
   "metadata": {},
   "outputs": [
    {
     "data": {
      "text/plain": [
       "(9843, 4998)"
      ]
     },
     "execution_count": 48,
     "metadata": {},
     "output_type": "execute_result"
    }
   ],
   "source": [
    "y_train_tfidf.shape"
   ]
  },
  {
   "cell_type": "code",
   "execution_count": 49,
   "metadata": {},
   "outputs": [],
   "source": [
    "# Create the vocabulary\n",
    "y_train_vocab_tfidf = tf_idf.get_feature_names()"
   ]
  },
  {
   "cell_type": "code",
   "execution_count": 50,
   "metadata": {},
   "outputs": [],
   "source": [
    "# Sum up the counts of each vocabulary word\n",
    "y_train_dist_tfidf = np.sum(y_train_tfidf, axis=0)"
   ]
  },
  {
   "cell_type": "markdown",
   "metadata": {},
   "source": [
    "Nous allons afficher 50 mots les plus fréquents :"
   ]
  },
  {
   "cell_type": "code",
   "execution_count": 51,
   "metadata": {},
   "outputs": [
    {
     "data": {
      "text/html": [
       "<div>\n",
       "<style scoped>\n",
       "    .dataframe tbody tr th:only-of-type {\n",
       "        vertical-align: middle;\n",
       "    }\n",
       "\n",
       "    .dataframe tbody tr th {\n",
       "        vertical-align: top;\n",
       "    }\n",
       "\n",
       "    .dataframe thead th {\n",
       "        text-align: right;\n",
       "    }\n",
       "</style>\n",
       "<table border=\"1\" class=\"dataframe\">\n",
       "  <thead>\n",
       "    <tr style=\"text-align: right;\">\n",
       "      <th></th>\n",
       "      <th>Word</th>\n",
       "      <th>Frequence</th>\n",
       "      <th>Pourcentage</th>\n",
       "    </tr>\n",
       "  </thead>\n",
       "  <tbody>\n",
       "    <tr>\n",
       "      <th>2404</th>\n",
       "      <td>javascript</td>\n",
       "      <td>364.054803</td>\n",
       "      <td>2.17</td>\n",
       "    </tr>\n",
       "    <tr>\n",
       "      <th>3558</th>\n",
       "      <td>python</td>\n",
       "      <td>322.392284</td>\n",
       "      <td>1.93</td>\n",
       "    </tr>\n",
       "    <tr>\n",
       "      <th>2377</th>\n",
       "      <td>java</td>\n",
       "      <td>277.392963</td>\n",
       "      <td>1.66</td>\n",
       "    </tr>\n",
       "    <tr>\n",
       "      <th>1808</th>\n",
       "      <td>git</td>\n",
       "      <td>257.362231</td>\n",
       "      <td>1.54</td>\n",
       "    </tr>\n",
       "    <tr>\n",
       "      <th>118</th>\n",
       "      <td>android</td>\n",
       "      <td>235.036659</td>\n",
       "      <td>1.40</td>\n",
       "    </tr>\n",
       "    <tr>\n",
       "      <th>663</th>\n",
       "      <td>c#</td>\n",
       "      <td>199.293870</td>\n",
       "      <td>1.19</td>\n",
       "    </tr>\n",
       "    <tr>\n",
       "      <th>2442</th>\n",
       "      <td>jquery</td>\n",
       "      <td>167.070661</td>\n",
       "      <td>1.00</td>\n",
       "    </tr>\n",
       "    <tr>\n",
       "      <th>668</th>\n",
       "      <td>c++</td>\n",
       "      <td>157.892208</td>\n",
       "      <td>0.94</td>\n",
       "    </tr>\n",
       "    <tr>\n",
       "      <th>2063</th>\n",
       "      <td>html</td>\n",
       "      <td>151.436102</td>\n",
       "      <td>0.90</td>\n",
       "    </tr>\n",
       "    <tr>\n",
       "      <th>1045</th>\n",
       "      <td>css</td>\n",
       "      <td>143.726499</td>\n",
       "      <td>0.86</td>\n",
       "    </tr>\n",
       "    <tr>\n",
       "      <th>2305</th>\n",
       "      <td>ios</td>\n",
       "      <td>131.343117</td>\n",
       "      <td>0.78</td>\n",
       "    </tr>\n",
       "    <tr>\n",
       "      <th>3352</th>\n",
       "      <td>php</td>\n",
       "      <td>122.903324</td>\n",
       "      <td>0.73</td>\n",
       "    </tr>\n",
       "    <tr>\n",
       "      <th>3</th>\n",
       "      <td>.net</td>\n",
       "      <td>113.992123</td>\n",
       "      <td>0.68</td>\n",
       "    </tr>\n",
       "    <tr>\n",
       "      <th>4241</th>\n",
       "      <td>string</td>\n",
       "      <td>103.203464</td>\n",
       "      <td>0.62</td>\n",
       "    </tr>\n",
       "    <tr>\n",
       "      <th>2972</th>\n",
       "      <td>mysql</td>\n",
       "      <td>101.618610</td>\n",
       "      <td>0.61</td>\n",
       "    </tr>\n",
       "    <tr>\n",
       "      <th>662</th>\n",
       "      <td>c</td>\n",
       "      <td>97.401270</td>\n",
       "      <td>0.58</td>\n",
       "    </tr>\n",
       "    <tr>\n",
       "      <th>3045</th>\n",
       "      <td>node.js</td>\n",
       "      <td>97.339494</td>\n",
       "      <td>0.58</td>\n",
       "    </tr>\n",
       "    <tr>\n",
       "      <th>4126</th>\n",
       "      <td>sql</td>\n",
       "      <td>93.476541</td>\n",
       "      <td>0.56</td>\n",
       "    </tr>\n",
       "    <tr>\n",
       "      <th>3140</th>\n",
       "      <td>objective-c</td>\n",
       "      <td>89.449392</td>\n",
       "      <td>0.53</td>\n",
       "    </tr>\n",
       "    <tr>\n",
       "      <th>382</th>\n",
       "      <td>arrays</td>\n",
       "      <td>81.584940</td>\n",
       "      <td>0.49</td>\n",
       "    </tr>\n",
       "    <tr>\n",
       "      <th>2626</th>\n",
       "      <td>linux</td>\n",
       "      <td>79.001463</td>\n",
       "      <td>0.47</td>\n",
       "    </tr>\n",
       "    <tr>\n",
       "      <th>520</th>\n",
       "      <td>bash</td>\n",
       "      <td>78.833914</td>\n",
       "      <td>0.47</td>\n",
       "    </tr>\n",
       "    <tr>\n",
       "      <th>2329</th>\n",
       "      <td>iphone</td>\n",
       "      <td>78.044861</td>\n",
       "      <td>0.47</td>\n",
       "    </tr>\n",
       "    <tr>\n",
       "      <th>291</th>\n",
       "      <td>angularjs</td>\n",
       "      <td>74.929401</td>\n",
       "      <td>0.45</td>\n",
       "    </tr>\n",
       "    <tr>\n",
       "      <th>94</th>\n",
       "      <td>algorithm</td>\n",
       "      <td>65.648930</td>\n",
       "      <td>0.39</td>\n",
       "    </tr>\n",
       "    <tr>\n",
       "      <th>4138</th>\n",
       "      <td>sql-server</td>\n",
       "      <td>63.676563</td>\n",
       "      <td>0.38</td>\n",
       "    </tr>\n",
       "    <tr>\n",
       "      <th>3822</th>\n",
       "      <td>ruby</td>\n",
       "      <td>62.503984</td>\n",
       "      <td>0.37</td>\n",
       "    </tr>\n",
       "    <tr>\n",
       "      <th>1855</th>\n",
       "      <td>github</td>\n",
       "      <td>62.053616</td>\n",
       "      <td>0.37</td>\n",
       "    </tr>\n",
       "    <tr>\n",
       "      <th>3329</th>\n",
       "      <td>performance</td>\n",
       "      <td>60.682153</td>\n",
       "      <td>0.36</td>\n",
       "    </tr>\n",
       "    <tr>\n",
       "      <th>3604</th>\n",
       "      <td>r</td>\n",
       "      <td>60.429777</td>\n",
       "      <td>0.36</td>\n",
       "    </tr>\n",
       "    <tr>\n",
       "      <th>4008</th>\n",
       "      <td>shell</td>\n",
       "      <td>59.746807</td>\n",
       "      <td>0.36</td>\n",
       "    </tr>\n",
       "    <tr>\n",
       "      <th>3826</th>\n",
       "      <td>ruby-on-rails</td>\n",
       "      <td>58.512556</td>\n",
       "      <td>0.35</td>\n",
       "    </tr>\n",
       "    <tr>\n",
       "      <th>2468</th>\n",
       "      <td>json</td>\n",
       "      <td>57.150735</td>\n",
       "      <td>0.34</td>\n",
       "    </tr>\n",
       "    <tr>\n",
       "      <th>1123</th>\n",
       "      <td>database</td>\n",
       "      <td>56.197041</td>\n",
       "      <td>0.34</td>\n",
       "    </tr>\n",
       "    <tr>\n",
       "      <th>2707</th>\n",
       "      <td>macos</td>\n",
       "      <td>56.139503</td>\n",
       "      <td>0.34</td>\n",
       "    </tr>\n",
       "    <tr>\n",
       "      <th>3687</th>\n",
       "      <td>regex</td>\n",
       "      <td>53.388872</td>\n",
       "      <td>0.32</td>\n",
       "    </tr>\n",
       "    <tr>\n",
       "      <th>2959</th>\n",
       "      <td>multithreading</td>\n",
       "      <td>53.284532</td>\n",
       "      <td>0.32</td>\n",
       "    </tr>\n",
       "    <tr>\n",
       "      <th>4309</th>\n",
       "      <td>swift</td>\n",
       "      <td>51.984603</td>\n",
       "      <td>0.31</td>\n",
       "    </tr>\n",
       "    <tr>\n",
       "      <th>4873</th>\n",
       "      <td>windows</td>\n",
       "      <td>51.159218</td>\n",
       "      <td>0.31</td>\n",
       "    </tr>\n",
       "    <tr>\n",
       "      <th>1288</th>\n",
       "      <td>django</td>\n",
       "      <td>48.146878</td>\n",
       "      <td>0.29</td>\n",
       "    </tr>\n",
       "    <tr>\n",
       "      <th>4749</th>\n",
       "      <td>vim</td>\n",
       "      <td>48.075792</td>\n",
       "      <td>0.29</td>\n",
       "    </tr>\n",
       "    <tr>\n",
       "      <th>2633</th>\n",
       "      <td>list</td>\n",
       "      <td>47.315956</td>\n",
       "      <td>0.28</td>\n",
       "    </tr>\n",
       "    <tr>\n",
       "      <th>3750</th>\n",
       "      <td>rest</td>\n",
       "      <td>44.838347</td>\n",
       "      <td>0.27</td>\n",
       "    </tr>\n",
       "    <tr>\n",
       "      <th>4935</th>\n",
       "      <td>xcode</td>\n",
       "      <td>44.102836</td>\n",
       "      <td>0.26</td>\n",
       "    </tr>\n",
       "    <tr>\n",
       "      <th>393</th>\n",
       "      <td>asp.net</td>\n",
       "      <td>43.617173</td>\n",
       "      <td>0.26</td>\n",
       "    </tr>\n",
       "    <tr>\n",
       "      <th>1317</th>\n",
       "      <td>docker</td>\n",
       "      <td>43.329982</td>\n",
       "      <td>0.26</td>\n",
       "    </tr>\n",
       "    <tr>\n",
       "      <th>402</th>\n",
       "      <td>asp.net-mvc</td>\n",
       "      <td>43.003708</td>\n",
       "      <td>0.26</td>\n",
       "    </tr>\n",
       "    <tr>\n",
       "      <th>2539</th>\n",
       "      <td>language-agnostic</td>\n",
       "      <td>41.704362</td>\n",
       "      <td>0.25</td>\n",
       "    </tr>\n",
       "    <tr>\n",
       "      <th>3274</th>\n",
       "      <td>pandas</td>\n",
       "      <td>41.499312</td>\n",
       "      <td>0.25</td>\n",
       "    </tr>\n",
       "    <tr>\n",
       "      <th>3178</th>\n",
       "      <td>oop</td>\n",
       "      <td>39.859194</td>\n",
       "      <td>0.24</td>\n",
       "    </tr>\n",
       "  </tbody>\n",
       "</table>\n",
       "</div>"
      ],
      "text/plain": [
       "                   Word   Frequence  Pourcentage\n",
       "2404         javascript  364.054803         2.17\n",
       "3558             python  322.392284         1.93\n",
       "2377               java  277.392963         1.66\n",
       "1808                git  257.362231         1.54\n",
       "118             android  235.036659         1.40\n",
       "663                  c#  199.293870         1.19\n",
       "2442             jquery  167.070661         1.00\n",
       "668                 c++  157.892208         0.94\n",
       "2063               html  151.436102         0.90\n",
       "1045                css  143.726499         0.86\n",
       "2305                ios  131.343117         0.78\n",
       "3352                php  122.903324         0.73\n",
       "3                  .net  113.992123         0.68\n",
       "4241             string  103.203464         0.62\n",
       "2972              mysql  101.618610         0.61\n",
       "662                   c   97.401270         0.58\n",
       "3045            node.js   97.339494         0.58\n",
       "4126                sql   93.476541         0.56\n",
       "3140        objective-c   89.449392         0.53\n",
       "382              arrays   81.584940         0.49\n",
       "2626              linux   79.001463         0.47\n",
       "520                bash   78.833914         0.47\n",
       "2329             iphone   78.044861         0.47\n",
       "291           angularjs   74.929401         0.45\n",
       "94            algorithm   65.648930         0.39\n",
       "4138         sql-server   63.676563         0.38\n",
       "3822               ruby   62.503984         0.37\n",
       "1855             github   62.053616         0.37\n",
       "3329        performance   60.682153         0.36\n",
       "3604                  r   60.429777         0.36\n",
       "4008              shell   59.746807         0.36\n",
       "3826      ruby-on-rails   58.512556         0.35\n",
       "2468               json   57.150735         0.34\n",
       "1123           database   56.197041         0.34\n",
       "2707              macos   56.139503         0.34\n",
       "3687              regex   53.388872         0.32\n",
       "2959     multithreading   53.284532         0.32\n",
       "4309              swift   51.984603         0.31\n",
       "4873            windows   51.159218         0.31\n",
       "1288             django   48.146878         0.29\n",
       "4749                vim   48.075792         0.29\n",
       "2633               list   47.315956         0.28\n",
       "3750               rest   44.838347         0.27\n",
       "4935              xcode   44.102836         0.26\n",
       "393             asp.net   43.617173         0.26\n",
       "1317             docker   43.329982         0.26\n",
       "402         asp.net-mvc   43.003708         0.26\n",
       "2539  language-agnostic   41.704362         0.25\n",
       "3274             pandas   41.499312         0.25\n",
       "3178                oop   39.859194         0.24"
      ]
     },
     "execution_count": 51,
     "metadata": {},
     "output_type": "execute_result"
    }
   ],
   "source": [
    "freq_target = DataFrame(zip(y_train_vocab_tfidf, y_train_dist_tfidf))\n",
    "freq_target.rename({0:'Word', 1:'Frequence'}, axis = 1, inplace = True)\n",
    "freq_target.sort_values(['Frequence'], inplace = True, ascending=False)\n",
    "freq_target['Pourcentage'] = round(freq_target['Frequence']*100/sum(freq_target['Frequence']),2)\n",
    "freq_target[:50]"
   ]
  },
  {
   "cell_type": "markdown",
   "metadata": {},
   "source": [
    "#### Sauvegarder les données"
   ]
  },
  {
   "cell_type": "code",
   "execution_count": null,
   "metadata": {},
   "outputs": [],
   "source": [
    "np.save('Data/X_train_tfidf', X_train_tfidf)\n",
    "np.save('Data/X_train_vocab_tfidf', X_train_vocab_tfidf)\n",
    "np.save('Data/X_train_dist_tfidf', X_train_dist_tfidf)\n",
    "np.save('Data/y_train_tfidf', y_train_tfidf)\n",
    "np.save('Data/y_train_vocab_tfidf', y_train_vocab_tfidf)\n",
    "np.save('Data/y_train_dist_tfidf', y_train_dist_tfidf)"
   ]
  },
  {
   "cell_type": "code",
   "execution_count": 100,
   "metadata": {},
   "outputs": [],
   "source": [
    "np.save('Data/X_train_title_tfidf', X_train_title_tfidf)\n",
    "np.save('Data/X_train_title_vocab_tfidf', X_train_title_vocab_tfidf)\n",
    "np.save('Data/X_train_title_dist_tfidf', X_train_title_dist_tfidf)"
   ]
  },
  {
   "cell_type": "markdown",
   "metadata": {},
   "source": [
    "### Word2vect\n"
   ]
  },
  {
   "cell_type": "markdown",
   "metadata": {},
   "source": [
    "Afin de créer un vecteur de ots pour chaque document avec word2vect, nous allons modifier notre fonctions de cleaning. Pour plus d'efficacité de l'algorithme word2vect, nous allons séparer le corps de texte en phrases et garder les stop-words. Nous allons également garder les chiffres et la ponctuation."
   ]
  },
  {
   "cell_type": "markdown",
   "metadata": {},
   "source": [
    "#### Préparer les données"
   ]
  },
  {
   "cell_type": "markdown",
   "metadata": {},
   "source": [
    "Voici notre fonction de cleaning modifiée, avec une option pour enlever les stop-words. Par défaut, la fonction n'enlève pas des stop-words."
   ]
  },
  {
   "cell_type": "code",
   "execution_count": 139,
   "metadata": {},
   "outputs": [],
   "source": [
    "def post_to_words_w2v( raw_post, remove_stopwords=False ):\n",
    "    \"\"\"Function to convert a raw document to a list of words. \n",
    "    This cleaning function do not remove the stop words.\n",
    "    \n",
    "    Inputs : \n",
    "    \n",
    "    - raw_post : a single string \n",
    "    \n",
    "    Output :\n",
    "    \n",
    "    - a single string containing a preprocessed document\"\"\"\n",
    "    \n",
    "    # 1. Remove HTML\n",
    "    post_text = BeautifulSoup(raw_post).get_text() \n",
    "    #\n",
    "    # 2. Remove non-letters        \n",
    "    letters_only = re.sub(\"[^a-zA-Z]\", \" \", post_text) \n",
    "    #\n",
    "    # 3. Convert to lower case, split into individual words\n",
    "    words = letters_only.lower().split()                                          \n",
    "    # \n",
    "    # 4. Optionally remove stop words (false by default)\n",
    "    if remove_stopwords:\n",
    "        stops = set(stopwords.words(\"english\"))\n",
    "        words = [w for w in words if not w in stops]\n",
    "    #\n",
    "    # 5. Lematize\n",
    "    lemmatizer = WordNetLemmatizer() \n",
    "\n",
    "    lems = []\n",
    "\n",
    "    for word in words:\n",
    "        word_clean = lemmatizer.lemmatize(word)\n",
    "        lems.append(word_clean)\n",
    "    #\n",
    "    # 5. Join the words back into one string separated by space, \n",
    "    # and return the result.\n",
    "    return(words) "
   ]
  },
  {
   "cell_type": "code",
   "execution_count": 140,
   "metadata": {},
   "outputs": [],
   "source": [
    "# Personnaliser la fonction\n",
    "# Download the punkt tokenizer for sentence splitting\n",
    "#import nltk.data #!!! Supprimer ???\n",
    "#nltk.download()  #!!! Supprimer ??? \n",
    "\n",
    "# Load the punkt tokenizer\n",
    "tokenizer = nltk.data.load('tokenizers/punkt/english.pickle')\n",
    "\n",
    "# Define a function to split a review into parsed sentences\n",
    "def post_to_sentences( post, tokenizer):\n",
    "    # Function to split a review into parsed sentences. Returns a \n",
    "    # list of sentences, where each sentence is a list of words\n",
    "    #\n",
    "    # 1. Use the NLTK tokenizer to split the paragraph into sentences\n",
    "    raw_sentences = tokenizer.tokenize(post.strip())\n",
    "    #\n",
    "    # 2. Loop over each sentence\n",
    "    sentences = []\n",
    "    for raw_sentence in raw_sentences:\n",
    "        # If a sentence is empty, skip it\n",
    "        if len(raw_sentence) > 0:\n",
    "            # Otherwise, call review_to_wordlist to get a list of words\n",
    "            sentences.append( post_to_words_w2v( raw_sentence ))\n",
    "    #\n",
    "    # Return the list of sentences (each sentence is a list of words,\n",
    "    # so this returns a list of lists\n",
    "    return sentences"
   ]
  },
  {
   "cell_type": "code",
   "execution_count": 141,
   "metadata": {},
   "outputs": [
    {
     "name": "stdout",
     "output_type": "stream",
     "text": [
      "Parsing sentences from training set\n"
     ]
    },
    {
     "name": "stderr",
     "output_type": "stream",
     "text": [
      "C:\\Users\\Utilisateur\\Anaconda3\\lib\\site-packages\\bs4\\__init__.py:335: UserWarning: \"https://fbexternal-a.akamaihd.net/safe_image.php?...\" looks like a URL. Beautiful Soup is not an HTTP client. You should probably use an HTTP client like requests to get the document behind the URL, and feed that document to Beautiful Soup.\n",
      "  ' that document to Beautiful Soup.' % decoded_markup\n",
      "C:\\Users\\Utilisateur\\Anaconda3\\lib\\site-packages\\bs4\\__init__.py:272: UserWarning: \"b'.'\" looks like a filename, not markup. You should probably open this file and pass the filehandle into Beautiful Soup.\n",
      "  ' Beautiful Soup.' % markup)\n",
      "C:\\Users\\Utilisateur\\Anaconda3\\lib\\site-packages\\bs4\\__init__.py:272: UserWarning: \"b'...'\" looks like a filename, not markup. You should probably open this file and pass the filehandle into Beautiful Soup.\n",
      "  ' Beautiful Soup.' % markup)\n"
     ]
    }
   ],
   "source": [
    "#Clean all data\n",
    "\n",
    "X_train['text'] = X_train['title'] + \". \" + X_train['body']\n",
    "\n",
    "sentences = []  # Initialize an empty list of sentences\n",
    "\n",
    "print (\"Parsing sentences from training set\")\n",
    "for post in X_train[\"text\"]:\n",
    "    sentences += post_to_sentences(post, tokenizer)"
   ]
  },
  {
   "cell_type": "markdown",
   "metadata": {},
   "source": [
    "#### Entraîner le modèle"
   ]
  },
  {
   "cell_type": "markdown",
   "metadata": {},
   "source": [
    "##### !!! Traduire & faire le tuning de paramètres \n",
    "\n",
    "With the list of nicely parsed sentences, we're ready to train the model. There are a number of parameter choices that affect the run time and the quality of the final model that is produced. For details on the algorithms below, see the word2vec API documentation as well as the Google documentation. \n",
    "\n",
    "    Architecture: Architecture options are skip-gram (default) or continuous bag of words. We found that skip-gram was very slightly slower but produced better results.\n",
    "    Training algorithm: Hierarchical softmax (default) or negative sampling. For us, the default worked well.\n",
    "    Downsampling of frequent words: The Google documentation recommends values between .00001 and .001. For us, values closer 0.001 seemed to improve the accuracy of the final model.\n",
    "    Word vector dimensionality: More features result in longer runtimes, and often, but not always, result in better models. Reasonable values can be in the tens to hundreds; we used 300.\n",
    "    Context / window size: How many words of context should the training algorithm take into account? 10 seems to work well for hierarchical softmax (more is better, up to a point).\n",
    "    Worker threads: Number of parallel processes to run. This is computer-specific, but between 4 and 6 should work on most systems.\n",
    "    Minimum word count: This helps limit the size of the vocabulary to meaningful words. Any word that does not occur at least this many times across all documents is ignored. Reasonable values could be between 10 and 100. In this case, since each movie occurs 30 times, we set the minimum word count to 40, to avoid attaching too much importance to individual movie titles. This resulted in an overall vocabulary size of around 15,000 words. Higher values also help limit run time.\n",
    "\n",
    "Choosing parameters is not easy, but once we have chosen our parameters, creating a Word2Vec model is straightforward:"
   ]
  },
  {
   "cell_type": "code",
   "execution_count": 142,
   "metadata": {
    "scrolled": true
   },
   "outputs": [
    {
     "name": "stderr",
     "output_type": "stream",
     "text": [
      "C:\\Users\\Utilisateur\\Anaconda3\\lib\\site-packages\\gensim\\utils.py:1197: UserWarning: detected Windows; aliasing chunkize to chunkize_serial\n",
      "  warnings.warn(\"detected Windows; aliasing chunkize to chunkize_serial\")\n",
      "2019-11-09 13:31:15,454 : INFO : 'pattern' package not found; tag filters are not available for English\n",
      "2019-11-09 13:31:15,470 : INFO : collecting all words and their counts\n",
      "2019-11-09 13:31:15,470 : INFO : PROGRESS: at sentence #0, processed 0 words, keeping 0 word types\n",
      "2019-11-09 13:31:15,501 : INFO : PROGRESS: at sentence #10000, processed 237930 words, keeping 12941 word types\n",
      "2019-11-09 13:31:15,548 : INFO : PROGRESS: at sentence #20000, processed 482194 words, keeping 19663 word types\n",
      "2019-11-09 13:31:15,595 : INFO : PROGRESS: at sentence #30000, processed 724533 words, keeping 25623 word types\n",
      "2019-11-09 13:31:15,641 : INFO : PROGRESS: at sentence #40000, processed 958291 words, keeping 30084 word types\n"
     ]
    },
    {
     "name": "stdout",
     "output_type": "stream",
     "text": [
      "Training model...\n"
     ]
    },
    {
     "name": "stderr",
     "output_type": "stream",
     "text": [
      "2019-11-09 13:31:15,688 : INFO : PROGRESS: at sentence #50000, processed 1196298 words, keeping 34549 word types\n",
      "2019-11-09 13:31:15,735 : INFO : PROGRESS: at sentence #60000, processed 1435933 words, keeping 38570 word types\n",
      "2019-11-09 13:31:15,797 : INFO : PROGRESS: at sentence #70000, processed 1683592 words, keeping 42451 word types\n",
      "2019-11-09 13:31:15,844 : INFO : PROGRESS: at sentence #80000, processed 1933488 words, keeping 46191 word types\n",
      "2019-11-09 13:31:15,891 : INFO : PROGRESS: at sentence #90000, processed 2175571 words, keeping 49416 word types\n",
      "2019-11-09 13:31:15,938 : INFO : PROGRESS: at sentence #100000, processed 2420822 words, keeping 52845 word types\n",
      "2019-11-09 13:31:15,985 : INFO : PROGRESS: at sentence #110000, processed 2659762 words, keeping 56313 word types\n",
      "2019-11-09 13:31:16,031 : INFO : PROGRESS: at sentence #120000, processed 2909173 words, keeping 59834 word types\n",
      "2019-11-09 13:31:16,047 : INFO : collected 60870 word types from a corpus of 2991030 raw words and 123268 sentences\n",
      "2019-11-09 13:31:16,047 : INFO : Loading a fresh vocabulary\n",
      "2019-11-09 13:31:16,078 : INFO : min_count=40 retains 4508 unique words (7% of original 60870, drops 56362)\n",
      "2019-11-09 13:31:16,078 : INFO : min_count=40 leaves 2757766 word corpus (92% of original 2991030, drops 233264)\n",
      "2019-11-09 13:31:16,094 : INFO : deleting the raw counts dictionary of 60870 items\n",
      "2019-11-09 13:31:16,094 : INFO : sample=0.001 downsamples 56 most-common words\n",
      "2019-11-09 13:31:16,094 : INFO : downsampling leaves estimated 2137919 word corpus (77.5% of prior 2757766)\n",
      "2019-11-09 13:31:16,109 : INFO : estimated required memory for 4508 words and 300 dimensions: 13073200 bytes\n",
      "2019-11-09 13:31:16,109 : INFO : resetting layer weights\n",
      "2019-11-09 13:31:16,172 : INFO : training model with 4 workers on 4508 vocabulary and 300 features, using sg=0 hs=0 sample=0.001 negative=5 window=10\n",
      "2019-11-09 13:31:17,186 : INFO : EPOCH 1 - PROGRESS: at 51.90% examples, 1091236 words/s, in_qsize 7, out_qsize 0\n",
      "2019-11-09 13:31:18,075 : INFO : worker thread finished; awaiting finish of 3 more threads\n",
      "2019-11-09 13:31:18,075 : INFO : worker thread finished; awaiting finish of 2 more threads\n",
      "2019-11-09 13:31:18,075 : INFO : worker thread finished; awaiting finish of 1 more threads\n",
      "2019-11-09 13:31:18,075 : INFO : worker thread finished; awaiting finish of 0 more threads\n",
      "2019-11-09 13:31:18,075 : INFO : EPOCH - 1 : training on 2991030 raw words (2136994 effective words) took 1.9s, 1125036 effective words/s\n",
      "2019-11-09 13:31:19,089 : INFO : EPOCH 2 - PROGRESS: at 54.24% examples, 1142152 words/s, in_qsize 7, out_qsize 0\n",
      "2019-11-09 13:31:19,948 : INFO : worker thread finished; awaiting finish of 3 more threads\n",
      "2019-11-09 13:31:19,948 : INFO : worker thread finished; awaiting finish of 2 more threads\n",
      "2019-11-09 13:31:19,964 : INFO : worker thread finished; awaiting finish of 1 more threads\n",
      "2019-11-09 13:31:19,964 : INFO : worker thread finished; awaiting finish of 0 more threads\n",
      "2019-11-09 13:31:19,964 : INFO : EPOCH - 2 : training on 2991030 raw words (2137558 effective words) took 1.9s, 1137910 effective words/s\n",
      "2019-11-09 13:31:20,978 : INFO : EPOCH 3 - PROGRESS: at 44.89% examples, 941756 words/s, in_qsize 7, out_qsize 0\n",
      "2019-11-09 13:31:21,976 : INFO : EPOCH 3 - PROGRESS: at 97.00% examples, 1032375 words/s, in_qsize 7, out_qsize 0\n",
      "2019-11-09 13:31:22,023 : INFO : worker thread finished; awaiting finish of 3 more threads\n",
      "2019-11-09 13:31:22,039 : INFO : worker thread finished; awaiting finish of 2 more threads\n",
      "2019-11-09 13:31:22,039 : INFO : worker thread finished; awaiting finish of 1 more threads\n",
      "2019-11-09 13:31:22,054 : INFO : worker thread finished; awaiting finish of 0 more threads\n",
      "2019-11-09 13:31:22,054 : INFO : EPOCH - 3 : training on 2991030 raw words (2137716 effective words) took 2.1s, 1026429 effective words/s\n",
      "2019-11-09 13:31:23,068 : INFO : EPOCH 4 - PROGRESS: at 49.63% examples, 1037611 words/s, in_qsize 7, out_qsize 0\n",
      "2019-11-09 13:31:24,020 : INFO : worker thread finished; awaiting finish of 3 more threads\n",
      "2019-11-09 13:31:24,020 : INFO : worker thread finished; awaiting finish of 2 more threads\n",
      "2019-11-09 13:31:24,020 : INFO : worker thread finished; awaiting finish of 1 more threads\n",
      "2019-11-09 13:31:24,020 : INFO : worker thread finished; awaiting finish of 0 more threads\n",
      "2019-11-09 13:31:24,020 : INFO : EPOCH - 4 : training on 2991030 raw words (2137986 effective words) took 2.0s, 1086028 effective words/s\n",
      "2019-11-09 13:31:25,032 : INFO : EPOCH 5 - PROGRESS: at 54.55% examples, 1147091 words/s, in_qsize 7, out_qsize 0\n",
      "2019-11-09 13:31:25,890 : INFO : worker thread finished; awaiting finish of 3 more threads\n",
      "2019-11-09 13:31:25,890 : INFO : worker thread finished; awaiting finish of 2 more threads\n",
      "2019-11-09 13:31:25,890 : INFO : worker thread finished; awaiting finish of 1 more threads\n",
      "2019-11-09 13:31:25,906 : INFO : worker thread finished; awaiting finish of 0 more threads\n",
      "2019-11-09 13:31:25,906 : INFO : EPOCH - 5 : training on 2991030 raw words (2138223 effective words) took 1.9s, 1145648 effective words/s\n",
      "2019-11-09 13:31:25,906 : INFO : training on a 14955150 raw words (10688477 effective words) took 9.7s, 1099232 effective words/s\n",
      "2019-11-09 13:31:25,906 : INFO : precomputing L2-norms of word weight vectors\n",
      "2019-11-09 13:31:25,937 : INFO : saving Word2Vec object under 300features_40minwords_10context, separately None\n",
      "2019-11-09 13:31:25,937 : INFO : not storing attribute vectors_norm\n",
      "2019-11-09 13:31:25,937 : INFO : not storing attribute cum_table\n",
      "C:\\Users\\Utilisateur\\Anaconda3\\lib\\site-packages\\smart_open\\smart_open_lib.py:398: UserWarning: This function is deprecated, use smart_open.open instead. See the migration notes for details: https://github.com/RaRe-Technologies/smart_open/blob/master/README.rst#migrating-to-the-new-open-function\n",
      "  'See the migration notes for details: %s' % _MIGRATION_NOTES_URL\n",
      "2019-11-09 13:31:26,046 : INFO : saved 300features_40minwords_10context\n"
     ]
    }
   ],
   "source": [
    "# The model is trained on the sample\n",
    "# Import the built-in logging module and configure it so that Word2Vec \n",
    "# creates nice output messages\n",
    "import logging\n",
    "logging.basicConfig(format='%(asctime)s : %(levelname)s : %(message)s',\\\n",
    "    level=logging.INFO)\n",
    "\n",
    "# Set values for various parameters\n",
    "num_features = 300    # Word vector dimensionality                      \n",
    "min_word_count = 40   # Minimum word count                        \n",
    "num_workers = 4       # Number of threads to run in parallel\n",
    "context = 10          # Context window size                                                                                    \n",
    "downsampling = 1e-3   # Downsample setting for frequent words\n",
    "\n",
    "# Initialize and train the model (this will take some time)\n",
    "from gensim.models import word2vec\n",
    "print (\"Training model...\")\n",
    "model = word2vec.Word2Vec(sentences, workers=num_workers, \\\n",
    "            size=num_features, min_count = min_word_count, \\\n",
    "            window = context, sample = downsampling)\n",
    "\n",
    "# If you don't plan to train the model any further, calling \n",
    "# init_sims will make the model much more memory-efficient.\n",
    "model.init_sims(replace=True)\n",
    "\n",
    "# It can be helpful to create a meaningful model name and \n",
    "# save the model for later use. You can load it later using Word2Vec.load()\n",
    "model_name = \"300features_40minwords_10context\"\n",
    "model.save(model_name)"
   ]
  },
  {
   "cell_type": "markdown",
   "metadata": {},
   "source": [
    "Le vocabulaire de mots est stocké dans l'attribute model.vocabulary :"
   ]
  },
  {
   "cell_type": "code",
   "execution_count": 143,
   "metadata": {
    "scrolled": true
   },
   "outputs": [
    {
     "name": "stdout",
     "output_type": "stream",
     "text": [
      "<gensim.models.word2vec.Word2VecVocab object at 0x00000000557EC4A8>\n"
     ]
    }
   ],
   "source": [
    "print (model.vocabulary)"
   ]
  },
  {
   "cell_type": "code",
   "execution_count": 74,
   "metadata": {},
   "outputs": [
    {
     "ename": "TypeError",
     "evalue": "'Word2VecVocab' object is not iterable",
     "output_type": "error",
     "traceback": [
      "\u001b[1;31m---------------------------------------------------------------------------\u001b[0m",
      "\u001b[1;31mTypeError\u001b[0m                                 Traceback (most recent call last)",
      "\u001b[1;32m<ipython-input-74-66949fa5f6e5>\u001b[0m in \u001b[0;36m<module>\u001b[1;34m\u001b[0m\n\u001b[1;32m----> 1\u001b[1;33m \u001b[1;34m\"python\"\u001b[0m \u001b[1;32min\u001b[0m \u001b[0mlist\u001b[0m\u001b[1;33m(\u001b[0m\u001b[0mmodel\u001b[0m\u001b[1;33m.\u001b[0m\u001b[0mvocabulary\u001b[0m\u001b[1;33m)\u001b[0m\u001b[1;33m\u001b[0m\u001b[1;33m\u001b[0m\u001b[0m\n\u001b[0m",
      "\u001b[1;31mTypeError\u001b[0m: 'Word2VecVocab' object is not iterable"
     ]
    }
   ],
   "source": [
    "#!!! Comment utiliser le vocabulaire ??? \n",
    "\"python\" in (model.vocabulary)"
   ]
  },
  {
   "cell_type": "markdown",
   "metadata": {},
   "source": [
    "#### Tester le modèle"
   ]
  },
  {
   "cell_type": "markdown",
   "metadata": {},
   "source": [
    "Nous allons tester la méthode doesnt_match qui va rechercher un mot qui est différent des autres dans une chaîne de caractères donnée."
   ]
  },
  {
   "cell_type": "code",
   "execution_count": 144,
   "metadata": {},
   "outputs": [
    {
     "name": "stderr",
     "output_type": "stream",
     "text": [
      "C:\\Users\\Utilisateur\\Anaconda3\\lib\\site-packages\\ipykernel_launcher.py:1: DeprecationWarning: Call to deprecated `doesnt_match` (Method will be removed in 4.0.0, use self.wv.doesnt_match() instead).\n",
      "  \"\"\"Entry point for launching an IPython kernel.\n",
      "C:\\Users\\Utilisateur\\Anaconda3\\lib\\site-packages\\gensim\\models\\keyedvectors.py:730: FutureWarning: arrays to stack must be passed as a \"sequence\" type such as list or tuple. Support for non-sequence iterables such as generators is deprecated as of NumPy 1.16 and will raise an error in the future.\n",
      "  vectors = vstack(self.word_vec(word, use_norm=True) for word in used_words).astype(REAL)\n"
     ]
    },
    {
     "data": {
      "text/plain": [
       "'windows'"
      ]
     },
     "execution_count": 144,
     "metadata": {},
     "output_type": "execute_result"
    }
   ],
   "source": [
    "model.doesnt_match(\"html css div sql windows\".split())"
   ]
  },
  {
   "cell_type": "code",
   "execution_count": 145,
   "metadata": {},
   "outputs": [
    {
     "name": "stderr",
     "output_type": "stream",
     "text": [
      "C:\\Users\\Utilisateur\\Anaconda3\\lib\\site-packages\\ipykernel_launcher.py:1: DeprecationWarning: Call to deprecated `doesnt_match` (Method will be removed in 4.0.0, use self.wv.doesnt_match() instead).\n",
      "  \"\"\"Entry point for launching an IPython kernel.\n",
      "2019-11-09 13:31:57,978 : WARNING : vectors for words {'jupyter'} are not present in the model, ignoring these words\n"
     ]
    },
    {
     "data": {
      "text/plain": [
       "'javascript'"
      ]
     },
     "execution_count": 145,
     "metadata": {},
     "output_type": "execute_result"
    }
   ],
   "source": [
    "model.doesnt_match(\"python javascript jupyter anaconda\".split())"
   ]
  },
  {
   "cell_type": "code",
   "execution_count": 146,
   "metadata": {},
   "outputs": [
    {
     "name": "stderr",
     "output_type": "stream",
     "text": [
      "C:\\Users\\Utilisateur\\Anaconda3\\lib\\site-packages\\ipykernel_launcher.py:1: DeprecationWarning: Call to deprecated `doesnt_match` (Method will be removed in 4.0.0, use self.wv.doesnt_match() instead).\n",
      "  \"\"\"Entry point for launching an IPython kernel.\n"
     ]
    },
    {
     "data": {
      "text/plain": [
       "'browser'"
      ]
     },
     "execution_count": 146,
     "metadata": {},
     "output_type": "execute_result"
    }
   ],
   "source": [
    "model.doesnt_match(\"git github fetch browser commit\".split())"
   ]
  },
  {
   "cell_type": "markdown",
   "metadata": {},
   "source": [
    "La méthode similar va sortir une liste de mots qui sont les plus proche de l'expression indiquée :"
   ]
  },
  {
   "cell_type": "code",
   "execution_count": 147,
   "metadata": {},
   "outputs": [
    {
     "name": "stderr",
     "output_type": "stream",
     "text": [
      "C:\\Users\\Utilisateur\\Anaconda3\\lib\\site-packages\\ipykernel_launcher.py:1: DeprecationWarning: Call to deprecated `most_similar` (Method will be removed in 4.0.0, use self.wv.most_similar() instead).\n",
      "  \"\"\"Entry point for launching an IPython kernel.\n"
     ]
    },
    {
     "data": {
      "text/plain": [
       "[('py', 0.628261923789978),\n",
       " ('packages', 0.6017751097679138),\n",
       " ('virtualenv', 0.564339280128479),\n",
       " ('perl', 0.5572711229324341),\n",
       " ('anaconda', 0.5457823276519775),\n",
       " ('ipython', 0.5385534167289734),\n",
       " ('pip', 0.53071528673172),\n",
       " ('setuptools', 0.529001772403717),\n",
       " ('pypi', 0.511476993560791),\n",
       " ('utility', 0.5044660568237305)]"
      ]
     },
     "execution_count": 147,
     "metadata": {},
     "output_type": "execute_result"
    }
   ],
   "source": [
    "model.most_similar(\"python\")"
   ]
  },
  {
   "cell_type": "code",
   "execution_count": 148,
   "metadata": {},
   "outputs": [
    {
     "name": "stderr",
     "output_type": "stream",
     "text": [
      "C:\\Users\\Utilisateur\\Anaconda3\\lib\\site-packages\\ipykernel_launcher.py:1: DeprecationWarning: Call to deprecated `most_similar` (Method will be removed in 4.0.0, use self.wv.most_similar() instead).\n",
      "  \"\"\"Entry point for launching an IPython kernel.\n"
     ]
    },
    {
     "data": {
      "text/plain": [
       "[('xhtml', 0.7270442247390747),\n",
       " ('body', 0.7015734910964966),\n",
       " ('doctype', 0.6539710760116577),\n",
       " ('stylesheet', 0.6146817207336426),\n",
       " ('css', 0.5898717641830444),\n",
       " ('markup', 0.5871813297271729),\n",
       " ('innerhtml', 0.5829442739486694),\n",
       " ('iframe', 0.5815038084983826),\n",
       " ('embed', 0.5586905479431152),\n",
       " ('youtube', 0.5431720614433289)]"
      ]
     },
     "execution_count": 148,
     "metadata": {},
     "output_type": "execute_result"
    }
   ],
   "source": [
    "model.most_similar(\"html\")"
   ]
  },
  {
   "cell_type": "code",
   "execution_count": 149,
   "metadata": {},
   "outputs": [
    {
     "name": "stderr",
     "output_type": "stream",
     "text": [
      "C:\\Users\\Utilisateur\\Anaconda3\\lib\\site-packages\\ipykernel_launcher.py:1: DeprecationWarning: Call to deprecated `most_similar` (Method will be removed in 4.0.0, use self.wv.most_similar() instead).\n",
      "  \"\"\"Entry point for launching an IPython kernel.\n"
     ]
    },
    {
     "data": {
      "text/plain": [
       "[('client', 0.7143783569335938),\n",
       " ('iis', 0.6141371726989746),\n",
       " ('port', 0.609480619430542),\n",
       " ('smtp', 0.6062547564506531),\n",
       " ('servers', 0.5945370197296143),\n",
       " ('localhost', 0.5930708646774292),\n",
       " ('tcp', 0.5834968090057373),\n",
       " ('connecting', 0.5798039436340332),\n",
       " ('nginx', 0.565715491771698),\n",
       " ('network', 0.5633023977279663)]"
      ]
     },
     "execution_count": 149,
     "metadata": {},
     "output_type": "execute_result"
    }
   ],
   "source": [
    "model.most_similar(\"server\")"
   ]
  },
  {
   "cell_type": "markdown",
   "metadata": {},
   "source": [
    "Nous pouvons aussi étudier la similarité entre deux mots :"
   ]
  },
  {
   "cell_type": "code",
   "execution_count": 150,
   "metadata": {},
   "outputs": [
    {
     "name": "stderr",
     "output_type": "stream",
     "text": [
      "C:\\Users\\Utilisateur\\Anaconda3\\lib\\site-packages\\ipykernel_launcher.py:1: DeprecationWarning: Call to deprecated `similarity` (Method will be removed in 4.0.0, use self.wv.similarity() instead).\n",
      "  \"\"\"Entry point for launching an IPython kernel.\n"
     ]
    },
    {
     "data": {
      "text/plain": [
       "1.0"
      ]
     },
     "execution_count": 150,
     "metadata": {},
     "output_type": "execute_result"
    }
   ],
   "source": [
    "model.similarity(w1=\"python\", w2=\"python\")"
   ]
  },
  {
   "cell_type": "code",
   "execution_count": 152,
   "metadata": {},
   "outputs": [
    {
     "name": "stderr",
     "output_type": "stream",
     "text": [
      "C:\\Users\\Utilisateur\\Anaconda3\\lib\\site-packages\\ipykernel_launcher.py:1: DeprecationWarning: Call to deprecated `similarity` (Method will be removed in 4.0.0, use self.wv.similarity() instead).\n",
      "  \"\"\"Entry point for launching an IPython kernel.\n"
     ]
    },
    {
     "data": {
      "text/plain": [
       "0.5457823384217126"
      ]
     },
     "execution_count": 152,
     "metadata": {},
     "output_type": "execute_result"
    }
   ],
   "source": [
    "model.similarity(w1=\"python\", w2=\"anaconda\")"
   ]
  },
  {
   "cell_type": "code",
   "execution_count": 153,
   "metadata": {},
   "outputs": [
    {
     "name": "stderr",
     "output_type": "stream",
     "text": [
      "C:\\Users\\Utilisateur\\Anaconda3\\lib\\site-packages\\ipykernel_launcher.py:1: DeprecationWarning: Call to deprecated `similarity` (Method will be removed in 4.0.0, use self.wv.similarity() instead).\n",
      "  \"\"\"Entry point for launching an IPython kernel.\n"
     ]
    },
    {
     "data": {
      "text/plain": [
       "0.25224289110139225"
      ]
     },
     "execution_count": 153,
     "metadata": {},
     "output_type": "execute_result"
    }
   ],
   "source": [
    "model.similarity(w1=\"python\", w2=\"windows\")"
   ]
  },
  {
   "cell_type": "code",
   "execution_count": 154,
   "metadata": {},
   "outputs": [
    {
     "name": "stderr",
     "output_type": "stream",
     "text": [
      "C:\\Users\\Utilisateur\\Anaconda3\\lib\\site-packages\\ipykernel_launcher.py:1: DeprecationWarning: Call to deprecated `similarity` (Method will be removed in 4.0.0, use self.wv.similarity() instead).\n",
      "  \"\"\"Entry point for launching an IPython kernel.\n"
     ]
    },
    {
     "data": {
      "text/plain": [
       "0.7724394953203939"
      ]
     },
     "execution_count": 154,
     "metadata": {},
     "output_type": "execute_result"
    }
   ],
   "source": [
    "model.similarity(w1=\"windows\", w2=\"linux\")"
   ]
  },
  {
   "cell_type": "markdown",
   "metadata": {},
   "source": [
    "#### Représentation numérique de mots"
   ]
  },
  {
   "cell_type": "code",
   "execution_count": 155,
   "metadata": {},
   "outputs": [
    {
     "name": "stderr",
     "output_type": "stream",
     "text": [
      "C:\\Users\\Utilisateur\\Anaconda3\\lib\\site-packages\\ipykernel_launcher.py:1: DeprecationWarning: Call to deprecated `syn0_lockf` (Attribute will be removed in 4.0.0, use self.trainables.vectors_lockf instead).\n",
      "  \"\"\"Entry point for launching an IPython kernel.\n"
     ]
    },
    {
     "data": {
      "text/plain": [
       "numpy.ndarray"
      ]
     },
     "execution_count": 155,
     "metadata": {},
     "output_type": "execute_result"
    }
   ],
   "source": [
    "type(model.syn0_lockf)"
   ]
  },
  {
   "cell_type": "code",
   "execution_count": 156,
   "metadata": {},
   "outputs": [
    {
     "name": "stderr",
     "output_type": "stream",
     "text": [
      "C:\\Users\\Utilisateur\\Anaconda3\\lib\\site-packages\\ipykernel_launcher.py:2: DeprecationWarning: Call to deprecated `syn0_lockf` (Attribute will be removed in 4.0.0, use self.trainables.vectors_lockf instead).\n",
      "  \n"
     ]
    },
    {
     "data": {
      "text/plain": [
       "(4508,)"
      ]
     },
     "execution_count": 156,
     "metadata": {},
     "output_type": "execute_result"
    }
   ],
   "source": [
    "#Number of words in the model\n",
    "model.syn0_lockf.shape"
   ]
  },
  {
   "cell_type": "code",
   "execution_count": 157,
   "metadata": {},
   "outputs": [
    {
     "data": {
      "text/plain": [
       "300"
      ]
     },
     "execution_count": 157,
     "metadata": {},
     "output_type": "execute_result"
    }
   ],
   "source": [
    "#Length of the word vector = num_features (attribute of w2v function) \n",
    "len(model.wv[\"python\"])"
   ]
  },
  {
   "cell_type": "code",
   "execution_count": 158,
   "metadata": {},
   "outputs": [
    {
     "data": {
      "text/plain": [
       "array([ 0.04315377, -0.08804895, -0.00917366,  0.0045981 , -0.11698036,\n",
       "       -0.14052683, -0.00265177, -0.04930368,  0.04351848,  0.05378489],\n",
       "      dtype=float32)"
      ]
     },
     "execution_count": 158,
     "metadata": {},
     "output_type": "execute_result"
    }
   ],
   "source": [
    "#Exemple of the word vector\n",
    "model.wv[\"python\"][:10]"
   ]
  },
  {
   "cell_type": "code",
   "execution_count": 161,
   "metadata": {},
   "outputs": [
    {
     "ename": "TypeError",
     "evalue": "argument of type 'Word2VecVocab' is not iterable",
     "output_type": "error",
     "traceback": [
      "\u001b[1;31m---------------------------------------------------------------------------\u001b[0m",
      "\u001b[1;31mTypeError\u001b[0m                                 Traceback (most recent call last)",
      "\u001b[1;32m<ipython-input-161-b141166ff780>\u001b[0m in \u001b[0;36m<module>\u001b[1;34m\u001b[0m\n\u001b[0;32m      1\u001b[0m \u001b[1;31m# Comment faire ???\u001b[0m\u001b[1;33m\u001b[0m\u001b[1;33m\u001b[0m\u001b[1;33m\u001b[0m\u001b[0m\n\u001b[1;32m----> 2\u001b[1;33m \u001b[1;34m\"python\"\u001b[0m \u001b[1;32min\u001b[0m \u001b[0mmodel\u001b[0m\u001b[1;33m.\u001b[0m\u001b[0mvocabulary\u001b[0m\u001b[1;33m\u001b[0m\u001b[1;33m\u001b[0m\u001b[0m\n\u001b[0m",
      "\u001b[1;31mTypeError\u001b[0m: argument of type 'Word2VecVocab' is not iterable"
     ]
    }
   ],
   "source": [
    "# Comment faire ???\n",
    "\"python\" in model.vocabulary"
   ]
  },
  {
   "cell_type": "code",
   "execution_count": 162,
   "metadata": {},
   "outputs": [
    {
     "ename": "TypeError",
     "evalue": "'Word2VecVocab' object is not iterable",
     "output_type": "error",
     "traceback": [
      "\u001b[1;31m---------------------------------------------------------------------------\u001b[0m",
      "\u001b[1;31mTypeError\u001b[0m                                 Traceback (most recent call last)",
      "\u001b[1;32m<ipython-input-162-b5de54396dc9>\u001b[0m in \u001b[0;36m<module>\u001b[1;34m\u001b[0m\n\u001b[1;32m----> 1\u001b[1;33m \u001b[1;32mfor\u001b[0m \u001b[0mi\u001b[0m\u001b[1;33m,\u001b[0m \u001b[0mword\u001b[0m \u001b[1;32min\u001b[0m \u001b[0menumerate\u001b[0m\u001b[1;33m(\u001b[0m\u001b[0mmodel\u001b[0m\u001b[1;33m.\u001b[0m\u001b[0mvocabulary\u001b[0m\u001b[1;33m)\u001b[0m\u001b[1;33m:\u001b[0m\u001b[1;33m\u001b[0m\u001b[1;33m\u001b[0m\u001b[0m\n\u001b[0m\u001b[0;32m      2\u001b[0m     \u001b[1;32mif\u001b[0m \u001b[0mi\u001b[0m\u001b[1;33m==\u001b[0m\u001b[1;36m10\u001b[0m\u001b[1;33m:\u001b[0m\u001b[1;33m\u001b[0m\u001b[1;33m\u001b[0m\u001b[0m\n\u001b[0;32m      3\u001b[0m         \u001b[1;32mbreak\u001b[0m\u001b[1;33m\u001b[0m\u001b[1;33m\u001b[0m\u001b[0m\n\u001b[0;32m      4\u001b[0m     \u001b[0mprint\u001b[0m\u001b[1;33m(\u001b[0m\u001b[0mword\u001b[0m\u001b[1;33m)\u001b[0m\u001b[1;33m\u001b[0m\u001b[1;33m\u001b[0m\u001b[0m\n",
      "\u001b[1;31mTypeError\u001b[0m: 'Word2VecVocab' object is not iterable"
     ]
    }
   ],
   "source": [
    "# !!! Dans le tuto, ils utilisent l'attribut model.vocab qui n'existe pas / plus \n",
    "# https://radimrehurek.com/gensim/auto_examples/tutorials/run_word2vec.html#sphx-glr-auto-examples-tutorials-run-word2vec-py\n",
    "\n",
    "for i, word in enumerate(model.vocabulary):\n",
    "    if i==10:\n",
    "        break\n",
    "    print(word)"
   ]
  },
  {
   "cell_type": "markdown",
   "metadata": {},
   "source": [
    "#### Préparer les vecteurs de mots pour la modélisation"
   ]
  },
  {
   "cell_type": "markdown",
   "metadata": {},
   "source": [
    "###### !!! Tutorial Kaggle : comprendre la méthode et ré-expliquer \n",
    "One challenge with the IMDB dataset is the variable-length reviews. We need to find a way to take individual word vectors and transform them into a feature set that is the same length for every review.\n",
    "\n",
    "Since each word is a vector in 300-dimensional space, we can use vector operations to combine the words in each review. One method we tried was to simply average the word vectors in a given review (for this purpose, we removed stop words, which would just add noise)."
   ]
  },
  {
   "cell_type": "code",
   "execution_count": 67,
   "metadata": {},
   "outputs": [],
   "source": [
    "def makeFeatureVec(words, model, num_features):\n",
    "    # Function to average all of the word vectors in a given\n",
    "    # paragraph\n",
    "    #\n",
    "    # Pre-initialize an empty numpy array (for speed)\n",
    "    featureVec = np.zeros((num_features,),dtype=\"float32\")\n",
    "    #\n",
    "    nwords = 0.\n",
    "    # \n",
    "    # Index2word is a list that contains the names of the words in \n",
    "    # the model's vocabulary. Convert it to a set, for speed \n",
    "    index2word_set = set(model.wv.index2word)\n",
    "    #\n",
    "    # Loop over each word in the review and, if it is in the model's\n",
    "    # vocaublary, add its feature vector to the total\n",
    "    for word in words:\n",
    "        if word in index2word_set: \n",
    "            nwords = nwords + 1.\n",
    "            featureVec = np.add(featureVec,model[word])\n",
    "    # \n",
    "    # Divide the result by the number of words to get the average\n",
    "    featureVec = np.divide(featureVec,nwords)\n",
    "    return featureVec\n",
    "\n",
    "\n",
    "def getAvgFeatureVecs(posts, model, num_features):\n",
    "    # Given a set of reviews (each one a list of words), calculate \n",
    "    # the average feature vector for each one and return a 2D numpy array \n",
    "    # \n",
    "    # Initialize a counter\n",
    "    counter = 0.\n",
    "    # \n",
    "    # Preallocate a 2D numpy array, for speed\n",
    "    postFeatureVecs = np.zeros((len(posts),num_features),dtype=\"float32\")\n",
    "    # \n",
    "    # Loop through the reviews\n",
    "    for post in posts:\n",
    "       #\n",
    "       # Print a status message every 1000th review\n",
    "        if counter%1000. == 0.:\n",
    "            print (\"Post %d of %d\" % (counter, len(posts)))\n",
    "       # \n",
    "       # Call the function (defined above) that makes average feature vectors\n",
    "        postFeatureVecs[counter] = makeFeatureVec(post, model, \\\n",
    "           num_features)\n",
    "       #\n",
    "       # Increment the counter\n",
    "        counter = counter + 1.\n",
    "    return postFeatureVecs"
   ]
  },
  {
   "cell_type": "code",
   "execution_count": null,
   "metadata": {},
   "outputs": [],
   "source": [
    "model.wv.index2word"
   ]
  },
  {
   "cell_type": "code",
   "execution_count": 68,
   "metadata": {},
   "outputs": [
    {
     "name": "stdout",
     "output_type": "stream",
     "text": [
      "Post 0 of 35000\n"
     ]
    },
    {
     "name": "stderr",
     "output_type": "stream",
     "text": [
      "C:\\Users\\Utilisateur\\Anaconda3\\lib\\site-packages\\ipykernel_launcher.py:19: DeprecationWarning: Call to deprecated `__getitem__` (Method will be removed in 4.0.0, use self.wv.__getitem__() instead).\n"
     ]
    },
    {
     "ename": "IndexError",
     "evalue": "only integers, slices (`:`), ellipsis (`...`), numpy.newaxis (`None`) and integer or boolean arrays are valid indices",
     "output_type": "error",
     "traceback": [
      "\u001b[1;31m---------------------------------------------------------------------------\u001b[0m",
      "\u001b[1;31mIndexError\u001b[0m                                Traceback (most recent call last)",
      "\u001b[1;32m<ipython-input-68-1fba3ec53780>\u001b[0m in \u001b[0;36m<module>\u001b[1;34m\u001b[0m\n\u001b[0;32m      9\u001b[0m         remove_stopwords=True ))\n\u001b[0;32m     10\u001b[0m \u001b[1;33m\u001b[0m\u001b[0m\n\u001b[1;32m---> 11\u001b[1;33m \u001b[0mtrainDataVecs\u001b[0m \u001b[1;33m=\u001b[0m \u001b[0mgetAvgFeatureVecs\u001b[0m\u001b[1;33m(\u001b[0m \u001b[0mclean_train_posts\u001b[0m\u001b[1;33m,\u001b[0m \u001b[0mmodel\u001b[0m\u001b[1;33m,\u001b[0m \u001b[0mnum_features\u001b[0m \u001b[1;33m)\u001b[0m\u001b[1;33m\u001b[0m\u001b[1;33m\u001b[0m\u001b[0m\n\u001b[0m\u001b[0;32m     12\u001b[0m \u001b[1;33m\u001b[0m\u001b[0m\n\u001b[0;32m     13\u001b[0m \u001b[1;31m#print \"Creating average feature vecs for test review\"\u001b[0m\u001b[1;33m\u001b[0m\u001b[1;33m\u001b[0m\u001b[1;33m\u001b[0m\u001b[0m\n",
      "\u001b[1;32m<ipython-input-67-bd6def2a7c4e>\u001b[0m in \u001b[0;36mgetAvgFeatureVecs\u001b[1;34m(posts, model, num_features)\u001b[0m\n\u001b[0;32m     43\u001b[0m        \u001b[1;31m# Call the function (defined above) that makes average feature vectors\u001b[0m\u001b[1;33m\u001b[0m\u001b[1;33m\u001b[0m\u001b[1;33m\u001b[0m\u001b[0m\n\u001b[0;32m     44\u001b[0m         postFeatureVecs[counter] = makeFeatureVec(post, model, \\\n\u001b[1;32m---> 45\u001b[1;33m            num_features)\n\u001b[0m\u001b[0;32m     46\u001b[0m        \u001b[1;31m#\u001b[0m\u001b[1;33m\u001b[0m\u001b[1;33m\u001b[0m\u001b[1;33m\u001b[0m\u001b[0m\n\u001b[0;32m     47\u001b[0m        \u001b[1;31m# Increment the counter\u001b[0m\u001b[1;33m\u001b[0m\u001b[1;33m\u001b[0m\u001b[1;33m\u001b[0m\u001b[0m\n",
      "\u001b[1;31mIndexError\u001b[0m: only integers, slices (`:`), ellipsis (`...`), numpy.newaxis (`None`) and integer or boolean arrays are valid indices"
     ]
    }
   ],
   "source": [
    "# ****************************************************************\n",
    "# Calculate average feature vectors for training and testing sets,\n",
    "# using the functions we defined above. Notice that we now use stop word\n",
    "# removal.\n",
    "\n",
    "clean_train_posts = []\n",
    "for post in X_train[\"text\"]:\n",
    "    clean_train_posts.append( post_to_words_w2v( post, \\\n",
    "        remove_stopwords=True ))\n",
    "\n",
    "trainDataVecs = getAvgFeatureVecs( clean_train_posts, model, num_features )\n",
    "\n",
    "#print \"Creating average feature vecs for test review\"\n",
    "#clean_test_posts = []\n",
    "#for post in test[\"post\"]:\n",
    "#    clean_test_posts.append( post_to_wordlist( post, \\\n",
    "#        remove_stopwords=True ))\n",
    "\n",
    "#testDataVecs = getAvgFeatureVecs( clean_test_posts, model, num_features )"
   ]
  },
  {
   "cell_type": "markdown",
   "metadata": {},
   "source": [
    "# Analyse exploratoire"
   ]
  },
  {
   "cell_type": "markdown",
   "metadata": {},
   "source": [
    "## Description générale"
   ]
  },
  {
   "cell_type": "markdown",
   "metadata": {},
   "source": [
    "Nous allons tout d'abord étudier la longueur de notre chaîne de caractère de post, ainsi que le nombre de tags attribué à chaque post :"
   ]
  },
  {
   "cell_type": "code",
   "execution_count": 73,
   "metadata": {},
   "outputs": [],
   "source": [
    "nbr_mots = X_train['post'].apply(lambda row : len(row.split()))"
   ]
  },
  {
   "cell_type": "code",
   "execution_count": 74,
   "metadata": {},
   "outputs": [
    {
     "data": {
      "text/plain": [
       "count    35000.000000\n",
       "mean       162.536257\n",
       "std        239.274600\n",
       "min          2.000000\n",
       "25%         60.000000\n",
       "50%        104.000000\n",
       "75%        184.000000\n",
       "max       8678.000000\n",
       "Name: post, dtype: float64"
      ]
     },
     "execution_count": 74,
     "metadata": {},
     "output_type": "execute_result"
    }
   ],
   "source": [
    "nbr_mots.describe()"
   ]
  },
  {
   "cell_type": "markdown",
   "metadata": {},
   "source": [
    "Feature post, qui contient le titre, le corps de post et les bigrams créés à partir de titre et le corps de post, contient en moyen 163 mots. Le minimum est 2 mots et le maximum 8678 mots.\n"
   ]
  },
  {
   "cell_type": "code",
   "execution_count": 75,
   "metadata": {},
   "outputs": [
    {
     "data": {
      "image/png": "[encoded data removed]",
      "text/plain": [
       "<Figure size 432x288 with 1 Axes>"
      ]
     },
     "metadata": {
      "needs_background": "light"
     },
     "output_type": "display_data"
    }
   ],
   "source": [
    "#!!! Améliorer le graphique pour la présentation\n",
    "plt.hist(nbr_mots, alpha=0.3, range=(\n",
    "    0, 5600),  bins=200, density=True)\n",
    "sns.kdeplot(nbr_mots)\n",
    "\n",
    "plt.xlim(0, 5600)\n",
    "plt.rcParams['figure.figsize'] = (20, 20)"
   ]
  },
  {
   "cell_type": "code",
   "execution_count": 76,
   "metadata": {},
   "outputs": [
    {
     "data": {
      "text/plain": [
       "8950                              vim refactoring\n",
       "38421                                c# .net linq\n",
       "19363    c# outlook outlook-2007 outlook-2003 pst\n",
       "30157                               python jinja2\n",
       "14294                               git git-stash\n",
       "Name: tags, dtype: object"
      ]
     },
     "execution_count": 76,
     "metadata": {},
     "output_type": "execute_result"
    }
   ],
   "source": [
    "y_train_clean.head()"
   ]
  },
  {
   "cell_type": "code",
   "execution_count": 77,
   "metadata": {},
   "outputs": [],
   "source": [
    "nbr_tags = y_train_clean.apply(lambda row : len(row.split()))"
   ]
  },
  {
   "cell_type": "code",
   "execution_count": 78,
   "metadata": {},
   "outputs": [
    {
     "data": {
      "text/plain": [
       "count    35000.000000\n",
       "mean         3.133686\n",
       "std          1.182454\n",
       "min          1.000000\n",
       "25%          2.000000\n",
       "50%          3.000000\n",
       "75%          4.000000\n",
       "max          6.000000\n",
       "Name: tags, dtype: float64"
      ]
     },
     "execution_count": 78,
     "metadata": {},
     "output_type": "execute_result"
    }
   ],
   "source": [
    "nbr_tags.describe()"
   ]
  },
  {
   "cell_type": "markdown",
   "metadata": {},
   "source": [
    "Le nombre de tags varie de 1 à 6 avec la valeurs médiane de 3 tags par post."
   ]
  },
  {
   "cell_type": "markdown",
   "metadata": {},
   "source": [
    "## Fréquences des expressions"
   ]
  },
  {
   "cell_type": "markdown",
   "metadata": {},
   "source": [
    "### Bag of words"
   ]
  },
  {
   "cell_type": "markdown",
   "metadata": {},
   "source": [
    "Nous allons afficher les fréquences de 50 features les plus utilisées :"
   ]
  },
  {
   "cell_type": "code",
   "execution_count": 111,
   "metadata": {},
   "outputs": [
    {
     "data": {
      "image/png": "[encoded data removed]",
      "text/plain": [
       "<Figure size 720x1008 with 1 Axes>"
      ]
     },
     "metadata": {
      "needs_background": "light"
     },
     "output_type": "display_data"
    }
   ],
   "source": [
    "freq_features_50 = freq_features[:50]\n",
    "freq_features_50.sort_values(by=['Frequence'], ascending=True, inplace = True)\n",
    "\n",
    "fig = plt.figure(figsize=(10, 14))\n",
    "\n",
    "# set params of the graphic\n",
    "ax = fig.add_subplot(111)\n",
    "ax.set_xlabel('Fréquence', fontsize=15)\n",
    "ax.set_title('Les mots les plus fréquents', fontsize=20)\n",
    "ax.tick_params(axis='both', which='major', labelsize=14)\n",
    "\n",
    "# set height of bar\n",
    "bars1 = freq_features_50['Frequence']\n",
    "\n",
    "# Make the plot\n",
    "plt.barh(range(50), bars1, color='blue', edgecolor='white')\n",
    "\n",
    "# Add xticks on the middle of the group bars\n",
    "plt.yticks(\n",
    "    range(50), freq_features_50['Word'], fontsize=15)\n",
    "\n",
    "# Show graphic\n",
    "plt.show()"
   ]
  },
  {
   "cell_type": "markdown",
   "metadata": {},
   "source": [
    "Faisons le même affichage pour les tags."
   ]
  },
  {
   "cell_type": "code",
   "execution_count": 118,
   "metadata": {},
   "outputs": [
    {
     "data": {
      "image/png": "[encoded data removed]",
      "text/plain": [
       "<Figure size 720x1008 with 1 Axes>"
      ]
     },
     "metadata": {
      "needs_background": "light"
     },
     "output_type": "display_data"
    }
   ],
   "source": [
    "freq_target_50 = freq_target[:50]\n",
    "freq_target_50.sort_values(by=['Frequence'], ascending=True, inplace = True)\n",
    "\n",
    "fig = plt.figure(figsize=(10, 14))\n",
    "\n",
    "# set params of the graphic\n",
    "ax = fig.add_subplot(111)\n",
    "ax.set_xlabel('Fréquence', fontsize=15)\n",
    "ax.set_title('Les tags les plus fréquents', fontsize=20)\n",
    "ax.tick_params(axis='both', which='major', labelsize=14)\n",
    "\n",
    "# set height of bar\n",
    "bars1 = freq_target_50['Frequence']\n",
    "\n",
    "# Make the plot\n",
    "plt.barh(range(50), bars1, color='tomato', edgecolor='white')\n",
    "\n",
    "# Add xticks on the middle of the group bars\n",
    "plt.yticks(\n",
    "    range(50), freq_target_50['Word'], fontsize=15)\n",
    "\n",
    "# Show graphic\n",
    "plt.show()"
   ]
  },
  {
   "cell_type": "markdown",
   "metadata": {},
   "source": [
    "### TF-IDF"
   ]
  },
  {
   "cell_type": "markdown",
   "metadata": {},
   "source": [
    "Pour pouvoir faire comparaison, nous allons aussi afficher les mot les plus fréquentes en se basant sur les fréquences relatives TF-IDF :"
   ]
  },
  {
   "cell_type": "code",
   "execution_count": 132,
   "metadata": {},
   "outputs": [
    {
     "data": {
      "image/png": "[encoded data removed]",
      "text/plain": [
       "<Figure size 720x1008 with 1 Axes>"
      ]
     },
     "metadata": {},
     "output_type": "display_data"
    }
   ],
   "source": [
    "freq_features_50 = freq_features[:50]\n",
    "freq_features_50.sort_values(by=['Frequence'], ascending=True, inplace = True)\n",
    "\n",
    "fig = plt.figure(figsize=(10, 14))\n",
    "\n",
    "# set params of the graphic\n",
    "ax = fig.add_subplot(111)\n",
    "ax.set_xlabel('Fréquence', fontsize=15)\n",
    "ax.set_title('Les mots les plus fréquents TF-IDF', fontsize=20)\n",
    "ax.tick_params(axis='both', which='major', labelsize=14)\n",
    "\n",
    "# set height of bar\n",
    "bars1 = freq_features_50['Frequence']\n",
    "\n",
    "# Make the plot\n",
    "plt.barh(range(50), bars1, color='dodgerblue', edgecolor='white')\n",
    "\n",
    "# Add xticks on the middle of the group bars\n",
    "plt.yticks(\n",
    "    range(50), freq_features_50['Word'], fontsize=15)\n",
    "\n",
    "# Show graphic\n",
    "plt.show()"
   ]
  },
  {
   "cell_type": "markdown",
   "metadata": {},
   "source": [
    "Affichons également un graphique de tags :"
   ]
  },
  {
   "cell_type": "code",
   "execution_count": 132,
   "metadata": {},
   "outputs": [
    {
     "data": {
      "image/png": "[encoded data removed]",
      "text/plain": [
       "<Figure size 720x1008 with 1 Axes>"
      ]
     },
     "metadata": {
      "needs_background": "light"
     },
     "output_type": "display_data"
    }
   ],
   "source": [
    "freq_target_50 = freq_target[:50]\n",
    "freq_target_50.sort_values(by=['Frequence'], ascending=True, inplace = True)\n",
    "\n",
    "fig = plt.figure(figsize=(10, 14))\n",
    "\n",
    "# set params of the graphic\n",
    "ax = fig.add_subplot(111)\n",
    "ax.set_xlabel('Fréquence', fontsize=15)\n",
    "ax.set_title('Les tags les plus fréquents TF-IDF', fontsize=20)\n",
    "ax.tick_params(axis='both', which='major', labelsize=14)\n",
    "\n",
    "# set height of bar\n",
    "bars1 = freq_target_50['Frequence']\n",
    "\n",
    "# Make the plot\n",
    "plt.barh(range(50), bars1, color='lightsalmon', edgecolor='white')\n",
    "\n",
    "# Add xticks on the middle of the group bars\n",
    "plt.yticks(\n",
    "    range(50), freq_target_50['Word'], fontsize=15)\n",
    "\n",
    "# Show graphic\n",
    "plt.show()"
   ]
  },
  {
   "cell_type": "markdown",
   "metadata": {},
   "source": [
    "Nous constatons seulement légères différences par rapport à la méthode bag of words."
   ]
  },
  {
   "cell_type": "markdown",
   "metadata": {},
   "source": [
    "## Réduction de dimension"
   ]
  },
  {
   "cell_type": "markdown",
   "metadata": {},
   "source": [
    "### Analyse en composantes principales"
   ]
  },
  {
   "cell_type": "markdown",
   "metadata": {},
   "source": [
    "Nous allons effectuer une analyse en composante principales afin de visualiser les données. L'ACP va être performée sur les données transformées par TF-IDF.\n",
    "\n",
    "Nous avons 25000 posts, le calcul de ACP est donc assez exigeant sur une matrice 25 000 x 50 000.\n",
    "\n",
    "Nous allons utiliser un échantillon de 500 premiers posts qui représentent 2% de données. "
   ]
  },
  {
   "cell_type": "markdown",
   "metadata": {},
   "source": [
    "#### Création d'échantillon"
   ]
  },
  {
   "cell_type": "code",
   "execution_count": 52,
   "metadata": {},
   "outputs": [],
   "source": [
    "X_train_tfidf_sample = X_train_tfidf[:500]"
   ]
  },
  {
   "cell_type": "markdown",
   "metadata": {},
   "source": [
    "Afin de pouvoir afficher des tags qui nous intéressent, nous allons aussi échantilloner les tags cleanés correspondants."
   ]
  },
  {
   "cell_type": "code",
   "execution_count": 53,
   "metadata": {},
   "outputs": [],
   "source": [
    "y_train_clean_sample = y_train_clean[:500].reset_index(drop=True)"
   ]
  },
  {
   "cell_type": "markdown",
   "metadata": {},
   "source": [
    "#### Créer le modèle"
   ]
  },
  {
   "cell_type": "code",
   "execution_count": 54,
   "metadata": {},
   "outputs": [],
   "source": [
    "pca = PCA(n_components=2)\n",
    "principalComponents = pca.fit_transform(X_train_tfidf_sample)\n",
    "principalDf = pd.DataFrame(data=principalComponents, columns=[\n",
    "                           'principal component 1', 'principal component 2'])"
   ]
  },
  {
   "cell_type": "code",
   "execution_count": 55,
   "metadata": {},
   "outputs": [
    {
     "data": {
      "image/png": "[encoded data removed]",
      "text/plain": [
       "<Figure size 576x576 with 1 Axes>"
      ]
     },
     "metadata": {
      "needs_background": "light"
     },
     "output_type": "display_data"
    }
   ],
   "source": [
    "# Scatterplot of all sample posts\n",
    "fig = plt.figure(figsize=(8, 8))\n",
    "ax = fig.add_subplot(1, 1, 1)\n",
    "ax.set_xlabel('Principal Component 1', fontsize=10)\n",
    "ax.set_ylabel('Principal Component 2', fontsize=10)\n",
    "ax.set_title('2 component PCA, sample of 500 posts using TF-IDF transformation', fontsize=14)\n",
    "\n",
    "ax.scatter(principalDf['principal component 1'],\n",
    "           principalDf['principal component 2'], s=50, alpha=0.2)\n",
    "ax.grid()"
   ]
  },
  {
   "cell_type": "markdown",
   "metadata": {},
   "source": [
    "####  Affichage de groupes de tags"
   ]
  },
  {
   "cell_type": "markdown",
   "metadata": {},
   "source": [
    "Nous allons choisir 12 tags à afficher - essayeons de prendre 4 groupes de 3 tags avec des sujets qui sont similaire dans chaque groupe. Afin de trouver la position des tags, nous allons construire une fonction qui renvoi un échantillon de n indexes des expressions qui contient un mot donné. "
   ]
  },
  {
   "cell_type": "code",
   "execution_count": 74,
   "metadata": {},
   "outputs": [],
   "source": [
    "def choose_expression(ser, word, n=3):\n",
    "\n",
    "    \"\"\"Function which returns a list of n random index positions of an expression containing indicated string\n",
    "\n",
    "    Inputs:\n",
    "\n",
    "    - ser : a serie of expressions\n",
    "    - word : a string to search for\n",
    "    - n : number of returned positions (n=3 by default)\n",
    "\n",
    "    Output:\n",
    "\n",
    "    - a list of n positions\n",
    "    \"\"\"\n",
    "\n",
    "    index_list = []\n",
    "\n",
    "    for i in range(len(ser)):\n",
    "        if word in ser[i]:\n",
    "            index = i\n",
    "            index_list.append(index)\n",
    "        else:\n",
    "            pass\n",
    "    \n",
    "    index_list = random.sample(index_list, n)\n",
    "    \n",
    "    return index_list"
   ]
  },
  {
   "cell_type": "code",
   "execution_count": 76,
   "metadata": {},
   "outputs": [
    {
     "data": {
      "text/plain": [
       "[251, 301, 4]"
      ]
     },
     "execution_count": 76,
     "metadata": {},
     "output_type": "execute_result"
    }
   ],
   "source": [
    "# Create the first list of positions containing the word \"javascript\"\n",
    "liste_javascript = choose_expression(y_train_clean_sample, 'javascript')\n",
    "liste_javascript"
   ]
  },
  {
   "cell_type": "code",
   "execution_count": 80,
   "metadata": {},
   "outputs": [
    {
     "name": "stdout",
     "output_type": "stream",
     "text": [
      "javascript node.js model-view-controller\n",
      "javascript\n",
      "javascript html rss\n"
     ]
    }
   ],
   "source": [
    "# Check\n",
    "print(y_train_clean_sample[liste_javascript[0]])\n",
    "print(y_train_clean_sample[liste_javascript[1]])\n",
    "print(y_train_clean_sample[liste_javascript[2]])"
   ]
  },
  {
   "cell_type": "code",
   "execution_count": 81,
   "metadata": {},
   "outputs": [],
   "source": [
    "# Create other lists containing \"python\", \"git\" and \"android\"\n",
    "liste_python = choose_expression(y_train_clean_sample, 'python')\n",
    "liste_git = choose_expression(y_train_clean_sample, 'git')\n",
    "liste_android = choose_expression(y_train_clean_sample, 'android')"
   ]
  },
  {
   "cell_type": "code",
   "execution_count": 82,
   "metadata": {},
   "outputs": [],
   "source": [
    "# Create an overall list\n",
    "chosen_tags_index = liste_javascript + liste_python + liste_git + liste_android"
   ]
  },
  {
   "cell_type": "code",
   "execution_count": 83,
   "metadata": {},
   "outputs": [
    {
     "data": {
      "text/plain": [
       "[251, 301, 4, 324, 111, 156, 482, 428, 387, 250, 391, 148]"
      ]
     },
     "execution_count": 83,
     "metadata": {},
     "output_type": "execute_result"
    }
   ],
   "source": [
    "chosen_tags_index"
   ]
  },
  {
   "cell_type": "code",
   "execution_count": 84,
   "metadata": {},
   "outputs": [
    {
     "data": {
      "text/plain": [
       "251      javascript node.js model-view-controller\n",
       "301                                    javascript\n",
       "4                             javascript html rss\n",
       "324    python performance list set set-difference\n",
       "111                               python terminal\n",
       "156                         python macos anaconda\n",
       "482               git github branch remote-branch\n",
       "428                                git git-branch\n",
       "387                                           git\n",
       "250                       android scroll textview\n",
       "391                                android cursor\n",
       "148                    android ios cross-platform\n",
       "Name: tags, dtype: object"
      ]
     },
     "execution_count": 84,
     "metadata": {},
     "output_type": "execute_result"
    }
   ],
   "source": [
    "# View the chosen tags\n",
    "chosen_tags = y_train_clean_sample[chosen_tags_index] \n",
    "chosen_tags"
   ]
  },
  {
   "cell_type": "code",
   "execution_count": 85,
   "metadata": {},
   "outputs": [
    {
     "data": {
      "text/html": [
       "<div>\n",
       "<style scoped>\n",
       "    .dataframe tbody tr th:only-of-type {\n",
       "        vertical-align: middle;\n",
       "    }\n",
       "\n",
       "    .dataframe tbody tr th {\n",
       "        vertical-align: top;\n",
       "    }\n",
       "\n",
       "    .dataframe thead th {\n",
       "        text-align: right;\n",
       "    }\n",
       "</style>\n",
       "<table border=\"1\" class=\"dataframe\">\n",
       "  <thead>\n",
       "    <tr style=\"text-align: right;\">\n",
       "      <th></th>\n",
       "      <th>principal component 1</th>\n",
       "      <th>principal component 2</th>\n",
       "    </tr>\n",
       "  </thead>\n",
       "  <tbody>\n",
       "    <tr>\n",
       "      <th>251</th>\n",
       "      <td>0.036921</td>\n",
       "      <td>-0.139637</td>\n",
       "    </tr>\n",
       "    <tr>\n",
       "      <th>301</th>\n",
       "      <td>0.008116</td>\n",
       "      <td>-0.027409</td>\n",
       "    </tr>\n",
       "    <tr>\n",
       "      <th>4</th>\n",
       "      <td>0.006583</td>\n",
       "      <td>-0.040005</td>\n",
       "    </tr>\n",
       "    <tr>\n",
       "      <th>324</th>\n",
       "      <td>-0.032737</td>\n",
       "      <td>0.143157</td>\n",
       "    </tr>\n",
       "    <tr>\n",
       "      <th>111</th>\n",
       "      <td>-0.055355</td>\n",
       "      <td>0.181786</td>\n",
       "    </tr>\n",
       "    <tr>\n",
       "      <th>156</th>\n",
       "      <td>-0.042688</td>\n",
       "      <td>0.253551</td>\n",
       "    </tr>\n",
       "    <tr>\n",
       "      <th>482</th>\n",
       "      <td>0.485688</td>\n",
       "      <td>0.169935</td>\n",
       "    </tr>\n",
       "    <tr>\n",
       "      <th>428</th>\n",
       "      <td>0.373267</td>\n",
       "      <td>0.081907</td>\n",
       "    </tr>\n",
       "    <tr>\n",
       "      <th>387</th>\n",
       "      <td>0.408441</td>\n",
       "      <td>0.093446</td>\n",
       "    </tr>\n",
       "    <tr>\n",
       "      <th>250</th>\n",
       "      <td>-0.017651</td>\n",
       "      <td>-0.022354</td>\n",
       "    </tr>\n",
       "    <tr>\n",
       "      <th>391</th>\n",
       "      <td>-0.009828</td>\n",
       "      <td>-0.023337</td>\n",
       "    </tr>\n",
       "    <tr>\n",
       "      <th>148</th>\n",
       "      <td>-0.016802</td>\n",
       "      <td>0.018358</td>\n",
       "    </tr>\n",
       "  </tbody>\n",
       "</table>\n",
       "</div>"
      ],
      "text/plain": [
       "     principal component 1  principal component 2\n",
       "251               0.036921              -0.139637\n",
       "301               0.008116              -0.027409\n",
       "4                 0.006583              -0.040005\n",
       "324              -0.032737               0.143157\n",
       "111              -0.055355               0.181786\n",
       "156              -0.042688               0.253551\n",
       "482               0.485688               0.169935\n",
       "428               0.373267               0.081907\n",
       "387               0.408441               0.093446\n",
       "250              -0.017651              -0.022354\n",
       "391              -0.009828              -0.023337\n",
       "148              -0.016802               0.018358"
      ]
     },
     "execution_count": 85,
     "metadata": {},
     "output_type": "execute_result"
    }
   ],
   "source": [
    "chosen_principalDf = principalDf.iloc[chosen_tags_index]\n",
    "chosen_principalDf"
   ]
  },
  {
   "cell_type": "code",
   "execution_count": 88,
   "metadata": {},
   "outputs": [
    {
     "data": {
      "image/png": "[encoded data removed]",
      "text/plain": [
       "<Figure size 1080x1080 with 1 Axes>"
      ]
     },
     "metadata": {},
     "output_type": "display_data"
    }
   ],
   "source": [
    "# Scatterplot of chosen tags\n",
    "# !!! Comment faire pour éviter le texte qui se chévauche ?\n",
    "\n",
    "sns.set()# Initialize figure\n",
    "fig, ax = plt.subplots(figsize = (15, 15))\n",
    "\n",
    "ax.set_title('2 component PCA using TF-IDF transformation, chosen tags', fontsize=14)\n",
    "\n",
    "sns.scatterplot(chosen_principalDf['principal component 1'],\n",
    "           chosen_principalDf['principal component 2'], alpha = 0.5)\n",
    " \n",
    "for i in chosen_tags.index:    \n",
    "    \n",
    "    plt.text(chosen_principalDf['principal component 1'][i], chosen_principalDf['principal component 2'][i], \n",
    "             chosen_tags[i],fontsize = 14)\n",
    "\n",
    "plt.show()"
   ]
  },
  {
   "cell_type": "markdown",
   "metadata": {},
   "source": [
    "Nous pouvons voir que les point représentants des posts sont proches selon le groupe - les tags contenant \"python\" sont en haut à gauche, \"git\"s sont en haut à droite, \"javascript\" se mélange un peu avec \"android\", mais les groupes sont quand même séparables. "
   ]
  },
  {
   "cell_type": "markdown",
   "metadata": {},
   "source": [
    "### t-SNE "
   ]
  },
  {
   "cell_type": "markdown",
   "metadata": {},
   "source": [
    "#### Créer le modèle"
   ]
  },
  {
   "cell_type": "code",
   "execution_count": 89,
   "metadata": {},
   "outputs": [],
   "source": [
    "# Initialize t-SNE\n",
    "tsne = TSNE(n_components = 2, init = 'random', random_state = 10, perplexity = 100)"
   ]
  },
  {
   "cell_type": "code",
   "execution_count": 90,
   "metadata": {},
   "outputs": [],
   "source": [
    "tsne_df = tsne.fit_transform(X_train_tfidf_sample)"
   ]
  },
  {
   "cell_type": "code",
   "execution_count": 91,
   "metadata": {},
   "outputs": [],
   "source": [
    "principalDf = pd.DataFrame(data=tsne_df, columns=[\n",
    "                           'principal component 1', 'principal component 2'])"
   ]
  },
  {
   "cell_type": "code",
   "execution_count": 92,
   "metadata": {},
   "outputs": [
    {
     "data": {
      "image/png": "[encoded data removed]",
      "text/plain": [
       "<Figure size 576x576 with 1 Axes>"
      ]
     },
     "metadata": {},
     "output_type": "display_data"
    }
   ],
   "source": [
    "# Scatterplot of all sample posts\n",
    "fig = plt.figure(figsize=(8, 8))\n",
    "ax = fig.add_subplot(1, 1, 1)\n",
    "ax.set_xlabel('Principal Component 1', fontsize=10)\n",
    "ax.set_ylabel('Principal Component 2', fontsize=10)\n",
    "ax.set_title('2 component t-SNE, sample of 500 posts using TF-IDF transformation', fontsize=14)\n",
    "\n",
    "ax.scatter(principalDf['principal component 1'],\n",
    "           principalDf['principal component 2'], s=50, alpha=0.5)\n",
    "ax.grid()"
   ]
  },
  {
   "cell_type": "markdown",
   "metadata": {},
   "source": [
    "Le nuage de points créé à l'aide de t-SNE semble former un rond."
   ]
  },
  {
   "cell_type": "markdown",
   "metadata": {},
   "source": [
    "#### Affichage de groupes de tags"
   ]
  },
  {
   "cell_type": "code",
   "execution_count": 93,
   "metadata": {},
   "outputs": [],
   "source": [
    "chosen_principalDf = principalDf.iloc[chosen_tags_index]"
   ]
  },
  {
   "cell_type": "code",
   "execution_count": 94,
   "metadata": {},
   "outputs": [
    {
     "data": {
      "image/png": "[encoded data removed]",
      "text/plain": [
       "<Figure size 1080x1080 with 1 Axes>"
      ]
     },
     "metadata": {},
     "output_type": "display_data"
    }
   ],
   "source": [
    "# Scatterplot of chosen tags\n",
    "\n",
    "sns.set()# Initialize figure\n",
    "fig, ax = plt.subplots(figsize = (15, 15))\n",
    "\n",
    "ax.set_title('2 component t-SNE using TF-IDF transformation, chosen tags', fontsize=14)\n",
    "\n",
    "sns.scatterplot(chosen_principalDf['principal component 1'],\n",
    "           chosen_principalDf['principal component 2'], alpha = 0.5)\n",
    " \n",
    "for i in chosen_tags.index:    \n",
    "    \n",
    "    plt.text(chosen_principalDf['principal component 1'][i], chosen_principalDf['principal component 2'][i], \n",
    "             chosen_tags[i],fontsize = 14)\n",
    "\n",
    "plt.show()"
   ]
  },
  {
   "cell_type": "markdown",
   "metadata": {},
   "source": [
    "Nous pouvons trouver certains tags avec la même thématique proche les uns des autres (git, python), mais la séparation n'est pas très prononcée."
   ]
  }
 ],
 "metadata": {
  "kernelspec": {
   "display_name": "Python 3",
   "language": "python",
   "name": "python3"
  },
  "language_info": {
   "codemirror_mode": {
    "name": "ipython",
    "version": 3
   },
   "file_extension": ".py",
   "mimetype": "text/x-python",
   "name": "python",
   "nbconvert_exporter": "python",
   "pygments_lexer": "ipython3",
   "version": "3.7.3"
  },
  "latex_envs": {
   "LaTeX_envs_menu_present": true,
   "autoclose": false,
   "autocomplete": true,
   "bibliofile": "biblio.bib",
   "cite_by": "apalike",
   "current_citInitial": 1,
   "eqLabelWithNumbers": true,
   "eqNumInitial": 1,
   "hotkeys": {
    "equation": "Ctrl-E",
    "itemize": "Ctrl-I"
   },
   "labels_anchors": false,
   "latex_user_defs": false,
   "report_style_numbering": false,
   "user_envs_cfg": false
  },
  "toc": {
   "base_numbering": 1,
   "nav_menu": {},
   "number_sections": true,
   "sideBar": true,
   "skip_h1_title": false,
   "title_cell": "Table of Contents",
   "title_sidebar": "Contents",
   "toc_cell": false,
   "toc_position": {
    "height": "calc(100% - 180px)",
    "left": "10px",
    "top": "150px",
    "width": "200px"
   },
   "toc_section_display": true,
   "toc_window_display": true
  }
 },
 "nbformat": 4,
 "nbformat_minor": 2
}
