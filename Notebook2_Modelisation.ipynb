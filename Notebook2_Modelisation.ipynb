{
 "cells": [
  {
   "cell_type": "markdown",
   "metadata": {},
   "source": [
    "# PROJET 5 : Catégorisez automatiquement les questions "
   ]
  },
  {
   "cell_type": "markdown",
   "metadata": {},
   "source": [
    "**PLAN DE PROJET**\n",
    "1. Titre de projet : PROJET 5 - Catégorisez automatiquement les questions\n",
    "\n",
    "\n",
    "2. Chargement de bibliothèques\n",
    "\n",
    "\n",
    "3. Récupérer les données + Séparation de données en test et train\n",
    "    - Enregistrement de fichiers en .csv :\n",
    "        - X_train.csv\n",
    "        - y_train.csv\n",
    "        - X_test.csv\n",
    "        - y_test.csv\n",
    "\n",
    "\n",
    "4. Data cleaning\n",
    "    - Features :\n",
    "        - Enlever les balises HTML\n",
    "        - Enlever la ponctuation\n",
    "        - Mise en minuscule et tokenization\n",
    "        - Enlever les stopwords\n",
    "    - Target :\n",
    "        - Enlever les balises \"<>\"\n",
    "\n",
    "\n",
    "5. Feature engineering \n",
    "    - Recodage en bigrams\n",
    "    - Fusion de title, body + bigrams\n",
    "\n",
    "\n",
    "6. Analyse exploratoire\n",
    "    - Analyses univariées\n",
    "        - Description générale : Longueur de posts, nombre de tags\n",
    "        - Bag of words : Les expressions les plus fréquentes : feature & target\n",
    "            - Arrays générées:\n",
    "                - X_train_bow\n",
    "                - X_train_vocab_bow\n",
    "                - X_train_dist_bow\n",
    "                - y_train_bow\n",
    "                - y_train_vocab_bow\n",
    "                - y_train_dist_bow\n",
    "                \n",
    "                \n",
    "        - TF - IDF : Les expressions les plus fréquentes : feature & target\n",
    "             - Arrays générées:\n",
    "                  - X_train_ifidf\n",
    "                  - X_train_vocab_ifidf\n",
    "                  - X_train_dist_ifidf\n",
    "                  - y_train_ifidf\n",
    "                  - y_train_vocab_ifidf\n",
    "                  - y_train_dist_ifidf\n",
    "                  \n",
    "\n",
    "    - Analyse multivarié \n",
    "    **QUESTION : Peut-on considérer LDA comme analyse multivariée ?**\n",
    "    \n",
    "    \n",
    "    - Réduction de dimensions\n",
    "    **QUESTION : Peut-on faire un word2vec ?**\n",
    "    \n",
    "    \n",
    "        "
   ]
  },
  {
   "cell_type": "markdown",
   "metadata": {},
   "source": [
    "# Chargement de bibliothéques"
   ]
  },
  {
   "cell_type": "code",
   "execution_count": 2,
   "metadata": {},
   "outputs": [],
   "source": [
    "# Import the libraries\n",
    "import joblib\n",
    "from IPython.core.display import display, HTML\n",
    "import numpy as np\n",
    "import pandas as pd\n",
    "from pandas import Series, DataFrame\n",
    "from sklearn import model_selection\n",
    "from sklearn.feature_extraction.text import CountVectorizer\n",
    "from sklearn.feature_extraction.text import TfidfVectorizer\n",
    "\n",
    "import nltk\n",
    "#nltk.download()  # Download text data sets, including stop words\n",
    "from nltk.corpus import stopwords # Import the stop word list\n",
    "import re\n",
    "\n",
    "# Import BeautifulSoup into your workspace\n",
    "from bs4 import BeautifulSoup \n",
    "\n",
    "# Libraries for data visualisation\n",
    "import matplotlib.pyplot as plt\n",
    "import seaborn as sns\n",
    "sns.set_style('whitegrid')\n",
    "%matplotlib inline"
   ]
  },
  {
   "cell_type": "code",
   "execution_count": 3,
   "metadata": {},
   "outputs": [],
   "source": [
    "#Disable warning for .loc\n",
    "pd.options.mode.chained_assignment = None  # default='warn'"
   ]
  },
  {
   "cell_type": "markdown",
   "metadata": {},
   "source": [
    "# Récupération de données"
   ]
  },
  {
   "cell_type": "code",
   "execution_count": null,
   "metadata": {},
   "outputs": [],
   "source": [
    "# !!! Récupérer les .csv et arrays !!!"
   ]
  },
  {
   "cell_type": "markdown",
   "metadata": {},
   "source": [
    "# Modélisation de flags basée sur les fréquences"
   ]
  },
  {
   "cell_type": "markdown",
   "metadata": {},
   "source": [
    "## Fréquences BOW"
   ]
  },
  {
   "cell_type": "markdown",
   "metadata": {},
   "source": [
    "Nous allons mettre en oeuvre une méthode basée uniquement sur les fréquences des expressions (mot / bigram) utilisées dans le post et nous allons regarder si les expressions les plus fréquentes apparaissent dans le vocabulaire de tags.\n",
    "\n",
    "Tout d'abord, nous allons analyser s'il existe un ou plusieurs expressions, présentes au moins deux fois dans chaque post, qui matchent avec le vocabulaire de tags. \n",
    "\n",
    "Nous allons utiliser la décomposition en Bag of words créé dans le notebook1, chapître 6.1.2 :"
   ]
  },
  {
   "cell_type": "code",
   "execution_count": null,
   "metadata": {},
   "outputs": [],
   "source": [
    "#The tags vocabulary :\n",
    "y_train_vocab_bow[:10]"
   ]
  },
  {
   "cell_type": "code",
   "execution_count": null,
   "metadata": {},
   "outputs": [],
   "source": [
    "#The features vocabulary : \n",
    "X_train_vocab_bow[:10]"
   ]
  },
  {
   "cell_type": "code",
   "execution_count": null,
   "metadata": {},
   "outputs": [],
   "source": [
    "#The BOW array :\n",
    "X_train_bow[:10]"
   ]
  },
  {
   "cell_type": "markdown",
   "metadata": {},
   "source": [
    "### Tester les fonctions sur le premier post"
   ]
  },
  {
   "cell_type": "markdown",
   "metadata": {},
   "source": [
    "Nous allons tester notre idée sur le premier post."
   ]
  },
  {
   "cell_type": "code",
   "execution_count": null,
   "metadata": {},
   "outputs": [],
   "source": [
    "BOW_post1 = X_train_bow[0]\n",
    "BOW_post1"
   ]
  },
  {
   "cell_type": "code",
   "execution_count": null,
   "metadata": {},
   "outputs": [],
   "source": [
    "#We print all expressions which are at least 2 times in the post :\n",
    "for freq, word in zip(BOW_post1, X_train_vocab_bow):\n",
    "    if freq >= 2:\n",
    "        print (freq, word)"
   ]
  },
  {
   "cell_type": "code",
   "execution_count": null,
   "metadata": {},
   "outputs": [],
   "source": [
    "#We compare the frequent expression to the tag's vocab:\n",
    "\n",
    "for freq, word in zip(BOW_post1, X_train_vocab_bow):\n",
    "    if freq >= 2:\n",
    "        if word in y_train_vocab_bow:\n",
    "            print(word)"
   ]
  },
  {
   "cell_type": "code",
   "execution_count": null,
   "metadata": {},
   "outputs": [],
   "source": [
    "predicted_tags_vect = []\n",
    "\n",
    "for freq, word in zip(BOW_post1, X_train_vocab_bow):\n",
    "    if freq >= 2:\n",
    "        if word in y_train_vocab_bow:\n",
    "            predicted_tags_vect.append(word)\n",
    "\n",
    "predicted_tags_vect"
   ]
  },
  {
   "cell_type": "markdown",
   "metadata": {},
   "source": [
    "### Création d'une fonction à appliquer sur toutes les données"
   ]
  },
  {
   "cell_type": "code",
   "execution_count": null,
   "metadata": {},
   "outputs": [],
   "source": [
    "Maintenant, nous allons créer une fonction qui va sortir les tags pour chaque post :"
   ]
  },
  {
   "cell_type": "code",
   "execution_count": null,
   "metadata": {},
   "outputs": [],
   "source": [
    "def pred_tag_freq(BOW, vocabulary, list_of_tags):\n",
    "    \n",
    "    \"\"\"Function which generates a list of tags, based on frequency of expression in a BOW object and \n",
    "    its comparison to predefined list of tags.\n",
    "    \n",
    "    Input :\n",
    "    - BOW : a BOW array\n",
    "    - vocabulary : list of BOW vocabulary\n",
    "    - list_of_tags : a list of tags\n",
    "    \n",
    "    Output :\n",
    "    - a list of predicted tags  \n",
    "    \n",
    "    \"\"\"\n",
    "    predicted_tags = []\n",
    "    \n",
    "    for vect in range(BOW.shape[0]): \n",
    "        \n",
    "        predicted_tags_vect = [] \n",
    "        \n",
    "        for freq, word in zip(BOW[vect], vocabulary):\n",
    "            \n",
    "            if freq >= 2:\n",
    "                if word in list_of_tags:\n",
    "                    predicted_tags_vect.append(word)\n",
    "                    \n",
    "        predicted_tags.append(predicted_tags_vect)\n",
    "        \n",
    "    return predicted_tags"
   ]
  },
  {
   "cell_type": "code",
   "execution_count": null,
   "metadata": {},
   "outputs": [],
   "source": [
    "predicted_tags = pred_tag_freq(X_train_bow, X_train_vocab_bow, y_train_vocab_bow)"
   ]
  },
  {
   "cell_type": "code",
   "execution_count": null,
   "metadata": {},
   "outputs": [],
   "source": [
    "len(predicted_tags)"
   ]
  },
  {
   "cell_type": "code",
   "execution_count": null,
   "metadata": {},
   "outputs": [],
   "source": [
    "predicted_tags[:10]"
   ]
  },
  {
   "cell_type": "code",
   "execution_count": null,
   "metadata": {},
   "outputs": [],
   "source": [
    "Sauvegarder les tags prédits:"
   ]
  },
  {
   "cell_type": "code",
   "execution_count": null,
   "metadata": {},
   "outputs": [],
   "source": [
    "#Save the predicted tags:\n",
    "np.save('Data/predicted_tags', predicted_tags)"
   ]
  },
  {
   "cell_type": "markdown",
   "metadata": {},
   "source": [
    "Nous allons analyser le nombre de tag prédits par la méthode :"
   ]
  },
  {
   "cell_type": "code",
   "execution_count": null,
   "metadata": {},
   "outputs": [],
   "source": [
    "nbr_tags = []\n",
    "\n",
    "for tag in range(len(predicted_tags)):\n",
    "    length = len(predicted_tags[tag])\n",
    "    nbr_tags.append(length)\n",
    "    \n",
    "nbr_tags = DataFrame(nbr_tags)"
   ]
  },
  {
   "cell_type": "code",
   "execution_count": null,
   "metadata": {},
   "outputs": [],
   "source": [
    "nbr_tags[0].value_counts()"
   ]
  },
  {
   "cell_type": "markdown",
   "metadata": {},
   "source": [
    "Désavantage de la méthode : nous avons des posts sans tag attribué (1875 posts) et certains posts peuvent avoir un grand nombre de tags, même si c'est plutôt rare. Nous allons appliquer la même méthode avec TF-IDF et choisir 3 tags les plus fréquents basé sur le coefficient TF-IDF. "
   ]
  },
  {
   "cell_type": "markdown",
   "metadata": {},
   "source": [
    "## Fréquences TF-IDF"
   ]
  },
  {
   "cell_type": "markdown",
   "metadata": {},
   "source": [
    "L'idée est d'utiliser les fréquences TF-IDF pour avoir la main sur le nombre de tags à prédire. Cette fois-ci, la méthode sera basé sur la procédure suivante :\n",
    "\n",
    "1. Nous allons comparer toutes les expressions dans le post avec le vocabulaire de tags\n",
    "2. Nous allons attribuer à chaque expression la distance relative TF-IDF de tag\n",
    "3. Nous allons sortir 3 tags les plus fréquents"
   ]
  },
  {
   "cell_type": "code",
   "execution_count": 147,
   "metadata": {},
   "outputs": [
    {
     "data": {
      "text/plain": [
       "array([1.29137083e+00, 2.03157824e+01, 1.77910765e+00, 1.23469745e+03,\n",
       "       7.61972597e-01, 1.03923973e+01, 1.00032151e+02, 5.74763060e+00,\n",
       "       1.16193175e+02, 2.80201636e+00])"
      ]
     },
     "execution_count": 147,
     "metadata": {},
     "output_type": "execute_result"
    }
   ],
   "source": [
    "y_train_dist_tfidf[:10]"
   ]
  },
  {
   "cell_type": "markdown",
   "metadata": {},
   "source": [
    "### Tester les fonctions sur le premier post"
   ]
  },
  {
   "cell_type": "code",
   "execution_count": 148,
   "metadata": {},
   "outputs": [
    {
     "data": {
      "text/plain": [
       "array([0., 0., 0., ..., 0., 0., 0.])"
      ]
     },
     "execution_count": 148,
     "metadata": {},
     "output_type": "execute_result"
    }
   ],
   "source": [
    "#Extract the array of first post\n",
    "TFIDF_post1 = X_train_tfidf[0]\n",
    "TFIDF_post1"
   ]
  },
  {
   "cell_type": "code",
   "execution_count": 149,
   "metadata": {},
   "outputs": [
    {
     "name": "stdout",
     "output_type": "stream",
     "text": [
      "add\n",
      "authentication\n",
      "handle\n",
      "permissions\n",
      "plugins\n",
      "restful-authentication\n",
      "role\n",
      "using\n"
     ]
    }
   ],
   "source": [
    "#We compare the expressions in the post to the tag's vocab:\n",
    "for freq, word in zip(TFIDF_post1, X_train_vocab_tfidf):\n",
    "    if freq > 0:\n",
    "        if word in y_train_vocab_tfidf:\n",
    "            print(word)"
   ]
  },
  {
   "cell_type": "code",
   "execution_count": 175,
   "metadata": {},
   "outputs": [],
   "source": [
    "#We list the common expressions which are in both document and the tag's vocabulary:\n",
    "\n",
    "liste_tags = []\n",
    "\n",
    "for freq, word in zip(TFIDF_post1, X_train_vocab_tfidf):\n",
    "    if freq > 0:\n",
    "        if word in y_train_vocab_tfidf:\n",
    "            liste_tags.append(word)"
   ]
  },
  {
   "cell_type": "code",
   "execution_count": 176,
   "metadata": {},
   "outputs": [
    {
     "data": {
      "text/plain": [
       "['add',\n",
       " 'authentication',\n",
       " 'handle',\n",
       " 'permissions',\n",
       " 'plugins',\n",
       " 'restful-authentication',\n",
       " 'role',\n",
       " 'using']"
      ]
     },
     "execution_count": 176,
     "metadata": {},
     "output_type": "execute_result"
    }
   ],
   "source": [
    "liste_tags"
   ]
  },
  {
   "cell_type": "code",
   "execution_count": 177,
   "metadata": {},
   "outputs": [
    {
     "name": "stdout",
     "output_type": "stream",
     "text": [
      "1.2913708286761647 add\n",
      "20.315782399608562 authentication\n",
      "1.779107648085159 handle\n",
      "1234.6974528795652 permissions\n",
      "0.7619725969000765 plugins\n",
      "10.392397318668808 restful-authentication\n",
      "100.03215112054504 role\n",
      "5.747630599165471 using\n"
     ]
    }
   ],
   "source": [
    "#We zip the list with tag's relative frequency:\n",
    "\n",
    "for freq, word in zip(y_train_dist_tfidf, liste_tags):\n",
    "    print(freq, word)"
   ]
  },
  {
   "cell_type": "code",
   "execution_count": 178,
   "metadata": {},
   "outputs": [],
   "source": [
    "#Zip the tags contained in the post and tag's frequency\n",
    "liste = zip(y_train_dist_tfidf, liste_tags)"
   ]
  },
  {
   "cell_type": "code",
   "execution_count": 180,
   "metadata": {},
   "outputs": [],
   "source": [
    "#Converting to list\n",
    "liste = list(liste)"
   ]
  },
  {
   "cell_type": "code",
   "execution_count": 181,
   "metadata": {},
   "outputs": [
    {
     "data": {
      "text/plain": [
       "[(1.2913708286761647, 'add'),\n",
       " (20.315782399608562, 'authentication'),\n",
       " (1.779107648085159, 'handle'),\n",
       " (1234.6974528795652, 'permissions'),\n",
       " (0.7619725969000765, 'plugins'),\n",
       " (10.392397318668808, 'restful-authentication'),\n",
       " (100.03215112054504, 'role'),\n",
       " (5.747630599165471, 'using')]"
      ]
     },
     "execution_count": 181,
     "metadata": {},
     "output_type": "execute_result"
    }
   ],
   "source": [
    "#Check\n",
    "liste"
   ]
  },
  {
   "cell_type": "code",
   "execution_count": 185,
   "metadata": {},
   "outputs": [],
   "source": [
    "#Sort the list by frequency\n",
    "liste_sort = sorted(liste, key = lambda x: x[0])"
   ]
  },
  {
   "cell_type": "code",
   "execution_count": 186,
   "metadata": {
    "scrolled": true
   },
   "outputs": [
    {
     "data": {
      "text/plain": [
       "[(0.7619725969000765, 'plugins'),\n",
       " (1.2913708286761647, 'add'),\n",
       " (1.779107648085159, 'handle'),\n",
       " (5.747630599165471, 'using'),\n",
       " (10.392397318668808, 'restful-authentication'),\n",
       " (20.315782399608562, 'authentication'),\n",
       " (100.03215112054504, 'role'),\n",
       " (1234.6974528795652, 'permissions')]"
      ]
     },
     "execution_count": 186,
     "metadata": {},
     "output_type": "execute_result"
    }
   ],
   "source": [
    "#Check\n",
    "liste_sort"
   ]
  },
  {
   "cell_type": "code",
   "execution_count": 193,
   "metadata": {},
   "outputs": [],
   "source": [
    "#Extract 3 most frequent tags \n",
    "tags_final = liste_sort[-3:]"
   ]
  },
  {
   "cell_type": "code",
   "execution_count": 194,
   "metadata": {},
   "outputs": [
    {
     "data": {
      "text/plain": [
       "[(20.315782399608562, 'authentication'),\n",
       " (100.03215112054504, 'role'),\n",
       " (1234.6974528795652, 'permissions')]"
      ]
     },
     "execution_count": 194,
     "metadata": {},
     "output_type": "execute_result"
    }
   ],
   "source": [
    "tags_final"
   ]
  },
  {
   "cell_type": "code",
   "execution_count": 195,
   "metadata": {},
   "outputs": [],
   "source": [
    "#Extract the tag's name\n",
    "tags = [x[1] for x in tags_final]"
   ]
  },
  {
   "cell_type": "code",
   "execution_count": 196,
   "metadata": {},
   "outputs": [
    {
     "data": {
      "text/plain": [
       "['authentication', 'role', 'permissions']"
      ]
     },
     "execution_count": 196,
     "metadata": {},
     "output_type": "execute_result"
    }
   ],
   "source": [
    "tags"
   ]
  },
  {
   "cell_type": "markdown",
   "metadata": {},
   "source": [
    "### Appliquer la fonctions sur toutes les données"
   ]
  },
  {
   "cell_type": "markdown",
   "metadata": {},
   "source": [
    "Maintenant, nous allons créer une fonction qui va sortir les tags pour chaque post :"
   ]
  },
  {
   "cell_type": "code",
   "execution_count": 198,
   "metadata": {},
   "outputs": [],
   "source": [
    "# At first, we will test the function on a sample\n",
    "test_sample = X_train_tfidf[:100]"
   ]
  },
  {
   "cell_type": "code",
   "execution_count": 199,
   "metadata": {},
   "outputs": [
    {
     "data": {
      "text/plain": [
       "(100, 50000)"
      ]
     },
     "execution_count": 199,
     "metadata": {},
     "output_type": "execute_result"
    }
   ],
   "source": [
    "test_sample.shape"
   ]
  },
  {
   "cell_type": "code",
   "execution_count": 200,
   "metadata": {},
   "outputs": [],
   "source": [
    "def pred_tag_tfidf(tfidf_array, tfidf_vocabulary, list_of_tags):\n",
    "    \n",
    "    \"\"\"Function generatig a list of tags, based on frequency of expression in an TF-IDF object and \n",
    "    its comparison to predefined list of tags. \n",
    "    \n",
    "    Is the document contains more than 3 common expressions with the list of tags, the tags are sorted by the \n",
    "    TF-IDF frequency and only 3 most common tags are the predicted tags. If the document contains \n",
    "    2 or less common expressions, all the expressions are considered comme predicted tags. \n",
    "        \n",
    "    Input :\n",
    "    - tfidf_array : a TF-IDF array\n",
    "    - tfidf_vocabulary : a TF-IDF vocabulary object\n",
    "    - list_of_tags : a list of tags\n",
    "    \n",
    "    Output :\n",
    "    - a list of predicted tags  \n",
    "    \n",
    "    \"\"\"\n",
    "    predicted_tags = []\n",
    "    \n",
    "    for doc in range(tfidf_array.shape[0]): \n",
    "       \n",
    "        #We list the common expressions which are in both document and the tag's vocabulary:   \n",
    "    \n",
    "        liste_tags = []\n",
    "\n",
    "        for freq, word in zip(tfidf_array[doc], tfidf_vocabulary):\n",
    "            if freq > 0:\n",
    "                if word in list_of_tags:\n",
    "                    liste_tags.append(word)\n",
    "                    \n",
    "        \n",
    "    \n",
    "    predicted_tags.append(liste_tags)\n",
    "    \n",
    "    return predicted_tags"
   ]
  },
  {
   "cell_type": "code",
   "execution_count": 201,
   "metadata": {},
   "outputs": [
    {
     "data": {
      "text/plain": [
       "[['c#', 'file', 'fixed', 'fixed-width', 'width']]"
      ]
     },
     "execution_count": 201,
     "metadata": {},
     "output_type": "execute_result"
    }
   ],
   "source": [
    "# !!! Regarder la fct précédente, le même pb. Indentation ???\n",
    "pred_tag_tfidf(test_sample, X_train_vocab_tfidf, y_train_vocab_tfidf)"
   ]
  },
  {
   "cell_type": "code",
   "execution_count": null,
   "metadata": {},
   "outputs": [],
   "source": []
  },
  {
   "cell_type": "code",
   "execution_count": null,
   "metadata": {},
   "outputs": [],
   "source": []
  },
  {
   "cell_type": "code",
   "execution_count": 177,
   "metadata": {},
   "outputs": [
    {
     "name": "stdout",
     "output_type": "stream",
     "text": [
      "1.2913708286761647 add\n",
      "20.315782399608562 authentication\n",
      "1.779107648085159 handle\n",
      "1234.6974528795652 permissions\n",
      "0.7619725969000765 plugins\n",
      "10.392397318668808 restful-authentication\n",
      "100.03215112054504 role\n",
      "5.747630599165471 using\n"
     ]
    }
   ],
   "source": [
    "#We zip the list with tag's relative frequency:\n",
    "\n",
    "for freq, word in zip(y_train_dist_tfidf, liste_tags):\n",
    "    print(freq, word)"
   ]
  },
  {
   "cell_type": "code",
   "execution_count": 178,
   "metadata": {},
   "outputs": [],
   "source": [
    "#Zip the tags contained in the post and tag's frequency\n",
    "liste = zip(y_train_dist_tfidf, liste_tags)"
   ]
  },
  {
   "cell_type": "code",
   "execution_count": 180,
   "metadata": {},
   "outputs": [],
   "source": [
    "#Converting to list\n",
    "liste = list(liste)"
   ]
  },
  {
   "cell_type": "code",
   "execution_count": 181,
   "metadata": {},
   "outputs": [
    {
     "data": {
      "text/plain": [
       "[(1.2913708286761647, 'add'),\n",
       " (20.315782399608562, 'authentication'),\n",
       " (1.779107648085159, 'handle'),\n",
       " (1234.6974528795652, 'permissions'),\n",
       " (0.7619725969000765, 'plugins'),\n",
       " (10.392397318668808, 'restful-authentication'),\n",
       " (100.03215112054504, 'role'),\n",
       " (5.747630599165471, 'using')]"
      ]
     },
     "execution_count": 181,
     "metadata": {},
     "output_type": "execute_result"
    }
   ],
   "source": [
    "#Check\n",
    "liste"
   ]
  },
  {
   "cell_type": "code",
   "execution_count": 185,
   "metadata": {},
   "outputs": [],
   "source": [
    "#Sort the list by frequency\n",
    "liste_sort = sorted(liste, key = lambda x: x[0])"
   ]
  },
  {
   "cell_type": "code",
   "execution_count": 186,
   "metadata": {
    "scrolled": true
   },
   "outputs": [
    {
     "data": {
      "text/plain": [
       "[(0.7619725969000765, 'plugins'),\n",
       " (1.2913708286761647, 'add'),\n",
       " (1.779107648085159, 'handle'),\n",
       " (5.747630599165471, 'using'),\n",
       " (10.392397318668808, 'restful-authentication'),\n",
       " (20.315782399608562, 'authentication'),\n",
       " (100.03215112054504, 'role'),\n",
       " (1234.6974528795652, 'permissions')]"
      ]
     },
     "execution_count": 186,
     "metadata": {},
     "output_type": "execute_result"
    }
   ],
   "source": [
    "#Check\n",
    "liste_sort"
   ]
  },
  {
   "cell_type": "code",
   "execution_count": 193,
   "metadata": {},
   "outputs": [],
   "source": [
    "#Extract 3 most frequent tags \n",
    "tags_final = liste_sort[-3:]"
   ]
  },
  {
   "cell_type": "code",
   "execution_count": 194,
   "metadata": {},
   "outputs": [
    {
     "data": {
      "text/plain": [
       "[(20.315782399608562, 'authentication'),\n",
       " (100.03215112054504, 'role'),\n",
       " (1234.6974528795652, 'permissions')]"
      ]
     },
     "execution_count": 194,
     "metadata": {},
     "output_type": "execute_result"
    }
   ],
   "source": [
    "tags_final"
   ]
  },
  {
   "cell_type": "code",
   "execution_count": 195,
   "metadata": {},
   "outputs": [],
   "source": [
    "#Extract the tag's name\n",
    "tags = [x[1] for x in tags_final]"
   ]
  },
  {
   "cell_type": "code",
   "execution_count": 196,
   "metadata": {},
   "outputs": [
    {
     "data": {
      "text/plain": [
       "['authentication', 'role', 'permissions']"
      ]
     },
     "execution_count": 196,
     "metadata": {},
     "output_type": "execute_result"
    }
   ],
   "source": [
    "tags"
   ]
  },
  {
   "cell_type": "code",
   "execution_count": null,
   "metadata": {},
   "outputs": [],
   "source": []
  },
  {
   "cell_type": "code",
   "execution_count": null,
   "metadata": {},
   "outputs": [],
   "source": []
  },
  {
   "cell_type": "code",
   "execution_count": null,
   "metadata": {},
   "outputs": [],
   "source": []
  },
  {
   "cell_type": "code",
   "execution_count": null,
   "metadata": {},
   "outputs": [],
   "source": []
  },
  {
   "cell_type": "markdown",
   "metadata": {},
   "source": [
    "# Modélisation non supervisée"
   ]
  },
  {
   "cell_type": "markdown",
   "metadata": {},
   "source": [
    "## LDA"
   ]
  },
  {
   "cell_type": "code",
   "execution_count": 98,
   "metadata": {},
   "outputs": [],
   "source": [
    "from sklearn.decomposition import LatentDirichletAllocation"
   ]
  },
  {
   "cell_type": "code",
   "execution_count": 99,
   "metadata": {},
   "outputs": [],
   "source": [
    "no_topics = 20\n",
    "\n",
    "# Run LDA\n",
    "lda = LatentDirichletAllocation(n_components=no_topics, max_iter=5,\n",
    "                                learning_method='online', learning_offset=50., random_state=0).fit(train_data_features)"
   ]
  },
  {
   "cell_type": "code",
   "execution_count": 121,
   "metadata": {},
   "outputs": [
    {
     "name": "stdout",
     "output_type": "stream",
     "text": [
      "Topic 0\n",
      "file files server service web using data application command directory\n",
      "Topic 1\n",
      "net web page asp asp-net system mvc button assembly 2-0\n",
      "Topic 2\n",
      "visual studio visual-studio 2008 ruby lib 8 rails c usr\n",
      "Topic 3\n",
      "control end value controls sub vb binding option wpf grid\n",
      "Topic 4\n",
      "c date thread 00 10 time 2008 +-+ 11 datetime\n",
      "Topic 5\n",
      "class public object string new return method int type value\n",
      "Topic 6\n",
      "way like want get using list something function need one\n",
      "Topic 7\n",
      "input delphi end begin frame '-' quotes oriented points font-color\n",
      "Topic 8\n",
      "print 1) 2) values constant printing (1 3) compare 45\n",
      "Topic 9\n",
      "javascript asp form page jquery script id type server ajax\n",
      "Topic 10\n",
      "div html image text css style svn width font color\n",
      "Topic 11\n",
      "memory search performance index large process size time services much\n",
      "Topic 12\n",
      "user python url request http site response # page get\n",
      "Topic 13\n",
      "use like code using one know way application project need\n",
      "Topic 14\n",
      "sql table database id query data select name sql-server server\n",
      "Topic 15\n",
      "windows window application dll console vista xp screen app forms\n",
      "Topic 16\n",
      "x array os self flash component flex mac def c\n",
      "Topic 17\n",
      "error java exception message server connection try org get eclipse\n",
      "Topic 18\n",
      "xml template xsl 1-0 root version-1 name templates xslt attribute\n",
      "Topic 19\n",
      "php com http www session address mysql http-www encoding email\n"
     ]
    }
   ],
   "source": [
    "def display_topics(model, feature_names, no_top_words):\n",
    "    for topic_idx, topic in enumerate(model.components_):\n",
    "        print (\"Topic %d\" % (topic_idx))\n",
    "        print (\" \".join([feature_names[i]\n",
    "                        for i in topic.argsort()[:-no_top_words - 1:-1]]))\n",
    "\n",
    "no_top_words = 10\n",
    "\n",
    "display_topics(lda, vocab, no_top_words)"
   ]
  },
  {
   "cell_type": "code",
   "execution_count": null,
   "metadata": {},
   "outputs": [],
   "source": []
  },
  {
   "cell_type": "markdown",
   "metadata": {},
   "source": [
    "## Clustering"
   ]
  },
  {
   "cell_type": "markdown",
   "metadata": {},
   "source": [
    "### k-means"
   ]
  },
  {
   "cell_type": "markdown",
   "metadata": {},
   "source": [
    "# Modélisation supervisée"
   ]
  },
  {
   "cell_type": "markdown",
   "metadata": {},
   "source": [
    "## KNN + word2vect"
   ]
  },
  {
   "cell_type": "code",
   "execution_count": null,
   "metadata": {},
   "outputs": [],
   "source": [
    "# !!! A tester\n",
    "model = Word2Vec.load(\"300features_40minwords_10context\")"
   ]
  },
  {
   "cell_type": "code",
   "execution_count": null,
   "metadata": {},
   "outputs": [],
   "source": []
  },
  {
   "cell_type": "code",
   "execution_count": null,
   "metadata": {},
   "outputs": [],
   "source": []
  },
  {
   "cell_type": "code",
   "execution_count": null,
   "metadata": {},
   "outputs": [],
   "source": []
  }
 ],
 "metadata": {
  "kernelspec": {
   "display_name": "Python 3",
   "language": "python",
   "name": "python3"
  },
  "language_info": {
   "codemirror_mode": {
    "name": "ipython",
    "version": 3
   },
   "file_extension": ".py",
   "mimetype": "text/x-python",
   "name": "python",
   "nbconvert_exporter": "python",
   "pygments_lexer": "ipython3",
   "version": "3.7.3"
  },
  "latex_envs": {
   "LaTeX_envs_menu_present": true,
   "autoclose": false,
   "autocomplete": true,
   "bibliofile": "biblio.bib",
   "cite_by": "apalike",
   "current_citInitial": 1,
   "eqLabelWithNumbers": true,
   "eqNumInitial": 1,
   "hotkeys": {
    "equation": "Ctrl-E",
    "itemize": "Ctrl-I"
   },
   "labels_anchors": false,
   "latex_user_defs": false,
   "report_style_numbering": false,
   "user_envs_cfg": false
  },
  "toc": {
   "base_numbering": 1,
   "nav_menu": {},
   "number_sections": true,
   "sideBar": true,
   "skip_h1_title": false,
   "title_cell": "Table of Contents",
   "title_sidebar": "Contents",
   "toc_cell": false,
   "toc_position": {
    "height": "calc(100% - 180px)",
    "left": "10px",
    "top": "150px",
    "width": "168px"
   },
   "toc_section_display": true,
   "toc_window_display": true
  }
 },
 "nbformat": 4,
 "nbformat_minor": 2
}
